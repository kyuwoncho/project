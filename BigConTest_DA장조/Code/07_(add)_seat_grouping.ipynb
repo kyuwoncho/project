{
 "cells": [
  {
   "cell_type": "code",
   "execution_count": 1,
   "metadata": {},
   "outputs": [],
   "source": [
    "import pandas as pd\n",
    "import numpy as np\n",
    "from datetime import datetime, timedelta, time\n",
    "import re\n",
    "from tqdm import tqdm\n",
    "import matplotlib.pyplot as plt\n",
    "import seaborn as sns\n",
    "\n",
    "%matplotlib inline"
   ]
  },
  {
   "cell_type": "code",
   "execution_count": 2,
   "metadata": {},
   "outputs": [],
   "source": [
    "# matplotlib 한글 깨짐 해결\n",
    "from matplotlib import rc\n",
    "\n",
    "rc('font', family='NanumGothic')\n",
    "plt.rcParams['axes.unicode_minus'] = False"
   ]
  },
  {
   "cell_type": "code",
   "execution_count": 3,
   "metadata": {},
   "outputs": [
    {
     "data": {
      "text/html": [
       "<div>\n",
       "<style scoped>\n",
       "    .dataframe tbody tr th:only-of-type {\n",
       "        vertical-align: middle;\n",
       "    }\n",
       "\n",
       "    .dataframe tbody tr th {\n",
       "        vertical-align: top;\n",
       "    }\n",
       "\n",
       "    .dataframe thead th {\n",
       "        text-align: right;\n",
       "    }\n",
       "</style>\n",
       "<table border=\"1\" class=\"dataframe\">\n",
       "  <thead>\n",
       "    <tr style=\"text-align: right;\">\n",
       "      <th></th>\n",
       "      <th>key</th>\n",
       "      <th>new_code</th>\n",
       "      <th>age</th>\n",
       "      <th>gender</th>\n",
       "      <th>tran_date</th>\n",
       "      <th>tran_time</th>\n",
       "      <th>play_date</th>\n",
       "      <th>play_st_time</th>\n",
       "      <th>seat</th>\n",
       "      <th>price</th>\n",
       "      <th>...</th>\n",
       "      <th>seat_gen</th>\n",
       "      <th>cancel_rate</th>\n",
       "      <th>paid_rate</th>\n",
       "      <th>pre_rate</th>\n",
       "      <th>capa_rate</th>\n",
       "      <th>howfastyoubuy</th>\n",
       "      <th>50%</th>\n",
       "      <th>newseatgen_mean</th>\n",
       "      <th>newseatloc_mean</th>\n",
       "      <th>newfloorloc_mean</th>\n",
       "    </tr>\n",
       "  </thead>\n",
       "  <tbody>\n",
       "    <tr>\n",
       "      <th>0</th>\n",
       "      <td>0</td>\n",
       "      <td>435</td>\n",
       "      <td>50.0</td>\n",
       "      <td>F</td>\n",
       "      <td>2022-01-14</td>\n",
       "      <td>15:12</td>\n",
       "      <td>2022-02-04</td>\n",
       "      <td>20:00</td>\n",
       "      <td>3층 BOX9 10</td>\n",
       "      <td>10000</td>\n",
       "      <td>...</td>\n",
       "      <td>B</td>\n",
       "      <td>0.172237</td>\n",
       "      <td>0.996144</td>\n",
       "      <td>0.0</td>\n",
       "      <td>0.257086</td>\n",
       "      <td>-21</td>\n",
       "      <td>-19.0</td>\n",
       "      <td>-7.866337</td>\n",
       "      <td>-10.000000</td>\n",
       "      <td>-10.752066</td>\n",
       "    </tr>\n",
       "    <tr>\n",
       "      <th>1</th>\n",
       "      <td>1</td>\n",
       "      <td>449</td>\n",
       "      <td>50.0</td>\n",
       "      <td>M</td>\n",
       "      <td>2022-02-06</td>\n",
       "      <td>16:15</td>\n",
       "      <td>2022-03-02</td>\n",
       "      <td>19:30</td>\n",
       "      <td>1층 B블록12열 7</td>\n",
       "      <td>180000</td>\n",
       "      <td>...</td>\n",
       "      <td>R</td>\n",
       "      <td>0.244957</td>\n",
       "      <td>0.968300</td>\n",
       "      <td>0.0</td>\n",
       "      <td>0.522954</td>\n",
       "      <td>-24</td>\n",
       "      <td>-50.0</td>\n",
       "      <td>-24.009132</td>\n",
       "      <td>-31.433420</td>\n",
       "      <td>-27.927313</td>\n",
       "    </tr>\n",
       "    <tr>\n",
       "      <th>2</th>\n",
       "      <td>2</td>\n",
       "      <td>31</td>\n",
       "      <td>30.0</td>\n",
       "      <td>F</td>\n",
       "      <td>2018-11-24</td>\n",
       "      <td>11:45</td>\n",
       "      <td>2019-03-23</td>\n",
       "      <td>20:00</td>\n",
       "      <td>1층 A블록2열 1</td>\n",
       "      <td>144000</td>\n",
       "      <td>...</td>\n",
       "      <td>B</td>\n",
       "      <td>0.167689</td>\n",
       "      <td>0.991820</td>\n",
       "      <td>0.0</td>\n",
       "      <td>0.649900</td>\n",
       "      <td>-119</td>\n",
       "      <td>-123.0</td>\n",
       "      <td>-70.903101</td>\n",
       "      <td>-71.093434</td>\n",
       "      <td>-69.510129</td>\n",
       "    </tr>\n",
       "    <tr>\n",
       "      <th>3</th>\n",
       "      <td>4</td>\n",
       "      <td>100</td>\n",
       "      <td>NaN</td>\n",
       "      <td>NaN</td>\n",
       "      <td>2019-06-13</td>\n",
       "      <td>09:54</td>\n",
       "      <td>2019-07-23</td>\n",
       "      <td>20:00</td>\n",
       "      <td>2층 D블록8열 4</td>\n",
       "      <td>0</td>\n",
       "      <td>...</td>\n",
       "      <td>A</td>\n",
       "      <td>0.004285</td>\n",
       "      <td>0.028388</td>\n",
       "      <td>0.0</td>\n",
       "      <td>0.742116</td>\n",
       "      <td>-40</td>\n",
       "      <td>-40.0</td>\n",
       "      <td>-34.708885</td>\n",
       "      <td>-30.234501</td>\n",
       "      <td>-29.536585</td>\n",
       "    </tr>\n",
       "    <tr>\n",
       "      <th>4</th>\n",
       "      <td>5</td>\n",
       "      <td>99</td>\n",
       "      <td>NaN</td>\n",
       "      <td>F</td>\n",
       "      <td>2019-07-03</td>\n",
       "      <td>09:08</td>\n",
       "      <td>2019-07-21</td>\n",
       "      <td>17:00</td>\n",
       "      <td>1층 C블록17열 3</td>\n",
       "      <td>75000</td>\n",
       "      <td>...</td>\n",
       "      <td>R</td>\n",
       "      <td>0.044788</td>\n",
       "      <td>0.348534</td>\n",
       "      <td>0.0</td>\n",
       "      <td>0.525773</td>\n",
       "      <td>-18</td>\n",
       "      <td>-6.0</td>\n",
       "      <td>-5.536585</td>\n",
       "      <td>-5.812500</td>\n",
       "      <td>-5.581522</td>\n",
       "    </tr>\n",
       "  </tbody>\n",
       "</table>\n",
       "<p>5 rows × 49 columns</p>\n",
       "</div>"
      ],
      "text/plain": [
       "   key  new_code   age gender   tran_date tran_time   play_date play_st_time  \\\n",
       "0    0       435  50.0      F  2022-01-14     15:12  2022-02-04        20:00   \n",
       "1    1       449  50.0      M  2022-02-06     16:15  2022-03-02        19:30   \n",
       "2    2        31  30.0      F  2018-11-24     11:45  2019-03-23        20:00   \n",
       "3    4       100   NaN    NaN  2019-06-13     09:54  2019-07-23        20:00   \n",
       "4    5        99   NaN      F  2019-07-03     09:08  2019-07-21        17:00   \n",
       "\n",
       "          seat   price  ...  seat_gen cancel_rate paid_rate pre_rate  \\\n",
       "0   3층 BOX9 10   10000  ...         B    0.172237  0.996144      0.0   \n",
       "1  1층 B블록12열 7  180000  ...         R    0.244957  0.968300      0.0   \n",
       "2   1층 A블록2열 1  144000  ...         B    0.167689  0.991820      0.0   \n",
       "3   2층 D블록8열 4       0  ...         A    0.004285  0.028388      0.0   \n",
       "4  1층 C블록17열 3   75000  ...         R    0.044788  0.348534      0.0   \n",
       "\n",
       "  capa_rate  howfastyoubuy    50% newseatgen_mean  newseatloc_mean  \\\n",
       "0  0.257086            -21  -19.0       -7.866337       -10.000000   \n",
       "1  0.522954            -24  -50.0      -24.009132       -31.433420   \n",
       "2  0.649900           -119 -123.0      -70.903101       -71.093434   \n",
       "3  0.742116            -40  -40.0      -34.708885       -30.234501   \n",
       "4  0.525773            -18   -6.0       -5.536585        -5.812500   \n",
       "\n",
       "   newfloorloc_mean  \n",
       "0        -10.752066  \n",
       "1        -27.927313  \n",
       "2        -69.510129  \n",
       "3        -29.536585  \n",
       "4         -5.581522  \n",
       "\n",
       "[5 rows x 49 columns]"
      ]
     },
     "execution_count": 3,
     "metadata": {},
     "output_type": "execute_result"
    }
   ],
   "source": [
    "data = pd.read_csv('../final_data.csv')\n",
    "data.head()"
   ]
  },
  {
   "cell_type": "code",
   "execution_count": 4,
   "metadata": {},
   "outputs": [
    {
     "data": {
      "text/plain": [
       "Index(['key', 'new_code', 'age', 'gender', 'tran_date', 'tran_time',\n",
       "       'play_date', 'play_st_time', 'seat', 'price', 'ticket_cancel',\n",
       "       'discount_type', 'pre_open_date', 'open_date', 'genre', 'running_time',\n",
       "       'intermission', 'member_yn', 'pre_ticketing', 'general', 'sac', 'noble',\n",
       "       'green', 'blue', 'gold', 'discount_rate', 'real_price', 'discount_cat',\n",
       "       'all_mem_cnt', 'season', 'performance_time_slot', 'day_of_week',\n",
       "       'weekday_or_weekend', 'inv1_memyn', 'inv2_paymem_cnt', 'inv4_buyyn',\n",
       "       'involvement', 'seat_floor', 'seat_loc', 'seat_gen', 'cancel_rate',\n",
       "       'paid_rate', 'pre_rate', 'capa_rate', 'howfastyoubuy', '50%',\n",
       "       'newseatgen_mean', 'newseatloc_mean', 'newfloorloc_mean'],\n",
       "      dtype='object')"
      ]
     },
     "execution_count": 4,
     "metadata": {},
     "output_type": "execute_result"
    }
   ],
   "source": [
    "data.columns"
   ]
  },
  {
   "cell_type": "code",
   "execution_count": 46,
   "metadata": {},
   "outputs": [],
   "source": [
    "def grouping(x):\n",
    "    # 합창석\n",
    "    if '합창석' in x:\n",
    "        return 'red'\n",
    "    elif '2층' in x:\n",
    "        if 'BOX' in x:\n",
    "            if any(t in x for t in ['1', '2', '3']):\n",
    "                return 'blue'\n",
    "            elif any(t in x for t in ['4', '5', '6']):\n",
    "                return 'green'\n",
    "        elif any(t in x for t in ['A블록', 'E블록']):\n",
    "            return 'yellow'\n",
    "        elif any(t in x for t in ['B블록', 'D블록']):\n",
    "            return 'green'\n",
    "        elif 'C블록' in x:\n",
    "            return 'blue'\n",
    "    elif '3층' in x:\n",
    "        if any(t in x for t in ['BOX', 'A블록', 'G블록', 'M블록', 'N블록']):\n",
    "            return 'orange'\n",
    "        elif any(t in x for t in ['B블록', 'C블록', 'D블록', 'E블록', 'F블록']):\n",
    "            return 'purple'\n",
    "    elif '1층' in x:\n",
    "        if 'A블록' in x:\n",
    "            return 'yellow'\n",
    "        elif 'B블록' in x:\n",
    "            if int(x[6:-2].strip()[:-1]) in range(1, 15):\n",
    "                if int(x[-2:].strip()) in range(4):\n",
    "                    return 'blue'\n",
    "                else:\n",
    "                    return 'red'\n",
    "            elif int(x[6:-2].strip()[:-1]) in range(15, 23):\n",
    "                return 'green'\n",
    "        elif 'C블록' in x:\n",
    "            if int(x[6:-2].strip()[:-1]) in range(15, 23):\n",
    "                return 'blue'\n",
    "            else:\n",
    "                return 'red'\n",
    "        elif 'D블록' in x:\n",
    "            if int(x[6:-2].strip()[:-1]) in range(1, 15):\n",
    "                if int(x[-2:].strip()) in range(4):\n",
    "                    return 'blue'\n",
    "                else:\n",
    "                    return 'green'\n",
    "            elif int(x[6:-2].strip()[:-1]) in range(15, 23):\n",
    "                return 'green'\n",
    "        elif 'E블록' in x:\n",
    "            return 'yellow'"
   ]
  },
  {
   "cell_type": "code",
   "execution_count": 47,
   "metadata": {},
   "outputs": [],
   "source": [
    "data['seat_grouping'] = data['seat'].apply(lambda x: grouping(x))"
   ]
  },
  {
   "cell_type": "code",
   "execution_count": 48,
   "metadata": {},
   "outputs": [
    {
     "data": {
      "text/html": [
       "<div>\n",
       "<style scoped>\n",
       "    .dataframe tbody tr th:only-of-type {\n",
       "        vertical-align: middle;\n",
       "    }\n",
       "\n",
       "    .dataframe tbody tr th {\n",
       "        vertical-align: top;\n",
       "    }\n",
       "\n",
       "    .dataframe thead th {\n",
       "        text-align: right;\n",
       "    }\n",
       "</style>\n",
       "<table border=\"1\" class=\"dataframe\">\n",
       "  <thead>\n",
       "    <tr style=\"text-align: right;\">\n",
       "      <th></th>\n",
       "      <th>seat</th>\n",
       "      <th>seat_grouping</th>\n",
       "    </tr>\n",
       "  </thead>\n",
       "  <tbody>\n",
       "  </tbody>\n",
       "</table>\n",
       "</div>"
      ],
      "text/plain": [
       "Empty DataFrame\n",
       "Columns: [seat, seat_grouping]\n",
       "Index: []"
      ]
     },
     "execution_count": 48,
     "metadata": {},
     "output_type": "execute_result"
    }
   ],
   "source": [
    "data[data['seat_grouping'].isna()][['seat', 'seat_grouping']]"
   ]
  },
  {
   "cell_type": "code",
   "execution_count": 50,
   "metadata": {},
   "outputs": [
    {
     "data": {
      "text/html": [
       "<div>\n",
       "<style scoped>\n",
       "    .dataframe tbody tr th:only-of-type {\n",
       "        vertical-align: middle;\n",
       "    }\n",
       "\n",
       "    .dataframe tbody tr th {\n",
       "        vertical-align: top;\n",
       "    }\n",
       "\n",
       "    .dataframe thead th {\n",
       "        text-align: right;\n",
       "    }\n",
       "</style>\n",
       "<table border=\"1\" class=\"dataframe\">\n",
       "  <thead>\n",
       "    <tr style=\"text-align: right;\">\n",
       "      <th></th>\n",
       "      <th>seat</th>\n",
       "      <th>seat_grouping</th>\n",
       "    </tr>\n",
       "  </thead>\n",
       "  <tbody>\n",
       "    <tr>\n",
       "      <th>0</th>\n",
       "      <td>3층 BOX9 10</td>\n",
       "      <td>orange</td>\n",
       "    </tr>\n",
       "    <tr>\n",
       "      <th>1</th>\n",
       "      <td>1층 B블록12열 7</td>\n",
       "      <td>red</td>\n",
       "    </tr>\n",
       "    <tr>\n",
       "      <th>2</th>\n",
       "      <td>1층 A블록2열 1</td>\n",
       "      <td>yellow</td>\n",
       "    </tr>\n",
       "    <tr>\n",
       "      <th>3</th>\n",
       "      <td>2층 D블록8열 4</td>\n",
       "      <td>green</td>\n",
       "    </tr>\n",
       "    <tr>\n",
       "      <th>4</th>\n",
       "      <td>1층 C블록17열 3</td>\n",
       "      <td>blue</td>\n",
       "    </tr>\n",
       "    <tr>\n",
       "      <th>...</th>\n",
       "      <td>...</td>\n",
       "      <td>...</td>\n",
       "    </tr>\n",
       "    <tr>\n",
       "      <th>751972</th>\n",
       "      <td>1층 A블록2열 2</td>\n",
       "      <td>yellow</td>\n",
       "    </tr>\n",
       "    <tr>\n",
       "      <th>751973</th>\n",
       "      <td>3층 A블록6열 4</td>\n",
       "      <td>orange</td>\n",
       "    </tr>\n",
       "    <tr>\n",
       "      <th>751974</th>\n",
       "      <td>1층 D블록16열 12</td>\n",
       "      <td>green</td>\n",
       "    </tr>\n",
       "    <tr>\n",
       "      <th>751975</th>\n",
       "      <td>1층 D블록20열 8</td>\n",
       "      <td>green</td>\n",
       "    </tr>\n",
       "    <tr>\n",
       "      <th>751976</th>\n",
       "      <td>3층 B블록5열 4</td>\n",
       "      <td>purple</td>\n",
       "    </tr>\n",
       "  </tbody>\n",
       "</table>\n",
       "<p>751977 rows × 2 columns</p>\n",
       "</div>"
      ],
      "text/plain": [
       "                seat seat_grouping\n",
       "0         3층 BOX9 10        orange\n",
       "1        1층 B블록12열 7           red\n",
       "2         1층 A블록2열 1        yellow\n",
       "3         2층 D블록8열 4         green\n",
       "4        1층 C블록17열 3          blue\n",
       "...              ...           ...\n",
       "751972    1층 A블록2열 2        yellow\n",
       "751973    3층 A블록6열 4        orange\n",
       "751974  1층 D블록16열 12         green\n",
       "751975   1층 D블록20열 8         green\n",
       "751976    3층 B블록5열 4        purple\n",
       "\n",
       "[751977 rows x 2 columns]"
      ]
     },
     "execution_count": 50,
     "metadata": {},
     "output_type": "execute_result"
    }
   ],
   "source": [
    "data[['seat', 'seat_grouping']]"
   ]
  },
  {
   "cell_type": "code",
   "execution_count": 61,
   "metadata": {},
   "outputs": [
    {
     "data": {
      "text/plain": [
       "array(['red'], dtype=object)"
      ]
     },
     "execution_count": 61,
     "metadata": {},
     "output_type": "execute_result"
    }
   ],
   "source": [
    "data[data['seat'].str.contains('1층 C블록3열')]['seat_grouping'].unique()"
   ]
  },
  {
   "cell_type": "code",
   "execution_count": 65,
   "metadata": {},
   "outputs": [
    {
     "data": {
      "text/plain": [
       "array(['green'], dtype=object)"
      ]
     },
     "execution_count": 65,
     "metadata": {},
     "output_type": "execute_result"
    }
   ],
   "source": [
    "data[data['seat'].str.contains('1층 D블록16열 8')]['seat_grouping'].unique()"
   ]
  },
  {
   "cell_type": "code",
   "execution_count": 66,
   "metadata": {},
   "outputs": [],
   "source": [
    "data.to_csv('../final_new_grouping.csv', index=False)"
   ]
  },
  {
   "cell_type": "code",
   "execution_count": 67,
   "metadata": {},
   "outputs": [
    {
     "data": {
      "text/plain": [
       "Index(['key', 'new_code', 'age', 'gender', 'tran_date', 'tran_time',\n",
       "       'play_date', 'play_st_time', 'seat', 'price', 'ticket_cancel',\n",
       "       'discount_type', 'pre_open_date', 'open_date', 'genre', 'running_time',\n",
       "       'intermission', 'member_yn', 'pre_ticketing', 'general', 'sac', 'noble',\n",
       "       'green', 'blue', 'gold', 'discount_rate', 'real_price', 'discount_cat',\n",
       "       'all_mem_cnt', 'season', 'performance_time_slot', 'day_of_week',\n",
       "       'weekday_or_weekend', 'inv1_memyn', 'inv2_paymem_cnt', 'inv4_buyyn',\n",
       "       'involvement', 'seat_floor', 'seat_loc', 'seat_gen', 'cancel_rate',\n",
       "       'paid_rate', 'pre_rate', 'capa_rate', 'howfastyoubuy', '50%',\n",
       "       'newseatgen_mean', 'newseatloc_mean', 'newfloorloc_mean',\n",
       "       'seat_grouping'],\n",
       "      dtype='object')"
      ]
     },
     "execution_count": 67,
     "metadata": {},
     "output_type": "execute_result"
    }
   ],
   "source": [
    "data.columns"
   ]
  },
  {
   "cell_type": "code",
   "execution_count": null,
   "metadata": {},
   "outputs": [],
   "source": []
  },
  {
   "cell_type": "code",
   "execution_count": null,
   "metadata": {},
   "outputs": [],
   "source": []
  }
 ],
 "metadata": {
  "kernelspec": {
   "display_name": "Python 3 (ipykernel)",
   "language": "python",
   "name": "python3"
  },
  "language_info": {
   "codemirror_mode": {
    "name": "ipython",
    "version": 3
   },
   "file_extension": ".py",
   "mimetype": "text/x-python",
   "name": "python",
   "nbconvert_exporter": "python",
   "pygments_lexer": "ipython3",
   "version": "3.8.13"
  }
 },
 "nbformat": 4,
 "nbformat_minor": 2
}
