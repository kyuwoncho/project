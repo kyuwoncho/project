{
  "nbformat": 4,
  "nbformat_minor": 0,
  "metadata": {
    "colab": {
      "name": "softdrink_classifier.ipynb",
      "provenance": [],
      "collapsed_sections": []
    },
    "kernelspec": {
      "name": "python3",
      "display_name": "Python 3"
    },
    "language_info": {
      "name": "python"
    }
  },
  "cells": [
    {
      "cell_type": "markdown",
      "source": [
        "# Python Keras를 이용한 다중 클래스 음료 분류"
      ],
      "metadata": {
        "id": "Wsjnbs0TR6U4"
      }
    },
    {
      "cell_type": "code",
      "execution_count": null,
      "metadata": {
        "id": "2oTzmlrER2HU"
      },
      "outputs": [],
      "source": [
        "import os\n",
        "from tensorflow.keras.preprocessing import image\n",
        "from tensorflow.keras.preprocessing.image import ImageDataGenerator\n",
        "from tensorflow.keras.models import Sequential\n",
        "from tensorflow.keras.layers import Conv2D, MaxPooling2D, Flatten, Dropout, Dense\n",
        "from tensorflow.keras.callbacks import ModelCheckpoint, EarlyStopping\n",
        "import matplotlib.pyplot as plt\n",
        "from set_vars import train_dir, validation_dir, model_dir\n",
        "from set_vars import CLASSES, IMAGE_SIZE, BATCH_SIZE, EPOCHS, STEPS_PER_EPOCH, "
      ]
    },
    {
      "cell_type": "markdown",
      "source": [
        "# 1. 이미지 처리"
      ],
      "metadata": {
        "id": "YuzZ2QFdR_sw"
      }
    },
    {
      "cell_type": "code",
      "source": [
        "def generate_image():\n",
        "    train_datagen = ImageDataGenerator(\n",
        "        rescale=1.0 / 255., # 이미지 픽셀 값을 0 ~ 1로 정규화\n",
        "        rotation_range=40, # 정해진 각도 범위에서 이미지 회전\n",
        "        width_shift_range=0.2, # 정해진 수평 방향 이동 범위에서 이미지 이동\n",
        "        height_shift_range=0.2, # 정해진 수직 방향 이동 범위에서 이미지 이동\n",
        "        shear_range=0.2, # 정해진 층밀리기 강도 범위에서 이미지 변형\n",
        "        horizontal_flip=True) # 수평방향 뒤집기\n",
        "\n",
        "    validation_datagen = ImageDataGenerator(rescale=1.0 / 255.)\n",
        "\n",
        "    train_generator = train_datagen.flow_from_directory(\n",
        "        train_dir, batch_size=BATCH_SIZE, class_mode='categorical', target_size=(IMAGE_SIZE, IMAGE_SIZE))\n",
        "    validation_generator = validation_datagen.flow_from_directory(\n",
        "        validation_dir, batch_size=BATCH_SIZE, class_mode='categorical', target_size=(IMAGE_SIZE, IMAGE_SIZE))\n",
        "\n",
        "    return train_generator, validation_generator"
      ],
      "metadata": {
        "id": "xlHLwgHrR5cb"
      },
      "execution_count": null,
      "outputs": []
    },
    {
      "cell_type": "markdown",
      "source": [
        "# 2. 모델 생성"
      ],
      "metadata": {
        "id": "MmKZlff8SDVh"
      }
    },
    {
      "cell_type": "code",
      "source": [
        "def create_model():\n",
        "    model = Sequential([\n",
        "        Conv2D(64, (3, 3), activation='relu', padding='same', input_shape=(IMAGE_SIZE, IMAGE_SIZE, 3)),\n",
        "        MaxPooling2D(2, 2),\n",
        "        Dropout(0.25),\n",
        "\n",
        "        Conv2D(128, (3, 3), activation='relu'),\n",
        "        MaxPooling2D(2, 2),\n",
        "        Dropout(0.25),\n",
        "\n",
        "        Conv2D(256, (3, 3), activation='relu'),\n",
        "        MaxPooling2D(2, 2),\n",
        "        Dropout(0.25),\n",
        "\n",
        "        Conv2D(512, (3, 3), activation='relu'),\n",
        "        MaxPooling2D(2, 2),\n",
        "        Dropout(0.25),\n",
        "\n",
        "        Flatten(),\n",
        "        Dense(1000, activation='relu'),\n",
        "        Dropout(0.25),\n",
        "        Dense(CLASSES, activation='softmax')\n",
        "    ])\n",
        "        # RMSprop (Root Mean Square Propagation) : 훈련 중에 학습률을 적절히 조절\n",
        "    model.compile(optimizer='rmsprop',\n",
        "                  loss='categorical_crossentropy', metrics=['accuracy'])\n",
        "\n",
        "    return model"
      ],
      "metadata": {
        "id": "dT6vtPL5SBTx"
      },
      "execution_count": null,
      "outputs": []
    },
    {
      "cell_type": "markdown",
      "source": [
        "# 3. 모델 훈련"
      ],
      "metadata": {
        "id": "IBCOkF9dSHYm"
      }
    },
    {
      "cell_type": "code",
      "source": [
        "def fit_model(save_dir, model, train_gen, validation_gen):\n",
        "    checkpoint = ModelCheckpoint(save_dir, monitor='val_loss', mode='min', verbose=1, save_best_only=True)\n",
        "    early_stopping = EarlyStopping(monitor='val_loss', mode='min', verbose=1, patience=5)\n",
        "    history = model.fit(train_gen,\n",
        "                        validation_data=validation_gen,\n",
        "                        epochs=EPOCHS,\n",
        "                        steps_per_epoch=STEPS_PER_EPOCH,\n",
        "                        validation_steps=VALIDATION_STEPS,\n",
        "                        verbose=2,\n",
        "                        callbacks=[checkpoint, early_stopping])\n",
        "                        #callbacks=[checkpoint])\n",
        "    return history"
      ],
      "metadata": {
        "id": "d272mkyySJGV"
      },
      "execution_count": null,
      "outputs": []
    },
    {
      "cell_type": "markdown",
      "source": [
        "# 4. 결과 출력"
      ],
      "metadata": {
        "id": "F1qankzgSKQI"
      }
    },
    {
      "cell_type": "code",
      "source": [
        "def print_result(history):\n",
        "    acc = history.history['accuracy']\n",
        "    val_acc = history.history['val_accuracy']\n",
        "    loss = history.history['loss']\n",
        "    val_loss = history.history['val_loss']\n",
        "\n",
        "    epochs = range(len(acc))\n",
        "\n",
        "    plt.plot(epochs, acc, 'r', label='Training accuracy')\n",
        "    plt.plot(epochs, val_acc, 'b', label='Validation accuracy')\n",
        "    plt.title('Training and Validation accuracy')\n",
        "    plt.legend()\n",
        "    plt.figure()\n",
        "\n",
        "    plt.plot(epochs, loss, 'go', label='Training Loss')\n",
        "    plt.plot(epochs, val_loss, 'g', label='Validation Loss')\n",
        "    plt.title('Training and Validation loss')\n",
        "    plt.legend()\n",
        "    plt.show()\n",
        "\n",
        "if __name__ == '__main__':\n",
        "\n",
        "    train_gen, validation_gen = generate_image()\n",
        "    model = create_model()\n",
        "\n",
        "    result = fit_model(model_dir, model, train_gen, validation_gen)\n",
        "    print_result(result)\n",
        "\n",
        "    scores = model.evaluate(validation_gen)\n",
        "    print(scores)"
      ],
      "metadata": {
        "id": "579Tf4vFSJt4"
      },
      "execution_count": null,
      "outputs": []
    }
  ]
}