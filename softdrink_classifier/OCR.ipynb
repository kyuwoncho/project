{
  "nbformat": 4,
  "nbformat_minor": 0,
  "metadata": {
    "colab": {
      "name": "OCR.ipynb",
      "provenance": [],
      "collapsed_sections": []
    },
    "kernelspec": {
      "name": "python3",
      "display_name": "Python 3"
    },
    "language_info": {
      "name": "python"
    }
  },
  "cells": [
    {
      "cell_type": "code",
      "execution_count": null,
      "metadata": {
        "id": "DrDYl5ygSU9w"
      },
      "outputs": [],
      "source": [
        "import io\n",
        "import os\n",
        "from PIL import Image\n",
        "from google.cloud import vision\n",
        "from google.cloud.vision_v1 import types\n",
        "import tensorflow as tf\n",
        "from tensorflow.keras.preprocessing.image import ImageDataGenerator\n",
        "from tensorflow.keras.preprocessing import image\n",
        "from tensorflow.python.keras.models import load_model\n",
        "import numpy as np\n",
        "from set_vars import classes, test_dir, model_dir\n"
      ]
    },
    {
      "cell_type": "code",
      "source": [
        "def with_model(model, files):\n",
        "    def ocr(img_path):\n",
        "        client = vision.ImageAnnotatorClient()\n",
        "\n",
        "        img_file = Image.open(img_path)\n",
        "        width, length = img_file.size[0] // 10, img_file.size[1] // 10\n",
        "        area = (width * 2, length * 2, width * 7, length * 9)\n",
        "        cropped, buffer = img_file.crop(box = area), io.BytesIO()\n",
        "        cropped.save(buffer, \"JPEG\")\n",
        "        content = buffer.getvalue()\n",
        "        img = types.Image(content=content)\n",
        "\n",
        "        response = client.text_detection(image=img)\n",
        "        labels = response.text_annotations\n",
        "\n",
        "        for label in labels:\n",
        "            if label.description in drink_info.keys():\n",
        "                return drink_info[label.description]\n",
        "            if label.description.lower() in drink_info.keys():\n",
        "                return drink_info[label.description.lower()]\n",
        "        else:\n",
        "            return -1\n",
        "\n",
        "    acc_count = 0\n",
        "    for fname in files:\n",
        "        img_path = os.path.join(test_dir, fname)\n",
        "        img = image.load_img(img_path, target_size=(150, 150))\n",
        "\n",
        "        x = image.img_to_array(img)\n",
        "        x = x / 255. # 이미지 rescale\n",
        "        x = np.expand_dims(x, axis=0)\n",
        "        images = np.vstack([x])\n",
        "\n",
        "        predict = model.predict(images, batch_size=4, verbose=0)\n",
        "        np.set_printoptions(precision=3, suppress=True)\n",
        "\n",
        "        result = predict.argmax()\n",
        "\n",
        "        if classes[result] == 'none':\n",
        "            result = ocr(img_path)\n",
        "            if result == -1:\n",
        "                print(\"IMAGE NAME: {:13} ---------- OCR 결과 없음, 다른 사진 요청\".format(fname))\n",
        "                continue\n",
        "\n",
        "        if fname[:2] == classes[result][:2]:\n",
        "            print(\"IMAGE NAME: {:13}, RESULT: {:7}\".format(fname, classes[result]))\n",
        "            acc_count += 1\n",
        "        else:\n",
        "            print(\"IMAGE NAME: {:13}, RESULT: {:7} !!!!!!!!!\".format(fname, classes[result]))\n",
        "\n",
        "    print(\"\\nTotal Accuracy: {:.3f}\" .format(acc_count/len(files)))"
      ],
      "metadata": {
        "id": "BKKG5ikwSZOT"
      },
      "execution_count": null,
      "outputs": []
    },
    {
      "cell_type": "code",
      "source": [
        "if __name__ == '__main__':\n",
        "\n",
        "    test_files = os.listdir(test_dir)\n",
        "    if '.DS_Store' in test_files:\n",
        "        test_files.remove('.DS_Store')\n",
        "\n",
        "    os.environ[\"GOOGLE_APPLICATION_CREDENTIALS\"]=\"/Users/jieun/Desktop/softdrink_classifier/python-ocr-test-jleeun-84f11becbc60.json\"\n",
        "\n",
        "    drink_info = dict()\n",
        "    drink_info['cider'] = 0\n",
        "    drink_info['coca'] = 1\n",
        "    drink_info['cola'] = 1\n",
        "    drink_info['fanta'] = 2\n",
        "    drink_info['milkis'] = 3\n",
        "    drink_info['monster'] = 4\n",
        "    drink_info['mountain'] = 5\n",
        "    drink_info['dew'] = 5\n",
        "    drink_info['beenzino'] = 5\n",
        "    drink_info['pepsi'] = 7\n",
        "    drink_info['demisoda'] = 8\n",
        "    drink_info['sprite'] = 9\n",
        "    drink_info['toreta'] = 10\n",
        "    drink_info['welchs'] = 11\n",
        "\n",
        "    model = load_model(model_dir, compile=False)\n",
        "    with_model(model, test_files)"
      ],
      "metadata": {
        "id": "m1-KDTHySbrp"
      },
      "execution_count": null,
      "outputs": []
    }
  ]
}