{
  "nbformat": 4,
  "nbformat_minor": 0,
  "metadata": {
    "colab": {
      "name": "test model.ipynb",
      "provenance": [],
      "collapsed_sections": []
    },
    "kernelspec": {
      "name": "python3",
      "display_name": "Python 3"
    },
    "language_info": {
      "name": "python"
    }
  },
  "cells": [
    {
      "cell_type": "code",
      "execution_count": null,
      "metadata": {
        "id": "kMY34MegRT6l"
      },
      "outputs": [],
      "source": [
        "import os\n",
        "import tensorflow as tf\n",
        "from tensorflow.keras.preprocessing.image import ImageDataGenerator\n",
        "from tensorflow.keras.preprocessing import image\n",
        "from tensorflow.python.keras.models import load_model\n",
        "import numpy as np\n",
        "from set_vars import classes, test_dir, model_dir"
      ]
    },
    {
      "cell_type": "code",
      "source": [
        "def test_model(model, files):\n",
        "\n",
        "    acc_count = 0\n",
        "\n",
        "    for fname in files:\n",
        "        img_path = os.path.join(test_dir, fname)\n",
        "        img = image.load_img(img_path, target_size=(150, 150))\n",
        "\n",
        "        x = image.img_to_array(img)\n",
        "        x = x / 255. # 이미지 rescale\n",
        "        x = np.expand_dims(x, axis=0)\n",
        "        images = np.vstack([x])\n",
        "\n",
        "        predict = model.predict(images, batch_size=4, verbose=0)\n",
        "        np.set_printoptions(precision=3, suppress=True)\n",
        "\n",
        "        result = predict.argmax()\n",
        "\n",
        "        print(\"IMAGE NAME: {:13}, RESULT: {:7}, PROBA: {:.3f}\"\n",
        "                .format(fname, classes[result], predict.max()), end='')\n",
        "\n",
        "        if fname[:2] == classes[result][:2]:\n",
        "            acc_count += 1\n",
        "            print()\n",
        "        else:\n",
        "            print(\"  !!!\")\n",
        "\n",
        "\n",
        "    print(\"\\nTotal Accuracy: {:.3f}\" .format(acc_count/len(files)))"
      ],
      "metadata": {
        "id": "2uG5ifWRRnRW"
      },
      "execution_count": null,
      "outputs": []
    },
    {
      "cell_type": "code",
      "source": [
        "if __name__ == '__main__':\n",
        "\n",
        "    test_files = os.listdir(test_dir)\n",
        "    if '.DS_Store' in test_files:\n",
        "        test_files.remove('.DS_Store')\n",
        "\n",
        "    model = load_model(model_dir, compile=False)\n",
        "    test_model(model, test_files)"
      ],
      "metadata": {
        "id": "c2hOc7LBRnMj"
      },
      "execution_count": null,
      "outputs": []
    }
  ]
}