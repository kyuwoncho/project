{
 "cells": [
  {
   "cell_type": "code",
   "execution_count": 1,
   "metadata": {},
   "outputs": [],
   "source": [
    "import pickle\n",
    "import pandas as pd\n",
    "import numpy as np"
   ]
  },
  {
   "attachments": {},
   "cell_type": "markdown",
   "metadata": {},
   "source": [
    "## 데이터 불러오기"
   ]
  },
  {
   "cell_type": "code",
   "execution_count": 2,
   "metadata": {},
   "outputs": [
    {
     "data": {
      "text/html": [
       "<div>\n",
       "<style scoped>\n",
       "    .dataframe tbody tr th:only-of-type {\n",
       "        vertical-align: middle;\n",
       "    }\n",
       "\n",
       "    .dataframe tbody tr th {\n",
       "        vertical-align: top;\n",
       "    }\n",
       "\n",
       "    .dataframe thead th {\n",
       "        text-align: right;\n",
       "    }\n",
       "</style>\n",
       "<table border=\"1\" class=\"dataframe\">\n",
       "  <thead>\n",
       "    <tr style=\"text-align: right;\">\n",
       "      <th></th>\n",
       "      <th>year</th>\n",
       "      <th>country</th>\n",
       "      <th>품목코드</th>\n",
       "      <th>수출금액</th>\n",
       "      <th>GDP</th>\n",
       "      <th>preference</th>\n",
       "      <th>GDP_growth</th>\n",
       "      <th>population</th>\n",
       "      <th>pop_growth</th>\n",
       "      <th>USD</th>\n",
       "      <th>JPY</th>\n",
       "      <th>EUR</th>\n",
       "      <th>CNY</th>\n",
       "      <th>WTI</th>\n",
       "    </tr>\n",
       "  </thead>\n",
       "  <tbody>\n",
       "    <tr>\n",
       "      <th>0</th>\n",
       "      <td>2012</td>\n",
       "      <td>Afghanistan</td>\n",
       "      <td>3.0</td>\n",
       "      <td>1.0</td>\n",
       "      <td>20203572.96</td>\n",
       "      <td>4.949620e-08</td>\n",
       "      <td>NaN</td>\n",
       "      <td>30466479.0</td>\n",
       "      <td>NaN</td>\n",
       "      <td>1126.43</td>\n",
       "      <td>1412.96</td>\n",
       "      <td>1447.58</td>\n",
       "      <td>178.52</td>\n",
       "      <td>94.051667</td>\n",
       "    </tr>\n",
       "    <tr>\n",
       "      <th>1</th>\n",
       "      <td>2012</td>\n",
       "      <td>Afghanistan</td>\n",
       "      <td>4.0</td>\n",
       "      <td>0.0</td>\n",
       "      <td>20203572.96</td>\n",
       "      <td>0.000000e+00</td>\n",
       "      <td>NaN</td>\n",
       "      <td>30466479.0</td>\n",
       "      <td>NaN</td>\n",
       "      <td>1126.43</td>\n",
       "      <td>1412.96</td>\n",
       "      <td>1447.58</td>\n",
       "      <td>178.52</td>\n",
       "      <td>94.051667</td>\n",
       "    </tr>\n",
       "    <tr>\n",
       "      <th>2</th>\n",
       "      <td>2012</td>\n",
       "      <td>Afghanistan</td>\n",
       "      <td>7.0</td>\n",
       "      <td>2.0</td>\n",
       "      <td>20203572.96</td>\n",
       "      <td>9.899239e-08</td>\n",
       "      <td>NaN</td>\n",
       "      <td>30466479.0</td>\n",
       "      <td>NaN</td>\n",
       "      <td>1126.43</td>\n",
       "      <td>1412.96</td>\n",
       "      <td>1447.58</td>\n",
       "      <td>178.52</td>\n",
       "      <td>94.051667</td>\n",
       "    </tr>\n",
       "    <tr>\n",
       "      <th>3</th>\n",
       "      <td>2012</td>\n",
       "      <td>Afghanistan</td>\n",
       "      <td>8.0</td>\n",
       "      <td>0.0</td>\n",
       "      <td>20203572.96</td>\n",
       "      <td>0.000000e+00</td>\n",
       "      <td>NaN</td>\n",
       "      <td>30466479.0</td>\n",
       "      <td>NaN</td>\n",
       "      <td>1126.43</td>\n",
       "      <td>1412.96</td>\n",
       "      <td>1447.58</td>\n",
       "      <td>178.52</td>\n",
       "      <td>94.051667</td>\n",
       "    </tr>\n",
       "    <tr>\n",
       "      <th>4</th>\n",
       "      <td>2012</td>\n",
       "      <td>Afghanistan</td>\n",
       "      <td>10.0</td>\n",
       "      <td>12.0</td>\n",
       "      <td>20203572.96</td>\n",
       "      <td>5.939543e-07</td>\n",
       "      <td>NaN</td>\n",
       "      <td>30466479.0</td>\n",
       "      <td>NaN</td>\n",
       "      <td>1126.43</td>\n",
       "      <td>1412.96</td>\n",
       "      <td>1447.58</td>\n",
       "      <td>178.52</td>\n",
       "      <td>94.051667</td>\n",
       "    </tr>\n",
       "    <tr>\n",
       "      <th>...</th>\n",
       "      <td>...</td>\n",
       "      <td>...</td>\n",
       "      <td>...</td>\n",
       "      <td>...</td>\n",
       "      <td>...</td>\n",
       "      <td>...</td>\n",
       "      <td>...</td>\n",
       "      <td>...</td>\n",
       "      <td>...</td>\n",
       "      <td>...</td>\n",
       "      <td>...</td>\n",
       "      <td>...</td>\n",
       "      <td>...</td>\n",
       "      <td>...</td>\n",
       "    </tr>\n",
       "    <tr>\n",
       "      <th>128388</th>\n",
       "      <td>2022</td>\n",
       "      <td>Zimbabwe</td>\n",
       "      <td>90.0</td>\n",
       "      <td>299.0</td>\n",
       "      <td>NaN</td>\n",
       "      <td>NaN</td>\n",
       "      <td>NaN</td>\n",
       "      <td>NaN</td>\n",
       "      <td>NaN</td>\n",
       "      <td>1293.68</td>\n",
       "      <td>985.24</td>\n",
       "      <td>1359.46</td>\n",
       "      <td>191.73</td>\n",
       "      <td>88.150000</td>\n",
       "    </tr>\n",
       "    <tr>\n",
       "      <th>128389</th>\n",
       "      <td>2022</td>\n",
       "      <td>Zimbabwe</td>\n",
       "      <td>94.0</td>\n",
       "      <td>21.0</td>\n",
       "      <td>NaN</td>\n",
       "      <td>NaN</td>\n",
       "      <td>NaN</td>\n",
       "      <td>NaN</td>\n",
       "      <td>NaN</td>\n",
       "      <td>1293.68</td>\n",
       "      <td>985.24</td>\n",
       "      <td>1359.46</td>\n",
       "      <td>191.73</td>\n",
       "      <td>88.150000</td>\n",
       "    </tr>\n",
       "    <tr>\n",
       "      <th>128390</th>\n",
       "      <td>2022</td>\n",
       "      <td>Zimbabwe</td>\n",
       "      <td>95.0</td>\n",
       "      <td>2.0</td>\n",
       "      <td>NaN</td>\n",
       "      <td>NaN</td>\n",
       "      <td>NaN</td>\n",
       "      <td>NaN</td>\n",
       "      <td>NaN</td>\n",
       "      <td>1293.68</td>\n",
       "      <td>985.24</td>\n",
       "      <td>1359.46</td>\n",
       "      <td>191.73</td>\n",
       "      <td>88.150000</td>\n",
       "    </tr>\n",
       "    <tr>\n",
       "      <th>128391</th>\n",
       "      <td>2022</td>\n",
       "      <td>Zimbabwe</td>\n",
       "      <td>96.0</td>\n",
       "      <td>0.0</td>\n",
       "      <td>NaN</td>\n",
       "      <td>NaN</td>\n",
       "      <td>NaN</td>\n",
       "      <td>NaN</td>\n",
       "      <td>NaN</td>\n",
       "      <td>1293.68</td>\n",
       "      <td>985.24</td>\n",
       "      <td>1359.46</td>\n",
       "      <td>191.73</td>\n",
       "      <td>88.150000</td>\n",
       "    </tr>\n",
       "    <tr>\n",
       "      <th>128392</th>\n",
       "      <td>2022</td>\n",
       "      <td>Zimbabwe</td>\n",
       "      <td>97.0</td>\n",
       "      <td>0.0</td>\n",
       "      <td>NaN</td>\n",
       "      <td>NaN</td>\n",
       "      <td>NaN</td>\n",
       "      <td>NaN</td>\n",
       "      <td>NaN</td>\n",
       "      <td>1293.68</td>\n",
       "      <td>985.24</td>\n",
       "      <td>1359.46</td>\n",
       "      <td>191.73</td>\n",
       "      <td>88.150000</td>\n",
       "    </tr>\n",
       "  </tbody>\n",
       "</table>\n",
       "<p>128393 rows × 14 columns</p>\n",
       "</div>"
      ],
      "text/plain": [
       "        year      country  품목코드   수출금액          GDP    preference  GDP_growth  \\\n",
       "0       2012  Afghanistan   3.0    1.0  20203572.96  4.949620e-08         NaN   \n",
       "1       2012  Afghanistan   4.0    0.0  20203572.96  0.000000e+00         NaN   \n",
       "2       2012  Afghanistan   7.0    2.0  20203572.96  9.899239e-08         NaN   \n",
       "3       2012  Afghanistan   8.0    0.0  20203572.96  0.000000e+00         NaN   \n",
       "4       2012  Afghanistan  10.0   12.0  20203572.96  5.939543e-07         NaN   \n",
       "...      ...          ...   ...    ...          ...           ...         ...   \n",
       "128388  2022     Zimbabwe  90.0  299.0          NaN           NaN         NaN   \n",
       "128389  2022     Zimbabwe  94.0   21.0          NaN           NaN         NaN   \n",
       "128390  2022     Zimbabwe  95.0    2.0          NaN           NaN         NaN   \n",
       "128391  2022     Zimbabwe  96.0    0.0          NaN           NaN         NaN   \n",
       "128392  2022     Zimbabwe  97.0    0.0          NaN           NaN         NaN   \n",
       "\n",
       "        population  pop_growth      USD      JPY      EUR     CNY        WTI  \n",
       "0       30466479.0         NaN  1126.43  1412.96  1447.58  178.52  94.051667  \n",
       "1       30466479.0         NaN  1126.43  1412.96  1447.58  178.52  94.051667  \n",
       "2       30466479.0         NaN  1126.43  1412.96  1447.58  178.52  94.051667  \n",
       "3       30466479.0         NaN  1126.43  1412.96  1447.58  178.52  94.051667  \n",
       "4       30466479.0         NaN  1126.43  1412.96  1447.58  178.52  94.051667  \n",
       "...            ...         ...      ...      ...      ...     ...        ...  \n",
       "128388         NaN         NaN  1293.68   985.24  1359.46  191.73  88.150000  \n",
       "128389         NaN         NaN  1293.68   985.24  1359.46  191.73  88.150000  \n",
       "128390         NaN         NaN  1293.68   985.24  1359.46  191.73  88.150000  \n",
       "128391         NaN         NaN  1293.68   985.24  1359.46  191.73  88.150000  \n",
       "128392         NaN         NaN  1293.68   985.24  1359.46  191.73  88.150000  \n",
       "\n",
       "[128393 rows x 14 columns]"
      ]
     },
     "execution_count": 2,
     "metadata": {},
     "output_type": "execute_result"
    }
   ],
   "source": [
    "# pickle 파일 불러오기\n",
    "with open('../processed/export_GDP_pop_fx_wti.pkl', 'rb') as f:\n",
    "    ratings_all = pickle.load(f)\n",
    "\n",
    "ratings_all"
   ]
  },
  {
   "cell_type": "code",
   "execution_count": 3,
   "metadata": {},
   "outputs": [
    {
     "data": {
      "text/html": [
       "<div>\n",
       "<style scoped>\n",
       "    .dataframe tbody tr th:only-of-type {\n",
       "        vertical-align: middle;\n",
       "    }\n",
       "\n",
       "    .dataframe tbody tr th {\n",
       "        vertical-align: top;\n",
       "    }\n",
       "\n",
       "    .dataframe thead th {\n",
       "        text-align: right;\n",
       "    }\n",
       "</style>\n",
       "<table border=\"1\" class=\"dataframe\">\n",
       "  <thead>\n",
       "    <tr style=\"text-align: right;\">\n",
       "      <th></th>\n",
       "      <th>country_id</th>\n",
       "      <th>item_id</th>\n",
       "      <th>preference</th>\n",
       "    </tr>\n",
       "  </thead>\n",
       "  <tbody>\n",
       "    <tr>\n",
       "      <th>0</th>\n",
       "      <td>0</td>\n",
       "      <td>10</td>\n",
       "      <td>4.862752e-08</td>\n",
       "    </tr>\n",
       "    <tr>\n",
       "      <th>1</th>\n",
       "      <td>0</td>\n",
       "      <td>16</td>\n",
       "      <td>6.321578e-07</td>\n",
       "    </tr>\n",
       "    <tr>\n",
       "      <th>2</th>\n",
       "      <td>0</td>\n",
       "      <td>19</td>\n",
       "      <td>1.799218e-06</td>\n",
       "    </tr>\n",
       "    <tr>\n",
       "      <th>3</th>\n",
       "      <td>0</td>\n",
       "      <td>20</td>\n",
       "      <td>4.862752e-08</td>\n",
       "    </tr>\n",
       "    <tr>\n",
       "      <th>4</th>\n",
       "      <td>0</td>\n",
       "      <td>21</td>\n",
       "      <td>6.905108e-06</td>\n",
       "    </tr>\n",
       "    <tr>\n",
       "      <th>...</th>\n",
       "      <td>...</td>\n",
       "      <td>...</td>\n",
       "      <td>...</td>\n",
       "    </tr>\n",
       "    <tr>\n",
       "      <th>11315</th>\n",
       "      <td>202</td>\n",
       "      <td>90</td>\n",
       "      <td>4.719496e-05</td>\n",
       "    </tr>\n",
       "    <tr>\n",
       "      <th>11316</th>\n",
       "      <td>202</td>\n",
       "      <td>94</td>\n",
       "      <td>1.099994e-06</td>\n",
       "    </tr>\n",
       "    <tr>\n",
       "      <th>11317</th>\n",
       "      <td>202</td>\n",
       "      <td>95</td>\n",
       "      <td>1.152374e-06</td>\n",
       "    </tr>\n",
       "    <tr>\n",
       "      <th>11318</th>\n",
       "      <td>202</td>\n",
       "      <td>96</td>\n",
       "      <td>1.728561e-06</td>\n",
       "    </tr>\n",
       "    <tr>\n",
       "      <th>11319</th>\n",
       "      <td>202</td>\n",
       "      <td>97</td>\n",
       "      <td>0.000000e+00</td>\n",
       "    </tr>\n",
       "  </tbody>\n",
       "</table>\n",
       "<p>11320 rows × 3 columns</p>\n",
       "</div>"
      ],
      "text/plain": [
       "       country_id  item_id    preference\n",
       "0               0       10  4.862752e-08\n",
       "1               0       16  6.321578e-07\n",
       "2               0       19  1.799218e-06\n",
       "3               0       20  4.862752e-08\n",
       "4               0       21  6.905108e-06\n",
       "...           ...      ...           ...\n",
       "11315         202       90  4.719496e-05\n",
       "11316         202       94  1.099994e-06\n",
       "11317         202       95  1.152374e-06\n",
       "11318         202       96  1.728561e-06\n",
       "11319         202       97  0.000000e+00\n",
       "\n",
       "[11320 rows x 3 columns]"
      ]
     },
     "execution_count": 3,
     "metadata": {},
     "output_type": "execute_result"
    }
   ],
   "source": [
    "ratings = ratings_all[ratings_all['year']==2013]\n",
    "ratings = ratings[['country', '품목코드', 'preference']]\n",
    "# column명 변경\n",
    "ratings.columns=['country_id', 'item_id', 'preference']\n",
    "\n",
    "# country에 고유번호 부여하기\n",
    "country_to_idx = {v:k for k,v in enumerate(ratings['country_id'].unique())}\n",
    "idx_to_country = {v:k for k,v in country_to_idx.items()}\n",
    "\n",
    "# country_id를 고유번호로 바꾸기\n",
    "ratings['country_id'] = ratings['country_id'].map(country_to_idx)\n",
    "\n",
    "# item_id int로 바꾸기\n",
    "ratings['item_id'] = ratings['item_id'].astype(int)\n",
    "\n",
    "# 중복제거\n",
    "ratings = ratings.drop_duplicates(['country_id', 'item_id'], keep='first')\n",
    "\n",
    "# index reset\n",
    "ratings.reset_index(drop=True, inplace=True)\n",
    "ratings\n"
   ]
  },
  {
   "cell_type": "code",
   "execution_count": 4,
   "metadata": {},
   "outputs": [
    {
     "data": {
      "text/html": [
       "<div>\n",
       "<style scoped>\n",
       "    .dataframe tbody tr th:only-of-type {\n",
       "        vertical-align: middle;\n",
       "    }\n",
       "\n",
       "    .dataframe tbody tr th {\n",
       "        vertical-align: top;\n",
       "    }\n",
       "\n",
       "    .dataframe thead th {\n",
       "        text-align: right;\n",
       "    }\n",
       "</style>\n",
       "<table border=\"1\" class=\"dataframe\">\n",
       "  <thead>\n",
       "    <tr style=\"text-align: right;\">\n",
       "      <th></th>\n",
       "      <th>country_id</th>\n",
       "      <th>item_id</th>\n",
       "      <th>preference</th>\n",
       "    </tr>\n",
       "  </thead>\n",
       "  <tbody>\n",
       "    <tr>\n",
       "      <th>count</th>\n",
       "      <td>11320.000000</td>\n",
       "      <td>11320.000000</td>\n",
       "      <td>1.132000e+04</td>\n",
       "    </tr>\n",
       "    <tr>\n",
       "      <th>mean</th>\n",
       "      <td>104.469965</td>\n",
       "      <td>50.958392</td>\n",
       "      <td>2.021059e-04</td>\n",
       "    </tr>\n",
       "    <tr>\n",
       "      <th>std</th>\n",
       "      <td>57.837978</td>\n",
       "      <td>27.064881</td>\n",
       "      <td>3.011644e-03</td>\n",
       "    </tr>\n",
       "    <tr>\n",
       "      <th>min</th>\n",
       "      <td>0.000000</td>\n",
       "      <td>1.000000</td>\n",
       "      <td>0.000000e+00</td>\n",
       "    </tr>\n",
       "    <tr>\n",
       "      <th>25%</th>\n",
       "      <td>56.000000</td>\n",
       "      <td>28.000000</td>\n",
       "      <td>6.201527e-08</td>\n",
       "    </tr>\n",
       "    <tr>\n",
       "      <th>50%</th>\n",
       "      <td>103.000000</td>\n",
       "      <td>51.000000</td>\n",
       "      <td>1.746452e-06</td>\n",
       "    </tr>\n",
       "    <tr>\n",
       "      <th>75%</th>\n",
       "      <td>151.000000</td>\n",
       "      <td>73.000000</td>\n",
       "      <td>1.906240e-05</td>\n",
       "    </tr>\n",
       "    <tr>\n",
       "      <th>max</th>\n",
       "      <td>202.000000</td>\n",
       "      <td>97.000000</td>\n",
       "      <td>2.466425e-01</td>\n",
       "    </tr>\n",
       "  </tbody>\n",
       "</table>\n",
       "</div>"
      ],
      "text/plain": [
       "         country_id       item_id    preference\n",
       "count  11320.000000  11320.000000  1.132000e+04\n",
       "mean     104.469965     50.958392  2.021059e-04\n",
       "std       57.837978     27.064881  3.011644e-03\n",
       "min        0.000000      1.000000  0.000000e+00\n",
       "25%       56.000000     28.000000  6.201527e-08\n",
       "50%      103.000000     51.000000  1.746452e-06\n",
       "75%      151.000000     73.000000  1.906240e-05\n",
       "max      202.000000     97.000000  2.466425e-01"
      ]
     },
     "execution_count": 4,
     "metadata": {},
     "output_type": "execute_result"
    }
   ],
   "source": [
    "ratings.describe()"
   ]
  },
  {
   "attachments": {},
   "cell_type": "markdown",
   "metadata": {},
   "source": [
    "## UBCF_KNN 적용하기"
   ]
  },
  {
   "cell_type": "code",
   "execution_count": 5,
   "metadata": {},
   "outputs": [],
   "source": [
    "# Rating 데이터를 test, train으로 나누고 train을 full matrix로 변환\n",
    "from sklearn.model_selection import train_test_split\n",
    "x = ratings.copy()\n",
    "y = ratings['country_id']\n",
    "x_train, x_test, y_train, y_test = train_test_split(x, y, test_size=0.25, stratify=y, random_state=12)\n",
    "rating_matrix = x_train.pivot(values='preference', index='country_id', columns='item_id')\n",
    "\n",
    "# Train set의 모든 사용자 pair의 Cosine similarities 계산\n",
    "from sklearn.metrics.pairwise import cosine_similarity\n",
    "matrix_dummy = rating_matrix.copy().fillna(0)\n",
    "country_similarity = cosine_similarity(matrix_dummy, matrix_dummy)\n",
    "country_similarity = pd.DataFrame(country_similarity, index=rating_matrix.index, columns=rating_matrix.index)\n",
    "\n",
    "# RMSE 계산을 위한 함수\n",
    "def RMSE(y_true, y_pred):\n",
    "    import numpy as np\n",
    "    return np.sqrt(np.mean((np.array(y_true) - np.array(y_pred))**2))\n",
    "\n",
    "def score(model, k=10): \n",
    "    id_pairs = zip(x_test['country_id'], x_test['item_id'])\n",
    "    y_pred = np.array([model(country, item, k) for (country, item) in id_pairs])\n",
    "    y_true = np.array(x_test['preference'])\n",
    "    return RMSE(y_true, y_pred)"
   ]
  },
  {
   "cell_type": "code",
   "execution_count": 6,
   "metadata": {},
   "outputs": [],
   "source": [
    "# Neighbor size를 고려하는 추천\n",
    "def cf_knn(country_id, item_id, neighbor_size=14): # k 디폴트 값 14\n",
    "    import numpy as np\n",
    "    if item_id in rating_matrix:\n",
    "        sim_scores = country_similarity[country_id]                   # 현재 사용자와 다른 전체 사용자 간의 similarity 가져오기\n",
    "        item_ratings = rating_matrix[item_id]                         # 현재 영화에 대한 모든 사용자의 rating값 가져오기\n",
    "        none_rating_idx = item_ratings[item_ratings.isnull()].index   # 현재 영화를 평가하지 않은 사용자의 index 가져오기\n",
    "        item_ratings = item_ratings.drop(none_rating_idx)             # 현재 영화를 평가하지 않은 사용자의 rating (null) 제거\n",
    "        sim_scores = sim_scores.drop(none_rating_idx)                 # 현재 영화를 평가하지 않은 사용자의 similarity값 제거\n",
    "\n",
    "        if neighbor_size == 0:    # Neighbor size가 지정되지 않은 경우 -> KNN 사용하지 않겠다는 의미\n",
    "            # 현재 품목을 평가한 모든 국가의 가중 평균값 구하기\n",
    "            mean_rating = np.dot(sim_scores, item_ratings) / (sim_scores.sum() + 0.0001)  # rating 존재하는 모든 국가 사용(simple CF사용)\n",
    "        else:    # Neighbor size가 지정된 경우\n",
    "            # if len(sim_scores) > 1 :\n",
    "            neighbor_size = min(neighbor_size, len(sim_scores))          # 내가 지정한 K 숫자보다 품목 선호도가 있는 국가의 수가 적을 수 있음. 그럴 때, 지정된 neighbor size 값과 해당 품목 선호도가 존재하는 총국가 수 중 작은 걸 K로 결정(에러방지)\n",
    "            sim_scores = np.array(sim_scores)                            # argsort()를 사용하기 위해서 array형식으로 바꿔주기\n",
    "            item_ratings = np.array(item_ratings)\n",
    "            country_idx = np.argsort(sim_scores)                         # 다른 국가를 유사도 순서대로 정렬(오름차순)\n",
    "            sim_scores = sim_scores[country_idx][-neighbor_size:]        # 가장 유사도가 높은 k개의 국가를 선정\n",
    "            item_ratings = item_ratings[country_idx][-neighbor_size:]    # 선정된 k개 국가의 주어진 품목(item_id)에 대한 평점을 추출한다\n",
    "            # 최종 예측값 계산\n",
    "            mean_rating = np.dot(sim_scores, item_ratings) / (sim_scores.sum() + 0.0001)  # 선정된 k 국가의 해당 품목에 대한 선호도를 유사도로 가중한 평점 평균 계산\n",
    "    else:\n",
    "        mean_rating = 0.000001746452   # train-set에 현재 품목에 대한 선호도가 없는 경우, 중간값을 기본값으로 지정\n",
    "    return mean_rating"
   ]
  },
  {
   "cell_type": "code",
   "execution_count": 7,
   "metadata": {},
   "outputs": [
    {
     "data": {
      "text/plain": [
       "0.0018438090904163804"
      ]
     },
     "execution_count": 7,
     "metadata": {},
     "output_type": "execute_result"
    }
   ],
   "source": [
    "score(cf_knn, 14)"
   ]
  },
  {
   "attachments": {},
   "cell_type": "markdown",
   "metadata": {},
   "source": [
    "## ubcf_knn으로 추천해보기"
   ]
  },
  {
   "cell_type": "code",
   "execution_count": 8,
   "metadata": {},
   "outputs": [],
   "source": [
    "#### 전체 데이터 불러오기 ####\n",
    "ratings = ratings_all[ratings_all['year']==2013]\n",
    "ratings = ratings[['country', '품목코드', 'preference']]\n",
    "# column명 변경\n",
    "ratings.columns=['country_id', 'item_id', 'preference']\n",
    "\n",
    "# country에 고유번호 부여하기\n",
    "country_to_idx = {v:k for k,v in enumerate(ratings['country_id'].unique())}\n",
    "idx_to_country = {v:k for k,v in country_to_idx.items()}\n",
    "\n",
    "# country_id를 고유번호로 바꾸기\n",
    "ratings['country_id'] = ratings['country_id'].map(country_to_idx)\n",
    "\n",
    "# item_id int로 바꾸기\n",
    "ratings['item_id'] = ratings['item_id'].astype(int)\n",
    "\n",
    "# 중복제거\n",
    "ratings = ratings.drop_duplicates(['country_id', 'item_id'], keep='first')\n",
    "\n",
    "# index reset\n",
    "ratings.reset_index(drop=True, inplace=True)\n",
    "\n",
    "# 품목 이름 가져오기\n",
    "items_df = pd.read_csv('../processed/item_name-code.csv')\n",
    "items_df.columns=['title', 'item_id']\n",
    "items_df = items_df.set_index('item_id')"
   ]
  },
  {
   "cell_type": "code",
   "execution_count": 9,
   "metadata": {},
   "outputs": [],
   "source": [
    "# Cosine similarity 계산\n",
    "from sklearn.metrics.pairwise import cosine_similarity\n",
    "matrix_dummy = rating_matrix.copy().fillna(0)\n",
    "country_similarity = cosine_similarity(matrix_dummy, matrix_dummy)\n",
    "country_similarity = pd.DataFrame(country_similarity, index=rating_matrix.index, columns=rating_matrix.index)"
   ]
  },
  {
   "cell_type": "code",
   "execution_count": 10,
   "metadata": {},
   "outputs": [],
   "source": [
    "# 추천하기\n",
    "def recommender(country, n_items=5, neighbor_size=16):                              # 주어진 국가와 유사도가 제일 높은 국가 k개를 써서 예측 rating이 높은 5개만 출력하기\n",
    "    # 현재 사용자의 모든 아이템에 대한 예상 평점 계산\n",
    "    predictions = []                                                                # 예상 선호도를 저장할 리스트 만들기\n",
    "    rated_index = rating_matrix.loc[country][rating_matrix.loc[country] > 0].index  # 현재 국가에 선호도가 존재하는 품목 확인(추천에서 제외하기 위함)\n",
    "    items = rating_matrix.loc[country].drop(rated_index)                            # 이미 선호도가 있는 품목은 제거\n",
    "    for item in items.index:                                                        # 각 품목에 대한 해당 국가의 예상 선호도 계산\n",
    "        predictions.append(cf_knn(country, item, neighbor_size))                    # cf_knn함수를 호출해서 해당 국가의 현재 품목에 대한 예상 선호도를 구해서 predictions에 추가\n",
    "    recommendations = pd.Series(data=predictions, index=items.index, dtype=float)   # 예상 선호도를 series형태로 변환해서 recommendations에 저장\n",
    "    recommendations = recommendations.sort_values(ascending=False)[:n_items]        # 예상 선호도가 높은 순서로 정렬해서 주어진 아이템 수(n_items)만큼 선택\n",
    "    recommended_items = items_df.loc[recommendations.index]['title']                # 추천 품목의 title만 뽑아냄\n",
    "    return recommended_items"
   ]
  },
  {
   "cell_type": "code",
   "execution_count": 11,
   "metadata": {},
   "outputs": [
    {
     "data": {
      "text/plain": [
       "item_id\n",
       "87.0                           철도용이나 궤도용 외의 차량과 그 부분품ㆍ부속품\n",
       "72.0                                                   철강\n",
       "85.0    전기기기와 그 부분품, 녹음기ㆍ음성 재생기ㆍ텔레비전의 영상과 음성의 기록기ㆍ재생기와...\n",
       "29.0                                                유기화학품\n",
       "27.0           광물성 연료ㆍ광물유(鑛物油)와 이들의 증류물, 역청(瀝靑)물질, 광물성 왁스\n",
       "Name: title, dtype: object"
      ]
     },
     "execution_count": 11,
     "metadata": {},
     "output_type": "execute_result"
    }
   ],
   "source": [
    "recommender(1, 5, 16)"
   ]
  },
  {
   "attachments": {},
   "cell_type": "markdown",
   "metadata": {},
   "source": [
    "## Precision@K"
   ]
  },
  {
   "cell_type": "code",
   "execution_count": 26,
   "metadata": {},
   "outputs": [],
   "source": [
    "# country를 index로 바꾼 pickle 파일을 불러오기.\n",
    "with open('../processed/new_exp_3years.pkl', 'rb') as f:\n",
    "    new_exp_3years = pickle.load(f)\n"
   ]
  },
  {
   "cell_type": "code",
   "execution_count": 27,
   "metadata": {},
   "outputs": [],
   "source": [
    "# precision@k 함수로 만들기\n",
    "def precision_at_k(country, n_items, year, neighbor_size=16):\n",
    "    hit_df = ratings_all[ratings_all['year'].isin(year)]\n",
    "    hit_df = hit_df[hit_df['country']==idx_to_country[country]]\n",
    "    c_items = hit_df['품목코드'].unique().astype(int)\n",
    "    rec_items = recommender(country, n_items, neighbor_size).index.tolist()\n",
    "    hit_items = [i for i in c_items if i in rec_items]\n",
    "    precision = len(hit_items) / n_items\n",
    "    return precision\n",
    "\n",
    "# 해당 년도 모든 나라에 대해서 precision@k 계산\n",
    "def precision_at_k_all(n_items, year, neighbor_size):\n",
    "    precision = []\n",
    "    c_len = len(rating_matrix)\n",
    "    for country in range(0, c_len):\n",
    "        precision.append(precision_at_k(country, n_items, year, neighbor_size))\n",
    "    return sum(precision) / c_len"
   ]
  },
  {
   "cell_type": "code",
   "execution_count": 49,
   "metadata": {},
   "outputs": [],
   "source": [
    "# recall 함수로 만들기\n",
    "def recall_at_k(country, n_items, year, neighbor_size=16):\n",
    "    hit_df = ratings_all[ratings_all['year'].isin(year)]\n",
    "    hit_df = hit_df[hit_df['country']==idx_to_country[country]]\n",
    "    c_items = hit_df['품목코드'].unique().astype(int)\n",
    "    rec_items = recommender(country, n_items, neighbor_size).index.tolist()\n",
    "    hit_items = [i for i in c_items if i in rec_items]\n",
    "    if len(c_items) == 0:\n",
    "        recall = 0\n",
    "    else:\n",
    "        recall = len(hit_items) / len(c_items) # 전체 수출한 item 중에서 몇개를 추천했는지\n",
    "    return recall\n",
    "\n",
    "# 해당년도 모든 나라에 대해서 recall 계산\n",
    "def recall_at_k_all(n_items, year, neighbor_size):\n",
    "    recall = []\n",
    "    c_len = len(rating_matrix)\n",
    "    cnt = 0\n",
    "    for country in range(0, c_len):\n",
    "        recall.append(recall_at_k(country, n_items, year, neighbor_size))\n",
    "    return sum(recall) / c_len"
   ]
  },
  {
   "cell_type": "code",
   "execution_count": 42,
   "metadata": {},
   "outputs": [],
   "source": [
    "def f1_score_all(precision,recall):\n",
    "    return 2 * (precision * recall) / (precision + recall)"
   ]
  },
  {
   "attachments": {},
   "cell_type": "markdown",
   "metadata": {},
   "source": [
    "## 연도별로 국가별 품목 추천해서 Precision@K ,Recall@K, F1 Score 계산하기"
   ]
  },
  {
   "attachments": {},
   "cell_type": "markdown",
   "metadata": {},
   "source": [
    "### 해당년도 이후 3개년 확인"
   ]
  },
  {
   "attachments": {},
   "cell_type": "markdown",
   "metadata": {},
   "source": [
    "#### 1. 2013년"
   ]
  },
  {
   "cell_type": "code",
   "execution_count": 50,
   "metadata": {},
   "outputs": [
    {
     "data": {
      "text/plain": [
       "0.8088669950738917"
      ]
     },
     "execution_count": 50,
     "metadata": {},
     "output_type": "execute_result"
    }
   ],
   "source": [
    "year = [2014, 2015, 2016]\n",
    "precision = precision_at_k_all(5, year, 16)\n",
    "precision"
   ]
  },
  {
   "cell_type": "code",
   "execution_count": 51,
   "metadata": {},
   "outputs": [
    {
     "data": {
      "text/plain": [
       "0.07074523155186845"
      ]
     },
     "execution_count": 51,
     "metadata": {},
     "output_type": "execute_result"
    }
   ],
   "source": [
    "year = [2014, 2015, 2016]\n",
    "recall = recall_at_k_all(5, year, 16)\n",
    "recall"
   ]
  },
  {
   "cell_type": "code",
   "execution_count": 52,
   "metadata": {},
   "outputs": [
    {
     "data": {
      "text/plain": [
       "0.13011070362375216"
      ]
     },
     "execution_count": 52,
     "metadata": {},
     "output_type": "execute_result"
    }
   ],
   "source": [
    "f1_score_all(precision,recall)"
   ]
  },
  {
   "attachments": {},
   "cell_type": "markdown",
   "metadata": {},
   "source": [
    "#### 2. 2014년"
   ]
  },
  {
   "cell_type": "code",
   "execution_count": 53,
   "metadata": {},
   "outputs": [
    {
     "data": {
      "text/plain": [
       "0.8118226600985218"
      ]
     },
     "execution_count": 53,
     "metadata": {},
     "output_type": "execute_result"
    }
   ],
   "source": [
    "year = [2015, 2016, 2017]\n",
    "precision = precision_at_k_all(5, year, 16)\n",
    "precision"
   ]
  },
  {
   "cell_type": "code",
   "execution_count": 54,
   "metadata": {},
   "outputs": [
    {
     "data": {
      "text/plain": [
       "0.07071298845358308"
      ]
     },
     "execution_count": 54,
     "metadata": {},
     "output_type": "execute_result"
    }
   ],
   "source": [
    "year = [2015, 2016, 2017]\n",
    "recall = recall_at_k_all(5, year, 16)\n",
    "recall"
   ]
  },
  {
   "cell_type": "code",
   "execution_count": 55,
   "metadata": {},
   "outputs": [
    {
     "data": {
      "text/plain": [
       "0.1300942494143671"
      ]
     },
     "execution_count": 55,
     "metadata": {},
     "output_type": "execute_result"
    }
   ],
   "source": [
    "f1_score_all(precision,recall)"
   ]
  },
  {
   "attachments": {},
   "cell_type": "markdown",
   "metadata": {},
   "source": [
    "#### 3. 2015년"
   ]
  },
  {
   "cell_type": "code",
   "execution_count": 56,
   "metadata": {},
   "outputs": [
    {
     "data": {
      "text/plain": [
       "0.8177339901477831"
      ]
     },
     "execution_count": 56,
     "metadata": {},
     "output_type": "execute_result"
    }
   ],
   "source": [
    "year = [2016, 2017, 2018]\n",
    "precision = precision_at_k_all(5, year, 16)\n",
    "precision"
   ]
  },
  {
   "cell_type": "code",
   "execution_count": 57,
   "metadata": {},
   "outputs": [
    {
     "data": {
      "text/plain": [
       "0.06950503059871474"
      ]
     },
     "execution_count": 57,
     "metadata": {},
     "output_type": "execute_result"
    }
   ],
   "source": [
    "year = [2016, 2017, 2018]\n",
    "recall = recall_at_k_all(5, year, 16)\n",
    "recall"
   ]
  },
  {
   "cell_type": "code",
   "execution_count": 58,
   "metadata": {},
   "outputs": [
    {
     "data": {
      "text/plain": [
       "0.12812021265478166"
      ]
     },
     "execution_count": 58,
     "metadata": {},
     "output_type": "execute_result"
    }
   ],
   "source": [
    "f1_score_all(precision,recall)"
   ]
  },
  {
   "attachments": {},
   "cell_type": "markdown",
   "metadata": {},
   "source": [
    "#### 4. 2016년"
   ]
  },
  {
   "cell_type": "code",
   "execution_count": 59,
   "metadata": {},
   "outputs": [
    {
     "data": {
      "text/plain": [
       "0.8344827586206895"
      ]
     },
     "execution_count": 59,
     "metadata": {},
     "output_type": "execute_result"
    }
   ],
   "source": [
    "year = [2017, 2018, 2019]\n",
    "precision = precision_at_k_all(5, year, 16)\n",
    "precision"
   ]
  },
  {
   "cell_type": "code",
   "execution_count": 60,
   "metadata": {},
   "outputs": [
    {
     "data": {
      "text/plain": [
       "0.07202170912265601"
      ]
     },
     "execution_count": 60,
     "metadata": {},
     "output_type": "execute_result"
    }
   ],
   "source": [
    "year = [2017, 2018, 2019]\n",
    "recall = recall_at_k_all(5, year, 16)\n",
    "recall"
   ]
  },
  {
   "cell_type": "code",
   "execution_count": 61,
   "metadata": {},
   "outputs": [
    {
     "data": {
      "text/plain": [
       "0.13259917992211584"
      ]
     },
     "execution_count": 61,
     "metadata": {},
     "output_type": "execute_result"
    }
   ],
   "source": [
    "f1_score_all(precision,recall)"
   ]
  },
  {
   "attachments": {},
   "cell_type": "markdown",
   "metadata": {},
   "source": [
    "#### 5. 2017년"
   ]
  },
  {
   "cell_type": "code",
   "execution_count": 62,
   "metadata": {},
   "outputs": [
    {
     "data": {
      "text/plain": [
       "0.8413793103448273"
      ]
     },
     "execution_count": 62,
     "metadata": {},
     "output_type": "execute_result"
    }
   ],
   "source": [
    "year = [2018, 2019, 2020]\n",
    "precision =precision_at_k_all(5, year, 16)\n",
    "precision"
   ]
  },
  {
   "cell_type": "code",
   "execution_count": 63,
   "metadata": {},
   "outputs": [
    {
     "data": {
      "text/plain": [
       "0.07304760652030115"
      ]
     },
     "execution_count": 63,
     "metadata": {},
     "output_type": "execute_result"
    }
   ],
   "source": [
    "year = [2018, 2019, 2020]\n",
    "recall = recall_at_k_all(5, year, 16)\n",
    "recall"
   ]
  },
  {
   "cell_type": "code",
   "execution_count": 64,
   "metadata": {},
   "outputs": [
    {
     "data": {
      "text/plain": [
       "0.13442461866081817"
      ]
     },
     "execution_count": 64,
     "metadata": {},
     "output_type": "execute_result"
    }
   ],
   "source": [
    "f1_score_all(precision,recall)"
   ]
  },
  {
   "attachments": {},
   "cell_type": "markdown",
   "metadata": {},
   "source": [
    "#### 6. 2018년"
   ]
  },
  {
   "cell_type": "code",
   "execution_count": 65,
   "metadata": {},
   "outputs": [
    {
     "data": {
      "text/plain": [
       "0.8354679802955663"
      ]
     },
     "execution_count": 65,
     "metadata": {},
     "output_type": "execute_result"
    }
   ],
   "source": [
    "year = [2019, 2020, 2021]\n",
    "precision = precision_at_k_all(5, year, 16)\n",
    "precision"
   ]
  },
  {
   "cell_type": "code",
   "execution_count": 66,
   "metadata": {},
   "outputs": [
    {
     "data": {
      "text/plain": [
       "0.07199723201864201"
      ]
     },
     "execution_count": 66,
     "metadata": {},
     "output_type": "execute_result"
    }
   ],
   "source": [
    "year = [2019, 2020, 2021]\n",
    "recall = recall_at_k_all(5, year, 16)\n",
    "recall"
   ]
  },
  {
   "cell_type": "code",
   "execution_count": 67,
   "metadata": {},
   "outputs": [
    {
     "data": {
      "text/plain": [
       "0.1325701111298552"
      ]
     },
     "execution_count": 67,
     "metadata": {},
     "output_type": "execute_result"
    }
   ],
   "source": [
    "f1_score_all(precision,recall)"
   ]
  }
 ],
 "metadata": {
  "kernelspec": {
   "display_name": "seongju",
   "language": "python",
   "name": "python3"
  },
  "language_info": {
   "codemirror_mode": {
    "name": "ipython",
    "version": 3
   },
   "file_extension": ".py",
   "mimetype": "text/x-python",
   "name": "python",
   "nbconvert_exporter": "python",
   "pygments_lexer": "ipython3",
   "version": "3.9.16"
  },
  "orig_nbformat": 4
 },
 "nbformat": 4,
 "nbformat_minor": 2
}
