{
  "cells": [
    {
      "cell_type": "code",
      "execution_count": 1,
      "id": "3fa3ec97-3f6e-45a8-8cfb-0b51bd1aa4cc",
      "metadata": {
        "id": "3fa3ec97-3f6e-45a8-8cfb-0b51bd1aa4cc"
      },
      "outputs": [],
      "source": [
        "import pandas as pd\n",
        "import numpy as np"
      ]
    },
    {
      "cell_type": "code",
      "source": [
        "from sklearn.model_selection import cross_val_score\n",
        "import pandas as pd\n",
        "import numpy as np\n",
        "from sklearn.model_selection import GridSearchCV\n",
        "from sklearn.metrics import mean_squared_error\n",
        "import math"
      ],
      "metadata": {
        "id": "duTqn7YmwlH4"
      },
      "id": "duTqn7YmwlH4",
      "execution_count": 2,
      "outputs": []
    },
    {
      "cell_type": "markdown",
      "id": "a22e04d4-8bef-4a42-a469-674c68ab7a94",
      "metadata": {
        "id": "a22e04d4-8bef-4a42-a469-674c68ab7a94"
      },
      "source": [
        "# 데이터 불러오기"
      ]
    },
    {
      "cell_type": "code",
      "source": [
        "from google.colab import drive\n",
        "drive.mount('/content/drive')"
      ],
      "metadata": {
        "colab": {
          "base_uri": "https://localhost:8080/"
        },
        "id": "05YqHEzjwufB",
        "outputId": "5478e559-0fca-4e07-cf23-7322aedfcb2a"
      },
      "id": "05YqHEzjwufB",
      "execution_count": 3,
      "outputs": [
        {
          "output_type": "stream",
          "name": "stdout",
          "text": [
            "Drive already mounted at /content/drive; to attempt to forcibly remount, call drive.mount(\"/content/drive\", force_remount=True).\n"
          ]
        }
      ]
    },
    {
      "cell_type": "code",
      "execution_count": 76,
      "id": "c9b646b5-838e-499b-9c6d-8204dc1f572b",
      "metadata": {
        "colab": {
          "base_uri": "https://localhost:8080/",
          "height": 455
        },
        "id": "c9b646b5-838e-499b-9c6d-8204dc1f572b",
        "outputId": "b5912998-b0ff-46bf-c1f5-77f7f239cbdc"
      },
      "outputs": [
        {
          "output_type": "execute_result",
          "data": {
            "text/plain": [
              "                        swl    inf     sfw   ecpc  tototf  tide_level  \\\n",
              "ymdhm                                                                   \n",
              "2012-05-01 00:00:00  24.800  555.0  219.07  24.93   555.0       445.0   \n",
              "2012-05-01 00:10:00  24.794  464.6  218.86  25.15   562.9       449.0   \n",
              "2012-05-01 00:20:00  24.789  478.1  218.69  25.31   576.4       451.0   \n",
              "2012-05-01 00:30:00  24.789  464.8  218.69  25.31   563.1       452.0   \n",
              "2012-05-01 00:40:00  24.789  478.1  218.69  25.31   576.4       450.0   \n",
              "\n",
              "                     wl_1018662  fw_1018662  wl_1018680  fw_1018680  \\\n",
              "ymdhm                                                                 \n",
              "2012-05-01 00:00:00       310.7      469.05       300.2         0.0   \n",
              "2012-05-01 00:10:00       314.7      498.00       300.2         0.0   \n",
              "2012-05-01 00:20:00       313.7      490.68       301.2         0.0   \n",
              "2012-05-01 00:30:00       311.7      476.21       301.2         0.0   \n",
              "2012-05-01 00:40:00       311.7      476.21       301.2         0.0   \n",
              "\n",
              "                     wl_1018683  fw_1018683  wl_1019630  fw_1019630  \\\n",
              "ymdhm                                                                 \n",
              "2012-05-01 00:00:00       290.0      729.80       275.3      540.18   \n",
              "2012-05-01 00:10:00       290.0      731.48       275.3      540.18   \n",
              "2012-05-01 00:20:00       290.0      726.42       275.3      540.18   \n",
              "2012-05-01 00:30:00       290.0      726.42       276.3      552.17   \n",
              "2012-05-01 00:40:00       291.0      707.17       277.3      564.29   \n",
              "\n",
              "                     rf_10184100  rf_10184110  rf_10184140  \n",
              "ymdhm                                                       \n",
              "2012-05-01 00:00:00          0.0          0.0          0.0  \n",
              "2012-05-01 00:10:00          0.0          0.0          0.0  \n",
              "2012-05-01 00:20:00          0.0          0.0          0.0  \n",
              "2012-05-01 00:30:00          0.0          0.0          0.0  \n",
              "2012-05-01 00:40:00          0.0          0.0          0.0  "
            ],
            "text/html": [
              "\n",
              "  <div id=\"df-c3685628-1b9a-4ed5-8a63-e0bc6c55d189\">\n",
              "    <div class=\"colab-df-container\">\n",
              "      <div>\n",
              "<style scoped>\n",
              "    .dataframe tbody tr th:only-of-type {\n",
              "        vertical-align: middle;\n",
              "    }\n",
              "\n",
              "    .dataframe tbody tr th {\n",
              "        vertical-align: top;\n",
              "    }\n",
              "\n",
              "    .dataframe thead th {\n",
              "        text-align: right;\n",
              "    }\n",
              "</style>\n",
              "<table border=\"1\" class=\"dataframe\">\n",
              "  <thead>\n",
              "    <tr style=\"text-align: right;\">\n",
              "      <th></th>\n",
              "      <th>swl</th>\n",
              "      <th>inf</th>\n",
              "      <th>sfw</th>\n",
              "      <th>ecpc</th>\n",
              "      <th>tototf</th>\n",
              "      <th>tide_level</th>\n",
              "      <th>wl_1018662</th>\n",
              "      <th>fw_1018662</th>\n",
              "      <th>wl_1018680</th>\n",
              "      <th>fw_1018680</th>\n",
              "      <th>wl_1018683</th>\n",
              "      <th>fw_1018683</th>\n",
              "      <th>wl_1019630</th>\n",
              "      <th>fw_1019630</th>\n",
              "      <th>rf_10184100</th>\n",
              "      <th>rf_10184110</th>\n",
              "      <th>rf_10184140</th>\n",
              "    </tr>\n",
              "    <tr>\n",
              "      <th>ymdhm</th>\n",
              "      <th></th>\n",
              "      <th></th>\n",
              "      <th></th>\n",
              "      <th></th>\n",
              "      <th></th>\n",
              "      <th></th>\n",
              "      <th></th>\n",
              "      <th></th>\n",
              "      <th></th>\n",
              "      <th></th>\n",
              "      <th></th>\n",
              "      <th></th>\n",
              "      <th></th>\n",
              "      <th></th>\n",
              "      <th></th>\n",
              "      <th></th>\n",
              "      <th></th>\n",
              "    </tr>\n",
              "  </thead>\n",
              "  <tbody>\n",
              "    <tr>\n",
              "      <th>2012-05-01 00:00:00</th>\n",
              "      <td>24.800</td>\n",
              "      <td>555.0</td>\n",
              "      <td>219.07</td>\n",
              "      <td>24.93</td>\n",
              "      <td>555.0</td>\n",
              "      <td>445.0</td>\n",
              "      <td>310.7</td>\n",
              "      <td>469.05</td>\n",
              "      <td>300.2</td>\n",
              "      <td>0.0</td>\n",
              "      <td>290.0</td>\n",
              "      <td>729.80</td>\n",
              "      <td>275.3</td>\n",
              "      <td>540.18</td>\n",
              "      <td>0.0</td>\n",
              "      <td>0.0</td>\n",
              "      <td>0.0</td>\n",
              "    </tr>\n",
              "    <tr>\n",
              "      <th>2012-05-01 00:10:00</th>\n",
              "      <td>24.794</td>\n",
              "      <td>464.6</td>\n",
              "      <td>218.86</td>\n",
              "      <td>25.15</td>\n",
              "      <td>562.9</td>\n",
              "      <td>449.0</td>\n",
              "      <td>314.7</td>\n",
              "      <td>498.00</td>\n",
              "      <td>300.2</td>\n",
              "      <td>0.0</td>\n",
              "      <td>290.0</td>\n",
              "      <td>731.48</td>\n",
              "      <td>275.3</td>\n",
              "      <td>540.18</td>\n",
              "      <td>0.0</td>\n",
              "      <td>0.0</td>\n",
              "      <td>0.0</td>\n",
              "    </tr>\n",
              "    <tr>\n",
              "      <th>2012-05-01 00:20:00</th>\n",
              "      <td>24.789</td>\n",
              "      <td>478.1</td>\n",
              "      <td>218.69</td>\n",
              "      <td>25.31</td>\n",
              "      <td>576.4</td>\n",
              "      <td>451.0</td>\n",
              "      <td>313.7</td>\n",
              "      <td>490.68</td>\n",
              "      <td>301.2</td>\n",
              "      <td>0.0</td>\n",
              "      <td>290.0</td>\n",
              "      <td>726.42</td>\n",
              "      <td>275.3</td>\n",
              "      <td>540.18</td>\n",
              "      <td>0.0</td>\n",
              "      <td>0.0</td>\n",
              "      <td>0.0</td>\n",
              "    </tr>\n",
              "    <tr>\n",
              "      <th>2012-05-01 00:30:00</th>\n",
              "      <td>24.789</td>\n",
              "      <td>464.8</td>\n",
              "      <td>218.69</td>\n",
              "      <td>25.31</td>\n",
              "      <td>563.1</td>\n",
              "      <td>452.0</td>\n",
              "      <td>311.7</td>\n",
              "      <td>476.21</td>\n",
              "      <td>301.2</td>\n",
              "      <td>0.0</td>\n",
              "      <td>290.0</td>\n",
              "      <td>726.42</td>\n",
              "      <td>276.3</td>\n",
              "      <td>552.17</td>\n",
              "      <td>0.0</td>\n",
              "      <td>0.0</td>\n",
              "      <td>0.0</td>\n",
              "    </tr>\n",
              "    <tr>\n",
              "      <th>2012-05-01 00:40:00</th>\n",
              "      <td>24.789</td>\n",
              "      <td>478.1</td>\n",
              "      <td>218.69</td>\n",
              "      <td>25.31</td>\n",
              "      <td>576.4</td>\n",
              "      <td>450.0</td>\n",
              "      <td>311.7</td>\n",
              "      <td>476.21</td>\n",
              "      <td>301.2</td>\n",
              "      <td>0.0</td>\n",
              "      <td>291.0</td>\n",
              "      <td>707.17</td>\n",
              "      <td>277.3</td>\n",
              "      <td>564.29</td>\n",
              "      <td>0.0</td>\n",
              "      <td>0.0</td>\n",
              "      <td>0.0</td>\n",
              "    </tr>\n",
              "  </tbody>\n",
              "</table>\n",
              "</div>\n",
              "      <button class=\"colab-df-convert\" onclick=\"convertToInteractive('df-c3685628-1b9a-4ed5-8a63-e0bc6c55d189')\"\n",
              "              title=\"Convert this dataframe to an interactive table.\"\n",
              "              style=\"display:none;\">\n",
              "        \n",
              "  <svg xmlns=\"http://www.w3.org/2000/svg\" height=\"24px\"viewBox=\"0 0 24 24\"\n",
              "       width=\"24px\">\n",
              "    <path d=\"M0 0h24v24H0V0z\" fill=\"none\"/>\n",
              "    <path d=\"M18.56 5.44l.94 2.06.94-2.06 2.06-.94-2.06-.94-.94-2.06-.94 2.06-2.06.94zm-11 1L8.5 8.5l.94-2.06 2.06-.94-2.06-.94L8.5 2.5l-.94 2.06-2.06.94zm10 10l.94 2.06.94-2.06 2.06-.94-2.06-.94-.94-2.06-.94 2.06-2.06.94z\"/><path d=\"M17.41 7.96l-1.37-1.37c-.4-.4-.92-.59-1.43-.59-.52 0-1.04.2-1.43.59L10.3 9.45l-7.72 7.72c-.78.78-.78 2.05 0 2.83L4 21.41c.39.39.9.59 1.41.59.51 0 1.02-.2 1.41-.59l7.78-7.78 2.81-2.81c.8-.78.8-2.07 0-2.86zM5.41 20L4 18.59l7.72-7.72 1.47 1.35L5.41 20z\"/>\n",
              "  </svg>\n",
              "      </button>\n",
              "      \n",
              "  <style>\n",
              "    .colab-df-container {\n",
              "      display:flex;\n",
              "      flex-wrap:wrap;\n",
              "      gap: 12px;\n",
              "    }\n",
              "\n",
              "    .colab-df-convert {\n",
              "      background-color: #E8F0FE;\n",
              "      border: none;\n",
              "      border-radius: 50%;\n",
              "      cursor: pointer;\n",
              "      display: none;\n",
              "      fill: #1967D2;\n",
              "      height: 32px;\n",
              "      padding: 0 0 0 0;\n",
              "      width: 32px;\n",
              "    }\n",
              "\n",
              "    .colab-df-convert:hover {\n",
              "      background-color: #E2EBFA;\n",
              "      box-shadow: 0px 1px 2px rgba(60, 64, 67, 0.3), 0px 1px 3px 1px rgba(60, 64, 67, 0.15);\n",
              "      fill: #174EA6;\n",
              "    }\n",
              "\n",
              "    [theme=dark] .colab-df-convert {\n",
              "      background-color: #3B4455;\n",
              "      fill: #D2E3FC;\n",
              "    }\n",
              "\n",
              "    [theme=dark] .colab-df-convert:hover {\n",
              "      background-color: #434B5C;\n",
              "      box-shadow: 0px 1px 3px 1px rgba(0, 0, 0, 0.15);\n",
              "      filter: drop-shadow(0px 1px 2px rgba(0, 0, 0, 0.3));\n",
              "      fill: #FFFFFF;\n",
              "    }\n",
              "  </style>\n",
              "\n",
              "      <script>\n",
              "        const buttonEl =\n",
              "          document.querySelector('#df-c3685628-1b9a-4ed5-8a63-e0bc6c55d189 button.colab-df-convert');\n",
              "        buttonEl.style.display =\n",
              "          google.colab.kernel.accessAllowed ? 'block' : 'none';\n",
              "\n",
              "        async function convertToInteractive(key) {\n",
              "          const element = document.querySelector('#df-c3685628-1b9a-4ed5-8a63-e0bc6c55d189');\n",
              "          const dataTable =\n",
              "            await google.colab.kernel.invokeFunction('convertToInteractive',\n",
              "                                                     [key], {});\n",
              "          if (!dataTable) return;\n",
              "\n",
              "          const docLinkHtml = 'Like what you see? Visit the ' +\n",
              "            '<a target=\"_blank\" href=https://colab.research.google.com/notebooks/data_table.ipynb>data table notebook</a>'\n",
              "            + ' to learn more about interactive tables.';\n",
              "          element.innerHTML = '';\n",
              "          dataTable['output_type'] = 'display_data';\n",
              "          await google.colab.output.renderOutput(dataTable, element);\n",
              "          const docLink = document.createElement('div');\n",
              "          docLink.innerHTML = docLinkHtml;\n",
              "          element.appendChild(docLink);\n",
              "        }\n",
              "      </script>\n",
              "    </div>\n",
              "  </div>\n",
              "  "
            ]
          },
          "metadata": {},
          "execution_count": 76
        }
      ],
      "source": [
        "filename = '/content/drive/Shareddrives/팔당댐/combined_data/combined_train_test_filled_cleansed.csv'\n",
        "df = pd.read_csv(filename, index_col='ymdhm', parse_dates=['ymdhm'])\n",
        "df.head()"
      ]
    },
    {
      "cell_type": "code",
      "source": [
        "df.describe()"
      ],
      "metadata": {
        "colab": {
          "base_uri": "https://localhost:8080/",
          "height": 364
        },
        "id": "jXhH9k_QCD4d",
        "outputId": "ea8fb9fd-a844-4e78-b285-74dedbe4787e"
      },
      "id": "jXhH9k_QCD4d",
      "execution_count": 5,
      "outputs": [
        {
          "output_type": "execute_result",
          "data": {
            "text/plain": [
              "                 swl            inf            sfw           ecpc  \\\n",
              "count  276336.000000  276336.000000  276336.000000  276336.000000   \n",
              "mean       25.079251     548.548083     219.425047      24.575537   \n",
              "std         0.146126    1110.978412       9.912109       9.911699   \n",
              "min        23.993000    -807.500000     176.380000       2.150000   \n",
              "25%        24.980000     127.417500     211.770000      14.670000   \n",
              "50%        25.100000     249.570000     217.630000      26.370000   \n",
              "75%        25.190000     530.000000     229.330000      32.230000   \n",
              "max        25.449000   25991.500000     241.850000      67.620000   \n",
              "\n",
              "              tototf     tide_level     wl_1018662     fw_1018662  \\\n",
              "count  276336.000000  276336.000000  276336.000000  276336.000000   \n",
              "mean      542.036770     345.631700     329.232797     746.826551   \n",
              "std      1104.317791     174.250734      76.559900    1077.388189   \n",
              "min      -222.000000      39.000000     259.700000     243.290000   \n",
              "25%       132.000000     192.000000     287.700000     319.840000   \n",
              "50%       174.980000     324.000000     307.000000     441.000000   \n",
              "75%       505.000000     487.000000     342.700000     725.690000   \n",
              "max     25791.500000     842.000000    1287.700000    9405.640000   \n",
              "\n",
              "          wl_1018680  fw_1018680     wl_1018683     fw_1018683     wl_1019630  \\\n",
              "count  276336.000000    276336.0  276336.000000  276336.000000  276336.000000   \n",
              "mean      316.071760         0.0     312.590404     600.970021     299.979812   \n",
              "std        67.495669         0.0      63.883452    1376.848129      51.442783   \n",
              "min       246.200000         0.0     247.000000   -3522.710000     241.300000   \n",
              "25%       278.200000         0.0     275.000000     205.082500     267.300000   \n",
              "50%       297.200000         0.0     295.000000     355.980000     286.300000   \n",
              "75%       330.200000         0.0     328.000000     709.710000     316.300000   \n",
              "max      1146.200000         0.0    1080.000000   25289.170000     843.300000   \n",
              "\n",
              "          fw_1019630    rf_10184100    rf_10184110    rf_10184140  \n",
              "count  276336.000000  276336.000000  276336.000000  276336.000000  \n",
              "mean     1056.807758       0.034074       0.038265       0.035985  \n",
              "std      1428.279212       0.338607       0.370553       0.360769  \n",
              "min       212.040000       0.000000       0.000000       0.000000  \n",
              "25%       449.120000       0.000000       0.000000       0.000000  \n",
              "50%       679.420000       0.000000       0.000000       0.000000  \n",
              "75%      1142.220000       0.000000       0.000000       0.000000  \n",
              "max     29854.120000      24.000000      21.000000      24.000000  "
            ],
            "text/html": [
              "\n",
              "  <div id=\"df-f8743936-6cda-498b-bc91-95b8a3585569\">\n",
              "    <div class=\"colab-df-container\">\n",
              "      <div>\n",
              "<style scoped>\n",
              "    .dataframe tbody tr th:only-of-type {\n",
              "        vertical-align: middle;\n",
              "    }\n",
              "\n",
              "    .dataframe tbody tr th {\n",
              "        vertical-align: top;\n",
              "    }\n",
              "\n",
              "    .dataframe thead th {\n",
              "        text-align: right;\n",
              "    }\n",
              "</style>\n",
              "<table border=\"1\" class=\"dataframe\">\n",
              "  <thead>\n",
              "    <tr style=\"text-align: right;\">\n",
              "      <th></th>\n",
              "      <th>swl</th>\n",
              "      <th>inf</th>\n",
              "      <th>sfw</th>\n",
              "      <th>ecpc</th>\n",
              "      <th>tototf</th>\n",
              "      <th>tide_level</th>\n",
              "      <th>wl_1018662</th>\n",
              "      <th>fw_1018662</th>\n",
              "      <th>wl_1018680</th>\n",
              "      <th>fw_1018680</th>\n",
              "      <th>wl_1018683</th>\n",
              "      <th>fw_1018683</th>\n",
              "      <th>wl_1019630</th>\n",
              "      <th>fw_1019630</th>\n",
              "      <th>rf_10184100</th>\n",
              "      <th>rf_10184110</th>\n",
              "      <th>rf_10184140</th>\n",
              "    </tr>\n",
              "  </thead>\n",
              "  <tbody>\n",
              "    <tr>\n",
              "      <th>count</th>\n",
              "      <td>276336.000000</td>\n",
              "      <td>276336.000000</td>\n",
              "      <td>276336.000000</td>\n",
              "      <td>276336.000000</td>\n",
              "      <td>276336.000000</td>\n",
              "      <td>276336.000000</td>\n",
              "      <td>276336.000000</td>\n",
              "      <td>276336.000000</td>\n",
              "      <td>276336.000000</td>\n",
              "      <td>276336.0</td>\n",
              "      <td>276336.000000</td>\n",
              "      <td>276336.000000</td>\n",
              "      <td>276336.000000</td>\n",
              "      <td>276336.000000</td>\n",
              "      <td>276336.000000</td>\n",
              "      <td>276336.000000</td>\n",
              "      <td>276336.000000</td>\n",
              "    </tr>\n",
              "    <tr>\n",
              "      <th>mean</th>\n",
              "      <td>25.079251</td>\n",
              "      <td>548.548083</td>\n",
              "      <td>219.425047</td>\n",
              "      <td>24.575537</td>\n",
              "      <td>542.036770</td>\n",
              "      <td>345.631700</td>\n",
              "      <td>329.232797</td>\n",
              "      <td>746.826551</td>\n",
              "      <td>316.071760</td>\n",
              "      <td>0.0</td>\n",
              "      <td>312.590404</td>\n",
              "      <td>600.970021</td>\n",
              "      <td>299.979812</td>\n",
              "      <td>1056.807758</td>\n",
              "      <td>0.034074</td>\n",
              "      <td>0.038265</td>\n",
              "      <td>0.035985</td>\n",
              "    </tr>\n",
              "    <tr>\n",
              "      <th>std</th>\n",
              "      <td>0.146126</td>\n",
              "      <td>1110.978412</td>\n",
              "      <td>9.912109</td>\n",
              "      <td>9.911699</td>\n",
              "      <td>1104.317791</td>\n",
              "      <td>174.250734</td>\n",
              "      <td>76.559900</td>\n",
              "      <td>1077.388189</td>\n",
              "      <td>67.495669</td>\n",
              "      <td>0.0</td>\n",
              "      <td>63.883452</td>\n",
              "      <td>1376.848129</td>\n",
              "      <td>51.442783</td>\n",
              "      <td>1428.279212</td>\n",
              "      <td>0.338607</td>\n",
              "      <td>0.370553</td>\n",
              "      <td>0.360769</td>\n",
              "    </tr>\n",
              "    <tr>\n",
              "      <th>min</th>\n",
              "      <td>23.993000</td>\n",
              "      <td>-807.500000</td>\n",
              "      <td>176.380000</td>\n",
              "      <td>2.150000</td>\n",
              "      <td>-222.000000</td>\n",
              "      <td>39.000000</td>\n",
              "      <td>259.700000</td>\n",
              "      <td>243.290000</td>\n",
              "      <td>246.200000</td>\n",
              "      <td>0.0</td>\n",
              "      <td>247.000000</td>\n",
              "      <td>-3522.710000</td>\n",
              "      <td>241.300000</td>\n",
              "      <td>212.040000</td>\n",
              "      <td>0.000000</td>\n",
              "      <td>0.000000</td>\n",
              "      <td>0.000000</td>\n",
              "    </tr>\n",
              "    <tr>\n",
              "      <th>25%</th>\n",
              "      <td>24.980000</td>\n",
              "      <td>127.417500</td>\n",
              "      <td>211.770000</td>\n",
              "      <td>14.670000</td>\n",
              "      <td>132.000000</td>\n",
              "      <td>192.000000</td>\n",
              "      <td>287.700000</td>\n",
              "      <td>319.840000</td>\n",
              "      <td>278.200000</td>\n",
              "      <td>0.0</td>\n",
              "      <td>275.000000</td>\n",
              "      <td>205.082500</td>\n",
              "      <td>267.300000</td>\n",
              "      <td>449.120000</td>\n",
              "      <td>0.000000</td>\n",
              "      <td>0.000000</td>\n",
              "      <td>0.000000</td>\n",
              "    </tr>\n",
              "    <tr>\n",
              "      <th>50%</th>\n",
              "      <td>25.100000</td>\n",
              "      <td>249.570000</td>\n",
              "      <td>217.630000</td>\n",
              "      <td>26.370000</td>\n",
              "      <td>174.980000</td>\n",
              "      <td>324.000000</td>\n",
              "      <td>307.000000</td>\n",
              "      <td>441.000000</td>\n",
              "      <td>297.200000</td>\n",
              "      <td>0.0</td>\n",
              "      <td>295.000000</td>\n",
              "      <td>355.980000</td>\n",
              "      <td>286.300000</td>\n",
              "      <td>679.420000</td>\n",
              "      <td>0.000000</td>\n",
              "      <td>0.000000</td>\n",
              "      <td>0.000000</td>\n",
              "    </tr>\n",
              "    <tr>\n",
              "      <th>75%</th>\n",
              "      <td>25.190000</td>\n",
              "      <td>530.000000</td>\n",
              "      <td>229.330000</td>\n",
              "      <td>32.230000</td>\n",
              "      <td>505.000000</td>\n",
              "      <td>487.000000</td>\n",
              "      <td>342.700000</td>\n",
              "      <td>725.690000</td>\n",
              "      <td>330.200000</td>\n",
              "      <td>0.0</td>\n",
              "      <td>328.000000</td>\n",
              "      <td>709.710000</td>\n",
              "      <td>316.300000</td>\n",
              "      <td>1142.220000</td>\n",
              "      <td>0.000000</td>\n",
              "      <td>0.000000</td>\n",
              "      <td>0.000000</td>\n",
              "    </tr>\n",
              "    <tr>\n",
              "      <th>max</th>\n",
              "      <td>25.449000</td>\n",
              "      <td>25991.500000</td>\n",
              "      <td>241.850000</td>\n",
              "      <td>67.620000</td>\n",
              "      <td>25791.500000</td>\n",
              "      <td>842.000000</td>\n",
              "      <td>1287.700000</td>\n",
              "      <td>9405.640000</td>\n",
              "      <td>1146.200000</td>\n",
              "      <td>0.0</td>\n",
              "      <td>1080.000000</td>\n",
              "      <td>25289.170000</td>\n",
              "      <td>843.300000</td>\n",
              "      <td>29854.120000</td>\n",
              "      <td>24.000000</td>\n",
              "      <td>21.000000</td>\n",
              "      <td>24.000000</td>\n",
              "    </tr>\n",
              "  </tbody>\n",
              "</table>\n",
              "</div>\n",
              "      <button class=\"colab-df-convert\" onclick=\"convertToInteractive('df-f8743936-6cda-498b-bc91-95b8a3585569')\"\n",
              "              title=\"Convert this dataframe to an interactive table.\"\n",
              "              style=\"display:none;\">\n",
              "        \n",
              "  <svg xmlns=\"http://www.w3.org/2000/svg\" height=\"24px\"viewBox=\"0 0 24 24\"\n",
              "       width=\"24px\">\n",
              "    <path d=\"M0 0h24v24H0V0z\" fill=\"none\"/>\n",
              "    <path d=\"M18.56 5.44l.94 2.06.94-2.06 2.06-.94-2.06-.94-.94-2.06-.94 2.06-2.06.94zm-11 1L8.5 8.5l.94-2.06 2.06-.94-2.06-.94L8.5 2.5l-.94 2.06-2.06.94zm10 10l.94 2.06.94-2.06 2.06-.94-2.06-.94-.94-2.06-.94 2.06-2.06.94z\"/><path d=\"M17.41 7.96l-1.37-1.37c-.4-.4-.92-.59-1.43-.59-.52 0-1.04.2-1.43.59L10.3 9.45l-7.72 7.72c-.78.78-.78 2.05 0 2.83L4 21.41c.39.39.9.59 1.41.59.51 0 1.02-.2 1.41-.59l7.78-7.78 2.81-2.81c.8-.78.8-2.07 0-2.86zM5.41 20L4 18.59l7.72-7.72 1.47 1.35L5.41 20z\"/>\n",
              "  </svg>\n",
              "      </button>\n",
              "      \n",
              "  <style>\n",
              "    .colab-df-container {\n",
              "      display:flex;\n",
              "      flex-wrap:wrap;\n",
              "      gap: 12px;\n",
              "    }\n",
              "\n",
              "    .colab-df-convert {\n",
              "      background-color: #E8F0FE;\n",
              "      border: none;\n",
              "      border-radius: 50%;\n",
              "      cursor: pointer;\n",
              "      display: none;\n",
              "      fill: #1967D2;\n",
              "      height: 32px;\n",
              "      padding: 0 0 0 0;\n",
              "      width: 32px;\n",
              "    }\n",
              "\n",
              "    .colab-df-convert:hover {\n",
              "      background-color: #E2EBFA;\n",
              "      box-shadow: 0px 1px 2px rgba(60, 64, 67, 0.3), 0px 1px 3px 1px rgba(60, 64, 67, 0.15);\n",
              "      fill: #174EA6;\n",
              "    }\n",
              "\n",
              "    [theme=dark] .colab-df-convert {\n",
              "      background-color: #3B4455;\n",
              "      fill: #D2E3FC;\n",
              "    }\n",
              "\n",
              "    [theme=dark] .colab-df-convert:hover {\n",
              "      background-color: #434B5C;\n",
              "      box-shadow: 0px 1px 3px 1px rgba(0, 0, 0, 0.15);\n",
              "      filter: drop-shadow(0px 1px 2px rgba(0, 0, 0, 0.3));\n",
              "      fill: #FFFFFF;\n",
              "    }\n",
              "  </style>\n",
              "\n",
              "      <script>\n",
              "        const buttonEl =\n",
              "          document.querySelector('#df-f8743936-6cda-498b-bc91-95b8a3585569 button.colab-df-convert');\n",
              "        buttonEl.style.display =\n",
              "          google.colab.kernel.accessAllowed ? 'block' : 'none';\n",
              "\n",
              "        async function convertToInteractive(key) {\n",
              "          const element = document.querySelector('#df-f8743936-6cda-498b-bc91-95b8a3585569');\n",
              "          const dataTable =\n",
              "            await google.colab.kernel.invokeFunction('convertToInteractive',\n",
              "                                                     [key], {});\n",
              "          if (!dataTable) return;\n",
              "\n",
              "          const docLinkHtml = 'Like what you see? Visit the ' +\n",
              "            '<a target=\"_blank\" href=https://colab.research.google.com/notebooks/data_table.ipynb>data table notebook</a>'\n",
              "            + ' to learn more about interactive tables.';\n",
              "          element.innerHTML = '';\n",
              "          dataTable['output_type'] = 'display_data';\n",
              "          await google.colab.output.renderOutput(dataTable, element);\n",
              "          const docLink = document.createElement('div');\n",
              "          docLink.innerHTML = docLinkHtml;\n",
              "          element.appendChild(docLink);\n",
              "        }\n",
              "      </script>\n",
              "    </div>\n",
              "  </div>\n",
              "  "
            ]
          },
          "metadata": {},
          "execution_count": 5
        }
      ]
    },
    {
      "cell_type": "code",
      "source": [
        "df.info()"
      ],
      "metadata": {
        "colab": {
          "base_uri": "https://localhost:8080/"
        },
        "id": "8mhQPM-CCE8F",
        "outputId": "d23877ca-e77b-495b-b759-b9b9307d8069"
      },
      "id": "8mhQPM-CCE8F",
      "execution_count": 6,
      "outputs": [
        {
          "output_type": "stream",
          "name": "stdout",
          "text": [
            "<class 'pandas.core.frame.DataFrame'>\n",
            "DatetimeIndex: 276336 entries, 2012-05-01 00:00:00 to 2022-07-18 23:50:00\n",
            "Data columns (total 17 columns):\n",
            " #   Column       Non-Null Count   Dtype  \n",
            "---  ------       --------------   -----  \n",
            " 0   swl          276336 non-null  float64\n",
            " 1   inf          276336 non-null  float64\n",
            " 2   sfw          276336 non-null  float64\n",
            " 3   ecpc         276336 non-null  float64\n",
            " 4   tototf       276336 non-null  float64\n",
            " 5   tide_level   276336 non-null  float64\n",
            " 6   wl_1018662   276336 non-null  float64\n",
            " 7   fw_1018662   276336 non-null  float64\n",
            " 8   wl_1018680   276336 non-null  float64\n",
            " 9   fw_1018680   276336 non-null  float64\n",
            " 10  wl_1018683   276336 non-null  float64\n",
            " 11  fw_1018683   276336 non-null  float64\n",
            " 12  wl_1019630   276336 non-null  float64\n",
            " 13  fw_1019630   276336 non-null  float64\n",
            " 14  rf_10184100  276336 non-null  float64\n",
            " 15  rf_10184110  276336 non-null  float64\n",
            " 16  rf_10184140  276336 non-null  float64\n",
            "dtypes: float64(17)\n",
            "memory usage: 37.9 MB\n"
          ]
        }
      ]
    },
    {
      "cell_type": "code",
      "source": [
        "df.isnull().sum()"
      ],
      "metadata": {
        "colab": {
          "base_uri": "https://localhost:8080/"
        },
        "id": "8AYJOwX5CGYc",
        "outputId": "c4423aec-1f8f-462e-d765-4406bb53c145"
      },
      "id": "8AYJOwX5CGYc",
      "execution_count": 7,
      "outputs": [
        {
          "output_type": "execute_result",
          "data": {
            "text/plain": [
              "swl            0\n",
              "inf            0\n",
              "sfw            0\n",
              "ecpc           0\n",
              "tototf         0\n",
              "tide_level     0\n",
              "wl_1018662     0\n",
              "fw_1018662     0\n",
              "wl_1018680     0\n",
              "fw_1018680     0\n",
              "wl_1018683     0\n",
              "fw_1018683     0\n",
              "wl_1019630     0\n",
              "fw_1019630     0\n",
              "rf_10184100    0\n",
              "rf_10184110    0\n",
              "rf_10184140    0\n",
              "dtype: int64"
            ]
          },
          "metadata": {},
          "execution_count": 7
        }
      ]
    },
    {
      "cell_type": "code",
      "source": [
        "sub_df = pd.read_csv('/content/drive/Shareddrives/팔당댐/competition_data/sample_submission.csv',index_col=0)\n",
        "sub_df.head()"
      ],
      "metadata": {
        "colab": {
          "base_uri": "https://localhost:8080/",
          "height": 238
        },
        "id": "Oss-gDvnOuap",
        "outputId": "b089c2b8-4219-41e4-f702-19aaeb2c5d3d"
      },
      "id": "Oss-gDvnOuap",
      "execution_count": 70,
      "outputs": [
        {
          "output_type": "execute_result",
          "data": {
            "text/plain": [
              "                  wl_1018662  wl_1018680  wl_1018683  wl_1019630\n",
              "ymdhm                                                           \n",
              "2022-06-01 00:00           0           0           0           0\n",
              "2022-06-01 00:10           0           0           0           0\n",
              "2022-06-01 00:20           0           0           0           0\n",
              "2022-06-01 00:30           0           0           0           0\n",
              "2022-06-01 00:40           0           0           0           0"
            ],
            "text/html": [
              "\n",
              "  <div id=\"df-0ae3013c-d841-486c-9d1e-a16636bc6db7\">\n",
              "    <div class=\"colab-df-container\">\n",
              "      <div>\n",
              "<style scoped>\n",
              "    .dataframe tbody tr th:only-of-type {\n",
              "        vertical-align: middle;\n",
              "    }\n",
              "\n",
              "    .dataframe tbody tr th {\n",
              "        vertical-align: top;\n",
              "    }\n",
              "\n",
              "    .dataframe thead th {\n",
              "        text-align: right;\n",
              "    }\n",
              "</style>\n",
              "<table border=\"1\" class=\"dataframe\">\n",
              "  <thead>\n",
              "    <tr style=\"text-align: right;\">\n",
              "      <th></th>\n",
              "      <th>wl_1018662</th>\n",
              "      <th>wl_1018680</th>\n",
              "      <th>wl_1018683</th>\n",
              "      <th>wl_1019630</th>\n",
              "    </tr>\n",
              "    <tr>\n",
              "      <th>ymdhm</th>\n",
              "      <th></th>\n",
              "      <th></th>\n",
              "      <th></th>\n",
              "      <th></th>\n",
              "    </tr>\n",
              "  </thead>\n",
              "  <tbody>\n",
              "    <tr>\n",
              "      <th>2022-06-01 00:00</th>\n",
              "      <td>0</td>\n",
              "      <td>0</td>\n",
              "      <td>0</td>\n",
              "      <td>0</td>\n",
              "    </tr>\n",
              "    <tr>\n",
              "      <th>2022-06-01 00:10</th>\n",
              "      <td>0</td>\n",
              "      <td>0</td>\n",
              "      <td>0</td>\n",
              "      <td>0</td>\n",
              "    </tr>\n",
              "    <tr>\n",
              "      <th>2022-06-01 00:20</th>\n",
              "      <td>0</td>\n",
              "      <td>0</td>\n",
              "      <td>0</td>\n",
              "      <td>0</td>\n",
              "    </tr>\n",
              "    <tr>\n",
              "      <th>2022-06-01 00:30</th>\n",
              "      <td>0</td>\n",
              "      <td>0</td>\n",
              "      <td>0</td>\n",
              "      <td>0</td>\n",
              "    </tr>\n",
              "    <tr>\n",
              "      <th>2022-06-01 00:40</th>\n",
              "      <td>0</td>\n",
              "      <td>0</td>\n",
              "      <td>0</td>\n",
              "      <td>0</td>\n",
              "    </tr>\n",
              "  </tbody>\n",
              "</table>\n",
              "</div>\n",
              "      <button class=\"colab-df-convert\" onclick=\"convertToInteractive('df-0ae3013c-d841-486c-9d1e-a16636bc6db7')\"\n",
              "              title=\"Convert this dataframe to an interactive table.\"\n",
              "              style=\"display:none;\">\n",
              "        \n",
              "  <svg xmlns=\"http://www.w3.org/2000/svg\" height=\"24px\"viewBox=\"0 0 24 24\"\n",
              "       width=\"24px\">\n",
              "    <path d=\"M0 0h24v24H0V0z\" fill=\"none\"/>\n",
              "    <path d=\"M18.56 5.44l.94 2.06.94-2.06 2.06-.94-2.06-.94-.94-2.06-.94 2.06-2.06.94zm-11 1L8.5 8.5l.94-2.06 2.06-.94-2.06-.94L8.5 2.5l-.94 2.06-2.06.94zm10 10l.94 2.06.94-2.06 2.06-.94-2.06-.94-.94-2.06-.94 2.06-2.06.94z\"/><path d=\"M17.41 7.96l-1.37-1.37c-.4-.4-.92-.59-1.43-.59-.52 0-1.04.2-1.43.59L10.3 9.45l-7.72 7.72c-.78.78-.78 2.05 0 2.83L4 21.41c.39.39.9.59 1.41.59.51 0 1.02-.2 1.41-.59l7.78-7.78 2.81-2.81c.8-.78.8-2.07 0-2.86zM5.41 20L4 18.59l7.72-7.72 1.47 1.35L5.41 20z\"/>\n",
              "  </svg>\n",
              "      </button>\n",
              "      \n",
              "  <style>\n",
              "    .colab-df-container {\n",
              "      display:flex;\n",
              "      flex-wrap:wrap;\n",
              "      gap: 12px;\n",
              "    }\n",
              "\n",
              "    .colab-df-convert {\n",
              "      background-color: #E8F0FE;\n",
              "      border: none;\n",
              "      border-radius: 50%;\n",
              "      cursor: pointer;\n",
              "      display: none;\n",
              "      fill: #1967D2;\n",
              "      height: 32px;\n",
              "      padding: 0 0 0 0;\n",
              "      width: 32px;\n",
              "    }\n",
              "\n",
              "    .colab-df-convert:hover {\n",
              "      background-color: #E2EBFA;\n",
              "      box-shadow: 0px 1px 2px rgba(60, 64, 67, 0.3), 0px 1px 3px 1px rgba(60, 64, 67, 0.15);\n",
              "      fill: #174EA6;\n",
              "    }\n",
              "\n",
              "    [theme=dark] .colab-df-convert {\n",
              "      background-color: #3B4455;\n",
              "      fill: #D2E3FC;\n",
              "    }\n",
              "\n",
              "    [theme=dark] .colab-df-convert:hover {\n",
              "      background-color: #434B5C;\n",
              "      box-shadow: 0px 1px 3px 1px rgba(0, 0, 0, 0.15);\n",
              "      filter: drop-shadow(0px 1px 2px rgba(0, 0, 0, 0.3));\n",
              "      fill: #FFFFFF;\n",
              "    }\n",
              "  </style>\n",
              "\n",
              "      <script>\n",
              "        const buttonEl =\n",
              "          document.querySelector('#df-0ae3013c-d841-486c-9d1e-a16636bc6db7 button.colab-df-convert');\n",
              "        buttonEl.style.display =\n",
              "          google.colab.kernel.accessAllowed ? 'block' : 'none';\n",
              "\n",
              "        async function convertToInteractive(key) {\n",
              "          const element = document.querySelector('#df-0ae3013c-d841-486c-9d1e-a16636bc6db7');\n",
              "          const dataTable =\n",
              "            await google.colab.kernel.invokeFunction('convertToInteractive',\n",
              "                                                     [key], {});\n",
              "          if (!dataTable) return;\n",
              "\n",
              "          const docLinkHtml = 'Like what you see? Visit the ' +\n",
              "            '<a target=\"_blank\" href=https://colab.research.google.com/notebooks/data_table.ipynb>data table notebook</a>'\n",
              "            + ' to learn more about interactive tables.';\n",
              "          element.innerHTML = '';\n",
              "          dataTable['output_type'] = 'display_data';\n",
              "          await google.colab.output.renderOutput(dataTable, element);\n",
              "          const docLink = document.createElement('div');\n",
              "          docLink.innerHTML = docLinkHtml;\n",
              "          element.appendChild(docLink);\n",
              "        }\n",
              "      </script>\n",
              "    </div>\n",
              "  </div>\n",
              "  "
            ]
          },
          "metadata": {},
          "execution_count": 70
        }
      ]
    },
    {
      "cell_type": "code",
      "source": [
        "df.sort_index(inplace=True)\n",
        "sub_df.sort_index(inplace=True)"
      ],
      "metadata": {
        "id": "nM2-xBj6OuZc"
      },
      "id": "nM2-xBj6OuZc",
      "execution_count": 72,
      "outputs": []
    },
    {
      "cell_type": "code",
      "source": [
        "target = df.loc[:,sub_df.columns]\n",
        "data = df.drop(sub_df.columns,axis=1)"
      ],
      "metadata": {
        "id": "54EW3GY9OuT9"
      },
      "id": "54EW3GY9OuT9",
      "execution_count": 73,
      "outputs": []
    },
    {
      "cell_type": "code",
      "source": [
        "target.head()"
      ],
      "metadata": {
        "colab": {
          "base_uri": "https://localhost:8080/",
          "height": 238
        },
        "id": "Uwlzja6aOuOH",
        "outputId": "ddf6bcfc-32fb-4e0e-b57e-f15dfc8ecd43"
      },
      "id": "Uwlzja6aOuOH",
      "execution_count": 74,
      "outputs": [
        {
          "output_type": "execute_result",
          "data": {
            "text/plain": [
              "                     wl_1018662  wl_1018680  wl_1018683  wl_1019630\n",
              "ymdhm                                                              \n",
              "2012-05-01 00:00:00       310.7       300.2       290.0       275.3\n",
              "2012-05-01 00:10:00       314.7       300.2       290.0       275.3\n",
              "2012-05-01 00:20:00       313.7       301.2       290.0       275.3\n",
              "2012-05-01 00:30:00       311.7       301.2       290.0       276.3\n",
              "2012-05-01 00:40:00       311.7       301.2       291.0       277.3"
            ],
            "text/html": [
              "\n",
              "  <div id=\"df-5e5b53d8-df69-4361-bab6-436ff21a89de\">\n",
              "    <div class=\"colab-df-container\">\n",
              "      <div>\n",
              "<style scoped>\n",
              "    .dataframe tbody tr th:only-of-type {\n",
              "        vertical-align: middle;\n",
              "    }\n",
              "\n",
              "    .dataframe tbody tr th {\n",
              "        vertical-align: top;\n",
              "    }\n",
              "\n",
              "    .dataframe thead th {\n",
              "        text-align: right;\n",
              "    }\n",
              "</style>\n",
              "<table border=\"1\" class=\"dataframe\">\n",
              "  <thead>\n",
              "    <tr style=\"text-align: right;\">\n",
              "      <th></th>\n",
              "      <th>wl_1018662</th>\n",
              "      <th>wl_1018680</th>\n",
              "      <th>wl_1018683</th>\n",
              "      <th>wl_1019630</th>\n",
              "    </tr>\n",
              "    <tr>\n",
              "      <th>ymdhm</th>\n",
              "      <th></th>\n",
              "      <th></th>\n",
              "      <th></th>\n",
              "      <th></th>\n",
              "    </tr>\n",
              "  </thead>\n",
              "  <tbody>\n",
              "    <tr>\n",
              "      <th>2012-05-01 00:00:00</th>\n",
              "      <td>310.7</td>\n",
              "      <td>300.2</td>\n",
              "      <td>290.0</td>\n",
              "      <td>275.3</td>\n",
              "    </tr>\n",
              "    <tr>\n",
              "      <th>2012-05-01 00:10:00</th>\n",
              "      <td>314.7</td>\n",
              "      <td>300.2</td>\n",
              "      <td>290.0</td>\n",
              "      <td>275.3</td>\n",
              "    </tr>\n",
              "    <tr>\n",
              "      <th>2012-05-01 00:20:00</th>\n",
              "      <td>313.7</td>\n",
              "      <td>301.2</td>\n",
              "      <td>290.0</td>\n",
              "      <td>275.3</td>\n",
              "    </tr>\n",
              "    <tr>\n",
              "      <th>2012-05-01 00:30:00</th>\n",
              "      <td>311.7</td>\n",
              "      <td>301.2</td>\n",
              "      <td>290.0</td>\n",
              "      <td>276.3</td>\n",
              "    </tr>\n",
              "    <tr>\n",
              "      <th>2012-05-01 00:40:00</th>\n",
              "      <td>311.7</td>\n",
              "      <td>301.2</td>\n",
              "      <td>291.0</td>\n",
              "      <td>277.3</td>\n",
              "    </tr>\n",
              "  </tbody>\n",
              "</table>\n",
              "</div>\n",
              "      <button class=\"colab-df-convert\" onclick=\"convertToInteractive('df-5e5b53d8-df69-4361-bab6-436ff21a89de')\"\n",
              "              title=\"Convert this dataframe to an interactive table.\"\n",
              "              style=\"display:none;\">\n",
              "        \n",
              "  <svg xmlns=\"http://www.w3.org/2000/svg\" height=\"24px\"viewBox=\"0 0 24 24\"\n",
              "       width=\"24px\">\n",
              "    <path d=\"M0 0h24v24H0V0z\" fill=\"none\"/>\n",
              "    <path d=\"M18.56 5.44l.94 2.06.94-2.06 2.06-.94-2.06-.94-.94-2.06-.94 2.06-2.06.94zm-11 1L8.5 8.5l.94-2.06 2.06-.94-2.06-.94L8.5 2.5l-.94 2.06-2.06.94zm10 10l.94 2.06.94-2.06 2.06-.94-2.06-.94-.94-2.06-.94 2.06-2.06.94z\"/><path d=\"M17.41 7.96l-1.37-1.37c-.4-.4-.92-.59-1.43-.59-.52 0-1.04.2-1.43.59L10.3 9.45l-7.72 7.72c-.78.78-.78 2.05 0 2.83L4 21.41c.39.39.9.59 1.41.59.51 0 1.02-.2 1.41-.59l7.78-7.78 2.81-2.81c.8-.78.8-2.07 0-2.86zM5.41 20L4 18.59l7.72-7.72 1.47 1.35L5.41 20z\"/>\n",
              "  </svg>\n",
              "      </button>\n",
              "      \n",
              "  <style>\n",
              "    .colab-df-container {\n",
              "      display:flex;\n",
              "      flex-wrap:wrap;\n",
              "      gap: 12px;\n",
              "    }\n",
              "\n",
              "    .colab-df-convert {\n",
              "      background-color: #E8F0FE;\n",
              "      border: none;\n",
              "      border-radius: 50%;\n",
              "      cursor: pointer;\n",
              "      display: none;\n",
              "      fill: #1967D2;\n",
              "      height: 32px;\n",
              "      padding: 0 0 0 0;\n",
              "      width: 32px;\n",
              "    }\n",
              "\n",
              "    .colab-df-convert:hover {\n",
              "      background-color: #E2EBFA;\n",
              "      box-shadow: 0px 1px 2px rgba(60, 64, 67, 0.3), 0px 1px 3px 1px rgba(60, 64, 67, 0.15);\n",
              "      fill: #174EA6;\n",
              "    }\n",
              "\n",
              "    [theme=dark] .colab-df-convert {\n",
              "      background-color: #3B4455;\n",
              "      fill: #D2E3FC;\n",
              "    }\n",
              "\n",
              "    [theme=dark] .colab-df-convert:hover {\n",
              "      background-color: #434B5C;\n",
              "      box-shadow: 0px 1px 3px 1px rgba(0, 0, 0, 0.15);\n",
              "      filter: drop-shadow(0px 1px 2px rgba(0, 0, 0, 0.3));\n",
              "      fill: #FFFFFF;\n",
              "    }\n",
              "  </style>\n",
              "\n",
              "      <script>\n",
              "        const buttonEl =\n",
              "          document.querySelector('#df-5e5b53d8-df69-4361-bab6-436ff21a89de button.colab-df-convert');\n",
              "        buttonEl.style.display =\n",
              "          google.colab.kernel.accessAllowed ? 'block' : 'none';\n",
              "\n",
              "        async function convertToInteractive(key) {\n",
              "          const element = document.querySelector('#df-5e5b53d8-df69-4361-bab6-436ff21a89de');\n",
              "          const dataTable =\n",
              "            await google.colab.kernel.invokeFunction('convertToInteractive',\n",
              "                                                     [key], {});\n",
              "          if (!dataTable) return;\n",
              "\n",
              "          const docLinkHtml = 'Like what you see? Visit the ' +\n",
              "            '<a target=\"_blank\" href=https://colab.research.google.com/notebooks/data_table.ipynb>data table notebook</a>'\n",
              "            + ' to learn more about interactive tables.';\n",
              "          element.innerHTML = '';\n",
              "          dataTable['output_type'] = 'display_data';\n",
              "          await google.colab.output.renderOutput(dataTable, element);\n",
              "          const docLink = document.createElement('div');\n",
              "          docLink.innerHTML = docLinkHtml;\n",
              "          element.appendChild(docLink);\n",
              "        }\n",
              "      </script>\n",
              "    </div>\n",
              "  </div>\n",
              "  "
            ]
          },
          "metadata": {},
          "execution_count": 74
        }
      ]
    },
    {
      "cell_type": "code",
      "source": [
        "data.head()"
      ],
      "metadata": {
        "colab": {
          "base_uri": "https://localhost:8080/",
          "height": 238
        },
        "id": "m1WSNvPGOuLX",
        "outputId": "d3ba148b-633f-4438-f93a-0f0c2ecc13af"
      },
      "id": "m1WSNvPGOuLX",
      "execution_count": 75,
      "outputs": [
        {
          "output_type": "execute_result",
          "data": {
            "text/plain": [
              "                        swl    inf     sfw   ecpc  tototf  tide_level  \\\n",
              "ymdhm                                                                   \n",
              "2012-05-01 00:00:00  24.800  555.0  219.07  24.93   555.0       445.0   \n",
              "2012-05-01 00:10:00  24.794  464.6  218.86  25.15   562.9       449.0   \n",
              "2012-05-01 00:20:00  24.789  478.1  218.69  25.31   576.4       451.0   \n",
              "2012-05-01 00:30:00  24.789  464.8  218.69  25.31   563.1       452.0   \n",
              "2012-05-01 00:40:00  24.789  478.1  218.69  25.31   576.4       450.0   \n",
              "\n",
              "                     fw_1018662  fw_1018680  fw_1018683  fw_1019630  \\\n",
              "ymdhm                                                                 \n",
              "2012-05-01 00:00:00      469.05         0.0      729.80      540.18   \n",
              "2012-05-01 00:10:00      498.00         0.0      731.48      540.18   \n",
              "2012-05-01 00:20:00      490.68         0.0      726.42      540.18   \n",
              "2012-05-01 00:30:00      476.21         0.0      726.42      552.17   \n",
              "2012-05-01 00:40:00      476.21         0.0      707.17      564.29   \n",
              "\n",
              "                     rf_10184100  rf_10184110  rf_10184140  \n",
              "ymdhm                                                       \n",
              "2012-05-01 00:00:00          0.0          0.0          0.0  \n",
              "2012-05-01 00:10:00          0.0          0.0          0.0  \n",
              "2012-05-01 00:20:00          0.0          0.0          0.0  \n",
              "2012-05-01 00:30:00          0.0          0.0          0.0  \n",
              "2012-05-01 00:40:00          0.0          0.0          0.0  "
            ],
            "text/html": [
              "\n",
              "  <div id=\"df-929c29f7-f829-4006-a493-b2c105b2b194\">\n",
              "    <div class=\"colab-df-container\">\n",
              "      <div>\n",
              "<style scoped>\n",
              "    .dataframe tbody tr th:only-of-type {\n",
              "        vertical-align: middle;\n",
              "    }\n",
              "\n",
              "    .dataframe tbody tr th {\n",
              "        vertical-align: top;\n",
              "    }\n",
              "\n",
              "    .dataframe thead th {\n",
              "        text-align: right;\n",
              "    }\n",
              "</style>\n",
              "<table border=\"1\" class=\"dataframe\">\n",
              "  <thead>\n",
              "    <tr style=\"text-align: right;\">\n",
              "      <th></th>\n",
              "      <th>swl</th>\n",
              "      <th>inf</th>\n",
              "      <th>sfw</th>\n",
              "      <th>ecpc</th>\n",
              "      <th>tototf</th>\n",
              "      <th>tide_level</th>\n",
              "      <th>fw_1018662</th>\n",
              "      <th>fw_1018680</th>\n",
              "      <th>fw_1018683</th>\n",
              "      <th>fw_1019630</th>\n",
              "      <th>rf_10184100</th>\n",
              "      <th>rf_10184110</th>\n",
              "      <th>rf_10184140</th>\n",
              "    </tr>\n",
              "    <tr>\n",
              "      <th>ymdhm</th>\n",
              "      <th></th>\n",
              "      <th></th>\n",
              "      <th></th>\n",
              "      <th></th>\n",
              "      <th></th>\n",
              "      <th></th>\n",
              "      <th></th>\n",
              "      <th></th>\n",
              "      <th></th>\n",
              "      <th></th>\n",
              "      <th></th>\n",
              "      <th></th>\n",
              "      <th></th>\n",
              "    </tr>\n",
              "  </thead>\n",
              "  <tbody>\n",
              "    <tr>\n",
              "      <th>2012-05-01 00:00:00</th>\n",
              "      <td>24.800</td>\n",
              "      <td>555.0</td>\n",
              "      <td>219.07</td>\n",
              "      <td>24.93</td>\n",
              "      <td>555.0</td>\n",
              "      <td>445.0</td>\n",
              "      <td>469.05</td>\n",
              "      <td>0.0</td>\n",
              "      <td>729.80</td>\n",
              "      <td>540.18</td>\n",
              "      <td>0.0</td>\n",
              "      <td>0.0</td>\n",
              "      <td>0.0</td>\n",
              "    </tr>\n",
              "    <tr>\n",
              "      <th>2012-05-01 00:10:00</th>\n",
              "      <td>24.794</td>\n",
              "      <td>464.6</td>\n",
              "      <td>218.86</td>\n",
              "      <td>25.15</td>\n",
              "      <td>562.9</td>\n",
              "      <td>449.0</td>\n",
              "      <td>498.00</td>\n",
              "      <td>0.0</td>\n",
              "      <td>731.48</td>\n",
              "      <td>540.18</td>\n",
              "      <td>0.0</td>\n",
              "      <td>0.0</td>\n",
              "      <td>0.0</td>\n",
              "    </tr>\n",
              "    <tr>\n",
              "      <th>2012-05-01 00:20:00</th>\n",
              "      <td>24.789</td>\n",
              "      <td>478.1</td>\n",
              "      <td>218.69</td>\n",
              "      <td>25.31</td>\n",
              "      <td>576.4</td>\n",
              "      <td>451.0</td>\n",
              "      <td>490.68</td>\n",
              "      <td>0.0</td>\n",
              "      <td>726.42</td>\n",
              "      <td>540.18</td>\n",
              "      <td>0.0</td>\n",
              "      <td>0.0</td>\n",
              "      <td>0.0</td>\n",
              "    </tr>\n",
              "    <tr>\n",
              "      <th>2012-05-01 00:30:00</th>\n",
              "      <td>24.789</td>\n",
              "      <td>464.8</td>\n",
              "      <td>218.69</td>\n",
              "      <td>25.31</td>\n",
              "      <td>563.1</td>\n",
              "      <td>452.0</td>\n",
              "      <td>476.21</td>\n",
              "      <td>0.0</td>\n",
              "      <td>726.42</td>\n",
              "      <td>552.17</td>\n",
              "      <td>0.0</td>\n",
              "      <td>0.0</td>\n",
              "      <td>0.0</td>\n",
              "    </tr>\n",
              "    <tr>\n",
              "      <th>2012-05-01 00:40:00</th>\n",
              "      <td>24.789</td>\n",
              "      <td>478.1</td>\n",
              "      <td>218.69</td>\n",
              "      <td>25.31</td>\n",
              "      <td>576.4</td>\n",
              "      <td>450.0</td>\n",
              "      <td>476.21</td>\n",
              "      <td>0.0</td>\n",
              "      <td>707.17</td>\n",
              "      <td>564.29</td>\n",
              "      <td>0.0</td>\n",
              "      <td>0.0</td>\n",
              "      <td>0.0</td>\n",
              "    </tr>\n",
              "  </tbody>\n",
              "</table>\n",
              "</div>\n",
              "      <button class=\"colab-df-convert\" onclick=\"convertToInteractive('df-929c29f7-f829-4006-a493-b2c105b2b194')\"\n",
              "              title=\"Convert this dataframe to an interactive table.\"\n",
              "              style=\"display:none;\">\n",
              "        \n",
              "  <svg xmlns=\"http://www.w3.org/2000/svg\" height=\"24px\"viewBox=\"0 0 24 24\"\n",
              "       width=\"24px\">\n",
              "    <path d=\"M0 0h24v24H0V0z\" fill=\"none\"/>\n",
              "    <path d=\"M18.56 5.44l.94 2.06.94-2.06 2.06-.94-2.06-.94-.94-2.06-.94 2.06-2.06.94zm-11 1L8.5 8.5l.94-2.06 2.06-.94-2.06-.94L8.5 2.5l-.94 2.06-2.06.94zm10 10l.94 2.06.94-2.06 2.06-.94-2.06-.94-.94-2.06-.94 2.06-2.06.94z\"/><path d=\"M17.41 7.96l-1.37-1.37c-.4-.4-.92-.59-1.43-.59-.52 0-1.04.2-1.43.59L10.3 9.45l-7.72 7.72c-.78.78-.78 2.05 0 2.83L4 21.41c.39.39.9.59 1.41.59.51 0 1.02-.2 1.41-.59l7.78-7.78 2.81-2.81c.8-.78.8-2.07 0-2.86zM5.41 20L4 18.59l7.72-7.72 1.47 1.35L5.41 20z\"/>\n",
              "  </svg>\n",
              "      </button>\n",
              "      \n",
              "  <style>\n",
              "    .colab-df-container {\n",
              "      display:flex;\n",
              "      flex-wrap:wrap;\n",
              "      gap: 12px;\n",
              "    }\n",
              "\n",
              "    .colab-df-convert {\n",
              "      background-color: #E8F0FE;\n",
              "      border: none;\n",
              "      border-radius: 50%;\n",
              "      cursor: pointer;\n",
              "      display: none;\n",
              "      fill: #1967D2;\n",
              "      height: 32px;\n",
              "      padding: 0 0 0 0;\n",
              "      width: 32px;\n",
              "    }\n",
              "\n",
              "    .colab-df-convert:hover {\n",
              "      background-color: #E2EBFA;\n",
              "      box-shadow: 0px 1px 2px rgba(60, 64, 67, 0.3), 0px 1px 3px 1px rgba(60, 64, 67, 0.15);\n",
              "      fill: #174EA6;\n",
              "    }\n",
              "\n",
              "    [theme=dark] .colab-df-convert {\n",
              "      background-color: #3B4455;\n",
              "      fill: #D2E3FC;\n",
              "    }\n",
              "\n",
              "    [theme=dark] .colab-df-convert:hover {\n",
              "      background-color: #434B5C;\n",
              "      box-shadow: 0px 1px 3px 1px rgba(0, 0, 0, 0.15);\n",
              "      filter: drop-shadow(0px 1px 2px rgba(0, 0, 0, 0.3));\n",
              "      fill: #FFFFFF;\n",
              "    }\n",
              "  </style>\n",
              "\n",
              "      <script>\n",
              "        const buttonEl =\n",
              "          document.querySelector('#df-929c29f7-f829-4006-a493-b2c105b2b194 button.colab-df-convert');\n",
              "        buttonEl.style.display =\n",
              "          google.colab.kernel.accessAllowed ? 'block' : 'none';\n",
              "\n",
              "        async function convertToInteractive(key) {\n",
              "          const element = document.querySelector('#df-929c29f7-f829-4006-a493-b2c105b2b194');\n",
              "          const dataTable =\n",
              "            await google.colab.kernel.invokeFunction('convertToInteractive',\n",
              "                                                     [key], {});\n",
              "          if (!dataTable) return;\n",
              "\n",
              "          const docLinkHtml = 'Like what you see? Visit the ' +\n",
              "            '<a target=\"_blank\" href=https://colab.research.google.com/notebooks/data_table.ipynb>data table notebook</a>'\n",
              "            + ' to learn more about interactive tables.';\n",
              "          element.innerHTML = '';\n",
              "          dataTable['output_type'] = 'display_data';\n",
              "          await google.colab.output.renderOutput(dataTable, element);\n",
              "          const docLink = document.createElement('div');\n",
              "          docLink.innerHTML = docLinkHtml;\n",
              "          element.appendChild(docLink);\n",
              "        }\n",
              "      </script>\n",
              "    </div>\n",
              "  </div>\n",
              "  "
            ]
          },
          "metadata": {},
          "execution_count": 75
        }
      ]
    },
    {
      "cell_type": "code",
      "source": [
        "# data와 target 하나 밀어주기 (과거데이터를 사용해야 함으로)\n",
        "y = target.reset_index(drop=True)\n",
        "X = data.reset_index(drop=True)\n",
        "\n",
        "X.index += 1\n",
        "\n",
        "tot=pd.concat((X,y),axis=1)\n",
        "tot=tot.sort_index()\n",
        "\n",
        "tot=tot.iloc[1:-1]\n",
        "\n",
        "target = tot.loc[:,sub_df.columns]\n",
        "data = tot.drop(sub_df.columns,axis=1)"
      ],
      "metadata": {
        "id": "zAnuF3XvOuIe"
      },
      "id": "zAnuF3XvOuIe",
      "execution_count": 78,
      "outputs": []
    },
    {
      "cell_type": "code",
      "source": [
        "train_target=target.iloc[:-len(sub_df),:]\n",
        "test_target=target.iloc[-len(sub_df):,:]\n",
        "\n",
        "train_data=data.iloc[:-len(sub_df),:]\n",
        "test_data=data.iloc[-len(sub_df):,:]"
      ],
      "metadata": {
        "id": "vdoXv3VfPkx6"
      },
      "id": "vdoXv3VfPkx6",
      "execution_count": 80,
      "outputs": []
    },
    {
      "cell_type": "code",
      "source": [
        ""
      ],
      "metadata": {
        "id": "Amoj3z6JPkvP"
      },
      "id": "Amoj3z6JPkvP",
      "execution_count": null,
      "outputs": []
    },
    {
      "cell_type": "code",
      "source": [
        ""
      ],
      "metadata": {
        "id": "T7XXkeO9Pksw"
      },
      "id": "T7XXkeO9Pksw",
      "execution_count": null,
      "outputs": []
    },
    {
      "cell_type": "code",
      "source": [
        ""
      ],
      "metadata": {
        "id": "2sw70alEPkqd"
      },
      "id": "2sw70alEPkqd",
      "execution_count": null,
      "outputs": []
    },
    {
      "cell_type": "code",
      "source": [
        ""
      ],
      "metadata": {
        "id": "7J-Oj34RPknx"
      },
      "id": "7J-Oj34RPknx",
      "execution_count": null,
      "outputs": []
    },
    {
      "cell_type": "code",
      "source": [
        ""
      ],
      "metadata": {
        "id": "Xu5o0vCqPklJ"
      },
      "id": "Xu5o0vCqPklJ",
      "execution_count": null,
      "outputs": []
    },
    {
      "cell_type": "markdown",
      "source": [
        "# train-test 데이터 나누기"
      ],
      "metadata": {
        "id": "ydnD78BRxBJ8"
      },
      "id": "ydnD78BRxBJ8"
    },
    {
      "cell_type": "code",
      "source": [
        "# 독립/종속변수 나누기\n",
        "# x = df[['swl','inf','sfw','ecpc','tototf','tide_level','fw_1018662','fw_1018680','fw_1018683','fw_1019630','rf_10184100','rf_10184110','rf_10184140']]\n",
        "# y = df[['wl_1018662','wl_1018680','wl_1018683','wl_1019630']]"
      ],
      "metadata": {
        "id": "MKfSowuR1x_2"
      },
      "id": "MKfSowuR1x_2",
      "execution_count": 8,
      "outputs": []
    },
    {
      "cell_type": "code",
      "execution_count": 87,
      "id": "85744ab3-bcd0-4808-a89d-024e2711a834",
      "metadata": {
        "id": "85744ab3-bcd0-4808-a89d-024e2711a834"
      },
      "outputs": [],
      "source": [
        "# X_train, y_train\n",
        "train_data = df.loc[:'2022-05-31',\n",
        "                  ['swl', 'inf', 'sfw', 'ecpc', 'tototf', 'tide_level', 'fw_1018662', 'fw_1018680', \n",
        "                   'fw_1018683','fw_1019630', 'rf_10184100', 'rf_10184110', 'rf_10184140']]\n",
        "train_target = df.loc[:'2022-05-31',['wl_1018662', 'wl_1018680', 'wl_1018683', 'wl_1019630']]"
      ]
    },
    {
      "cell_type": "code",
      "execution_count": 88,
      "id": "f0fbfdbc-8a0f-48b1-8a91-f5ed761d2aa6",
      "metadata": {
        "colab": {
          "base_uri": "https://localhost:8080/",
          "height": 455
        },
        "id": "f0fbfdbc-8a0f-48b1-8a91-f5ed761d2aa6",
        "outputId": "8b1e2e68-30eb-4738-c49e-85514366a7d0"
      },
      "outputs": [
        {
          "output_type": "execute_result",
          "data": {
            "text/plain": [
              "                        swl     inf     sfw   ecpc  tototf  tide_level  \\\n",
              "ymdhm                                                                    \n",
              "2012-05-01 00:00:00  24.800  555.00  219.07  24.93  555.00       445.0   \n",
              "2012-05-01 00:10:00  24.794  464.60  218.86  25.15  562.90       449.0   \n",
              "2012-05-01 00:20:00  24.789  478.10  218.69  25.31  576.40       451.0   \n",
              "2012-05-01 00:30:00  24.789  464.80  218.69  25.31  563.10       452.0   \n",
              "2012-05-01 00:40:00  24.789  478.10  218.69  25.31  576.40       450.0   \n",
              "...                     ...     ...     ...    ...     ...         ...   \n",
              "2022-05-31 23:10:00  25.180  140.94  217.99  26.01  140.94       220.0   \n",
              "2022-05-31 23:20:00  25.180  141.07  217.99  26.01  141.07       208.0   \n",
              "2022-05-31 23:30:00  25.180  141.01  217.99  26.01  141.01       196.0   \n",
              "2022-05-31 23:40:00  25.190  755.75  218.36  25.64  140.75       184.0   \n",
              "2022-05-31 23:50:00  25.190  140.56  218.36  25.64  140.56       173.0   \n",
              "\n",
              "                     fw_1018662  fw_1018680  fw_1018683  fw_1019630  \\\n",
              "ymdhm                                                                 \n",
              "2012-05-01 00:00:00      469.05         0.0      729.80      540.18   \n",
              "2012-05-01 00:10:00      498.00         0.0      731.48      540.18   \n",
              "2012-05-01 00:20:00      490.68         0.0      726.42      540.18   \n",
              "2012-05-01 00:30:00      476.21         0.0      726.42      552.17   \n",
              "2012-05-01 00:40:00      476.21         0.0      707.17      564.29   \n",
              "...                         ...         ...         ...         ...   \n",
              "2022-05-31 23:10:00      285.72         0.0      575.57      493.58   \n",
              "2022-05-31 23:20:00      274.78         0.0      501.04      505.03   \n",
              "2022-05-31 23:30:00      269.40         0.0      425.89      505.03   \n",
              "2022-05-31 23:40:00      264.07         0.0      198.19      493.58   \n",
              "2022-05-31 23:50:00      269.40         0.0       70.09      482.26   \n",
              "\n",
              "                     rf_10184100  rf_10184110  rf_10184140  \n",
              "ymdhm                                                       \n",
              "2012-05-01 00:00:00          0.0          0.0          0.0  \n",
              "2012-05-01 00:10:00          0.0          0.0          0.0  \n",
              "2012-05-01 00:20:00          0.0          0.0          0.0  \n",
              "2012-05-01 00:30:00          0.0          0.0          0.0  \n",
              "2012-05-01 00:40:00          0.0          0.0          0.0  \n",
              "...                          ...          ...          ...  \n",
              "2022-05-31 23:10:00          0.0          0.0          0.0  \n",
              "2022-05-31 23:20:00          0.0          0.0          0.0  \n",
              "2022-05-31 23:30:00          0.0          0.0          0.0  \n",
              "2022-05-31 23:40:00          0.0          0.0          0.0  \n",
              "2022-05-31 23:50:00          0.0          0.0          0.0  \n",
              "\n",
              "[269424 rows x 13 columns]"
            ],
            "text/html": [
              "\n",
              "  <div id=\"df-0739647f-1290-41aa-a65f-42d05921d317\">\n",
              "    <div class=\"colab-df-container\">\n",
              "      <div>\n",
              "<style scoped>\n",
              "    .dataframe tbody tr th:only-of-type {\n",
              "        vertical-align: middle;\n",
              "    }\n",
              "\n",
              "    .dataframe tbody tr th {\n",
              "        vertical-align: top;\n",
              "    }\n",
              "\n",
              "    .dataframe thead th {\n",
              "        text-align: right;\n",
              "    }\n",
              "</style>\n",
              "<table border=\"1\" class=\"dataframe\">\n",
              "  <thead>\n",
              "    <tr style=\"text-align: right;\">\n",
              "      <th></th>\n",
              "      <th>swl</th>\n",
              "      <th>inf</th>\n",
              "      <th>sfw</th>\n",
              "      <th>ecpc</th>\n",
              "      <th>tototf</th>\n",
              "      <th>tide_level</th>\n",
              "      <th>fw_1018662</th>\n",
              "      <th>fw_1018680</th>\n",
              "      <th>fw_1018683</th>\n",
              "      <th>fw_1019630</th>\n",
              "      <th>rf_10184100</th>\n",
              "      <th>rf_10184110</th>\n",
              "      <th>rf_10184140</th>\n",
              "    </tr>\n",
              "    <tr>\n",
              "      <th>ymdhm</th>\n",
              "      <th></th>\n",
              "      <th></th>\n",
              "      <th></th>\n",
              "      <th></th>\n",
              "      <th></th>\n",
              "      <th></th>\n",
              "      <th></th>\n",
              "      <th></th>\n",
              "      <th></th>\n",
              "      <th></th>\n",
              "      <th></th>\n",
              "      <th></th>\n",
              "      <th></th>\n",
              "    </tr>\n",
              "  </thead>\n",
              "  <tbody>\n",
              "    <tr>\n",
              "      <th>2012-05-01 00:00:00</th>\n",
              "      <td>24.800</td>\n",
              "      <td>555.00</td>\n",
              "      <td>219.07</td>\n",
              "      <td>24.93</td>\n",
              "      <td>555.00</td>\n",
              "      <td>445.0</td>\n",
              "      <td>469.05</td>\n",
              "      <td>0.0</td>\n",
              "      <td>729.80</td>\n",
              "      <td>540.18</td>\n",
              "      <td>0.0</td>\n",
              "      <td>0.0</td>\n",
              "      <td>0.0</td>\n",
              "    </tr>\n",
              "    <tr>\n",
              "      <th>2012-05-01 00:10:00</th>\n",
              "      <td>24.794</td>\n",
              "      <td>464.60</td>\n",
              "      <td>218.86</td>\n",
              "      <td>25.15</td>\n",
              "      <td>562.90</td>\n",
              "      <td>449.0</td>\n",
              "      <td>498.00</td>\n",
              "      <td>0.0</td>\n",
              "      <td>731.48</td>\n",
              "      <td>540.18</td>\n",
              "      <td>0.0</td>\n",
              "      <td>0.0</td>\n",
              "      <td>0.0</td>\n",
              "    </tr>\n",
              "    <tr>\n",
              "      <th>2012-05-01 00:20:00</th>\n",
              "      <td>24.789</td>\n",
              "      <td>478.10</td>\n",
              "      <td>218.69</td>\n",
              "      <td>25.31</td>\n",
              "      <td>576.40</td>\n",
              "      <td>451.0</td>\n",
              "      <td>490.68</td>\n",
              "      <td>0.0</td>\n",
              "      <td>726.42</td>\n",
              "      <td>540.18</td>\n",
              "      <td>0.0</td>\n",
              "      <td>0.0</td>\n",
              "      <td>0.0</td>\n",
              "    </tr>\n",
              "    <tr>\n",
              "      <th>2012-05-01 00:30:00</th>\n",
              "      <td>24.789</td>\n",
              "      <td>464.80</td>\n",
              "      <td>218.69</td>\n",
              "      <td>25.31</td>\n",
              "      <td>563.10</td>\n",
              "      <td>452.0</td>\n",
              "      <td>476.21</td>\n",
              "      <td>0.0</td>\n",
              "      <td>726.42</td>\n",
              "      <td>552.17</td>\n",
              "      <td>0.0</td>\n",
              "      <td>0.0</td>\n",
              "      <td>0.0</td>\n",
              "    </tr>\n",
              "    <tr>\n",
              "      <th>2012-05-01 00:40:00</th>\n",
              "      <td>24.789</td>\n",
              "      <td>478.10</td>\n",
              "      <td>218.69</td>\n",
              "      <td>25.31</td>\n",
              "      <td>576.40</td>\n",
              "      <td>450.0</td>\n",
              "      <td>476.21</td>\n",
              "      <td>0.0</td>\n",
              "      <td>707.17</td>\n",
              "      <td>564.29</td>\n",
              "      <td>0.0</td>\n",
              "      <td>0.0</td>\n",
              "      <td>0.0</td>\n",
              "    </tr>\n",
              "    <tr>\n",
              "      <th>...</th>\n",
              "      <td>...</td>\n",
              "      <td>...</td>\n",
              "      <td>...</td>\n",
              "      <td>...</td>\n",
              "      <td>...</td>\n",
              "      <td>...</td>\n",
              "      <td>...</td>\n",
              "      <td>...</td>\n",
              "      <td>...</td>\n",
              "      <td>...</td>\n",
              "      <td>...</td>\n",
              "      <td>...</td>\n",
              "      <td>...</td>\n",
              "    </tr>\n",
              "    <tr>\n",
              "      <th>2022-05-31 23:10:00</th>\n",
              "      <td>25.180</td>\n",
              "      <td>140.94</td>\n",
              "      <td>217.99</td>\n",
              "      <td>26.01</td>\n",
              "      <td>140.94</td>\n",
              "      <td>220.0</td>\n",
              "      <td>285.72</td>\n",
              "      <td>0.0</td>\n",
              "      <td>575.57</td>\n",
              "      <td>493.58</td>\n",
              "      <td>0.0</td>\n",
              "      <td>0.0</td>\n",
              "      <td>0.0</td>\n",
              "    </tr>\n",
              "    <tr>\n",
              "      <th>2022-05-31 23:20:00</th>\n",
              "      <td>25.180</td>\n",
              "      <td>141.07</td>\n",
              "      <td>217.99</td>\n",
              "      <td>26.01</td>\n",
              "      <td>141.07</td>\n",
              "      <td>208.0</td>\n",
              "      <td>274.78</td>\n",
              "      <td>0.0</td>\n",
              "      <td>501.04</td>\n",
              "      <td>505.03</td>\n",
              "      <td>0.0</td>\n",
              "      <td>0.0</td>\n",
              "      <td>0.0</td>\n",
              "    </tr>\n",
              "    <tr>\n",
              "      <th>2022-05-31 23:30:00</th>\n",
              "      <td>25.180</td>\n",
              "      <td>141.01</td>\n",
              "      <td>217.99</td>\n",
              "      <td>26.01</td>\n",
              "      <td>141.01</td>\n",
              "      <td>196.0</td>\n",
              "      <td>269.40</td>\n",
              "      <td>0.0</td>\n",
              "      <td>425.89</td>\n",
              "      <td>505.03</td>\n",
              "      <td>0.0</td>\n",
              "      <td>0.0</td>\n",
              "      <td>0.0</td>\n",
              "    </tr>\n",
              "    <tr>\n",
              "      <th>2022-05-31 23:40:00</th>\n",
              "      <td>25.190</td>\n",
              "      <td>755.75</td>\n",
              "      <td>218.36</td>\n",
              "      <td>25.64</td>\n",
              "      <td>140.75</td>\n",
              "      <td>184.0</td>\n",
              "      <td>264.07</td>\n",
              "      <td>0.0</td>\n",
              "      <td>198.19</td>\n",
              "      <td>493.58</td>\n",
              "      <td>0.0</td>\n",
              "      <td>0.0</td>\n",
              "      <td>0.0</td>\n",
              "    </tr>\n",
              "    <tr>\n",
              "      <th>2022-05-31 23:50:00</th>\n",
              "      <td>25.190</td>\n",
              "      <td>140.56</td>\n",
              "      <td>218.36</td>\n",
              "      <td>25.64</td>\n",
              "      <td>140.56</td>\n",
              "      <td>173.0</td>\n",
              "      <td>269.40</td>\n",
              "      <td>0.0</td>\n",
              "      <td>70.09</td>\n",
              "      <td>482.26</td>\n",
              "      <td>0.0</td>\n",
              "      <td>0.0</td>\n",
              "      <td>0.0</td>\n",
              "    </tr>\n",
              "  </tbody>\n",
              "</table>\n",
              "<p>269424 rows × 13 columns</p>\n",
              "</div>\n",
              "      <button class=\"colab-df-convert\" onclick=\"convertToInteractive('df-0739647f-1290-41aa-a65f-42d05921d317')\"\n",
              "              title=\"Convert this dataframe to an interactive table.\"\n",
              "              style=\"display:none;\">\n",
              "        \n",
              "  <svg xmlns=\"http://www.w3.org/2000/svg\" height=\"24px\"viewBox=\"0 0 24 24\"\n",
              "       width=\"24px\">\n",
              "    <path d=\"M0 0h24v24H0V0z\" fill=\"none\"/>\n",
              "    <path d=\"M18.56 5.44l.94 2.06.94-2.06 2.06-.94-2.06-.94-.94-2.06-.94 2.06-2.06.94zm-11 1L8.5 8.5l.94-2.06 2.06-.94-2.06-.94L8.5 2.5l-.94 2.06-2.06.94zm10 10l.94 2.06.94-2.06 2.06-.94-2.06-.94-.94-2.06-.94 2.06-2.06.94z\"/><path d=\"M17.41 7.96l-1.37-1.37c-.4-.4-.92-.59-1.43-.59-.52 0-1.04.2-1.43.59L10.3 9.45l-7.72 7.72c-.78.78-.78 2.05 0 2.83L4 21.41c.39.39.9.59 1.41.59.51 0 1.02-.2 1.41-.59l7.78-7.78 2.81-2.81c.8-.78.8-2.07 0-2.86zM5.41 20L4 18.59l7.72-7.72 1.47 1.35L5.41 20z\"/>\n",
              "  </svg>\n",
              "      </button>\n",
              "      \n",
              "  <style>\n",
              "    .colab-df-container {\n",
              "      display:flex;\n",
              "      flex-wrap:wrap;\n",
              "      gap: 12px;\n",
              "    }\n",
              "\n",
              "    .colab-df-convert {\n",
              "      background-color: #E8F0FE;\n",
              "      border: none;\n",
              "      border-radius: 50%;\n",
              "      cursor: pointer;\n",
              "      display: none;\n",
              "      fill: #1967D2;\n",
              "      height: 32px;\n",
              "      padding: 0 0 0 0;\n",
              "      width: 32px;\n",
              "    }\n",
              "\n",
              "    .colab-df-convert:hover {\n",
              "      background-color: #E2EBFA;\n",
              "      box-shadow: 0px 1px 2px rgba(60, 64, 67, 0.3), 0px 1px 3px 1px rgba(60, 64, 67, 0.15);\n",
              "      fill: #174EA6;\n",
              "    }\n",
              "\n",
              "    [theme=dark] .colab-df-convert {\n",
              "      background-color: #3B4455;\n",
              "      fill: #D2E3FC;\n",
              "    }\n",
              "\n",
              "    [theme=dark] .colab-df-convert:hover {\n",
              "      background-color: #434B5C;\n",
              "      box-shadow: 0px 1px 3px 1px rgba(0, 0, 0, 0.15);\n",
              "      filter: drop-shadow(0px 1px 2px rgba(0, 0, 0, 0.3));\n",
              "      fill: #FFFFFF;\n",
              "    }\n",
              "  </style>\n",
              "\n",
              "      <script>\n",
              "        const buttonEl =\n",
              "          document.querySelector('#df-0739647f-1290-41aa-a65f-42d05921d317 button.colab-df-convert');\n",
              "        buttonEl.style.display =\n",
              "          google.colab.kernel.accessAllowed ? 'block' : 'none';\n",
              "\n",
              "        async function convertToInteractive(key) {\n",
              "          const element = document.querySelector('#df-0739647f-1290-41aa-a65f-42d05921d317');\n",
              "          const dataTable =\n",
              "            await google.colab.kernel.invokeFunction('convertToInteractive',\n",
              "                                                     [key], {});\n",
              "          if (!dataTable) return;\n",
              "\n",
              "          const docLinkHtml = 'Like what you see? Visit the ' +\n",
              "            '<a target=\"_blank\" href=https://colab.research.google.com/notebooks/data_table.ipynb>data table notebook</a>'\n",
              "            + ' to learn more about interactive tables.';\n",
              "          element.innerHTML = '';\n",
              "          dataTable['output_type'] = 'display_data';\n",
              "          await google.colab.output.renderOutput(dataTable, element);\n",
              "          const docLink = document.createElement('div');\n",
              "          docLink.innerHTML = docLinkHtml;\n",
              "          element.appendChild(docLink);\n",
              "        }\n",
              "      </script>\n",
              "    </div>\n",
              "  </div>\n",
              "  "
            ]
          },
          "metadata": {},
          "execution_count": 88
        }
      ],
      "source": [
        "train_data"
      ]
    },
    {
      "cell_type": "code",
      "execution_count": 89,
      "id": "a3db60c2-4f0e-466b-a649-714f6933027b",
      "metadata": {
        "id": "a3db60c2-4f0e-466b-a649-714f6933027b"
      },
      "outputs": [],
      "source": [
        "# X_test, y_test\n",
        "test_data = df.loc['2022-06-01':,  \n",
        "                   ['swl', 'inf', 'sfw', 'ecpc', 'tototf', 'tide_level', 'fw_1018662', 'fw_1018680', \n",
        "                   'fw_1018683','fw_1019630', 'rf_10184100', 'rf_10184110', 'rf_10184140']]\n",
        "test_target= df.loc['2022-06-01': , ['wl_1018662', 'wl_1018680', 'wl_1018683', 'wl_1019630']]"
      ]
    },
    {
      "cell_type": "code",
      "execution_count": 90,
      "id": "57df5bb4-38dd-4579-8c91-b330c2f478ba",
      "metadata": {
        "colab": {
          "base_uri": "https://localhost:8080/",
          "height": 455
        },
        "id": "57df5bb4-38dd-4579-8c91-b330c2f478ba",
        "outputId": "10c70365-2fa2-449a-ee2a-beb290de38b9"
      },
      "outputs": [
        {
          "output_type": "execute_result",
          "data": {
            "text/plain": [
              "                       swl     inf     sfw   ecpc  tototf  tide_level  \\\n",
              "ymdhm                                                                   \n",
              "2022-06-01 00:00:00  25.19  140.60  218.36  25.64  140.60       162.0   \n",
              "2022-06-01 00:10:00  25.19  140.78  218.36  25.64  140.78       151.0   \n",
              "2022-06-01 00:20:00  25.20  755.90  218.73  25.27  140.90       141.0   \n",
              "2022-06-01 00:30:00  25.19    0.00  218.36  25.64  140.94       130.0   \n",
              "2022-06-01 00:40:00  25.19  140.63  218.36  25.64  140.63       120.0   \n",
              "...                    ...     ...     ...    ...     ...         ...   \n",
              "2022-07-18 23:10:00  25.04  259.23  212.86  31.14  259.23       510.0   \n",
              "2022-07-18 23:20:00  25.04  260.46  212.86  31.14  260.46       492.0   \n",
              "2022-07-18 23:30:00  25.04  259.37  212.86  31.14  259.37       475.0   \n",
              "2022-07-18 23:40:00  25.04  259.13  212.86  31.14  259.13       458.0   \n",
              "2022-07-18 23:50:00  25.04  258.16  212.86  31.14  258.16       442.0   \n",
              "\n",
              "                     fw_1018662  fw_1018680  fw_1018683  fw_1019630  \\\n",
              "ymdhm                                                                 \n",
              "2022-06-01 00:00:00      269.40         0.0        8.23      471.08   \n",
              "2022-06-01 00:10:00      280.22         0.0       28.82      449.12   \n",
              "2022-06-01 00:20:00      296.87         0.0       12.35      417.17   \n",
              "2022-06-01 00:30:00      302.53         0.0       53.52      386.43   \n",
              "2022-06-01 00:40:00      296.87         0.0      107.04      366.60   \n",
              "...                         ...         ...         ...         ...   \n",
              "2022-07-18 23:10:00      319.84         0.0     -456.41      974.40   \n",
              "2022-07-18 23:20:00      314.01         0.0     -717.30     1006.88   \n",
              "2022-07-18 23:30:00      387.55         0.0     -843.37     1039.90   \n",
              "2022-07-18 23:40:00      454.91         0.0    -1023.37     1073.46   \n",
              "2022-07-18 23:50:00      582.21         0.0    -1049.44     1090.45   \n",
              "\n",
              "                     rf_10184100  rf_10184110  rf_10184140  \n",
              "ymdhm                                                       \n",
              "2022-06-01 00:00:00          0.0          0.0          0.0  \n",
              "2022-06-01 00:10:00          0.0          0.0          0.0  \n",
              "2022-06-01 00:20:00          0.0          0.0          0.0  \n",
              "2022-06-01 00:30:00          0.0          0.0          0.0  \n",
              "2022-06-01 00:40:00          0.0          0.0          0.0  \n",
              "...                          ...          ...          ...  \n",
              "2022-07-18 23:10:00          0.0          0.0          0.0  \n",
              "2022-07-18 23:20:00          0.0          0.0          0.0  \n",
              "2022-07-18 23:30:00          0.0          0.0          0.0  \n",
              "2022-07-18 23:40:00          0.0          0.0          0.0  \n",
              "2022-07-18 23:50:00          0.0          0.0          0.0  \n",
              "\n",
              "[6912 rows x 13 columns]"
            ],
            "text/html": [
              "\n",
              "  <div id=\"df-a386d4c5-df60-4839-a523-a11cf2822996\">\n",
              "    <div class=\"colab-df-container\">\n",
              "      <div>\n",
              "<style scoped>\n",
              "    .dataframe tbody tr th:only-of-type {\n",
              "        vertical-align: middle;\n",
              "    }\n",
              "\n",
              "    .dataframe tbody tr th {\n",
              "        vertical-align: top;\n",
              "    }\n",
              "\n",
              "    .dataframe thead th {\n",
              "        text-align: right;\n",
              "    }\n",
              "</style>\n",
              "<table border=\"1\" class=\"dataframe\">\n",
              "  <thead>\n",
              "    <tr style=\"text-align: right;\">\n",
              "      <th></th>\n",
              "      <th>swl</th>\n",
              "      <th>inf</th>\n",
              "      <th>sfw</th>\n",
              "      <th>ecpc</th>\n",
              "      <th>tototf</th>\n",
              "      <th>tide_level</th>\n",
              "      <th>fw_1018662</th>\n",
              "      <th>fw_1018680</th>\n",
              "      <th>fw_1018683</th>\n",
              "      <th>fw_1019630</th>\n",
              "      <th>rf_10184100</th>\n",
              "      <th>rf_10184110</th>\n",
              "      <th>rf_10184140</th>\n",
              "    </tr>\n",
              "    <tr>\n",
              "      <th>ymdhm</th>\n",
              "      <th></th>\n",
              "      <th></th>\n",
              "      <th></th>\n",
              "      <th></th>\n",
              "      <th></th>\n",
              "      <th></th>\n",
              "      <th></th>\n",
              "      <th></th>\n",
              "      <th></th>\n",
              "      <th></th>\n",
              "      <th></th>\n",
              "      <th></th>\n",
              "      <th></th>\n",
              "    </tr>\n",
              "  </thead>\n",
              "  <tbody>\n",
              "    <tr>\n",
              "      <th>2022-06-01 00:00:00</th>\n",
              "      <td>25.19</td>\n",
              "      <td>140.60</td>\n",
              "      <td>218.36</td>\n",
              "      <td>25.64</td>\n",
              "      <td>140.60</td>\n",
              "      <td>162.0</td>\n",
              "      <td>269.40</td>\n",
              "      <td>0.0</td>\n",
              "      <td>8.23</td>\n",
              "      <td>471.08</td>\n",
              "      <td>0.0</td>\n",
              "      <td>0.0</td>\n",
              "      <td>0.0</td>\n",
              "    </tr>\n",
              "    <tr>\n",
              "      <th>2022-06-01 00:10:00</th>\n",
              "      <td>25.19</td>\n",
              "      <td>140.78</td>\n",
              "      <td>218.36</td>\n",
              "      <td>25.64</td>\n",
              "      <td>140.78</td>\n",
              "      <td>151.0</td>\n",
              "      <td>280.22</td>\n",
              "      <td>0.0</td>\n",
              "      <td>28.82</td>\n",
              "      <td>449.12</td>\n",
              "      <td>0.0</td>\n",
              "      <td>0.0</td>\n",
              "      <td>0.0</td>\n",
              "    </tr>\n",
              "    <tr>\n",
              "      <th>2022-06-01 00:20:00</th>\n",
              "      <td>25.20</td>\n",
              "      <td>755.90</td>\n",
              "      <td>218.73</td>\n",
              "      <td>25.27</td>\n",
              "      <td>140.90</td>\n",
              "      <td>141.0</td>\n",
              "      <td>296.87</td>\n",
              "      <td>0.0</td>\n",
              "      <td>12.35</td>\n",
              "      <td>417.17</td>\n",
              "      <td>0.0</td>\n",
              "      <td>0.0</td>\n",
              "      <td>0.0</td>\n",
              "    </tr>\n",
              "    <tr>\n",
              "      <th>2022-06-01 00:30:00</th>\n",
              "      <td>25.19</td>\n",
              "      <td>0.00</td>\n",
              "      <td>218.36</td>\n",
              "      <td>25.64</td>\n",
              "      <td>140.94</td>\n",
              "      <td>130.0</td>\n",
              "      <td>302.53</td>\n",
              "      <td>0.0</td>\n",
              "      <td>53.52</td>\n",
              "      <td>386.43</td>\n",
              "      <td>0.0</td>\n",
              "      <td>0.0</td>\n",
              "      <td>0.0</td>\n",
              "    </tr>\n",
              "    <tr>\n",
              "      <th>2022-06-01 00:40:00</th>\n",
              "      <td>25.19</td>\n",
              "      <td>140.63</td>\n",
              "      <td>218.36</td>\n",
              "      <td>25.64</td>\n",
              "      <td>140.63</td>\n",
              "      <td>120.0</td>\n",
              "      <td>296.87</td>\n",
              "      <td>0.0</td>\n",
              "      <td>107.04</td>\n",
              "      <td>366.60</td>\n",
              "      <td>0.0</td>\n",
              "      <td>0.0</td>\n",
              "      <td>0.0</td>\n",
              "    </tr>\n",
              "    <tr>\n",
              "      <th>...</th>\n",
              "      <td>...</td>\n",
              "      <td>...</td>\n",
              "      <td>...</td>\n",
              "      <td>...</td>\n",
              "      <td>...</td>\n",
              "      <td>...</td>\n",
              "      <td>...</td>\n",
              "      <td>...</td>\n",
              "      <td>...</td>\n",
              "      <td>...</td>\n",
              "      <td>...</td>\n",
              "      <td>...</td>\n",
              "      <td>...</td>\n",
              "    </tr>\n",
              "    <tr>\n",
              "      <th>2022-07-18 23:10:00</th>\n",
              "      <td>25.04</td>\n",
              "      <td>259.23</td>\n",
              "      <td>212.86</td>\n",
              "      <td>31.14</td>\n",
              "      <td>259.23</td>\n",
              "      <td>510.0</td>\n",
              "      <td>319.84</td>\n",
              "      <td>0.0</td>\n",
              "      <td>-456.41</td>\n",
              "      <td>974.40</td>\n",
              "      <td>0.0</td>\n",
              "      <td>0.0</td>\n",
              "      <td>0.0</td>\n",
              "    </tr>\n",
              "    <tr>\n",
              "      <th>2022-07-18 23:20:00</th>\n",
              "      <td>25.04</td>\n",
              "      <td>260.46</td>\n",
              "      <td>212.86</td>\n",
              "      <td>31.14</td>\n",
              "      <td>260.46</td>\n",
              "      <td>492.0</td>\n",
              "      <td>314.01</td>\n",
              "      <td>0.0</td>\n",
              "      <td>-717.30</td>\n",
              "      <td>1006.88</td>\n",
              "      <td>0.0</td>\n",
              "      <td>0.0</td>\n",
              "      <td>0.0</td>\n",
              "    </tr>\n",
              "    <tr>\n",
              "      <th>2022-07-18 23:30:00</th>\n",
              "      <td>25.04</td>\n",
              "      <td>259.37</td>\n",
              "      <td>212.86</td>\n",
              "      <td>31.14</td>\n",
              "      <td>259.37</td>\n",
              "      <td>475.0</td>\n",
              "      <td>387.55</td>\n",
              "      <td>0.0</td>\n",
              "      <td>-843.37</td>\n",
              "      <td>1039.90</td>\n",
              "      <td>0.0</td>\n",
              "      <td>0.0</td>\n",
              "      <td>0.0</td>\n",
              "    </tr>\n",
              "    <tr>\n",
              "      <th>2022-07-18 23:40:00</th>\n",
              "      <td>25.04</td>\n",
              "      <td>259.13</td>\n",
              "      <td>212.86</td>\n",
              "      <td>31.14</td>\n",
              "      <td>259.13</td>\n",
              "      <td>458.0</td>\n",
              "      <td>454.91</td>\n",
              "      <td>0.0</td>\n",
              "      <td>-1023.37</td>\n",
              "      <td>1073.46</td>\n",
              "      <td>0.0</td>\n",
              "      <td>0.0</td>\n",
              "      <td>0.0</td>\n",
              "    </tr>\n",
              "    <tr>\n",
              "      <th>2022-07-18 23:50:00</th>\n",
              "      <td>25.04</td>\n",
              "      <td>258.16</td>\n",
              "      <td>212.86</td>\n",
              "      <td>31.14</td>\n",
              "      <td>258.16</td>\n",
              "      <td>442.0</td>\n",
              "      <td>582.21</td>\n",
              "      <td>0.0</td>\n",
              "      <td>-1049.44</td>\n",
              "      <td>1090.45</td>\n",
              "      <td>0.0</td>\n",
              "      <td>0.0</td>\n",
              "      <td>0.0</td>\n",
              "    </tr>\n",
              "  </tbody>\n",
              "</table>\n",
              "<p>6912 rows × 13 columns</p>\n",
              "</div>\n",
              "      <button class=\"colab-df-convert\" onclick=\"convertToInteractive('df-a386d4c5-df60-4839-a523-a11cf2822996')\"\n",
              "              title=\"Convert this dataframe to an interactive table.\"\n",
              "              style=\"display:none;\">\n",
              "        \n",
              "  <svg xmlns=\"http://www.w3.org/2000/svg\" height=\"24px\"viewBox=\"0 0 24 24\"\n",
              "       width=\"24px\">\n",
              "    <path d=\"M0 0h24v24H0V0z\" fill=\"none\"/>\n",
              "    <path d=\"M18.56 5.44l.94 2.06.94-2.06 2.06-.94-2.06-.94-.94-2.06-.94 2.06-2.06.94zm-11 1L8.5 8.5l.94-2.06 2.06-.94-2.06-.94L8.5 2.5l-.94 2.06-2.06.94zm10 10l.94 2.06.94-2.06 2.06-.94-2.06-.94-.94-2.06-.94 2.06-2.06.94z\"/><path d=\"M17.41 7.96l-1.37-1.37c-.4-.4-.92-.59-1.43-.59-.52 0-1.04.2-1.43.59L10.3 9.45l-7.72 7.72c-.78.78-.78 2.05 0 2.83L4 21.41c.39.39.9.59 1.41.59.51 0 1.02-.2 1.41-.59l7.78-7.78 2.81-2.81c.8-.78.8-2.07 0-2.86zM5.41 20L4 18.59l7.72-7.72 1.47 1.35L5.41 20z\"/>\n",
              "  </svg>\n",
              "      </button>\n",
              "      \n",
              "  <style>\n",
              "    .colab-df-container {\n",
              "      display:flex;\n",
              "      flex-wrap:wrap;\n",
              "      gap: 12px;\n",
              "    }\n",
              "\n",
              "    .colab-df-convert {\n",
              "      background-color: #E8F0FE;\n",
              "      border: none;\n",
              "      border-radius: 50%;\n",
              "      cursor: pointer;\n",
              "      display: none;\n",
              "      fill: #1967D2;\n",
              "      height: 32px;\n",
              "      padding: 0 0 0 0;\n",
              "      width: 32px;\n",
              "    }\n",
              "\n",
              "    .colab-df-convert:hover {\n",
              "      background-color: #E2EBFA;\n",
              "      box-shadow: 0px 1px 2px rgba(60, 64, 67, 0.3), 0px 1px 3px 1px rgba(60, 64, 67, 0.15);\n",
              "      fill: #174EA6;\n",
              "    }\n",
              "\n",
              "    [theme=dark] .colab-df-convert {\n",
              "      background-color: #3B4455;\n",
              "      fill: #D2E3FC;\n",
              "    }\n",
              "\n",
              "    [theme=dark] .colab-df-convert:hover {\n",
              "      background-color: #434B5C;\n",
              "      box-shadow: 0px 1px 3px 1px rgba(0, 0, 0, 0.15);\n",
              "      filter: drop-shadow(0px 1px 2px rgba(0, 0, 0, 0.3));\n",
              "      fill: #FFFFFF;\n",
              "    }\n",
              "  </style>\n",
              "\n",
              "      <script>\n",
              "        const buttonEl =\n",
              "          document.querySelector('#df-a386d4c5-df60-4839-a523-a11cf2822996 button.colab-df-convert');\n",
              "        buttonEl.style.display =\n",
              "          google.colab.kernel.accessAllowed ? 'block' : 'none';\n",
              "\n",
              "        async function convertToInteractive(key) {\n",
              "          const element = document.querySelector('#df-a386d4c5-df60-4839-a523-a11cf2822996');\n",
              "          const dataTable =\n",
              "            await google.colab.kernel.invokeFunction('convertToInteractive',\n",
              "                                                     [key], {});\n",
              "          if (!dataTable) return;\n",
              "\n",
              "          const docLinkHtml = 'Like what you see? Visit the ' +\n",
              "            '<a target=\"_blank\" href=https://colab.research.google.com/notebooks/data_table.ipynb>data table notebook</a>'\n",
              "            + ' to learn more about interactive tables.';\n",
              "          element.innerHTML = '';\n",
              "          dataTable['output_type'] = 'display_data';\n",
              "          await google.colab.output.renderOutput(dataTable, element);\n",
              "          const docLink = document.createElement('div');\n",
              "          docLink.innerHTML = docLinkHtml;\n",
              "          element.appendChild(docLink);\n",
              "        }\n",
              "      </script>\n",
              "    </div>\n",
              "  </div>\n",
              "  "
            ]
          },
          "metadata": {},
          "execution_count": 90
        }
      ],
      "source": [
        "test_data"
      ]
    },
    {
      "cell_type": "markdown",
      "source": [
        "* train y"
      ],
      "metadata": {
        "id": "smCdiiHQ4Ybf"
      },
      "id": "smCdiiHQ4Ybf"
    },
    {
      "cell_type": "code",
      "source": [
        "y1 = train_target.iloc[:,0] #청담대교\n",
        "y2 = train_target.iloc[:,1] #잠수교\n",
        "y3 = train_target.iloc[:,2] #한강대교 \n",
        "y4 = train_target.iloc[:,3] #행주대교"
      ],
      "metadata": {
        "id": "4rzKUG1pzVTy"
      },
      "id": "4rzKUG1pzVTy",
      "execution_count": 91,
      "outputs": []
    },
    {
      "cell_type": "code",
      "source": [
        "train_target.shape"
      ],
      "metadata": {
        "colab": {
          "base_uri": "https://localhost:8080/"
        },
        "id": "tjvizm-wBfVH",
        "outputId": "9d42cb9f-2f71-487b-beef-7051792128a6"
      },
      "id": "tjvizm-wBfVH",
      "execution_count": 92,
      "outputs": [
        {
          "output_type": "execute_result",
          "data": {
            "text/plain": [
              "(269424, 4)"
            ]
          },
          "metadata": {},
          "execution_count": 92
        }
      ]
    },
    {
      "cell_type": "code",
      "source": [
        "y1"
      ],
      "metadata": {
        "colab": {
          "base_uri": "https://localhost:8080/"
        },
        "id": "QI7tXlvNSFzS",
        "outputId": "c8af0c32-a5d7-4cb6-f133-a5db65658600"
      },
      "id": "QI7tXlvNSFzS",
      "execution_count": 101,
      "outputs": [
        {
          "output_type": "execute_result",
          "data": {
            "text/plain": [
              "ymdhm\n",
              "2012-05-01 00:00:00    310.7\n",
              "2012-05-01 00:10:00    314.7\n",
              "2012-05-01 00:20:00    313.7\n",
              "2012-05-01 00:30:00    311.7\n",
              "2012-05-01 00:40:00    311.7\n",
              "                       ...  \n",
              "2022-05-31 23:10:00    281.7\n",
              "2022-05-31 23:20:00    279.7\n",
              "2022-05-31 23:30:00    278.7\n",
              "2022-05-31 23:40:00    277.7\n",
              "2022-05-31 23:50:00    278.7\n",
              "Name: wl_1018662, Length: 269424, dtype: float64"
            ]
          },
          "metadata": {},
          "execution_count": 101
        }
      ]
    },
    {
      "cell_type": "markdown",
      "source": [
        "* test y"
      ],
      "metadata": {
        "id": "NERpO3ac4chY"
      },
      "id": "NERpO3ac4chY"
    },
    {
      "cell_type": "code",
      "source": [
        "y1_test = test_target.iloc[:,0] #청담대교\n",
        "y2_test = test_target.iloc[:,1] #잠수교\n",
        "y3_test = test_target.iloc[:,2] #한강대교 \n",
        "y4_test = test_target.iloc[:,3] #행주대교"
      ],
      "metadata": {
        "id": "OVxFWfnC4dyE"
      },
      "id": "OVxFWfnC4dyE",
      "execution_count": 93,
      "outputs": []
    },
    {
      "cell_type": "code",
      "source": [
        "test_target.shape"
      ],
      "metadata": {
        "colab": {
          "base_uri": "https://localhost:8080/"
        },
        "id": "a6Kudd-S_lCa",
        "outputId": "8197a503-a7aa-4570-e0eb-ebffbb74f903"
      },
      "id": "a6Kudd-S_lCa",
      "execution_count": 94,
      "outputs": [
        {
          "output_type": "execute_result",
          "data": {
            "text/plain": [
              "(6912, 4)"
            ]
          },
          "metadata": {},
          "execution_count": 94
        }
      ]
    },
    {
      "cell_type": "code",
      "source": [
        "y1_test"
      ],
      "metadata": {
        "colab": {
          "base_uri": "https://localhost:8080/"
        },
        "id": "r2HyzYx-SKWi",
        "outputId": "78582337-fa03-4a84-d2e2-f271abdd0957"
      },
      "id": "r2HyzYx-SKWi",
      "execution_count": 102,
      "outputs": [
        {
          "output_type": "execute_result",
          "data": {
            "text/plain": [
              "ymdhm\n",
              "2022-06-01 00:00:00    279.0\n",
              "2022-06-01 00:10:00    281.0\n",
              "2022-06-01 00:20:00    284.0\n",
              "2022-06-01 00:30:00    285.0\n",
              "2022-06-01 00:40:00    284.0\n",
              "                       ...  \n",
              "2022-07-18 23:10:00    288.0\n",
              "2022-07-18 23:20:00    287.0\n",
              "2022-07-18 23:30:00    299.0\n",
              "2022-07-18 23:40:00    309.0\n",
              "2022-07-18 23:50:00    326.0\n",
              "Name: wl_1018662, Length: 6912, dtype: float64"
            ]
          },
          "metadata": {},
          "execution_count": 102
        }
      ]
    },
    {
      "cell_type": "markdown",
      "id": "eeaaaae4-4fc7-4f18-94a7-af657eac0b70",
      "metadata": {
        "id": "eeaaaae4-4fc7-4f18-94a7-af657eac0b70"
      },
      "source": [
        "# feature scaling"
      ]
    },
    {
      "cell_type": "markdown",
      "id": "9e9b3130-1a21-42c1-8e17-825b942db5f4",
      "metadata": {
        "id": "9e9b3130-1a21-42c1-8e17-825b942db5f4"
      },
      "source": [
        "## standardization"
      ]
    },
    {
      "cell_type": "code",
      "execution_count": 81,
      "id": "4d761d86-a6d6-42e3-a7ae-86f52a10ad6f",
      "metadata": {
        "id": "4d761d86-a6d6-42e3-a7ae-86f52a10ad6f"
      },
      "outputs": [],
      "source": [
        "import numpy as np\n",
        "import pandas as pd\n",
        "\n",
        "from sklearn.model_selection import train_test_split\n",
        "from sklearn.linear_model import LinearRegression\n",
        "from sklearn.metrics import mean_squared_error,r2_score\n",
        "from sklearn.preprocessing import StandardScaler"
      ]
    },
    {
      "cell_type": "code",
      "execution_count": 82,
      "id": "066c306f-f5ff-4365-95f0-f055b62a3797",
      "metadata": {
        "id": "066c306f-f5ff-4365-95f0-f055b62a3797"
      },
      "outputs": [],
      "source": [
        "scaler = StandardScaler()"
      ]
    },
    {
      "cell_type": "code",
      "execution_count": 95,
      "id": "40e48928-817f-4d05-a994-2b5097c35feb",
      "metadata": {
        "id": "40e48928-817f-4d05-a994-2b5097c35feb"
      },
      "outputs": [],
      "source": [
        "x_train_std = scaler.fit_transform(train_data) # 학습데이터 feature scaling\n",
        "x_test_std = scaler.transform(test_data)"
      ]
    },
    {
      "cell_type": "code",
      "execution_count": 96,
      "id": "42cd1ada-f75c-44b5-b796-cd1fb7fbddce",
      "metadata": {
        "colab": {
          "base_uri": "https://localhost:8080/"
        },
        "id": "42cd1ada-f75c-44b5-b796-cd1fb7fbddce",
        "outputId": "4592345b-22c2-498e-b715-abf03256c42c"
      },
      "outputs": [
        {
          "output_type": "execute_result",
          "data": {
            "text/plain": [
              "array([[-1.92856241,  0.01061297, -0.05720692, ..., -0.09883217,\n",
              "        -0.10173166, -0.09795471],\n",
              "       [-1.96967266, -0.07114545, -0.07837488, ..., -0.09883217,\n",
              "        -0.10173166, -0.09795471],\n",
              "       [-2.00393121, -0.05893595, -0.09551085, ..., -0.09883217,\n",
              "        -0.10173166, -0.09795471],\n",
              "       ...,\n",
              "       [ 0.67508685, -0.36380259, -0.16607071, ..., -0.09883217,\n",
              "        -0.10173166, -0.09795471],\n",
              "       [ 0.74360394,  0.19217273, -0.12877478, ..., -0.09883217,\n",
              "        -0.10173166, -0.09795471],\n",
              "       [ 0.74360394, -0.36420957, -0.12877478, ..., -0.09883217,\n",
              "        -0.10173166, -0.09795471]])"
            ]
          },
          "metadata": {},
          "execution_count": 96
        }
      ],
      "source": [
        "x_train_std"
      ]
    },
    {
      "cell_type": "code",
      "source": [
        "x_train_std.shape"
      ],
      "metadata": {
        "colab": {
          "base_uri": "https://localhost:8080/"
        },
        "id": "8iOUQtf5x1s9",
        "outputId": "0b3671e4-e3db-47f7-fcaa-6bdbbe7e806a"
      },
      "id": "8iOUQtf5x1s9",
      "execution_count": 97,
      "outputs": [
        {
          "output_type": "execute_result",
          "data": {
            "text/plain": [
              "(269424, 13)"
            ]
          },
          "metadata": {},
          "execution_count": 97
        }
      ]
    },
    {
      "cell_type": "code",
      "source": [
        "train_target.shape"
      ],
      "metadata": {
        "colab": {
          "base_uri": "https://localhost:8080/"
        },
        "id": "Q8mp6aSGx1nf",
        "outputId": "7ef19adf-c349-497a-c29a-ca3990f17e68"
      },
      "id": "Q8mp6aSGx1nf",
      "execution_count": 98,
      "outputs": [
        {
          "output_type": "execute_result",
          "data": {
            "text/plain": [
              "(269424, 4)"
            ]
          },
          "metadata": {},
          "execution_count": 98
        }
      ]
    },
    {
      "cell_type": "markdown",
      "id": "a3774638-a825-44d8-8c85-1f3cf38654a9",
      "metadata": {
        "id": "a3774638-a825-44d8-8c85-1f3cf38654a9"
      },
      "source": [
        "# 모델"
      ]
    },
    {
      "cell_type": "code",
      "execution_count": 23,
      "id": "20b211ba-8008-4e7f-8251-c0f8c08e8d58",
      "metadata": {
        "id": "20b211ba-8008-4e7f-8251-c0f8c08e8d58"
      },
      "outputs": [],
      "source": [
        "import xgboost as xgb"
      ]
    },
    {
      "cell_type": "markdown",
      "source": [
        "## 파라미터 조정 -> regressor는 없고 classifier만 있음 = 실패"
      ],
      "metadata": {
        "id": "XJLE-l7ZJckF"
      },
      "id": "XJLE-l7ZJckF"
    },
    {
      "cell_type": "code",
      "source": [
        "from sklearn.model_selection import RandomizedSearchCV"
      ],
      "metadata": {
        "id": "WICu2pDgKqsj"
      },
      "id": "WICu2pDgKqsj",
      "execution_count": 43,
      "outputs": []
    },
    {
      "cell_type": "code",
      "source": [
        "## Hyper Parameter Optimization\n",
        "n_estimators = [100, 500, 900, 1100, 1500]\n",
        "max_depth = [2, 3, 5, 10, 15]\n",
        "booster=['gbtree','gblinear','reg:squarederror']\n",
        "learning_rate=[0.05,0.1,0.15,0.20]\n",
        "min_child_weight=[1,2,3,4]\n",
        "\n",
        "# Define the grid of hyperparameters to search\n",
        "hyperparameter_grid = {\n",
        "    'n_estimators': [100, 400, 800],\n",
        "    'max_depth': [3, 6, 9],\n",
        "    'learning_rate': [0.05, 0.1, 0.20],\n",
        "    'min_child_weight': [1, 10, 100]\n",
        "    }\n",
        "\n",
        "# Set up the random search with 4-fold cross validation\n",
        "random_cv = RandomizedSearchCV(estimator='reg:squarederror',\n",
        "            param_distributions=hyperparameter_grid,\n",
        "            cv=5, n_iter=50,\n",
        "            scoring = 'neg_mean_absolute_error',n_jobs = 4,\n",
        "            verbose = 5, \n",
        "            return_train_score = True,\n",
        "            random_state=42)"
      ],
      "metadata": {
        "id": "BpVCXqTRJ2U7"
      },
      "id": "BpVCXqTRJ2U7",
      "execution_count": 45,
      "outputs": []
    },
    {
      "cell_type": "code",
      "source": [
        "random_cv.fit(train_data,y1)"
      ],
      "metadata": {
        "colab": {
          "base_uri": "https://localhost:8080/",
          "height": 327
        },
        "id": "tcghcXzuJ2QD",
        "outputId": "fd6a6342-d7ca-48d7-b4da-64488ca21c97"
      },
      "id": "tcghcXzuJ2QD",
      "execution_count": 47,
      "outputs": [
        {
          "output_type": "error",
          "ename": "TypeError",
          "evalue": "ignored",
          "traceback": [
            "\u001b[0;31m---------------------------------------------------------------------------\u001b[0m",
            "\u001b[0;31mTypeError\u001b[0m                                 Traceback (most recent call last)",
            "\u001b[0;32m<ipython-input-47-e7c0980f5677>\u001b[0m in \u001b[0;36m<module>\u001b[0;34m()\u001b[0m\n\u001b[0;32m----> 1\u001b[0;31m \u001b[0mrandom_cv\u001b[0m\u001b[0;34m.\u001b[0m\u001b[0mfit\u001b[0m\u001b[0;34m(\u001b[0m\u001b[0mtrain_data\u001b[0m\u001b[0;34m,\u001b[0m\u001b[0my1\u001b[0m\u001b[0;34m)\u001b[0m\u001b[0;34m\u001b[0m\u001b[0;34m\u001b[0m\u001b[0m\n\u001b[0m",
            "\u001b[0;32m/usr/local/lib/python3.7/dist-packages/sklearn/model_selection/_search.py\u001b[0m in \u001b[0;36mfit\u001b[0;34m(self, X, y, groups, **fit_params)\u001b[0m\n\u001b[1;32m    791\u001b[0m             \u001b[0mscorers\u001b[0m \u001b[0;34m=\u001b[0m \u001b[0mself\u001b[0m\u001b[0;34m.\u001b[0m\u001b[0mscoring\u001b[0m\u001b[0;34m\u001b[0m\u001b[0;34m\u001b[0m\u001b[0m\n\u001b[1;32m    792\u001b[0m         \u001b[0;32melif\u001b[0m \u001b[0mself\u001b[0m\u001b[0;34m.\u001b[0m\u001b[0mscoring\u001b[0m \u001b[0;32mis\u001b[0m \u001b[0;32mNone\u001b[0m \u001b[0;32mor\u001b[0m \u001b[0misinstance\u001b[0m\u001b[0;34m(\u001b[0m\u001b[0mself\u001b[0m\u001b[0;34m.\u001b[0m\u001b[0mscoring\u001b[0m\u001b[0;34m,\u001b[0m \u001b[0mstr\u001b[0m\u001b[0;34m)\u001b[0m\u001b[0;34m:\u001b[0m\u001b[0;34m\u001b[0m\u001b[0;34m\u001b[0m\u001b[0m\n\u001b[0;32m--> 793\u001b[0;31m             \u001b[0mscorers\u001b[0m \u001b[0;34m=\u001b[0m \u001b[0mcheck_scoring\u001b[0m\u001b[0;34m(\u001b[0m\u001b[0mself\u001b[0m\u001b[0;34m.\u001b[0m\u001b[0mestimator\u001b[0m\u001b[0;34m,\u001b[0m \u001b[0mself\u001b[0m\u001b[0;34m.\u001b[0m\u001b[0mscoring\u001b[0m\u001b[0;34m)\u001b[0m\u001b[0;34m\u001b[0m\u001b[0;34m\u001b[0m\u001b[0m\n\u001b[0m\u001b[1;32m    794\u001b[0m         \u001b[0;32melse\u001b[0m\u001b[0;34m:\u001b[0m\u001b[0;34m\u001b[0m\u001b[0;34m\u001b[0m\u001b[0m\n\u001b[1;32m    795\u001b[0m             \u001b[0mscorers\u001b[0m \u001b[0;34m=\u001b[0m \u001b[0m_check_multimetric_scoring\u001b[0m\u001b[0;34m(\u001b[0m\u001b[0mself\u001b[0m\u001b[0;34m.\u001b[0m\u001b[0mestimator\u001b[0m\u001b[0;34m,\u001b[0m \u001b[0mself\u001b[0m\u001b[0;34m.\u001b[0m\u001b[0mscoring\u001b[0m\u001b[0;34m)\u001b[0m\u001b[0;34m\u001b[0m\u001b[0;34m\u001b[0m\u001b[0m\n",
            "\u001b[0;32m/usr/local/lib/python3.7/dist-packages/sklearn/metrics/_scorer.py\u001b[0m in \u001b[0;36mcheck_scoring\u001b[0;34m(estimator, scoring, allow_none)\u001b[0m\n\u001b[1;32m    448\u001b[0m         raise TypeError(\n\u001b[1;32m    449\u001b[0m             \u001b[0;34m\"estimator should be an estimator implementing 'fit' method, %r was passed\"\u001b[0m\u001b[0;34m\u001b[0m\u001b[0;34m\u001b[0m\u001b[0m\n\u001b[0;32m--> 450\u001b[0;31m             \u001b[0;34m%\u001b[0m \u001b[0mestimator\u001b[0m\u001b[0;34m\u001b[0m\u001b[0;34m\u001b[0m\u001b[0m\n\u001b[0m\u001b[1;32m    451\u001b[0m         )\n\u001b[1;32m    452\u001b[0m     \u001b[0;32mif\u001b[0m \u001b[0misinstance\u001b[0m\u001b[0;34m(\u001b[0m\u001b[0mscoring\u001b[0m\u001b[0;34m,\u001b[0m \u001b[0mstr\u001b[0m\u001b[0;34m)\u001b[0m\u001b[0;34m:\u001b[0m\u001b[0;34m\u001b[0m\u001b[0;34m\u001b[0m\u001b[0m\n",
            "\u001b[0;31mTypeError\u001b[0m: estimator should be an estimator implementing 'fit' method, 'reg:squarederror' was passed"
          ]
        }
      ]
    },
    {
      "cell_type": "code",
      "source": [
        ""
      ],
      "metadata": {
        "id": "XK5ysfC2J2Nm"
      },
      "id": "XK5ysfC2J2Nm",
      "execution_count": null,
      "outputs": []
    },
    {
      "cell_type": "code",
      "source": [
        ""
      ],
      "metadata": {
        "id": "kpeCUBibJ2Lh"
      },
      "id": "kpeCUBibJ2Lh",
      "execution_count": null,
      "outputs": []
    },
    {
      "cell_type": "code",
      "source": [
        ""
      ],
      "metadata": {
        "id": "Eyk9_j5oJ2JN"
      },
      "id": "Eyk9_j5oJ2JN",
      "execution_count": null,
      "outputs": []
    },
    {
      "cell_type": "code",
      "source": [
        ""
      ],
      "metadata": {
        "id": "9ZgT4WOzJ2Ge"
      },
      "id": "9ZgT4WOzJ2Ge",
      "execution_count": null,
      "outputs": []
    },
    {
      "cell_type": "code",
      "source": [
        ""
      ],
      "metadata": {
        "id": "sywx-EmxJ2Dx"
      },
      "id": "sywx-EmxJ2Dx",
      "execution_count": null,
      "outputs": []
    },
    {
      "cell_type": "markdown",
      "source": [
        "## 임의로 지정"
      ],
      "metadata": {
        "id": "YJ-oKCNEJmQY"
      },
      "id": "YJ-oKCNEJmQY"
    },
    {
      "cell_type": "code",
      "source": [
        "# xgb_model = xgb.XGBRegressor(max_depth=2, n_estimators=1000)"
      ],
      "metadata": {
        "id": "dRoKYHQrGRfO"
      },
      "id": "dRoKYHQrGRfO",
      "execution_count": null,
      "outputs": []
    },
    {
      "cell_type": "markdown",
      "source": [
        "![image.png](data:image/png;base64,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)"
      ],
      "metadata": {
        "id": "kN2vrg7UCzQ6"
      },
      "id": "kN2vrg7UCzQ6"
    },
    {
      "cell_type": "markdown",
      "source": [
        "[05:46:13] WARNING: /workspace/src/objective/regression_obj.cu:152: reg:linear is now deprecated in favor of reg:squarederror."
      ],
      "metadata": {
        "id": "c681SU19C1ji"
      },
      "id": "c681SU19C1ji"
    },
    {
      "cell_type": "markdown",
      "source": [
        "* 위에 error로 인해서 reg:squarederror 로 바꿈"
      ],
      "metadata": {
        "id": "GW4BMnbWC2QC"
      },
      "id": "GW4BMnbWC2QC"
    },
    {
      "cell_type": "code",
      "source": [
        "xgb_model = xgb.XGBRegressor(objective='reg:squarederror', max_depth = 2, n_estimators = 1000)"
      ],
      "metadata": {
        "id": "aos82AY33e36"
      },
      "id": "aos82AY33e36",
      "execution_count": 99,
      "outputs": []
    },
    {
      "cell_type": "markdown",
      "id": "c7cc50b0-202d-405c-bfc5-c0c027fcda29",
      "metadata": {
        "id": "c7cc50b0-202d-405c-bfc5-c0c027fcda29"
      },
      "source": [
        "## 종속1"
      ]
    },
    {
      "cell_type": "markdown",
      "id": "74ac474c-2e6d-47a5-9459-f4a0f69c0078",
      "metadata": {
        "id": "74ac474c-2e6d-47a5-9459-f4a0f69c0078"
      },
      "source": [
        "* train 데이터"
      ]
    },
    {
      "cell_type": "code",
      "execution_count": 100,
      "id": "0a46fa92-fbc7-487d-9741-f38b1d8255d3",
      "metadata": {
        "colab": {
          "base_uri": "https://localhost:8080/"
        },
        "id": "0a46fa92-fbc7-487d-9741-f38b1d8255d3",
        "outputId": "ce923b1b-03a8-49cf-c7f7-85cd20e00ae6"
      },
      "outputs": [
        {
          "output_type": "execute_result",
          "data": {
            "text/plain": [
              "ymdhm\n",
              "2012-05-01 00:00:00    310.7\n",
              "2012-05-01 00:10:00    314.7\n",
              "2012-05-01 00:20:00    313.7\n",
              "2012-05-01 00:30:00    311.7\n",
              "2012-05-01 00:40:00    311.7\n",
              "                       ...  \n",
              "2022-05-31 23:10:00    281.7\n",
              "2022-05-31 23:20:00    279.7\n",
              "2022-05-31 23:30:00    278.7\n",
              "2022-05-31 23:40:00    277.7\n",
              "2022-05-31 23:50:00    278.7\n",
              "Name: wl_1018662, Length: 269424, dtype: float64"
            ]
          },
          "metadata": {},
          "execution_count": 100
        }
      ],
      "source": [
        "y1"
      ]
    },
    {
      "cell_type": "code",
      "execution_count": 103,
      "id": "9bbc061c-0b7f-43bc-915a-453f78c08bf0",
      "metadata": {
        "colab": {
          "base_uri": "https://localhost:8080/"
        },
        "id": "9bbc061c-0b7f-43bc-915a-453f78c08bf0",
        "outputId": "3bf02479-7d1c-4273-be25-d528668740ac"
      },
      "outputs": [
        {
          "output_type": "execute_result",
          "data": {
            "text/plain": [
              "array([310.7, 314.7, 313.7, ..., 278.7, 277.7, 278.7])"
            ]
          },
          "metadata": {},
          "execution_count": 103
        }
      ],
      "source": [
        "y1 = np.array(y1)\n",
        "y1"
      ]
    },
    {
      "cell_type": "code",
      "execution_count": 104,
      "id": "ffbf93d2-8a68-45ae-bf80-96e44077398e",
      "metadata": {
        "id": "ffbf93d2-8a68-45ae-bf80-96e44077398e"
      },
      "outputs": [],
      "source": [
        "xgb_model1=xgb_model.fit(train_data, y1)"
      ]
    },
    {
      "cell_type": "code",
      "execution_count": 105,
      "id": "a30a08cf-dbb1-4938-ba49-7b6ba2515130",
      "metadata": {
        "colab": {
          "base_uri": "https://localhost:8080/"
        },
        "id": "a30a08cf-dbb1-4938-ba49-7b6ba2515130",
        "outputId": "65a4628d-a4bb-4649-8da6-abf7ddb9fae5"
      },
      "outputs": [
        {
          "output_type": "execute_result",
          "data": {
            "text/plain": [
              "XGBRegressor(base_score=0.5, booster='gbtree', callbacks=None,\n",
              "             colsample_bylevel=1, colsample_bynode=1, colsample_bytree=1,\n",
              "             early_stopping_rounds=None, enable_categorical=False,\n",
              "             eval_metric=None, gamma=0, gpu_id=-1, grow_policy='depthwise',\n",
              "             importance_type=None, interaction_constraints='',\n",
              "             learning_rate=0.300000012, max_bin=256, max_cat_to_onehot=4,\n",
              "             max_delta_step=0, max_depth=2, max_leaves=0, min_child_weight=1,\n",
              "             missing=nan, monotone_constraints='()', n_estimators=1000,\n",
              "             n_jobs=0, num_parallel_tree=1, predictor='auto', random_state=0,\n",
              "             reg_alpha=0, reg_lambda=1, ...)"
            ]
          },
          "metadata": {},
          "execution_count": 105
        }
      ],
      "source": [
        "xgb_model1"
      ]
    },
    {
      "cell_type": "markdown",
      "id": "f3b8e140-9df0-4c80-b7f8-f707edc85550",
      "metadata": {
        "id": "f3b8e140-9df0-4c80-b7f8-f707edc85550"
      },
      "source": [
        "* y_preds"
      ]
    },
    {
      "cell_type": "code",
      "execution_count": 106,
      "id": "f8588ca2-02d7-4c21-93b4-d1cd4f2b4145",
      "metadata": {
        "id": "f8588ca2-02d7-4c21-93b4-d1cd4f2b4145"
      },
      "outputs": [],
      "source": [
        "y_preds = xgb_model1.predict(test_data)"
      ]
    },
    {
      "cell_type": "markdown",
      "id": "c6553ff1-1f6a-4fbb-b3b1-7edc8e405863",
      "metadata": {
        "id": "c6553ff1-1f6a-4fbb-b3b1-7edc8e405863"
      },
      "source": [
        "* test데이터"
      ]
    },
    {
      "cell_type": "code",
      "execution_count": 107,
      "id": "c7bf136f-77fb-4390-b5a1-a43b4eff0d57",
      "metadata": {
        "id": "c7bf136f-77fb-4390-b5a1-a43b4eff0d57"
      },
      "outputs": [],
      "source": [
        "y1_test = np.array(y1_test)"
      ]
    },
    {
      "cell_type": "markdown",
      "id": "a573cd60-f29d-4635-aa9a-c8b020f5da7c",
      "metadata": {
        "id": "a573cd60-f29d-4635-aa9a-c8b020f5da7c"
      },
      "source": [
        "* score 보기"
      ]
    },
    {
      "cell_type": "code",
      "execution_count": 108,
      "id": "b69c82a0-4cd8-4d96-951c-645ec894c996",
      "metadata": {
        "colab": {
          "base_uri": "https://localhost:8080/"
        },
        "id": "b69c82a0-4cd8-4d96-951c-645ec894c996",
        "outputId": "73279e1d-1ed2-469d-b2da-76b7ab7e88f6"
      },
      "outputs": [
        {
          "output_type": "execute_result",
          "data": {
            "text/plain": [
              "0.9994929559860567"
            ]
          },
          "metadata": {},
          "execution_count": 108
        }
      ],
      "source": [
        "xgb_model1.score(test_data, y1_test)"
      ]
    },
    {
      "cell_type": "code",
      "source": [
        "y1_test.shape"
      ],
      "metadata": {
        "colab": {
          "base_uri": "https://localhost:8080/"
        },
        "id": "GPPlpTbZBDH-",
        "outputId": "c4697353-498b-47e8-953d-09ace993ae88"
      },
      "id": "GPPlpTbZBDH-",
      "execution_count": 109,
      "outputs": [
        {
          "output_type": "execute_result",
          "data": {
            "text/plain": [
              "(6912,)"
            ]
          },
          "metadata": {},
          "execution_count": 109
        }
      ]
    },
    {
      "cell_type": "markdown",
      "id": "4315c9c5-6e81-4f50-95f0-1782acf815fd",
      "metadata": {
        "id": "4315c9c5-6e81-4f50-95f0-1782acf815fd"
      },
      "source": [
        "## 종속2"
      ]
    },
    {
      "cell_type": "code",
      "execution_count": 110,
      "id": "1e272d72-eea9-4a94-b9a3-159c2d216df9",
      "metadata": {
        "id": "1e272d72-eea9-4a94-b9a3-159c2d216df9"
      },
      "outputs": [],
      "source": [
        "y2_train = np.array(y2)"
      ]
    },
    {
      "cell_type": "code",
      "execution_count": 111,
      "id": "5a7bd302-ae26-42de-884a-b19de2a4f147",
      "metadata": {
        "colab": {
          "base_uri": "https://localhost:8080/"
        },
        "id": "5a7bd302-ae26-42de-884a-b19de2a4f147",
        "outputId": "1022596e-7f27-4064-9700-894c7d5a90e5"
      },
      "outputs": [
        {
          "output_type": "execute_result",
          "data": {
            "text/plain": [
              "XGBRegressor(base_score=0.5, booster='gbtree', callbacks=None,\n",
              "             colsample_bylevel=1, colsample_bynode=1, colsample_bytree=1,\n",
              "             early_stopping_rounds=None, enable_categorical=False,\n",
              "             eval_metric=None, gamma=0, gpu_id=-1, grow_policy='depthwise',\n",
              "             importance_type=None, interaction_constraints='',\n",
              "             learning_rate=0.300000012, max_bin=256, max_cat_to_onehot=4,\n",
              "             max_delta_step=0, max_depth=2, max_leaves=0, min_child_weight=1,\n",
              "             missing=nan, monotone_constraints='()', n_estimators=1000,\n",
              "             n_jobs=0, num_parallel_tree=1, predictor='auto', random_state=0,\n",
              "             reg_alpha=0, reg_lambda=1, ...)"
            ]
          },
          "metadata": {},
          "execution_count": 111
        }
      ],
      "source": [
        "xgb_model.fit(train_data, y2)"
      ]
    },
    {
      "cell_type": "code",
      "execution_count": 112,
      "id": "0af9ff46-82a9-463a-9b31-1db4eb3fcf4b",
      "metadata": {
        "id": "0af9ff46-82a9-463a-9b31-1db4eb3fcf4b"
      },
      "outputs": [],
      "source": [
        "y_preds2 = xgb_model.predict(test_data)"
      ]
    },
    {
      "cell_type": "code",
      "execution_count": 113,
      "id": "de0bc84a-84a6-48fc-97a7-3fc2721f0ef6",
      "metadata": {
        "id": "de0bc84a-84a6-48fc-97a7-3fc2721f0ef6"
      },
      "outputs": [],
      "source": [
        "y2_test = np.array(y2_test)"
      ]
    },
    {
      "cell_type": "code",
      "execution_count": 114,
      "id": "bf14bc56-c937-40c7-8abf-ff9847ebb157",
      "metadata": {
        "colab": {
          "base_uri": "https://localhost:8080/"
        },
        "id": "bf14bc56-c937-40c7-8abf-ff9847ebb157",
        "outputId": "d6568b7b-3d13-463f-ba48-b4f63d6fed6e"
      },
      "outputs": [
        {
          "output_type": "execute_result",
          "data": {
            "text/plain": [
              "0.9944766166268493"
            ]
          },
          "metadata": {},
          "execution_count": 114
        }
      ],
      "source": [
        "xgb_model.score(test_data, y2_test)"
      ]
    },
    {
      "cell_type": "markdown",
      "id": "00d81a68-4a8e-4939-96c1-e294f3a1ab3d",
      "metadata": {
        "id": "00d81a68-4a8e-4939-96c1-e294f3a1ab3d"
      },
      "source": [
        "## 종속3"
      ]
    },
    {
      "cell_type": "code",
      "execution_count": 115,
      "id": "a2abf803-f740-402c-ab04-b30db7be8985",
      "metadata": {
        "id": "a2abf803-f740-402c-ab04-b30db7be8985"
      },
      "outputs": [],
      "source": [
        "y3_train = np.array(y3)"
      ]
    },
    {
      "cell_type": "code",
      "execution_count": 116,
      "id": "e737a301-88e1-4813-b03f-1f69836b2fac",
      "metadata": {
        "colab": {
          "base_uri": "https://localhost:8080/"
        },
        "id": "e737a301-88e1-4813-b03f-1f69836b2fac",
        "outputId": "7f0a2f99-4d8f-4af7-cfc6-1e0a9a40311b"
      },
      "outputs": [
        {
          "output_type": "execute_result",
          "data": {
            "text/plain": [
              "XGBRegressor(base_score=0.5, booster='gbtree', callbacks=None,\n",
              "             colsample_bylevel=1, colsample_bynode=1, colsample_bytree=1,\n",
              "             early_stopping_rounds=None, enable_categorical=False,\n",
              "             eval_metric=None, gamma=0, gpu_id=-1, grow_policy='depthwise',\n",
              "             importance_type=None, interaction_constraints='',\n",
              "             learning_rate=0.300000012, max_bin=256, max_cat_to_onehot=4,\n",
              "             max_delta_step=0, max_depth=2, max_leaves=0, min_child_weight=1,\n",
              "             missing=nan, monotone_constraints='()', n_estimators=1000,\n",
              "             n_jobs=0, num_parallel_tree=1, predictor='auto', random_state=0,\n",
              "             reg_alpha=0, reg_lambda=1, ...)"
            ]
          },
          "metadata": {},
          "execution_count": 116
        }
      ],
      "source": [
        "xgb_model.fit(train_data, y3)"
      ]
    },
    {
      "cell_type": "code",
      "execution_count": 117,
      "id": "9848adef-fe4a-4aad-9ef8-735f6f0b6dc7",
      "metadata": {
        "id": "9848adef-fe4a-4aad-9ef8-735f6f0b6dc7"
      },
      "outputs": [],
      "source": [
        "y_preds3 = xgb_model.predict(test_data)"
      ]
    },
    {
      "cell_type": "code",
      "execution_count": 118,
      "id": "c0d7b3fb-504e-4c86-b63a-9f5429d38753",
      "metadata": {
        "id": "c0d7b3fb-504e-4c86-b63a-9f5429d38753"
      },
      "outputs": [],
      "source": [
        "y3_test = np.array(y3_test)"
      ]
    },
    {
      "cell_type": "code",
      "execution_count": 119,
      "id": "f4df5a0d-c89e-4ae5-8ea3-b0b83184bd78",
      "metadata": {
        "colab": {
          "base_uri": "https://localhost:8080/"
        },
        "id": "f4df5a0d-c89e-4ae5-8ea3-b0b83184bd78",
        "outputId": "d2478e47-5adf-42f9-8e98-04a60fc5d892"
      },
      "outputs": [
        {
          "output_type": "execute_result",
          "data": {
            "text/plain": [
              "0.9976751390140435"
            ]
          },
          "metadata": {},
          "execution_count": 119
        }
      ],
      "source": [
        "xgb_model.score(test_data, y3_test)"
      ]
    },
    {
      "cell_type": "markdown",
      "id": "5ec47af9-90cb-4dc8-bb8e-118f5f54a229",
      "metadata": {
        "id": "5ec47af9-90cb-4dc8-bb8e-118f5f54a229"
      },
      "source": [
        "## 종속 4"
      ]
    },
    {
      "cell_type": "code",
      "execution_count": 120,
      "id": "fec1441f-937d-4800-8bd6-220333aaf0c8",
      "metadata": {
        "id": "fec1441f-937d-4800-8bd6-220333aaf0c8"
      },
      "outputs": [],
      "source": [
        "y4_train = np.array(y4)"
      ]
    },
    {
      "cell_type": "code",
      "execution_count": 121,
      "id": "848427f6-7b9a-400d-b29b-d93245195e7f",
      "metadata": {
        "colab": {
          "base_uri": "https://localhost:8080/"
        },
        "id": "848427f6-7b9a-400d-b29b-d93245195e7f",
        "outputId": "d08c4436-d6e1-4c99-8fb4-e9258286ecb4"
      },
      "outputs": [
        {
          "output_type": "execute_result",
          "data": {
            "text/plain": [
              "XGBRegressor(base_score=0.5, booster='gbtree', callbacks=None,\n",
              "             colsample_bylevel=1, colsample_bynode=1, colsample_bytree=1,\n",
              "             early_stopping_rounds=None, enable_categorical=False,\n",
              "             eval_metric=None, gamma=0, gpu_id=-1, grow_policy='depthwise',\n",
              "             importance_type=None, interaction_constraints='',\n",
              "             learning_rate=0.300000012, max_bin=256, max_cat_to_onehot=4,\n",
              "             max_delta_step=0, max_depth=2, max_leaves=0, min_child_weight=1,\n",
              "             missing=nan, monotone_constraints='()', n_estimators=1000,\n",
              "             n_jobs=0, num_parallel_tree=1, predictor='auto', random_state=0,\n",
              "             reg_alpha=0, reg_lambda=1, ...)"
            ]
          },
          "metadata": {},
          "execution_count": 121
        }
      ],
      "source": [
        "xgb_model.fit(train_data, y4_train)"
      ]
    },
    {
      "cell_type": "code",
      "execution_count": 122,
      "id": "1a5985f4-99ed-46c1-b49b-90f3e17a4da5",
      "metadata": {
        "id": "1a5985f4-99ed-46c1-b49b-90f3e17a4da5"
      },
      "outputs": [],
      "source": [
        "y_preds4 = xgb_model.predict(test_data)"
      ]
    },
    {
      "cell_type": "code",
      "execution_count": 123,
      "id": "e251a149-ac38-4a17-8875-028c10494446",
      "metadata": {
        "id": "e251a149-ac38-4a17-8875-028c10494446"
      },
      "outputs": [],
      "source": [
        "y4_test = np.array(y4_test)"
      ]
    },
    {
      "cell_type": "code",
      "execution_count": 124,
      "id": "cb50e42f-e9cf-4c23-9993-cac77e55e9de",
      "metadata": {
        "colab": {
          "base_uri": "https://localhost:8080/"
        },
        "id": "cb50e42f-e9cf-4c23-9993-cac77e55e9de",
        "outputId": "484dc246-cf7d-4e35-e15f-05e827c833f8"
      },
      "outputs": [
        {
          "output_type": "execute_result",
          "data": {
            "text/plain": [
              "0.9999737480693739"
            ]
          },
          "metadata": {},
          "execution_count": 124
        }
      ],
      "source": [
        "xgb_model.score(test_data, y4_test)"
      ]
    },
    {
      "cell_type": "markdown",
      "id": "451d5f76-688b-46c9-af9c-d1298e96552b",
      "metadata": {
        "id": "451d5f76-688b-46c9-af9c-d1298e96552b"
      },
      "source": [
        "## 합치기"
      ]
    },
    {
      "cell_type": "markdown",
      "id": "8e89c2a0-0c98-45a1-8082-fc6964c29c71",
      "metadata": {
        "id": "8e89c2a0-0c98-45a1-8082-fc6964c29c71"
      },
      "source": [
        "### test"
      ]
    },
    {
      "cell_type": "code",
      "execution_count": 125,
      "id": "27b6c6f3-2880-4e66-8bd6-72f52c36b82d",
      "metadata": {
        "id": "27b6c6f3-2880-4e66-8bd6-72f52c36b82d"
      },
      "outputs": [],
      "source": [
        "y1_test = pd.DataFrame(y1_test)\n",
        "y2_test = pd.DataFrame(y2_test)\n",
        "y3_test = pd.DataFrame(y3_test)\n",
        "y4_test = pd.DataFrame(y4_test)"
      ]
    },
    {
      "cell_type": "code",
      "source": [
        "print(y1_test.shape)\n",
        "print(y2_test.shape)\n",
        "print(y3_test.shape)\n",
        "print(y4_test.shape)"
      ],
      "metadata": {
        "colab": {
          "base_uri": "https://localhost:8080/"
        },
        "id": "xTMsYC-0-pzN",
        "outputId": "c7a87b26-4bc3-4780-e02a-fdb2d2c33d04"
      },
      "id": "xTMsYC-0-pzN",
      "execution_count": 126,
      "outputs": [
        {
          "output_type": "stream",
          "name": "stdout",
          "text": [
            "(6912, 1)\n",
            "(6912, 1)\n",
            "(6912, 1)\n",
            "(6912, 1)\n"
          ]
        }
      ]
    },
    {
      "cell_type": "code",
      "execution_count": 127,
      "id": "25c1c1be-e465-4c0d-8a63-6afb1ee41cd9",
      "metadata": {
        "id": "25c1c1be-e465-4c0d-8a63-6afb1ee41cd9"
      },
      "outputs": [],
      "source": [
        "y_test=pd.concat([y1_test,y2_test,y3_test,y4_test], axis = 1)\n",
        "y_test.columns = ['wl_1018662','wl_1018680','wl_1018683','wl_1019630']"
      ]
    },
    {
      "cell_type": "code",
      "execution_count": 128,
      "id": "ec2d8a6f-e9fc-4919-bb3c-77fd1f7c2198",
      "metadata": {
        "colab": {
          "base_uri": "https://localhost:8080/",
          "height": 424
        },
        "id": "ec2d8a6f-e9fc-4919-bb3c-77fd1f7c2198",
        "outputId": "892b4696-3a1b-4068-d588-28d268495718"
      },
      "outputs": [
        {
          "output_type": "execute_result",
          "data": {
            "text/plain": [
              "      wl_1018662  wl_1018680  wl_1018683  wl_1019630\n",
              "0          279.0       276.0       274.0       269.0\n",
              "1          281.0       277.0       274.0       267.0\n",
              "2          284.0       277.0       274.0       264.0\n",
              "3          285.0       277.0       274.0       261.0\n",
              "4          284.0       278.0       274.0       259.0\n",
              "...          ...         ...         ...         ...\n",
              "6907       288.0       295.0       299.0       306.0\n",
              "6908       287.0       303.0       304.0       308.0\n",
              "6909       299.0       307.0       309.0       310.0\n",
              "6910       309.0       311.0       314.0       312.0\n",
              "6911       326.0       314.0       317.0       313.0\n",
              "\n",
              "[6912 rows x 4 columns]"
            ],
            "text/html": [
              "\n",
              "  <div id=\"df-b4c512b5-5c19-4d69-b4b2-1662fdbab86e\">\n",
              "    <div class=\"colab-df-container\">\n",
              "      <div>\n",
              "<style scoped>\n",
              "    .dataframe tbody tr th:only-of-type {\n",
              "        vertical-align: middle;\n",
              "    }\n",
              "\n",
              "    .dataframe tbody tr th {\n",
              "        vertical-align: top;\n",
              "    }\n",
              "\n",
              "    .dataframe thead th {\n",
              "        text-align: right;\n",
              "    }\n",
              "</style>\n",
              "<table border=\"1\" class=\"dataframe\">\n",
              "  <thead>\n",
              "    <tr style=\"text-align: right;\">\n",
              "      <th></th>\n",
              "      <th>wl_1018662</th>\n",
              "      <th>wl_1018680</th>\n",
              "      <th>wl_1018683</th>\n",
              "      <th>wl_1019630</th>\n",
              "    </tr>\n",
              "  </thead>\n",
              "  <tbody>\n",
              "    <tr>\n",
              "      <th>0</th>\n",
              "      <td>279.0</td>\n",
              "      <td>276.0</td>\n",
              "      <td>274.0</td>\n",
              "      <td>269.0</td>\n",
              "    </tr>\n",
              "    <tr>\n",
              "      <th>1</th>\n",
              "      <td>281.0</td>\n",
              "      <td>277.0</td>\n",
              "      <td>274.0</td>\n",
              "      <td>267.0</td>\n",
              "    </tr>\n",
              "    <tr>\n",
              "      <th>2</th>\n",
              "      <td>284.0</td>\n",
              "      <td>277.0</td>\n",
              "      <td>274.0</td>\n",
              "      <td>264.0</td>\n",
              "    </tr>\n",
              "    <tr>\n",
              "      <th>3</th>\n",
              "      <td>285.0</td>\n",
              "      <td>277.0</td>\n",
              "      <td>274.0</td>\n",
              "      <td>261.0</td>\n",
              "    </tr>\n",
              "    <tr>\n",
              "      <th>4</th>\n",
              "      <td>284.0</td>\n",
              "      <td>278.0</td>\n",
              "      <td>274.0</td>\n",
              "      <td>259.0</td>\n",
              "    </tr>\n",
              "    <tr>\n",
              "      <th>...</th>\n",
              "      <td>...</td>\n",
              "      <td>...</td>\n",
              "      <td>...</td>\n",
              "      <td>...</td>\n",
              "    </tr>\n",
              "    <tr>\n",
              "      <th>6907</th>\n",
              "      <td>288.0</td>\n",
              "      <td>295.0</td>\n",
              "      <td>299.0</td>\n",
              "      <td>306.0</td>\n",
              "    </tr>\n",
              "    <tr>\n",
              "      <th>6908</th>\n",
              "      <td>287.0</td>\n",
              "      <td>303.0</td>\n",
              "      <td>304.0</td>\n",
              "      <td>308.0</td>\n",
              "    </tr>\n",
              "    <tr>\n",
              "      <th>6909</th>\n",
              "      <td>299.0</td>\n",
              "      <td>307.0</td>\n",
              "      <td>309.0</td>\n",
              "      <td>310.0</td>\n",
              "    </tr>\n",
              "    <tr>\n",
              "      <th>6910</th>\n",
              "      <td>309.0</td>\n",
              "      <td>311.0</td>\n",
              "      <td>314.0</td>\n",
              "      <td>312.0</td>\n",
              "    </tr>\n",
              "    <tr>\n",
              "      <th>6911</th>\n",
              "      <td>326.0</td>\n",
              "      <td>314.0</td>\n",
              "      <td>317.0</td>\n",
              "      <td>313.0</td>\n",
              "    </tr>\n",
              "  </tbody>\n",
              "</table>\n",
              "<p>6912 rows × 4 columns</p>\n",
              "</div>\n",
              "      <button class=\"colab-df-convert\" onclick=\"convertToInteractive('df-b4c512b5-5c19-4d69-b4b2-1662fdbab86e')\"\n",
              "              title=\"Convert this dataframe to an interactive table.\"\n",
              "              style=\"display:none;\">\n",
              "        \n",
              "  <svg xmlns=\"http://www.w3.org/2000/svg\" height=\"24px\"viewBox=\"0 0 24 24\"\n",
              "       width=\"24px\">\n",
              "    <path d=\"M0 0h24v24H0V0z\" fill=\"none\"/>\n",
              "    <path d=\"M18.56 5.44l.94 2.06.94-2.06 2.06-.94-2.06-.94-.94-2.06-.94 2.06-2.06.94zm-11 1L8.5 8.5l.94-2.06 2.06-.94-2.06-.94L8.5 2.5l-.94 2.06-2.06.94zm10 10l.94 2.06.94-2.06 2.06-.94-2.06-.94-.94-2.06-.94 2.06-2.06.94z\"/><path d=\"M17.41 7.96l-1.37-1.37c-.4-.4-.92-.59-1.43-.59-.52 0-1.04.2-1.43.59L10.3 9.45l-7.72 7.72c-.78.78-.78 2.05 0 2.83L4 21.41c.39.39.9.59 1.41.59.51 0 1.02-.2 1.41-.59l7.78-7.78 2.81-2.81c.8-.78.8-2.07 0-2.86zM5.41 20L4 18.59l7.72-7.72 1.47 1.35L5.41 20z\"/>\n",
              "  </svg>\n",
              "      </button>\n",
              "      \n",
              "  <style>\n",
              "    .colab-df-container {\n",
              "      display:flex;\n",
              "      flex-wrap:wrap;\n",
              "      gap: 12px;\n",
              "    }\n",
              "\n",
              "    .colab-df-convert {\n",
              "      background-color: #E8F0FE;\n",
              "      border: none;\n",
              "      border-radius: 50%;\n",
              "      cursor: pointer;\n",
              "      display: none;\n",
              "      fill: #1967D2;\n",
              "      height: 32px;\n",
              "      padding: 0 0 0 0;\n",
              "      width: 32px;\n",
              "    }\n",
              "\n",
              "    .colab-df-convert:hover {\n",
              "      background-color: #E2EBFA;\n",
              "      box-shadow: 0px 1px 2px rgba(60, 64, 67, 0.3), 0px 1px 3px 1px rgba(60, 64, 67, 0.15);\n",
              "      fill: #174EA6;\n",
              "    }\n",
              "\n",
              "    [theme=dark] .colab-df-convert {\n",
              "      background-color: #3B4455;\n",
              "      fill: #D2E3FC;\n",
              "    }\n",
              "\n",
              "    [theme=dark] .colab-df-convert:hover {\n",
              "      background-color: #434B5C;\n",
              "      box-shadow: 0px 1px 3px 1px rgba(0, 0, 0, 0.15);\n",
              "      filter: drop-shadow(0px 1px 2px rgba(0, 0, 0, 0.3));\n",
              "      fill: #FFFFFF;\n",
              "    }\n",
              "  </style>\n",
              "\n",
              "      <script>\n",
              "        const buttonEl =\n",
              "          document.querySelector('#df-b4c512b5-5c19-4d69-b4b2-1662fdbab86e button.colab-df-convert');\n",
              "        buttonEl.style.display =\n",
              "          google.colab.kernel.accessAllowed ? 'block' : 'none';\n",
              "\n",
              "        async function convertToInteractive(key) {\n",
              "          const element = document.querySelector('#df-b4c512b5-5c19-4d69-b4b2-1662fdbab86e');\n",
              "          const dataTable =\n",
              "            await google.colab.kernel.invokeFunction('convertToInteractive',\n",
              "                                                     [key], {});\n",
              "          if (!dataTable) return;\n",
              "\n",
              "          const docLinkHtml = 'Like what you see? Visit the ' +\n",
              "            '<a target=\"_blank\" href=https://colab.research.google.com/notebooks/data_table.ipynb>data table notebook</a>'\n",
              "            + ' to learn more about interactive tables.';\n",
              "          element.innerHTML = '';\n",
              "          dataTable['output_type'] = 'display_data';\n",
              "          await google.colab.output.renderOutput(dataTable, element);\n",
              "          const docLink = document.createElement('div');\n",
              "          docLink.innerHTML = docLinkHtml;\n",
              "          element.appendChild(docLink);\n",
              "        }\n",
              "      </script>\n",
              "    </div>\n",
              "  </div>\n",
              "  "
            ]
          },
          "metadata": {},
          "execution_count": 128
        }
      ],
      "source": [
        "y_test"
      ]
    },
    {
      "cell_type": "code",
      "source": [
        "y_test.shape"
      ],
      "metadata": {
        "colab": {
          "base_uri": "https://localhost:8080/"
        },
        "id": "h_C_J7o1-lS1",
        "outputId": "54814403-296c-4621-a2d1-70a5f5953b1c"
      },
      "id": "h_C_J7o1-lS1",
      "execution_count": 129,
      "outputs": [
        {
          "output_type": "execute_result",
          "data": {
            "text/plain": [
              "(6912, 4)"
            ]
          },
          "metadata": {},
          "execution_count": 129
        }
      ]
    },
    {
      "cell_type": "markdown",
      "id": "e445afad-8f63-4cb7-a572-af6209ee1d2e",
      "metadata": {
        "id": "e445afad-8f63-4cb7-a572-af6209ee1d2e"
      },
      "source": [
        "### train"
      ]
    },
    {
      "cell_type": "code",
      "execution_count": 130,
      "id": "aac56fa5-107f-48fb-92bb-f25d0a7e6501",
      "metadata": {
        "id": "aac56fa5-107f-48fb-92bb-f25d0a7e6501"
      },
      "outputs": [],
      "source": [
        "y1_train = pd.DataFrame(y1)\n",
        "y2_train = pd.DataFrame(y2)\n",
        "y3_train = pd.DataFrame(y3)\n",
        "y4_train = pd.DataFrame(y4)"
      ]
    },
    {
      "cell_type": "code",
      "source": [
        "print(y1_train.shape)\n",
        "print(y2_train.shape)\n",
        "print(y3_train.shape)\n",
        "print(y4_train.shape)"
      ],
      "metadata": {
        "colab": {
          "base_uri": "https://localhost:8080/"
        },
        "id": "hJkxc2aQ_S-7",
        "outputId": "067fd85d-3ceb-48cc-8653-e2e826e7f500"
      },
      "id": "hJkxc2aQ_S-7",
      "execution_count": 131,
      "outputs": [
        {
          "output_type": "stream",
          "name": "stdout",
          "text": [
            "(269424, 1)\n",
            "(269424, 1)\n",
            "(269424, 1)\n",
            "(269424, 1)\n"
          ]
        }
      ]
    },
    {
      "cell_type": "code",
      "execution_count": 132,
      "id": "1eba91a4-c118-4f76-a90b-912b7543ba83",
      "metadata": {
        "id": "1eba91a4-c118-4f76-a90b-912b7543ba83"
      },
      "outputs": [],
      "source": [
        "y_train=pd.concat([y1_train,y2_train,y3_train,y4_train], axis = 1)\n",
        "y_train.columns = ['wl_1018662','wl_1018680','wl_1018683','wl_1019630']"
      ]
    },
    {
      "cell_type": "code",
      "execution_count": 133,
      "id": "983e96d2-84d4-4a64-b42e-89ad75be1c8a",
      "metadata": {
        "colab": {
          "base_uri": "https://localhost:8080/",
          "height": 424
        },
        "id": "983e96d2-84d4-4a64-b42e-89ad75be1c8a",
        "outputId": "141270f5-51db-4ed0-e096-12091b02b0ff"
      },
      "outputs": [
        {
          "output_type": "execute_result",
          "data": {
            "text/plain": [
              "                     wl_1018662  wl_1018680  wl_1018683  wl_1019630\n",
              "0                         310.7         NaN         NaN         NaN\n",
              "1                         314.7         NaN         NaN         NaN\n",
              "2                         313.7         NaN         NaN         NaN\n",
              "3                         311.7         NaN         NaN         NaN\n",
              "4                         311.7         NaN         NaN         NaN\n",
              "...                         ...         ...         ...         ...\n",
              "2022-05-31 23:10:00         NaN       281.2       278.0       271.3\n",
              "2022-05-31 23:20:00         NaN       279.2       278.0       272.3\n",
              "2022-05-31 23:30:00         NaN       277.2       277.0       272.3\n",
              "2022-05-31 23:40:00         NaN       276.2       276.0       271.3\n",
              "2022-05-31 23:50:00         NaN       276.2       275.0       270.3\n",
              "\n",
              "[538848 rows x 4 columns]"
            ],
            "text/html": [
              "\n",
              "  <div id=\"df-ea7badf5-36d9-42cb-83eb-8cd1664b5193\">\n",
              "    <div class=\"colab-df-container\">\n",
              "      <div>\n",
              "<style scoped>\n",
              "    .dataframe tbody tr th:only-of-type {\n",
              "        vertical-align: middle;\n",
              "    }\n",
              "\n",
              "    .dataframe tbody tr th {\n",
              "        vertical-align: top;\n",
              "    }\n",
              "\n",
              "    .dataframe thead th {\n",
              "        text-align: right;\n",
              "    }\n",
              "</style>\n",
              "<table border=\"1\" class=\"dataframe\">\n",
              "  <thead>\n",
              "    <tr style=\"text-align: right;\">\n",
              "      <th></th>\n",
              "      <th>wl_1018662</th>\n",
              "      <th>wl_1018680</th>\n",
              "      <th>wl_1018683</th>\n",
              "      <th>wl_1019630</th>\n",
              "    </tr>\n",
              "  </thead>\n",
              "  <tbody>\n",
              "    <tr>\n",
              "      <th>0</th>\n",
              "      <td>310.7</td>\n",
              "      <td>NaN</td>\n",
              "      <td>NaN</td>\n",
              "      <td>NaN</td>\n",
              "    </tr>\n",
              "    <tr>\n",
              "      <th>1</th>\n",
              "      <td>314.7</td>\n",
              "      <td>NaN</td>\n",
              "      <td>NaN</td>\n",
              "      <td>NaN</td>\n",
              "    </tr>\n",
              "    <tr>\n",
              "      <th>2</th>\n",
              "      <td>313.7</td>\n",
              "      <td>NaN</td>\n",
              "      <td>NaN</td>\n",
              "      <td>NaN</td>\n",
              "    </tr>\n",
              "    <tr>\n",
              "      <th>3</th>\n",
              "      <td>311.7</td>\n",
              "      <td>NaN</td>\n",
              "      <td>NaN</td>\n",
              "      <td>NaN</td>\n",
              "    </tr>\n",
              "    <tr>\n",
              "      <th>4</th>\n",
              "      <td>311.7</td>\n",
              "      <td>NaN</td>\n",
              "      <td>NaN</td>\n",
              "      <td>NaN</td>\n",
              "    </tr>\n",
              "    <tr>\n",
              "      <th>...</th>\n",
              "      <td>...</td>\n",
              "      <td>...</td>\n",
              "      <td>...</td>\n",
              "      <td>...</td>\n",
              "    </tr>\n",
              "    <tr>\n",
              "      <th>2022-05-31 23:10:00</th>\n",
              "      <td>NaN</td>\n",
              "      <td>281.2</td>\n",
              "      <td>278.0</td>\n",
              "      <td>271.3</td>\n",
              "    </tr>\n",
              "    <tr>\n",
              "      <th>2022-05-31 23:20:00</th>\n",
              "      <td>NaN</td>\n",
              "      <td>279.2</td>\n",
              "      <td>278.0</td>\n",
              "      <td>272.3</td>\n",
              "    </tr>\n",
              "    <tr>\n",
              "      <th>2022-05-31 23:30:00</th>\n",
              "      <td>NaN</td>\n",
              "      <td>277.2</td>\n",
              "      <td>277.0</td>\n",
              "      <td>272.3</td>\n",
              "    </tr>\n",
              "    <tr>\n",
              "      <th>2022-05-31 23:40:00</th>\n",
              "      <td>NaN</td>\n",
              "      <td>276.2</td>\n",
              "      <td>276.0</td>\n",
              "      <td>271.3</td>\n",
              "    </tr>\n",
              "    <tr>\n",
              "      <th>2022-05-31 23:50:00</th>\n",
              "      <td>NaN</td>\n",
              "      <td>276.2</td>\n",
              "      <td>275.0</td>\n",
              "      <td>270.3</td>\n",
              "    </tr>\n",
              "  </tbody>\n",
              "</table>\n",
              "<p>538848 rows × 4 columns</p>\n",
              "</div>\n",
              "      <button class=\"colab-df-convert\" onclick=\"convertToInteractive('df-ea7badf5-36d9-42cb-83eb-8cd1664b5193')\"\n",
              "              title=\"Convert this dataframe to an interactive table.\"\n",
              "              style=\"display:none;\">\n",
              "        \n",
              "  <svg xmlns=\"http://www.w3.org/2000/svg\" height=\"24px\"viewBox=\"0 0 24 24\"\n",
              "       width=\"24px\">\n",
              "    <path d=\"M0 0h24v24H0V0z\" fill=\"none\"/>\n",
              "    <path d=\"M18.56 5.44l.94 2.06.94-2.06 2.06-.94-2.06-.94-.94-2.06-.94 2.06-2.06.94zm-11 1L8.5 8.5l.94-2.06 2.06-.94-2.06-.94L8.5 2.5l-.94 2.06-2.06.94zm10 10l.94 2.06.94-2.06 2.06-.94-2.06-.94-.94-2.06-.94 2.06-2.06.94z\"/><path d=\"M17.41 7.96l-1.37-1.37c-.4-.4-.92-.59-1.43-.59-.52 0-1.04.2-1.43.59L10.3 9.45l-7.72 7.72c-.78.78-.78 2.05 0 2.83L4 21.41c.39.39.9.59 1.41.59.51 0 1.02-.2 1.41-.59l7.78-7.78 2.81-2.81c.8-.78.8-2.07 0-2.86zM5.41 20L4 18.59l7.72-7.72 1.47 1.35L5.41 20z\"/>\n",
              "  </svg>\n",
              "      </button>\n",
              "      \n",
              "  <style>\n",
              "    .colab-df-container {\n",
              "      display:flex;\n",
              "      flex-wrap:wrap;\n",
              "      gap: 12px;\n",
              "    }\n",
              "\n",
              "    .colab-df-convert {\n",
              "      background-color: #E8F0FE;\n",
              "      border: none;\n",
              "      border-radius: 50%;\n",
              "      cursor: pointer;\n",
              "      display: none;\n",
              "      fill: #1967D2;\n",
              "      height: 32px;\n",
              "      padding: 0 0 0 0;\n",
              "      width: 32px;\n",
              "    }\n",
              "\n",
              "    .colab-df-convert:hover {\n",
              "      background-color: #E2EBFA;\n",
              "      box-shadow: 0px 1px 2px rgba(60, 64, 67, 0.3), 0px 1px 3px 1px rgba(60, 64, 67, 0.15);\n",
              "      fill: #174EA6;\n",
              "    }\n",
              "\n",
              "    [theme=dark] .colab-df-convert {\n",
              "      background-color: #3B4455;\n",
              "      fill: #D2E3FC;\n",
              "    }\n",
              "\n",
              "    [theme=dark] .colab-df-convert:hover {\n",
              "      background-color: #434B5C;\n",
              "      box-shadow: 0px 1px 3px 1px rgba(0, 0, 0, 0.15);\n",
              "      filter: drop-shadow(0px 1px 2px rgba(0, 0, 0, 0.3));\n",
              "      fill: #FFFFFF;\n",
              "    }\n",
              "  </style>\n",
              "\n",
              "      <script>\n",
              "        const buttonEl =\n",
              "          document.querySelector('#df-ea7badf5-36d9-42cb-83eb-8cd1664b5193 button.colab-df-convert');\n",
              "        buttonEl.style.display =\n",
              "          google.colab.kernel.accessAllowed ? 'block' : 'none';\n",
              "\n",
              "        async function convertToInteractive(key) {\n",
              "          const element = document.querySelector('#df-ea7badf5-36d9-42cb-83eb-8cd1664b5193');\n",
              "          const dataTable =\n",
              "            await google.colab.kernel.invokeFunction('convertToInteractive',\n",
              "                                                     [key], {});\n",
              "          if (!dataTable) return;\n",
              "\n",
              "          const docLinkHtml = 'Like what you see? Visit the ' +\n",
              "            '<a target=\"_blank\" href=https://colab.research.google.com/notebooks/data_table.ipynb>data table notebook</a>'\n",
              "            + ' to learn more about interactive tables.';\n",
              "          element.innerHTML = '';\n",
              "          dataTable['output_type'] = 'display_data';\n",
              "          await google.colab.output.renderOutput(dataTable, element);\n",
              "          const docLink = document.createElement('div');\n",
              "          docLink.innerHTML = docLinkHtml;\n",
              "          element.appendChild(docLink);\n",
              "        }\n",
              "      </script>\n",
              "    </div>\n",
              "  </div>\n",
              "  "
            ]
          },
          "metadata": {},
          "execution_count": 133
        }
      ],
      "source": [
        "y_train"
      ]
    },
    {
      "cell_type": "code",
      "source": [
        "y_train.shape"
      ],
      "metadata": {
        "colab": {
          "base_uri": "https://localhost:8080/"
        },
        "id": "996Usraf-hVd",
        "outputId": "672e63fc-49aa-42a4-c0b4-aea54336e393"
      },
      "id": "996Usraf-hVd",
      "execution_count": 134,
      "outputs": [
        {
          "output_type": "execute_result",
          "data": {
            "text/plain": [
              "(538848, 4)"
            ]
          },
          "metadata": {},
          "execution_count": 134
        }
      ]
    },
    {
      "cell_type": "markdown",
      "id": "7e166abb-0793-49b0-a721-a7d333c9f617",
      "metadata": {
        "id": "7e166abb-0793-49b0-a721-a7d333c9f617"
      },
      "source": [
        "# TEST data"
      ]
    },
    {
      "cell_type": "code",
      "source": [
        "# 표준화\n",
        "test_data_scaled = scaler.fit_transform(test_data)"
      ],
      "metadata": {
        "id": "s105OzKAzww-"
      },
      "id": "s105OzKAzww-",
      "execution_count": 135,
      "outputs": []
    },
    {
      "cell_type": "code",
      "source": [
        "test_data = pd.DataFrame(test_data_scaled,columns=test_data.columns)"
      ],
      "metadata": {
        "id": "hnTCbaSDzwuh"
      },
      "id": "hnTCbaSDzwuh",
      "execution_count": 136,
      "outputs": []
    },
    {
      "cell_type": "code",
      "source": [
        "test_data.head()"
      ],
      "metadata": {
        "colab": {
          "base_uri": "https://localhost:8080/",
          "height": 206
        },
        "id": "OfFoiNMwzwsn",
        "outputId": "166a2f9a-cbe3-4c25-dde6-73d040b05973"
      },
      "id": "OfFoiNMwzwsn",
      "execution_count": 137,
      "outputs": [
        {
          "output_type": "execute_result",
          "data": {
            "text/plain": [
              "        swl       inf       sfw      ecpc    tototf  tide_level  fw_1018662  \\\n",
              "0  1.575273 -0.478334  1.564882 -1.564882 -0.480119   -1.125241   -0.421477   \n",
              "1  1.575273 -0.478193  1.564882 -1.564882 -0.479968   -1.189069   -0.413937   \n",
              "2  1.655115  0.001116  1.645106 -1.645106 -0.479868   -1.247094   -0.402334   \n",
              "3  1.575273 -0.587891  1.564882 -1.564882 -0.479835   -1.310922   -0.398390   \n",
              "4  1.575273 -0.478310  1.564882 -1.564882 -0.480094   -1.368947   -0.402334   \n",
              "\n",
              "   fw_1018680  fw_1018683  fw_1019630  rf_10184100  rf_10184110  rf_10184140  \n",
              "0         0.0   -0.497826   -0.434363    -0.156112    -0.152065     -0.15499  \n",
              "1         0.0   -0.485315   -0.447857    -0.156112    -0.152065     -0.15499  \n",
              "2         0.0   -0.495323   -0.467489    -0.156112    -0.152065     -0.15499  \n",
              "3         0.0   -0.470307   -0.486377    -0.156112    -0.152065     -0.15499  \n",
              "4         0.0   -0.437786   -0.498562    -0.156112    -0.152065     -0.15499  "
            ],
            "text/html": [
              "\n",
              "  <div id=\"df-c3dcd214-93e0-4ce2-bfef-517554e5811a\">\n",
              "    <div class=\"colab-df-container\">\n",
              "      <div>\n",
              "<style scoped>\n",
              "    .dataframe tbody tr th:only-of-type {\n",
              "        vertical-align: middle;\n",
              "    }\n",
              "\n",
              "    .dataframe tbody tr th {\n",
              "        vertical-align: top;\n",
              "    }\n",
              "\n",
              "    .dataframe thead th {\n",
              "        text-align: right;\n",
              "    }\n",
              "</style>\n",
              "<table border=\"1\" class=\"dataframe\">\n",
              "  <thead>\n",
              "    <tr style=\"text-align: right;\">\n",
              "      <th></th>\n",
              "      <th>swl</th>\n",
              "      <th>inf</th>\n",
              "      <th>sfw</th>\n",
              "      <th>ecpc</th>\n",
              "      <th>tototf</th>\n",
              "      <th>tide_level</th>\n",
              "      <th>fw_1018662</th>\n",
              "      <th>fw_1018680</th>\n",
              "      <th>fw_1018683</th>\n",
              "      <th>fw_1019630</th>\n",
              "      <th>rf_10184100</th>\n",
              "      <th>rf_10184110</th>\n",
              "      <th>rf_10184140</th>\n",
              "    </tr>\n",
              "  </thead>\n",
              "  <tbody>\n",
              "    <tr>\n",
              "      <th>0</th>\n",
              "      <td>1.575273</td>\n",
              "      <td>-0.478334</td>\n",
              "      <td>1.564882</td>\n",
              "      <td>-1.564882</td>\n",
              "      <td>-0.480119</td>\n",
              "      <td>-1.125241</td>\n",
              "      <td>-0.421477</td>\n",
              "      <td>0.0</td>\n",
              "      <td>-0.497826</td>\n",
              "      <td>-0.434363</td>\n",
              "      <td>-0.156112</td>\n",
              "      <td>-0.152065</td>\n",
              "      <td>-0.15499</td>\n",
              "    </tr>\n",
              "    <tr>\n",
              "      <th>1</th>\n",
              "      <td>1.575273</td>\n",
              "      <td>-0.478193</td>\n",
              "      <td>1.564882</td>\n",
              "      <td>-1.564882</td>\n",
              "      <td>-0.479968</td>\n",
              "      <td>-1.189069</td>\n",
              "      <td>-0.413937</td>\n",
              "      <td>0.0</td>\n",
              "      <td>-0.485315</td>\n",
              "      <td>-0.447857</td>\n",
              "      <td>-0.156112</td>\n",
              "      <td>-0.152065</td>\n",
              "      <td>-0.15499</td>\n",
              "    </tr>\n",
              "    <tr>\n",
              "      <th>2</th>\n",
              "      <td>1.655115</td>\n",
              "      <td>0.001116</td>\n",
              "      <td>1.645106</td>\n",
              "      <td>-1.645106</td>\n",
              "      <td>-0.479868</td>\n",
              "      <td>-1.247094</td>\n",
              "      <td>-0.402334</td>\n",
              "      <td>0.0</td>\n",
              "      <td>-0.495323</td>\n",
              "      <td>-0.467489</td>\n",
              "      <td>-0.156112</td>\n",
              "      <td>-0.152065</td>\n",
              "      <td>-0.15499</td>\n",
              "    </tr>\n",
              "    <tr>\n",
              "      <th>3</th>\n",
              "      <td>1.575273</td>\n",
              "      <td>-0.587891</td>\n",
              "      <td>1.564882</td>\n",
              "      <td>-1.564882</td>\n",
              "      <td>-0.479835</td>\n",
              "      <td>-1.310922</td>\n",
              "      <td>-0.398390</td>\n",
              "      <td>0.0</td>\n",
              "      <td>-0.470307</td>\n",
              "      <td>-0.486377</td>\n",
              "      <td>-0.156112</td>\n",
              "      <td>-0.152065</td>\n",
              "      <td>-0.15499</td>\n",
              "    </tr>\n",
              "    <tr>\n",
              "      <th>4</th>\n",
              "      <td>1.575273</td>\n",
              "      <td>-0.478310</td>\n",
              "      <td>1.564882</td>\n",
              "      <td>-1.564882</td>\n",
              "      <td>-0.480094</td>\n",
              "      <td>-1.368947</td>\n",
              "      <td>-0.402334</td>\n",
              "      <td>0.0</td>\n",
              "      <td>-0.437786</td>\n",
              "      <td>-0.498562</td>\n",
              "      <td>-0.156112</td>\n",
              "      <td>-0.152065</td>\n",
              "      <td>-0.15499</td>\n",
              "    </tr>\n",
              "  </tbody>\n",
              "</table>\n",
              "</div>\n",
              "      <button class=\"colab-df-convert\" onclick=\"convertToInteractive('df-c3dcd214-93e0-4ce2-bfef-517554e5811a')\"\n",
              "              title=\"Convert this dataframe to an interactive table.\"\n",
              "              style=\"display:none;\">\n",
              "        \n",
              "  <svg xmlns=\"http://www.w3.org/2000/svg\" height=\"24px\"viewBox=\"0 0 24 24\"\n",
              "       width=\"24px\">\n",
              "    <path d=\"M0 0h24v24H0V0z\" fill=\"none\"/>\n",
              "    <path d=\"M18.56 5.44l.94 2.06.94-2.06 2.06-.94-2.06-.94-.94-2.06-.94 2.06-2.06.94zm-11 1L8.5 8.5l.94-2.06 2.06-.94-2.06-.94L8.5 2.5l-.94 2.06-2.06.94zm10 10l.94 2.06.94-2.06 2.06-.94-2.06-.94-.94-2.06-.94 2.06-2.06.94z\"/><path d=\"M17.41 7.96l-1.37-1.37c-.4-.4-.92-.59-1.43-.59-.52 0-1.04.2-1.43.59L10.3 9.45l-7.72 7.72c-.78.78-.78 2.05 0 2.83L4 21.41c.39.39.9.59 1.41.59.51 0 1.02-.2 1.41-.59l7.78-7.78 2.81-2.81c.8-.78.8-2.07 0-2.86zM5.41 20L4 18.59l7.72-7.72 1.47 1.35L5.41 20z\"/>\n",
              "  </svg>\n",
              "      </button>\n",
              "      \n",
              "  <style>\n",
              "    .colab-df-container {\n",
              "      display:flex;\n",
              "      flex-wrap:wrap;\n",
              "      gap: 12px;\n",
              "    }\n",
              "\n",
              "    .colab-df-convert {\n",
              "      background-color: #E8F0FE;\n",
              "      border: none;\n",
              "      border-radius: 50%;\n",
              "      cursor: pointer;\n",
              "      display: none;\n",
              "      fill: #1967D2;\n",
              "      height: 32px;\n",
              "      padding: 0 0 0 0;\n",
              "      width: 32px;\n",
              "    }\n",
              "\n",
              "    .colab-df-convert:hover {\n",
              "      background-color: #E2EBFA;\n",
              "      box-shadow: 0px 1px 2px rgba(60, 64, 67, 0.3), 0px 1px 3px 1px rgba(60, 64, 67, 0.15);\n",
              "      fill: #174EA6;\n",
              "    }\n",
              "\n",
              "    [theme=dark] .colab-df-convert {\n",
              "      background-color: #3B4455;\n",
              "      fill: #D2E3FC;\n",
              "    }\n",
              "\n",
              "    [theme=dark] .colab-df-convert:hover {\n",
              "      background-color: #434B5C;\n",
              "      box-shadow: 0px 1px 3px 1px rgba(0, 0, 0, 0.15);\n",
              "      filter: drop-shadow(0px 1px 2px rgba(0, 0, 0, 0.3));\n",
              "      fill: #FFFFFF;\n",
              "    }\n",
              "  </style>\n",
              "\n",
              "      <script>\n",
              "        const buttonEl =\n",
              "          document.querySelector('#df-c3dcd214-93e0-4ce2-bfef-517554e5811a button.colab-df-convert');\n",
              "        buttonEl.style.display =\n",
              "          google.colab.kernel.accessAllowed ? 'block' : 'none';\n",
              "\n",
              "        async function convertToInteractive(key) {\n",
              "          const element = document.querySelector('#df-c3dcd214-93e0-4ce2-bfef-517554e5811a');\n",
              "          const dataTable =\n",
              "            await google.colab.kernel.invokeFunction('convertToInteractive',\n",
              "                                                     [key], {});\n",
              "          if (!dataTable) return;\n",
              "\n",
              "          const docLinkHtml = 'Like what you see? Visit the ' +\n",
              "            '<a target=\"_blank\" href=https://colab.research.google.com/notebooks/data_table.ipynb>data table notebook</a>'\n",
              "            + ' to learn more about interactive tables.';\n",
              "          element.innerHTML = '';\n",
              "          dataTable['output_type'] = 'display_data';\n",
              "          await google.colab.output.renderOutput(dataTable, element);\n",
              "          const docLink = document.createElement('div');\n",
              "          docLink.innerHTML = docLinkHtml;\n",
              "          element.appendChild(docLink);\n",
              "        }\n",
              "      </script>\n",
              "    </div>\n",
              "  </div>\n",
              "  "
            ]
          },
          "metadata": {},
          "execution_count": 137
        }
      ]
    },
    {
      "cell_type": "code",
      "source": [
        "test_data.shape"
      ],
      "metadata": {
        "colab": {
          "base_uri": "https://localhost:8080/"
        },
        "id": "wKklCw0c-eCm",
        "outputId": "686b6643-8549-4e3d-f27f-a142cb285d88"
      },
      "id": "wKklCw0c-eCm",
      "execution_count": 138,
      "outputs": [
        {
          "output_type": "execute_result",
          "data": {
            "text/plain": [
              "(6912, 13)"
            ]
          },
          "metadata": {},
          "execution_count": 138
        }
      ]
    },
    {
      "cell_type": "markdown",
      "id": "0c0c4763-c81c-4bf5-af4c-390fda574134",
      "metadata": {
        "id": "0c0c4763-c81c-4bf5-af4c-390fda574134"
      },
      "source": [
        "# 예측"
      ]
    },
    {
      "cell_type": "code",
      "source": [
        "y_preds"
      ],
      "metadata": {
        "colab": {
          "base_uri": "https://localhost:8080/"
        },
        "id": "iW8rk1lu8-Ly",
        "outputId": "2daf1a39-34bb-4b44-a57d-bb9c07148d2b"
      },
      "id": "iW8rk1lu8-Ly",
      "execution_count": 139,
      "outputs": [
        {
          "output_type": "execute_result",
          "data": {
            "text/plain": [
              "array([278.6659 , 280.8382 , 283.7302 , ..., 298.65076, 308.4953 ,\n",
              "       325.89648], dtype=float32)"
            ]
          },
          "metadata": {},
          "execution_count": 139
        }
      ]
    },
    {
      "cell_type": "code",
      "source": [
        "y_preds2"
      ],
      "metadata": {
        "colab": {
          "base_uri": "https://localhost:8080/"
        },
        "id": "GoKWMXbN9JaO",
        "outputId": "09fe968a-1767-4957-f8cf-7d0d68c89d1b"
      },
      "id": "GoKWMXbN9JaO",
      "execution_count": 140,
      "outputs": [
        {
          "output_type": "execute_result",
          "data": {
            "text/plain": [
              "array([269.8279 , 271.66956, 274.85544, ..., 302.64478, 306.3976 ,\n",
              "       317.4074 ], dtype=float32)"
            ]
          },
          "metadata": {},
          "execution_count": 140
        }
      ]
    },
    {
      "cell_type": "code",
      "source": [
        "y_preds3"
      ],
      "metadata": {
        "colab": {
          "base_uri": "https://localhost:8080/"
        },
        "id": "iPo9d8dG9JZH",
        "outputId": "635791da-3d2f-42b7-d5eb-9390c53d563f"
      },
      "id": "iPo9d8dG9JZH",
      "execution_count": 141,
      "outputs": [
        {
          "output_type": "execute_result",
          "data": {
            "text/plain": [
              "array([270.97546, 271.86115, 273.33548, ..., 307.40158, 313.4723 ,\n",
              "       318.29987], dtype=float32)"
            ]
          },
          "metadata": {},
          "execution_count": 141
        }
      ]
    },
    {
      "cell_type": "code",
      "source": [
        "y_preds4"
      ],
      "metadata": {
        "colab": {
          "base_uri": "https://localhost:8080/"
        },
        "id": "vKtagq8J9JId",
        "outputId": "bea02df8-02bc-4289-80c3-9f3b066b272d"
      },
      "id": "vKtagq8J9JId",
      "execution_count": 142,
      "outputs": [
        {
          "output_type": "execute_result",
          "data": {
            "text/plain": [
              "array([269.3193 , 267.31805, 264.27896, ..., 310.2632 , 312.31393,\n",
              "       313.31818], dtype=float32)"
            ]
          },
          "metadata": {},
          "execution_count": 142
        }
      ]
    },
    {
      "cell_type": "markdown",
      "source": [
        "* preds 합치기"
      ],
      "metadata": {
        "id": "02V0RKHV9ThU"
      },
      "id": "02V0RKHV9ThU"
    },
    {
      "cell_type": "code",
      "source": [
        "y_preds = pd.DataFrame(y_preds)\n",
        "y_preds2 = pd.DataFrame(y_preds2)\n",
        "y_preds3 = pd.DataFrame(y_preds3)\n",
        "y_preds4 = pd.DataFrame(y_preds4)"
      ],
      "metadata": {
        "id": "M4anxaTj9JFk"
      },
      "id": "M4anxaTj9JFk",
      "execution_count": 143,
      "outputs": []
    },
    {
      "cell_type": "code",
      "source": [
        "pred=pd.concat([y_preds,y_preds2,y_preds3,y_preds4], axis = 1)\n",
        "pred.columns = ['0','1','2','3']"
      ],
      "metadata": {
        "id": "1a-f77AE9kef"
      },
      "id": "1a-f77AE9kef",
      "execution_count": 144,
      "outputs": []
    },
    {
      "cell_type": "code",
      "source": [
        "pred.head()"
      ],
      "metadata": {
        "colab": {
          "base_uri": "https://localhost:8080/",
          "height": 206
        },
        "id": "xOi4dZCj9kaE",
        "outputId": "297c1326-879d-44bb-9b8e-473e86144750"
      },
      "id": "xOi4dZCj9kaE",
      "execution_count": 145,
      "outputs": [
        {
          "output_type": "execute_result",
          "data": {
            "text/plain": [
              "            0           1           2           3\n",
              "0  278.665894  269.827911  270.975464  269.319305\n",
              "1  280.838196  271.669556  271.861145  267.318054\n",
              "2  283.730194  274.855438  273.335480  264.278961\n",
              "3  284.587524  273.520691  270.673035  261.321320\n",
              "4  283.703949  271.633179  268.975616  259.304779"
            ],
            "text/html": [
              "\n",
              "  <div id=\"df-09a04827-8ccb-46a2-931b-d7146fd22d6d\">\n",
              "    <div class=\"colab-df-container\">\n",
              "      <div>\n",
              "<style scoped>\n",
              "    .dataframe tbody tr th:only-of-type {\n",
              "        vertical-align: middle;\n",
              "    }\n",
              "\n",
              "    .dataframe tbody tr th {\n",
              "        vertical-align: top;\n",
              "    }\n",
              "\n",
              "    .dataframe thead th {\n",
              "        text-align: right;\n",
              "    }\n",
              "</style>\n",
              "<table border=\"1\" class=\"dataframe\">\n",
              "  <thead>\n",
              "    <tr style=\"text-align: right;\">\n",
              "      <th></th>\n",
              "      <th>0</th>\n",
              "      <th>1</th>\n",
              "      <th>2</th>\n",
              "      <th>3</th>\n",
              "    </tr>\n",
              "  </thead>\n",
              "  <tbody>\n",
              "    <tr>\n",
              "      <th>0</th>\n",
              "      <td>278.665894</td>\n",
              "      <td>269.827911</td>\n",
              "      <td>270.975464</td>\n",
              "      <td>269.319305</td>\n",
              "    </tr>\n",
              "    <tr>\n",
              "      <th>1</th>\n",
              "      <td>280.838196</td>\n",
              "      <td>271.669556</td>\n",
              "      <td>271.861145</td>\n",
              "      <td>267.318054</td>\n",
              "    </tr>\n",
              "    <tr>\n",
              "      <th>2</th>\n",
              "      <td>283.730194</td>\n",
              "      <td>274.855438</td>\n",
              "      <td>273.335480</td>\n",
              "      <td>264.278961</td>\n",
              "    </tr>\n",
              "    <tr>\n",
              "      <th>3</th>\n",
              "      <td>284.587524</td>\n",
              "      <td>273.520691</td>\n",
              "      <td>270.673035</td>\n",
              "      <td>261.321320</td>\n",
              "    </tr>\n",
              "    <tr>\n",
              "      <th>4</th>\n",
              "      <td>283.703949</td>\n",
              "      <td>271.633179</td>\n",
              "      <td>268.975616</td>\n",
              "      <td>259.304779</td>\n",
              "    </tr>\n",
              "  </tbody>\n",
              "</table>\n",
              "</div>\n",
              "      <button class=\"colab-df-convert\" onclick=\"convertToInteractive('df-09a04827-8ccb-46a2-931b-d7146fd22d6d')\"\n",
              "              title=\"Convert this dataframe to an interactive table.\"\n",
              "              style=\"display:none;\">\n",
              "        \n",
              "  <svg xmlns=\"http://www.w3.org/2000/svg\" height=\"24px\"viewBox=\"0 0 24 24\"\n",
              "       width=\"24px\">\n",
              "    <path d=\"M0 0h24v24H0V0z\" fill=\"none\"/>\n",
              "    <path d=\"M18.56 5.44l.94 2.06.94-2.06 2.06-.94-2.06-.94-.94-2.06-.94 2.06-2.06.94zm-11 1L8.5 8.5l.94-2.06 2.06-.94-2.06-.94L8.5 2.5l-.94 2.06-2.06.94zm10 10l.94 2.06.94-2.06 2.06-.94-2.06-.94-.94-2.06-.94 2.06-2.06.94z\"/><path d=\"M17.41 7.96l-1.37-1.37c-.4-.4-.92-.59-1.43-.59-.52 0-1.04.2-1.43.59L10.3 9.45l-7.72 7.72c-.78.78-.78 2.05 0 2.83L4 21.41c.39.39.9.59 1.41.59.51 0 1.02-.2 1.41-.59l7.78-7.78 2.81-2.81c.8-.78.8-2.07 0-2.86zM5.41 20L4 18.59l7.72-7.72 1.47 1.35L5.41 20z\"/>\n",
              "  </svg>\n",
              "      </button>\n",
              "      \n",
              "  <style>\n",
              "    .colab-df-container {\n",
              "      display:flex;\n",
              "      flex-wrap:wrap;\n",
              "      gap: 12px;\n",
              "    }\n",
              "\n",
              "    .colab-df-convert {\n",
              "      background-color: #E8F0FE;\n",
              "      border: none;\n",
              "      border-radius: 50%;\n",
              "      cursor: pointer;\n",
              "      display: none;\n",
              "      fill: #1967D2;\n",
              "      height: 32px;\n",
              "      padding: 0 0 0 0;\n",
              "      width: 32px;\n",
              "    }\n",
              "\n",
              "    .colab-df-convert:hover {\n",
              "      background-color: #E2EBFA;\n",
              "      box-shadow: 0px 1px 2px rgba(60, 64, 67, 0.3), 0px 1px 3px 1px rgba(60, 64, 67, 0.15);\n",
              "      fill: #174EA6;\n",
              "    }\n",
              "\n",
              "    [theme=dark] .colab-df-convert {\n",
              "      background-color: #3B4455;\n",
              "      fill: #D2E3FC;\n",
              "    }\n",
              "\n",
              "    [theme=dark] .colab-df-convert:hover {\n",
              "      background-color: #434B5C;\n",
              "      box-shadow: 0px 1px 3px 1px rgba(0, 0, 0, 0.15);\n",
              "      filter: drop-shadow(0px 1px 2px rgba(0, 0, 0, 0.3));\n",
              "      fill: #FFFFFF;\n",
              "    }\n",
              "  </style>\n",
              "\n",
              "      <script>\n",
              "        const buttonEl =\n",
              "          document.querySelector('#df-09a04827-8ccb-46a2-931b-d7146fd22d6d button.colab-df-convert');\n",
              "        buttonEl.style.display =\n",
              "          google.colab.kernel.accessAllowed ? 'block' : 'none';\n",
              "\n",
              "        async function convertToInteractive(key) {\n",
              "          const element = document.querySelector('#df-09a04827-8ccb-46a2-931b-d7146fd22d6d');\n",
              "          const dataTable =\n",
              "            await google.colab.kernel.invokeFunction('convertToInteractive',\n",
              "                                                     [key], {});\n",
              "          if (!dataTable) return;\n",
              "\n",
              "          const docLinkHtml = 'Like what you see? Visit the ' +\n",
              "            '<a target=\"_blank\" href=https://colab.research.google.com/notebooks/data_table.ipynb>data table notebook</a>'\n",
              "            + ' to learn more about interactive tables.';\n",
              "          element.innerHTML = '';\n",
              "          dataTable['output_type'] = 'display_data';\n",
              "          await google.colab.output.renderOutput(dataTable, element);\n",
              "          const docLink = document.createElement('div');\n",
              "          docLink.innerHTML = docLinkHtml;\n",
              "          element.appendChild(docLink);\n",
              "        }\n",
              "      </script>\n",
              "    </div>\n",
              "  </div>\n",
              "  "
            ]
          },
          "metadata": {},
          "execution_count": 145
        }
      ]
    },
    {
      "cell_type": "code",
      "source": [
        "pred['0']"
      ],
      "metadata": {
        "colab": {
          "base_uri": "https://localhost:8080/"
        },
        "id": "pD-yKI-j-Ffc",
        "outputId": "e81d029a-9d53-444d-894c-082dd090a5c4"
      },
      "id": "pD-yKI-j-Ffc",
      "execution_count": 146,
      "outputs": [
        {
          "output_type": "execute_result",
          "data": {
            "text/plain": [
              "0       278.665894\n",
              "1       280.838196\n",
              "2       283.730194\n",
              "3       284.587524\n",
              "4       283.703949\n",
              "           ...    \n",
              "6907    287.734283\n",
              "6908    286.846832\n",
              "6909    298.650757\n",
              "6910    308.495300\n",
              "6911    325.896484\n",
              "Name: 0, Length: 6912, dtype: float32"
            ]
          },
          "metadata": {},
          "execution_count": 146
        }
      ]
    },
    {
      "cell_type": "code",
      "source": [
        "pred"
      ],
      "metadata": {
        "colab": {
          "base_uri": "https://localhost:8080/",
          "height": 424
        },
        "id": "5UCldwUuAgqZ",
        "outputId": "a0b4ec15-7398-42a9-bd23-eb3da0d64a3f"
      },
      "id": "5UCldwUuAgqZ",
      "execution_count": 147,
      "outputs": [
        {
          "output_type": "execute_result",
          "data": {
            "text/plain": [
              "               0           1           2           3\n",
              "0     278.665894  269.827911  270.975464  269.319305\n",
              "1     280.838196  271.669556  271.861145  267.318054\n",
              "2     283.730194  274.855438  273.335480  264.278961\n",
              "3     284.587524  273.520691  270.673035  261.321320\n",
              "4     283.703949  271.633179  268.975616  259.304779\n",
              "...          ...         ...         ...         ...\n",
              "6907  287.734283  291.028595  295.584961  306.304932\n",
              "6908  286.846832  293.875977  298.663055  308.271851\n",
              "6909  298.650757  302.644775  307.401581  310.263214\n",
              "6910  308.495300  306.397614  313.472290  312.313934\n",
              "6911  325.896484  317.407410  318.299866  313.318176\n",
              "\n",
              "[6912 rows x 4 columns]"
            ],
            "text/html": [
              "\n",
              "  <div id=\"df-f7db1db8-2bb8-4774-9b46-4e22a03fb6df\">\n",
              "    <div class=\"colab-df-container\">\n",
              "      <div>\n",
              "<style scoped>\n",
              "    .dataframe tbody tr th:only-of-type {\n",
              "        vertical-align: middle;\n",
              "    }\n",
              "\n",
              "    .dataframe tbody tr th {\n",
              "        vertical-align: top;\n",
              "    }\n",
              "\n",
              "    .dataframe thead th {\n",
              "        text-align: right;\n",
              "    }\n",
              "</style>\n",
              "<table border=\"1\" class=\"dataframe\">\n",
              "  <thead>\n",
              "    <tr style=\"text-align: right;\">\n",
              "      <th></th>\n",
              "      <th>0</th>\n",
              "      <th>1</th>\n",
              "      <th>2</th>\n",
              "      <th>3</th>\n",
              "    </tr>\n",
              "  </thead>\n",
              "  <tbody>\n",
              "    <tr>\n",
              "      <th>0</th>\n",
              "      <td>278.665894</td>\n",
              "      <td>269.827911</td>\n",
              "      <td>270.975464</td>\n",
              "      <td>269.319305</td>\n",
              "    </tr>\n",
              "    <tr>\n",
              "      <th>1</th>\n",
              "      <td>280.838196</td>\n",
              "      <td>271.669556</td>\n",
              "      <td>271.861145</td>\n",
              "      <td>267.318054</td>\n",
              "    </tr>\n",
              "    <tr>\n",
              "      <th>2</th>\n",
              "      <td>283.730194</td>\n",
              "      <td>274.855438</td>\n",
              "      <td>273.335480</td>\n",
              "      <td>264.278961</td>\n",
              "    </tr>\n",
              "    <tr>\n",
              "      <th>3</th>\n",
              "      <td>284.587524</td>\n",
              "      <td>273.520691</td>\n",
              "      <td>270.673035</td>\n",
              "      <td>261.321320</td>\n",
              "    </tr>\n",
              "    <tr>\n",
              "      <th>4</th>\n",
              "      <td>283.703949</td>\n",
              "      <td>271.633179</td>\n",
              "      <td>268.975616</td>\n",
              "      <td>259.304779</td>\n",
              "    </tr>\n",
              "    <tr>\n",
              "      <th>...</th>\n",
              "      <td>...</td>\n",
              "      <td>...</td>\n",
              "      <td>...</td>\n",
              "      <td>...</td>\n",
              "    </tr>\n",
              "    <tr>\n",
              "      <th>6907</th>\n",
              "      <td>287.734283</td>\n",
              "      <td>291.028595</td>\n",
              "      <td>295.584961</td>\n",
              "      <td>306.304932</td>\n",
              "    </tr>\n",
              "    <tr>\n",
              "      <th>6908</th>\n",
              "      <td>286.846832</td>\n",
              "      <td>293.875977</td>\n",
              "      <td>298.663055</td>\n",
              "      <td>308.271851</td>\n",
              "    </tr>\n",
              "    <tr>\n",
              "      <th>6909</th>\n",
              "      <td>298.650757</td>\n",
              "      <td>302.644775</td>\n",
              "      <td>307.401581</td>\n",
              "      <td>310.263214</td>\n",
              "    </tr>\n",
              "    <tr>\n",
              "      <th>6910</th>\n",
              "      <td>308.495300</td>\n",
              "      <td>306.397614</td>\n",
              "      <td>313.472290</td>\n",
              "      <td>312.313934</td>\n",
              "    </tr>\n",
              "    <tr>\n",
              "      <th>6911</th>\n",
              "      <td>325.896484</td>\n",
              "      <td>317.407410</td>\n",
              "      <td>318.299866</td>\n",
              "      <td>313.318176</td>\n",
              "    </tr>\n",
              "  </tbody>\n",
              "</table>\n",
              "<p>6912 rows × 4 columns</p>\n",
              "</div>\n",
              "      <button class=\"colab-df-convert\" onclick=\"convertToInteractive('df-f7db1db8-2bb8-4774-9b46-4e22a03fb6df')\"\n",
              "              title=\"Convert this dataframe to an interactive table.\"\n",
              "              style=\"display:none;\">\n",
              "        \n",
              "  <svg xmlns=\"http://www.w3.org/2000/svg\" height=\"24px\"viewBox=\"0 0 24 24\"\n",
              "       width=\"24px\">\n",
              "    <path d=\"M0 0h24v24H0V0z\" fill=\"none\"/>\n",
              "    <path d=\"M18.56 5.44l.94 2.06.94-2.06 2.06-.94-2.06-.94-.94-2.06-.94 2.06-2.06.94zm-11 1L8.5 8.5l.94-2.06 2.06-.94-2.06-.94L8.5 2.5l-.94 2.06-2.06.94zm10 10l.94 2.06.94-2.06 2.06-.94-2.06-.94-.94-2.06-.94 2.06-2.06.94z\"/><path d=\"M17.41 7.96l-1.37-1.37c-.4-.4-.92-.59-1.43-.59-.52 0-1.04.2-1.43.59L10.3 9.45l-7.72 7.72c-.78.78-.78 2.05 0 2.83L4 21.41c.39.39.9.59 1.41.59.51 0 1.02-.2 1.41-.59l7.78-7.78 2.81-2.81c.8-.78.8-2.07 0-2.86zM5.41 20L4 18.59l7.72-7.72 1.47 1.35L5.41 20z\"/>\n",
              "  </svg>\n",
              "      </button>\n",
              "      \n",
              "  <style>\n",
              "    .colab-df-container {\n",
              "      display:flex;\n",
              "      flex-wrap:wrap;\n",
              "      gap: 12px;\n",
              "    }\n",
              "\n",
              "    .colab-df-convert {\n",
              "      background-color: #E8F0FE;\n",
              "      border: none;\n",
              "      border-radius: 50%;\n",
              "      cursor: pointer;\n",
              "      display: none;\n",
              "      fill: #1967D2;\n",
              "      height: 32px;\n",
              "      padding: 0 0 0 0;\n",
              "      width: 32px;\n",
              "    }\n",
              "\n",
              "    .colab-df-convert:hover {\n",
              "      background-color: #E2EBFA;\n",
              "      box-shadow: 0px 1px 2px rgba(60, 64, 67, 0.3), 0px 1px 3px 1px rgba(60, 64, 67, 0.15);\n",
              "      fill: #174EA6;\n",
              "    }\n",
              "\n",
              "    [theme=dark] .colab-df-convert {\n",
              "      background-color: #3B4455;\n",
              "      fill: #D2E3FC;\n",
              "    }\n",
              "\n",
              "    [theme=dark] .colab-df-convert:hover {\n",
              "      background-color: #434B5C;\n",
              "      box-shadow: 0px 1px 3px 1px rgba(0, 0, 0, 0.15);\n",
              "      filter: drop-shadow(0px 1px 2px rgba(0, 0, 0, 0.3));\n",
              "      fill: #FFFFFF;\n",
              "    }\n",
              "  </style>\n",
              "\n",
              "      <script>\n",
              "        const buttonEl =\n",
              "          document.querySelector('#df-f7db1db8-2bb8-4774-9b46-4e22a03fb6df button.colab-df-convert');\n",
              "        buttonEl.style.display =\n",
              "          google.colab.kernel.accessAllowed ? 'block' : 'none';\n",
              "\n",
              "        async function convertToInteractive(key) {\n",
              "          const element = document.querySelector('#df-f7db1db8-2bb8-4774-9b46-4e22a03fb6df');\n",
              "          const dataTable =\n",
              "            await google.colab.kernel.invokeFunction('convertToInteractive',\n",
              "                                                     [key], {});\n",
              "          if (!dataTable) return;\n",
              "\n",
              "          const docLinkHtml = 'Like what you see? Visit the ' +\n",
              "            '<a target=\"_blank\" href=https://colab.research.google.com/notebooks/data_table.ipynb>data table notebook</a>'\n",
              "            + ' to learn more about interactive tables.';\n",
              "          element.innerHTML = '';\n",
              "          dataTable['output_type'] = 'display_data';\n",
              "          await google.colab.output.renderOutput(dataTable, element);\n",
              "          const docLink = document.createElement('div');\n",
              "          docLink.innerHTML = docLinkHtml;\n",
              "          element.appendChild(docLink);\n",
              "        }\n",
              "      </script>\n",
              "    </div>\n",
              "  </div>\n",
              "  "
            ]
          },
          "metadata": {},
          "execution_count": 147
        }
      ]
    },
    {
      "cell_type": "code",
      "source": [
        "pred.shape"
      ],
      "metadata": {
        "colab": {
          "base_uri": "https://localhost:8080/"
        },
        "id": "qOG-iYLtz3Rd",
        "outputId": "6190351d-bdef-4ca8-9143-e78de2fcf554"
      },
      "id": "qOG-iYLtz3Rd",
      "execution_count": 148,
      "outputs": [
        {
          "output_type": "execute_result",
          "data": {
            "text/plain": [
              "(6912, 4)"
            ]
          },
          "metadata": {},
          "execution_count": 148
        }
      ]
    },
    {
      "cell_type": "markdown",
      "id": "20c77e70-dd54-4b8c-9e74-957fb9d7fd4a",
      "metadata": {
        "id": "20c77e70-dd54-4b8c-9e74-957fb9d7fd4a"
      },
      "source": [
        "# 제출양식"
      ]
    },
    {
      "cell_type": "code",
      "execution_count": 149,
      "id": "086e3aeb-3bc0-4c2f-b162-1f0595f11fa3",
      "metadata": {
        "colab": {
          "base_uri": "https://localhost:8080/",
          "height": 238
        },
        "id": "086e3aeb-3bc0-4c2f-b162-1f0595f11fa3",
        "outputId": "70a00393-0c34-4d3e-dbaa-72cfe3202777"
      },
      "outputs": [
        {
          "output_type": "execute_result",
          "data": {
            "text/plain": [
              "                  wl_1018662  wl_1018680  wl_1018683  wl_1019630\n",
              "ymdhm                                                           \n",
              "2022-06-01 00:00           0           0           0           0\n",
              "2022-06-01 00:10           0           0           0           0\n",
              "2022-06-01 00:20           0           0           0           0\n",
              "2022-06-01 00:30           0           0           0           0\n",
              "2022-06-01 00:40           0           0           0           0"
            ],
            "text/html": [
              "\n",
              "  <div id=\"df-02b29dc3-9ebd-4453-a6a8-901ff20bb1e2\">\n",
              "    <div class=\"colab-df-container\">\n",
              "      <div>\n",
              "<style scoped>\n",
              "    .dataframe tbody tr th:only-of-type {\n",
              "        vertical-align: middle;\n",
              "    }\n",
              "\n",
              "    .dataframe tbody tr th {\n",
              "        vertical-align: top;\n",
              "    }\n",
              "\n",
              "    .dataframe thead th {\n",
              "        text-align: right;\n",
              "    }\n",
              "</style>\n",
              "<table border=\"1\" class=\"dataframe\">\n",
              "  <thead>\n",
              "    <tr style=\"text-align: right;\">\n",
              "      <th></th>\n",
              "      <th>wl_1018662</th>\n",
              "      <th>wl_1018680</th>\n",
              "      <th>wl_1018683</th>\n",
              "      <th>wl_1019630</th>\n",
              "    </tr>\n",
              "    <tr>\n",
              "      <th>ymdhm</th>\n",
              "      <th></th>\n",
              "      <th></th>\n",
              "      <th></th>\n",
              "      <th></th>\n",
              "    </tr>\n",
              "  </thead>\n",
              "  <tbody>\n",
              "    <tr>\n",
              "      <th>2022-06-01 00:00</th>\n",
              "      <td>0</td>\n",
              "      <td>0</td>\n",
              "      <td>0</td>\n",
              "      <td>0</td>\n",
              "    </tr>\n",
              "    <tr>\n",
              "      <th>2022-06-01 00:10</th>\n",
              "      <td>0</td>\n",
              "      <td>0</td>\n",
              "      <td>0</td>\n",
              "      <td>0</td>\n",
              "    </tr>\n",
              "    <tr>\n",
              "      <th>2022-06-01 00:20</th>\n",
              "      <td>0</td>\n",
              "      <td>0</td>\n",
              "      <td>0</td>\n",
              "      <td>0</td>\n",
              "    </tr>\n",
              "    <tr>\n",
              "      <th>2022-06-01 00:30</th>\n",
              "      <td>0</td>\n",
              "      <td>0</td>\n",
              "      <td>0</td>\n",
              "      <td>0</td>\n",
              "    </tr>\n",
              "    <tr>\n",
              "      <th>2022-06-01 00:40</th>\n",
              "      <td>0</td>\n",
              "      <td>0</td>\n",
              "      <td>0</td>\n",
              "      <td>0</td>\n",
              "    </tr>\n",
              "  </tbody>\n",
              "</table>\n",
              "</div>\n",
              "      <button class=\"colab-df-convert\" onclick=\"convertToInteractive('df-02b29dc3-9ebd-4453-a6a8-901ff20bb1e2')\"\n",
              "              title=\"Convert this dataframe to an interactive table.\"\n",
              "              style=\"display:none;\">\n",
              "        \n",
              "  <svg xmlns=\"http://www.w3.org/2000/svg\" height=\"24px\"viewBox=\"0 0 24 24\"\n",
              "       width=\"24px\">\n",
              "    <path d=\"M0 0h24v24H0V0z\" fill=\"none\"/>\n",
              "    <path d=\"M18.56 5.44l.94 2.06.94-2.06 2.06-.94-2.06-.94-.94-2.06-.94 2.06-2.06.94zm-11 1L8.5 8.5l.94-2.06 2.06-.94-2.06-.94L8.5 2.5l-.94 2.06-2.06.94zm10 10l.94 2.06.94-2.06 2.06-.94-2.06-.94-.94-2.06-.94 2.06-2.06.94z\"/><path d=\"M17.41 7.96l-1.37-1.37c-.4-.4-.92-.59-1.43-.59-.52 0-1.04.2-1.43.59L10.3 9.45l-7.72 7.72c-.78.78-.78 2.05 0 2.83L4 21.41c.39.39.9.59 1.41.59.51 0 1.02-.2 1.41-.59l7.78-7.78 2.81-2.81c.8-.78.8-2.07 0-2.86zM5.41 20L4 18.59l7.72-7.72 1.47 1.35L5.41 20z\"/>\n",
              "  </svg>\n",
              "      </button>\n",
              "      \n",
              "  <style>\n",
              "    .colab-df-container {\n",
              "      display:flex;\n",
              "      flex-wrap:wrap;\n",
              "      gap: 12px;\n",
              "    }\n",
              "\n",
              "    .colab-df-convert {\n",
              "      background-color: #E8F0FE;\n",
              "      border: none;\n",
              "      border-radius: 50%;\n",
              "      cursor: pointer;\n",
              "      display: none;\n",
              "      fill: #1967D2;\n",
              "      height: 32px;\n",
              "      padding: 0 0 0 0;\n",
              "      width: 32px;\n",
              "    }\n",
              "\n",
              "    .colab-df-convert:hover {\n",
              "      background-color: #E2EBFA;\n",
              "      box-shadow: 0px 1px 2px rgba(60, 64, 67, 0.3), 0px 1px 3px 1px rgba(60, 64, 67, 0.15);\n",
              "      fill: #174EA6;\n",
              "    }\n",
              "\n",
              "    [theme=dark] .colab-df-convert {\n",
              "      background-color: #3B4455;\n",
              "      fill: #D2E3FC;\n",
              "    }\n",
              "\n",
              "    [theme=dark] .colab-df-convert:hover {\n",
              "      background-color: #434B5C;\n",
              "      box-shadow: 0px 1px 3px 1px rgba(0, 0, 0, 0.15);\n",
              "      filter: drop-shadow(0px 1px 2px rgba(0, 0, 0, 0.3));\n",
              "      fill: #FFFFFF;\n",
              "    }\n",
              "  </style>\n",
              "\n",
              "      <script>\n",
              "        const buttonEl =\n",
              "          document.querySelector('#df-02b29dc3-9ebd-4453-a6a8-901ff20bb1e2 button.colab-df-convert');\n",
              "        buttonEl.style.display =\n",
              "          google.colab.kernel.accessAllowed ? 'block' : 'none';\n",
              "\n",
              "        async function convertToInteractive(key) {\n",
              "          const element = document.querySelector('#df-02b29dc3-9ebd-4453-a6a8-901ff20bb1e2');\n",
              "          const dataTable =\n",
              "            await google.colab.kernel.invokeFunction('convertToInteractive',\n",
              "                                                     [key], {});\n",
              "          if (!dataTable) return;\n",
              "\n",
              "          const docLinkHtml = 'Like what you see? Visit the ' +\n",
              "            '<a target=\"_blank\" href=https://colab.research.google.com/notebooks/data_table.ipynb>data table notebook</a>'\n",
              "            + ' to learn more about interactive tables.';\n",
              "          element.innerHTML = '';\n",
              "          dataTable['output_type'] = 'display_data';\n",
              "          await google.colab.output.renderOutput(dataTable, element);\n",
              "          const docLink = document.createElement('div');\n",
              "          docLink.innerHTML = docLinkHtml;\n",
              "          element.appendChild(docLink);\n",
              "        }\n",
              "      </script>\n",
              "    </div>\n",
              "  </div>\n",
              "  "
            ]
          },
          "metadata": {},
          "execution_count": 149
        }
      ],
      "source": [
        "sub_df = pd.read_csv('/content/drive/Shareddrives/팔당댐/competition_data/sample_submission.csv',index_col=0)\n",
        "sub_df.head()"
      ]
    },
    {
      "cell_type": "code",
      "source": [
        "sub_df.shape"
      ],
      "metadata": {
        "colab": {
          "base_uri": "https://localhost:8080/"
        },
        "id": "Y80AqbON0Dtp",
        "outputId": "ce13122c-d76d-4e41-fbe1-d90ce5e24867"
      },
      "id": "Y80AqbON0Dtp",
      "execution_count": 150,
      "outputs": [
        {
          "output_type": "execute_result",
          "data": {
            "text/plain": [
              "(6912, 4)"
            ]
          },
          "metadata": {},
          "execution_count": 150
        }
      ]
    },
    {
      "cell_type": "code",
      "source": [
        "sub_df['wl_1018662'] = pred['0']\n",
        "sub_df['wl_1018680'] = pred['1']\n",
        "sub_df['wl_1018683'] = pred['2']\n",
        "sub_df['wl_1019630'] = pred['3']"
      ],
      "metadata": {
        "id": "h0WLR0UR0DwF"
      },
      "id": "h0WLR0UR0DwF",
      "execution_count": 151,
      "outputs": []
    },
    {
      "cell_type": "code",
      "source": [
        "sub_df.head()"
      ],
      "metadata": {
        "colab": {
          "base_uri": "https://localhost:8080/",
          "height": 238
        },
        "id": "U4XX39ns0D0N",
        "outputId": "e4757a63-3f0c-4cee-f3d8-b315019e05ce"
      },
      "id": "U4XX39ns0D0N",
      "execution_count": 152,
      "outputs": [
        {
          "output_type": "execute_result",
          "data": {
            "text/plain": [
              "                  wl_1018662  wl_1018680  wl_1018683  wl_1019630\n",
              "ymdhm                                                           \n",
              "2022-06-01 00:00         NaN         NaN         NaN         NaN\n",
              "2022-06-01 00:10         NaN         NaN         NaN         NaN\n",
              "2022-06-01 00:20         NaN         NaN         NaN         NaN\n",
              "2022-06-01 00:30         NaN         NaN         NaN         NaN\n",
              "2022-06-01 00:40         NaN         NaN         NaN         NaN"
            ],
            "text/html": [
              "\n",
              "  <div id=\"df-84988533-c7f6-45a7-919d-317bd23b2abd\">\n",
              "    <div class=\"colab-df-container\">\n",
              "      <div>\n",
              "<style scoped>\n",
              "    .dataframe tbody tr th:only-of-type {\n",
              "        vertical-align: middle;\n",
              "    }\n",
              "\n",
              "    .dataframe tbody tr th {\n",
              "        vertical-align: top;\n",
              "    }\n",
              "\n",
              "    .dataframe thead th {\n",
              "        text-align: right;\n",
              "    }\n",
              "</style>\n",
              "<table border=\"1\" class=\"dataframe\">\n",
              "  <thead>\n",
              "    <tr style=\"text-align: right;\">\n",
              "      <th></th>\n",
              "      <th>wl_1018662</th>\n",
              "      <th>wl_1018680</th>\n",
              "      <th>wl_1018683</th>\n",
              "      <th>wl_1019630</th>\n",
              "    </tr>\n",
              "    <tr>\n",
              "      <th>ymdhm</th>\n",
              "      <th></th>\n",
              "      <th></th>\n",
              "      <th></th>\n",
              "      <th></th>\n",
              "    </tr>\n",
              "  </thead>\n",
              "  <tbody>\n",
              "    <tr>\n",
              "      <th>2022-06-01 00:00</th>\n",
              "      <td>NaN</td>\n",
              "      <td>NaN</td>\n",
              "      <td>NaN</td>\n",
              "      <td>NaN</td>\n",
              "    </tr>\n",
              "    <tr>\n",
              "      <th>2022-06-01 00:10</th>\n",
              "      <td>NaN</td>\n",
              "      <td>NaN</td>\n",
              "      <td>NaN</td>\n",
              "      <td>NaN</td>\n",
              "    </tr>\n",
              "    <tr>\n",
              "      <th>2022-06-01 00:20</th>\n",
              "      <td>NaN</td>\n",
              "      <td>NaN</td>\n",
              "      <td>NaN</td>\n",
              "      <td>NaN</td>\n",
              "    </tr>\n",
              "    <tr>\n",
              "      <th>2022-06-01 00:30</th>\n",
              "      <td>NaN</td>\n",
              "      <td>NaN</td>\n",
              "      <td>NaN</td>\n",
              "      <td>NaN</td>\n",
              "    </tr>\n",
              "    <tr>\n",
              "      <th>2022-06-01 00:40</th>\n",
              "      <td>NaN</td>\n",
              "      <td>NaN</td>\n",
              "      <td>NaN</td>\n",
              "      <td>NaN</td>\n",
              "    </tr>\n",
              "  </tbody>\n",
              "</table>\n",
              "</div>\n",
              "      <button class=\"colab-df-convert\" onclick=\"convertToInteractive('df-84988533-c7f6-45a7-919d-317bd23b2abd')\"\n",
              "              title=\"Convert this dataframe to an interactive table.\"\n",
              "              style=\"display:none;\">\n",
              "        \n",
              "  <svg xmlns=\"http://www.w3.org/2000/svg\" height=\"24px\"viewBox=\"0 0 24 24\"\n",
              "       width=\"24px\">\n",
              "    <path d=\"M0 0h24v24H0V0z\" fill=\"none\"/>\n",
              "    <path d=\"M18.56 5.44l.94 2.06.94-2.06 2.06-.94-2.06-.94-.94-2.06-.94 2.06-2.06.94zm-11 1L8.5 8.5l.94-2.06 2.06-.94-2.06-.94L8.5 2.5l-.94 2.06-2.06.94zm10 10l.94 2.06.94-2.06 2.06-.94-2.06-.94-.94-2.06-.94 2.06-2.06.94z\"/><path d=\"M17.41 7.96l-1.37-1.37c-.4-.4-.92-.59-1.43-.59-.52 0-1.04.2-1.43.59L10.3 9.45l-7.72 7.72c-.78.78-.78 2.05 0 2.83L4 21.41c.39.39.9.59 1.41.59.51 0 1.02-.2 1.41-.59l7.78-7.78 2.81-2.81c.8-.78.8-2.07 0-2.86zM5.41 20L4 18.59l7.72-7.72 1.47 1.35L5.41 20z\"/>\n",
              "  </svg>\n",
              "      </button>\n",
              "      \n",
              "  <style>\n",
              "    .colab-df-container {\n",
              "      display:flex;\n",
              "      flex-wrap:wrap;\n",
              "      gap: 12px;\n",
              "    }\n",
              "\n",
              "    .colab-df-convert {\n",
              "      background-color: #E8F0FE;\n",
              "      border: none;\n",
              "      border-radius: 50%;\n",
              "      cursor: pointer;\n",
              "      display: none;\n",
              "      fill: #1967D2;\n",
              "      height: 32px;\n",
              "      padding: 0 0 0 0;\n",
              "      width: 32px;\n",
              "    }\n",
              "\n",
              "    .colab-df-convert:hover {\n",
              "      background-color: #E2EBFA;\n",
              "      box-shadow: 0px 1px 2px rgba(60, 64, 67, 0.3), 0px 1px 3px 1px rgba(60, 64, 67, 0.15);\n",
              "      fill: #174EA6;\n",
              "    }\n",
              "\n",
              "    [theme=dark] .colab-df-convert {\n",
              "      background-color: #3B4455;\n",
              "      fill: #D2E3FC;\n",
              "    }\n",
              "\n",
              "    [theme=dark] .colab-df-convert:hover {\n",
              "      background-color: #434B5C;\n",
              "      box-shadow: 0px 1px 3px 1px rgba(0, 0, 0, 0.15);\n",
              "      filter: drop-shadow(0px 1px 2px rgba(0, 0, 0, 0.3));\n",
              "      fill: #FFFFFF;\n",
              "    }\n",
              "  </style>\n",
              "\n",
              "      <script>\n",
              "        const buttonEl =\n",
              "          document.querySelector('#df-84988533-c7f6-45a7-919d-317bd23b2abd button.colab-df-convert');\n",
              "        buttonEl.style.display =\n",
              "          google.colab.kernel.accessAllowed ? 'block' : 'none';\n",
              "\n",
              "        async function convertToInteractive(key) {\n",
              "          const element = document.querySelector('#df-84988533-c7f6-45a7-919d-317bd23b2abd');\n",
              "          const dataTable =\n",
              "            await google.colab.kernel.invokeFunction('convertToInteractive',\n",
              "                                                     [key], {});\n",
              "          if (!dataTable) return;\n",
              "\n",
              "          const docLinkHtml = 'Like what you see? Visit the ' +\n",
              "            '<a target=\"_blank\" href=https://colab.research.google.com/notebooks/data_table.ipynb>data table notebook</a>'\n",
              "            + ' to learn more about interactive tables.';\n",
              "          element.innerHTML = '';\n",
              "          dataTable['output_type'] = 'display_data';\n",
              "          await google.colab.output.renderOutput(dataTable, element);\n",
              "          const docLink = document.createElement('div');\n",
              "          docLink.innerHTML = docLinkHtml;\n",
              "          element.appendChild(docLink);\n",
              "        }\n",
              "      </script>\n",
              "    </div>\n",
              "  </div>\n",
              "  "
            ]
          },
          "metadata": {},
          "execution_count": 152
        }
      ]
    },
    {
      "cell_type": "code",
      "source": [
        "# sub_df = sub_df.astype(float)"
      ],
      "metadata": {
        "id": "OKqcxBiV0Hts"
      },
      "id": "OKqcxBiV0Hts",
      "execution_count": 153,
      "outputs": []
    },
    {
      "cell_type": "code",
      "source": [
        "pred.columns = sub_df.columns"
      ],
      "metadata": {
        "id": "n1Jgawd20Hr6"
      },
      "id": "n1Jgawd20Hr6",
      "execution_count": 154,
      "outputs": []
    },
    {
      "cell_type": "code",
      "source": [
        "pred.index = sub_df.index"
      ],
      "metadata": {
        "id": "8XZ1By6M0HrA"
      },
      "id": "8XZ1By6M0HrA",
      "execution_count": 155,
      "outputs": []
    },
    {
      "cell_type": "code",
      "source": [
        "pred.head()"
      ],
      "metadata": {
        "colab": {
          "base_uri": "https://localhost:8080/",
          "height": 238
        },
        "id": "TkesccGT0HqM",
        "outputId": "8e7e3847-f5aa-409f-ee26-03f83a08a7f1"
      },
      "id": "TkesccGT0HqM",
      "execution_count": 156,
      "outputs": [
        {
          "output_type": "execute_result",
          "data": {
            "text/plain": [
              "                  wl_1018662  wl_1018680  wl_1018683  wl_1019630\n",
              "ymdhm                                                           \n",
              "2022-06-01 00:00  278.665894  269.827911  270.975464  269.319305\n",
              "2022-06-01 00:10  280.838196  271.669556  271.861145  267.318054\n",
              "2022-06-01 00:20  283.730194  274.855438  273.335480  264.278961\n",
              "2022-06-01 00:30  284.587524  273.520691  270.673035  261.321320\n",
              "2022-06-01 00:40  283.703949  271.633179  268.975616  259.304779"
            ],
            "text/html": [
              "\n",
              "  <div id=\"df-57e84194-36ff-42dd-9472-65e4ca12a6a0\">\n",
              "    <div class=\"colab-df-container\">\n",
              "      <div>\n",
              "<style scoped>\n",
              "    .dataframe tbody tr th:only-of-type {\n",
              "        vertical-align: middle;\n",
              "    }\n",
              "\n",
              "    .dataframe tbody tr th {\n",
              "        vertical-align: top;\n",
              "    }\n",
              "\n",
              "    .dataframe thead th {\n",
              "        text-align: right;\n",
              "    }\n",
              "</style>\n",
              "<table border=\"1\" class=\"dataframe\">\n",
              "  <thead>\n",
              "    <tr style=\"text-align: right;\">\n",
              "      <th></th>\n",
              "      <th>wl_1018662</th>\n",
              "      <th>wl_1018680</th>\n",
              "      <th>wl_1018683</th>\n",
              "      <th>wl_1019630</th>\n",
              "    </tr>\n",
              "    <tr>\n",
              "      <th>ymdhm</th>\n",
              "      <th></th>\n",
              "      <th></th>\n",
              "      <th></th>\n",
              "      <th></th>\n",
              "    </tr>\n",
              "  </thead>\n",
              "  <tbody>\n",
              "    <tr>\n",
              "      <th>2022-06-01 00:00</th>\n",
              "      <td>278.665894</td>\n",
              "      <td>269.827911</td>\n",
              "      <td>270.975464</td>\n",
              "      <td>269.319305</td>\n",
              "    </tr>\n",
              "    <tr>\n",
              "      <th>2022-06-01 00:10</th>\n",
              "      <td>280.838196</td>\n",
              "      <td>271.669556</td>\n",
              "      <td>271.861145</td>\n",
              "      <td>267.318054</td>\n",
              "    </tr>\n",
              "    <tr>\n",
              "      <th>2022-06-01 00:20</th>\n",
              "      <td>283.730194</td>\n",
              "      <td>274.855438</td>\n",
              "      <td>273.335480</td>\n",
              "      <td>264.278961</td>\n",
              "    </tr>\n",
              "    <tr>\n",
              "      <th>2022-06-01 00:30</th>\n",
              "      <td>284.587524</td>\n",
              "      <td>273.520691</td>\n",
              "      <td>270.673035</td>\n",
              "      <td>261.321320</td>\n",
              "    </tr>\n",
              "    <tr>\n",
              "      <th>2022-06-01 00:40</th>\n",
              "      <td>283.703949</td>\n",
              "      <td>271.633179</td>\n",
              "      <td>268.975616</td>\n",
              "      <td>259.304779</td>\n",
              "    </tr>\n",
              "  </tbody>\n",
              "</table>\n",
              "</div>\n",
              "      <button class=\"colab-df-convert\" onclick=\"convertToInteractive('df-57e84194-36ff-42dd-9472-65e4ca12a6a0')\"\n",
              "              title=\"Convert this dataframe to an interactive table.\"\n",
              "              style=\"display:none;\">\n",
              "        \n",
              "  <svg xmlns=\"http://www.w3.org/2000/svg\" height=\"24px\"viewBox=\"0 0 24 24\"\n",
              "       width=\"24px\">\n",
              "    <path d=\"M0 0h24v24H0V0z\" fill=\"none\"/>\n",
              "    <path d=\"M18.56 5.44l.94 2.06.94-2.06 2.06-.94-2.06-.94-.94-2.06-.94 2.06-2.06.94zm-11 1L8.5 8.5l.94-2.06 2.06-.94-2.06-.94L8.5 2.5l-.94 2.06-2.06.94zm10 10l.94 2.06.94-2.06 2.06-.94-2.06-.94-.94-2.06-.94 2.06-2.06.94z\"/><path d=\"M17.41 7.96l-1.37-1.37c-.4-.4-.92-.59-1.43-.59-.52 0-1.04.2-1.43.59L10.3 9.45l-7.72 7.72c-.78.78-.78 2.05 0 2.83L4 21.41c.39.39.9.59 1.41.59.51 0 1.02-.2 1.41-.59l7.78-7.78 2.81-2.81c.8-.78.8-2.07 0-2.86zM5.41 20L4 18.59l7.72-7.72 1.47 1.35L5.41 20z\"/>\n",
              "  </svg>\n",
              "      </button>\n",
              "      \n",
              "  <style>\n",
              "    .colab-df-container {\n",
              "      display:flex;\n",
              "      flex-wrap:wrap;\n",
              "      gap: 12px;\n",
              "    }\n",
              "\n",
              "    .colab-df-convert {\n",
              "      background-color: #E8F0FE;\n",
              "      border: none;\n",
              "      border-radius: 50%;\n",
              "      cursor: pointer;\n",
              "      display: none;\n",
              "      fill: #1967D2;\n",
              "      height: 32px;\n",
              "      padding: 0 0 0 0;\n",
              "      width: 32px;\n",
              "    }\n",
              "\n",
              "    .colab-df-convert:hover {\n",
              "      background-color: #E2EBFA;\n",
              "      box-shadow: 0px 1px 2px rgba(60, 64, 67, 0.3), 0px 1px 3px 1px rgba(60, 64, 67, 0.15);\n",
              "      fill: #174EA6;\n",
              "    }\n",
              "\n",
              "    [theme=dark] .colab-df-convert {\n",
              "      background-color: #3B4455;\n",
              "      fill: #D2E3FC;\n",
              "    }\n",
              "\n",
              "    [theme=dark] .colab-df-convert:hover {\n",
              "      background-color: #434B5C;\n",
              "      box-shadow: 0px 1px 3px 1px rgba(0, 0, 0, 0.15);\n",
              "      filter: drop-shadow(0px 1px 2px rgba(0, 0, 0, 0.3));\n",
              "      fill: #FFFFFF;\n",
              "    }\n",
              "  </style>\n",
              "\n",
              "      <script>\n",
              "        const buttonEl =\n",
              "          document.querySelector('#df-57e84194-36ff-42dd-9472-65e4ca12a6a0 button.colab-df-convert');\n",
              "        buttonEl.style.display =\n",
              "          google.colab.kernel.accessAllowed ? 'block' : 'none';\n",
              "\n",
              "        async function convertToInteractive(key) {\n",
              "          const element = document.querySelector('#df-57e84194-36ff-42dd-9472-65e4ca12a6a0');\n",
              "          const dataTable =\n",
              "            await google.colab.kernel.invokeFunction('convertToInteractive',\n",
              "                                                     [key], {});\n",
              "          if (!dataTable) return;\n",
              "\n",
              "          const docLinkHtml = 'Like what you see? Visit the ' +\n",
              "            '<a target=\"_blank\" href=https://colab.research.google.com/notebooks/data_table.ipynb>data table notebook</a>'\n",
              "            + ' to learn more about interactive tables.';\n",
              "          element.innerHTML = '';\n",
              "          dataTable['output_type'] = 'display_data';\n",
              "          await google.colab.output.renderOutput(dataTable, element);\n",
              "          const docLink = document.createElement('div');\n",
              "          docLink.innerHTML = docLinkHtml;\n",
              "          element.appendChild(docLink);\n",
              "        }\n",
              "      </script>\n",
              "    </div>\n",
              "  </div>\n",
              "  "
            ]
          },
          "metadata": {},
          "execution_count": 156
        }
      ]
    },
    {
      "cell_type": "code",
      "source": [
        "pred.to_csv('/content/drive/Shareddrives/팔당댐/제출/XGBoost(1).csv')"
      ],
      "metadata": {
        "id": "ZaemG8780HpW"
      },
      "id": "ZaemG8780HpW",
      "execution_count": 158,
      "outputs": []
    },
    {
      "cell_type": "code",
      "source": [
        ""
      ],
      "metadata": {
        "id": "sZHfjdp40Hob"
      },
      "id": "sZHfjdp40Hob",
      "execution_count": null,
      "outputs": []
    },
    {
      "cell_type": "code",
      "source": [
        ""
      ],
      "metadata": {
        "id": "Dxd9tsNK0Hnj"
      },
      "id": "Dxd9tsNK0Hnj",
      "execution_count": null,
      "outputs": []
    },
    {
      "cell_type": "code",
      "source": [
        ""
      ],
      "metadata": {
        "id": "1C7EJCLf0HS8"
      },
      "id": "1C7EJCLf0HS8",
      "execution_count": null,
      "outputs": []
    }
  ],
  "metadata": {
    "kernelspec": {
      "display_name": "Python 3",
      "language": "python",
      "name": "python3"
    },
    "language_info": {
      "codemirror_mode": {
        "name": "ipython",
        "version": 3
      },
      "file_extension": ".py",
      "mimetype": "text/x-python",
      "name": "python",
      "nbconvert_exporter": "python",
      "pygments_lexer": "ipython3",
      "version": "3.8.5"
    },
    "toc-showcode": false,
    "toc-showtags": false,
    "colab": {
      "name": "XGBoost.ipynb",
      "provenance": [],
      "collapsed_sections": [],
      "toc_visible": true
    },
    "gpuClass": "standard"
  },
  "nbformat": 4,
  "nbformat_minor": 5
}