{
  "cells": [
    {
      "cell_type": "markdown",
      "source": [
        "# 모델 돌리면 기존에 학습한거랑 다르게 학습된 모델이 나오니까 이전 모델보다 정확도 높으면 submission, 모델 저장하기\n",
        "- 낮으면 굳이 저장할 필요 없음\n"
      ],
      "metadata": {
        "id": "cy9CyZMQOr_a"
      },
      "id": "cy9CyZMQOr_a"
    },
    {
      "cell_type": "code",
      "execution_count": null,
      "id": "3fa3ec97-3f6e-45a8-8cfb-0b51bd1aa4cc",
      "metadata": {
        "id": "3fa3ec97-3f6e-45a8-8cfb-0b51bd1aa4cc"
      },
      "outputs": [],
      "source": [
        "import pandas as pd\n",
        "import numpy as np"
      ]
    },
    {
      "cell_type": "code",
      "source": [
        "from sklearn.model_selection import cross_val_score\n",
        "import pandas as pd\n",
        "import numpy as np\n",
        "from sklearn.model_selection import GridSearchCV\n",
        "from sklearn.metrics import mean_squared_error\n",
        "import math"
      ],
      "metadata": {
        "id": "duTqn7YmwlH4"
      },
      "id": "duTqn7YmwlH4",
      "execution_count": null,
      "outputs": []
    },
    {
      "cell_type": "markdown",
      "id": "a22e04d4-8bef-4a42-a469-674c68ab7a94",
      "metadata": {
        "id": "a22e04d4-8bef-4a42-a469-674c68ab7a94"
      },
      "source": [
        "# 데이터 불러오기"
      ]
    },
    {
      "cell_type": "code",
      "source": [
        "from google.colab import drive\n",
        "drive.mount('/content/drive')"
      ],
      "metadata": {
        "colab": {
          "base_uri": "https://localhost:8080/"
        },
        "id": "05YqHEzjwufB",
        "outputId": "c56496b9-72e7-4957-a84f-bef24b740598"
      },
      "id": "05YqHEzjwufB",
      "execution_count": null,
      "outputs": [
        {
          "output_type": "stream",
          "name": "stdout",
          "text": [
            "Mounted at /content/drive\n"
          ]
        }
      ]
    },
    {
      "cell_type": "code",
      "execution_count": null,
      "id": "c9b646b5-838e-499b-9c6d-8204dc1f572b",
      "metadata": {
        "colab": {
          "base_uri": "https://localhost:8080/",
          "height": 475
        },
        "id": "c9b646b5-838e-499b-9c6d-8204dc1f572b",
        "outputId": "cfd205ff-e70a-4bac-eccd-481e9762a494"
      },
      "outputs": [
        {
          "output_type": "execute_result",
          "data": {
            "text/plain": [
              "                        swl    inf     sfw   ecpc  tototf  tide_level  \\\n",
              "ymdhm                                                                   \n",
              "2012-05-01 00:00:00  24.800  555.0  219.07  24.93   555.0       445.0   \n",
              "2012-05-01 00:10:00  24.794  464.6  218.86  25.15   562.9       449.0   \n",
              "2012-05-01 00:20:00  24.789  478.1  218.69  25.31   576.4       451.0   \n",
              "2012-05-01 00:30:00  24.789  464.8  218.69  25.31   563.1       452.0   \n",
              "2012-05-01 00:40:00  24.789  478.1  218.69  25.31   576.4       450.0   \n",
              "\n",
              "                     wl_1018662  fw_1018662  wl_1018680  fw_1018680  \\\n",
              "ymdhm                                                                 \n",
              "2012-05-01 00:00:00       310.7      469.05       300.2         0.0   \n",
              "2012-05-01 00:10:00       314.7      498.00       300.2         0.0   \n",
              "2012-05-01 00:20:00       313.7      490.68       301.2         0.0   \n",
              "2012-05-01 00:30:00       311.7      476.21       301.2         0.0   \n",
              "2012-05-01 00:40:00       311.7      476.21       301.2         0.0   \n",
              "\n",
              "                     wl_1018683  fw_1018683  wl_1019630  fw_1019630  \\\n",
              "ymdhm                                                                 \n",
              "2012-05-01 00:00:00       290.0      729.80       275.3      540.18   \n",
              "2012-05-01 00:10:00       290.0      731.48       275.3      540.18   \n",
              "2012-05-01 00:20:00       290.0      726.42       275.3      540.18   \n",
              "2012-05-01 00:30:00       290.0      726.42       276.3      552.17   \n",
              "2012-05-01 00:40:00       291.0      707.17       277.3      564.29   \n",
              "\n",
              "                     rf_10184100  rf_10184110  rf_10184140  \n",
              "ymdhm                                                       \n",
              "2012-05-01 00:00:00          0.0          0.0          0.0  \n",
              "2012-05-01 00:10:00          0.0          0.0          0.0  \n",
              "2012-05-01 00:20:00          0.0          0.0          0.0  \n",
              "2012-05-01 00:30:00          0.0          0.0          0.0  \n",
              "2012-05-01 00:40:00          0.0          0.0          0.0  "
            ],
            "text/html": [
              "\n",
              "  <div id=\"df-1cd166c1-0864-41a8-be00-a292f1e254a5\">\n",
              "    <div class=\"colab-df-container\">\n",
              "      <div>\n",
              "<style scoped>\n",
              "    .dataframe tbody tr th:only-of-type {\n",
              "        vertical-align: middle;\n",
              "    }\n",
              "\n",
              "    .dataframe tbody tr th {\n",
              "        vertical-align: top;\n",
              "    }\n",
              "\n",
              "    .dataframe thead th {\n",
              "        text-align: right;\n",
              "    }\n",
              "</style>\n",
              "<table border=\"1\" class=\"dataframe\">\n",
              "  <thead>\n",
              "    <tr style=\"text-align: right;\">\n",
              "      <th></th>\n",
              "      <th>swl</th>\n",
              "      <th>inf</th>\n",
              "      <th>sfw</th>\n",
              "      <th>ecpc</th>\n",
              "      <th>tototf</th>\n",
              "      <th>tide_level</th>\n",
              "      <th>wl_1018662</th>\n",
              "      <th>fw_1018662</th>\n",
              "      <th>wl_1018680</th>\n",
              "      <th>fw_1018680</th>\n",
              "      <th>wl_1018683</th>\n",
              "      <th>fw_1018683</th>\n",
              "      <th>wl_1019630</th>\n",
              "      <th>fw_1019630</th>\n",
              "      <th>rf_10184100</th>\n",
              "      <th>rf_10184110</th>\n",
              "      <th>rf_10184140</th>\n",
              "    </tr>\n",
              "    <tr>\n",
              "      <th>ymdhm</th>\n",
              "      <th></th>\n",
              "      <th></th>\n",
              "      <th></th>\n",
              "      <th></th>\n",
              "      <th></th>\n",
              "      <th></th>\n",
              "      <th></th>\n",
              "      <th></th>\n",
              "      <th></th>\n",
              "      <th></th>\n",
              "      <th></th>\n",
              "      <th></th>\n",
              "      <th></th>\n",
              "      <th></th>\n",
              "      <th></th>\n",
              "      <th></th>\n",
              "      <th></th>\n",
              "    </tr>\n",
              "  </thead>\n",
              "  <tbody>\n",
              "    <tr>\n",
              "      <th>2012-05-01 00:00:00</th>\n",
              "      <td>24.800</td>\n",
              "      <td>555.0</td>\n",
              "      <td>219.07</td>\n",
              "      <td>24.93</td>\n",
              "      <td>555.0</td>\n",
              "      <td>445.0</td>\n",
              "      <td>310.7</td>\n",
              "      <td>469.05</td>\n",
              "      <td>300.2</td>\n",
              "      <td>0.0</td>\n",
              "      <td>290.0</td>\n",
              "      <td>729.80</td>\n",
              "      <td>275.3</td>\n",
              "      <td>540.18</td>\n",
              "      <td>0.0</td>\n",
              "      <td>0.0</td>\n",
              "      <td>0.0</td>\n",
              "    </tr>\n",
              "    <tr>\n",
              "      <th>2012-05-01 00:10:00</th>\n",
              "      <td>24.794</td>\n",
              "      <td>464.6</td>\n",
              "      <td>218.86</td>\n",
              "      <td>25.15</td>\n",
              "      <td>562.9</td>\n",
              "      <td>449.0</td>\n",
              "      <td>314.7</td>\n",
              "      <td>498.00</td>\n",
              "      <td>300.2</td>\n",
              "      <td>0.0</td>\n",
              "      <td>290.0</td>\n",
              "      <td>731.48</td>\n",
              "      <td>275.3</td>\n",
              "      <td>540.18</td>\n",
              "      <td>0.0</td>\n",
              "      <td>0.0</td>\n",
              "      <td>0.0</td>\n",
              "    </tr>\n",
              "    <tr>\n",
              "      <th>2012-05-01 00:20:00</th>\n",
              "      <td>24.789</td>\n",
              "      <td>478.1</td>\n",
              "      <td>218.69</td>\n",
              "      <td>25.31</td>\n",
              "      <td>576.4</td>\n",
              "      <td>451.0</td>\n",
              "      <td>313.7</td>\n",
              "      <td>490.68</td>\n",
              "      <td>301.2</td>\n",
              "      <td>0.0</td>\n",
              "      <td>290.0</td>\n",
              "      <td>726.42</td>\n",
              "      <td>275.3</td>\n",
              "      <td>540.18</td>\n",
              "      <td>0.0</td>\n",
              "      <td>0.0</td>\n",
              "      <td>0.0</td>\n",
              "    </tr>\n",
              "    <tr>\n",
              "      <th>2012-05-01 00:30:00</th>\n",
              "      <td>24.789</td>\n",
              "      <td>464.8</td>\n",
              "      <td>218.69</td>\n",
              "      <td>25.31</td>\n",
              "      <td>563.1</td>\n",
              "      <td>452.0</td>\n",
              "      <td>311.7</td>\n",
              "      <td>476.21</td>\n",
              "      <td>301.2</td>\n",
              "      <td>0.0</td>\n",
              "      <td>290.0</td>\n",
              "      <td>726.42</td>\n",
              "      <td>276.3</td>\n",
              "      <td>552.17</td>\n",
              "      <td>0.0</td>\n",
              "      <td>0.0</td>\n",
              "      <td>0.0</td>\n",
              "    </tr>\n",
              "    <tr>\n",
              "      <th>2012-05-01 00:40:00</th>\n",
              "      <td>24.789</td>\n",
              "      <td>478.1</td>\n",
              "      <td>218.69</td>\n",
              "      <td>25.31</td>\n",
              "      <td>576.4</td>\n",
              "      <td>450.0</td>\n",
              "      <td>311.7</td>\n",
              "      <td>476.21</td>\n",
              "      <td>301.2</td>\n",
              "      <td>0.0</td>\n",
              "      <td>291.0</td>\n",
              "      <td>707.17</td>\n",
              "      <td>277.3</td>\n",
              "      <td>564.29</td>\n",
              "      <td>0.0</td>\n",
              "      <td>0.0</td>\n",
              "      <td>0.0</td>\n",
              "    </tr>\n",
              "  </tbody>\n",
              "</table>\n",
              "</div>\n",
              "      <button class=\"colab-df-convert\" onclick=\"convertToInteractive('df-1cd166c1-0864-41a8-be00-a292f1e254a5')\"\n",
              "              title=\"Convert this dataframe to an interactive table.\"\n",
              "              style=\"display:none;\">\n",
              "        \n",
              "  <svg xmlns=\"http://www.w3.org/2000/svg\" height=\"24px\"viewBox=\"0 0 24 24\"\n",
              "       width=\"24px\">\n",
              "    <path d=\"M0 0h24v24H0V0z\" fill=\"none\"/>\n",
              "    <path d=\"M18.56 5.44l.94 2.06.94-2.06 2.06-.94-2.06-.94-.94-2.06-.94 2.06-2.06.94zm-11 1L8.5 8.5l.94-2.06 2.06-.94-2.06-.94L8.5 2.5l-.94 2.06-2.06.94zm10 10l.94 2.06.94-2.06 2.06-.94-2.06-.94-.94-2.06-.94 2.06-2.06.94z\"/><path d=\"M17.41 7.96l-1.37-1.37c-.4-.4-.92-.59-1.43-.59-.52 0-1.04.2-1.43.59L10.3 9.45l-7.72 7.72c-.78.78-.78 2.05 0 2.83L4 21.41c.39.39.9.59 1.41.59.51 0 1.02-.2 1.41-.59l7.78-7.78 2.81-2.81c.8-.78.8-2.07 0-2.86zM5.41 20L4 18.59l7.72-7.72 1.47 1.35L5.41 20z\"/>\n",
              "  </svg>\n",
              "      </button>\n",
              "      \n",
              "  <style>\n",
              "    .colab-df-container {\n",
              "      display:flex;\n",
              "      flex-wrap:wrap;\n",
              "      gap: 12px;\n",
              "    }\n",
              "\n",
              "    .colab-df-convert {\n",
              "      background-color: #E8F0FE;\n",
              "      border: none;\n",
              "      border-radius: 50%;\n",
              "      cursor: pointer;\n",
              "      display: none;\n",
              "      fill: #1967D2;\n",
              "      height: 32px;\n",
              "      padding: 0 0 0 0;\n",
              "      width: 32px;\n",
              "    }\n",
              "\n",
              "    .colab-df-convert:hover {\n",
              "      background-color: #E2EBFA;\n",
              "      box-shadow: 0px 1px 2px rgba(60, 64, 67, 0.3), 0px 1px 3px 1px rgba(60, 64, 67, 0.15);\n",
              "      fill: #174EA6;\n",
              "    }\n",
              "\n",
              "    [theme=dark] .colab-df-convert {\n",
              "      background-color: #3B4455;\n",
              "      fill: #D2E3FC;\n",
              "    }\n",
              "\n",
              "    [theme=dark] .colab-df-convert:hover {\n",
              "      background-color: #434B5C;\n",
              "      box-shadow: 0px 1px 3px 1px rgba(0, 0, 0, 0.15);\n",
              "      filter: drop-shadow(0px 1px 2px rgba(0, 0, 0, 0.3));\n",
              "      fill: #FFFFFF;\n",
              "    }\n",
              "  </style>\n",
              "\n",
              "      <script>\n",
              "        const buttonEl =\n",
              "          document.querySelector('#df-1cd166c1-0864-41a8-be00-a292f1e254a5 button.colab-df-convert');\n",
              "        buttonEl.style.display =\n",
              "          google.colab.kernel.accessAllowed ? 'block' : 'none';\n",
              "\n",
              "        async function convertToInteractive(key) {\n",
              "          const element = document.querySelector('#df-1cd166c1-0864-41a8-be00-a292f1e254a5');\n",
              "          const dataTable =\n",
              "            await google.colab.kernel.invokeFunction('convertToInteractive',\n",
              "                                                     [key], {});\n",
              "          if (!dataTable) return;\n",
              "\n",
              "          const docLinkHtml = 'Like what you see? Visit the ' +\n",
              "            '<a target=\"_blank\" href=https://colab.research.google.com/notebooks/data_table.ipynb>data table notebook</a>'\n",
              "            + ' to learn more about interactive tables.';\n",
              "          element.innerHTML = '';\n",
              "          dataTable['output_type'] = 'display_data';\n",
              "          await google.colab.output.renderOutput(dataTable, element);\n",
              "          const docLink = document.createElement('div');\n",
              "          docLink.innerHTML = docLinkHtml;\n",
              "          element.appendChild(docLink);\n",
              "        }\n",
              "      </script>\n",
              "    </div>\n",
              "  </div>\n",
              "  "
            ]
          },
          "metadata": {},
          "execution_count": 20
        }
      ],
      "source": [
        "filename = '/content/drive/Shareddrives/팔당댐/combined_data/combined_train_test_filled_cleansed.csv'\n",
        "df = pd.read_csv(filename, index_col='ymdhm', parse_dates=['ymdhm'])\n",
        "df.head()"
      ]
    },
    {
      "cell_type": "code",
      "source": [
        "df.describe()"
      ],
      "metadata": {
        "colab": {
          "base_uri": "https://localhost:8080/",
          "height": 364
        },
        "id": "jXhH9k_QCD4d",
        "outputId": "ea8fb9fd-a844-4e78-b285-74dedbe4787e"
      },
      "id": "jXhH9k_QCD4d",
      "execution_count": null,
      "outputs": [
        {
          "output_type": "execute_result",
          "data": {
            "text/plain": [
              "                 swl            inf            sfw           ecpc  \\\n",
              "count  276336.000000  276336.000000  276336.000000  276336.000000   \n",
              "mean       25.079251     548.548083     219.425047      24.575537   \n",
              "std         0.146126    1110.978412       9.912109       9.911699   \n",
              "min        23.993000    -807.500000     176.380000       2.150000   \n",
              "25%        24.980000     127.417500     211.770000      14.670000   \n",
              "50%        25.100000     249.570000     217.630000      26.370000   \n",
              "75%        25.190000     530.000000     229.330000      32.230000   \n",
              "max        25.449000   25991.500000     241.850000      67.620000   \n",
              "\n",
              "              tototf     tide_level     wl_1018662     fw_1018662  \\\n",
              "count  276336.000000  276336.000000  276336.000000  276336.000000   \n",
              "mean      542.036770     345.631700     329.232797     746.826551   \n",
              "std      1104.317791     174.250734      76.559900    1077.388189   \n",
              "min      -222.000000      39.000000     259.700000     243.290000   \n",
              "25%       132.000000     192.000000     287.700000     319.840000   \n",
              "50%       174.980000     324.000000     307.000000     441.000000   \n",
              "75%       505.000000     487.000000     342.700000     725.690000   \n",
              "max     25791.500000     842.000000    1287.700000    9405.640000   \n",
              "\n",
              "          wl_1018680  fw_1018680     wl_1018683     fw_1018683     wl_1019630  \\\n",
              "count  276336.000000    276336.0  276336.000000  276336.000000  276336.000000   \n",
              "mean      316.071760         0.0     312.590404     600.970021     299.979812   \n",
              "std        67.495669         0.0      63.883452    1376.848129      51.442783   \n",
              "min       246.200000         0.0     247.000000   -3522.710000     241.300000   \n",
              "25%       278.200000         0.0     275.000000     205.082500     267.300000   \n",
              "50%       297.200000         0.0     295.000000     355.980000     286.300000   \n",
              "75%       330.200000         0.0     328.000000     709.710000     316.300000   \n",
              "max      1146.200000         0.0    1080.000000   25289.170000     843.300000   \n",
              "\n",
              "          fw_1019630    rf_10184100    rf_10184110    rf_10184140  \n",
              "count  276336.000000  276336.000000  276336.000000  276336.000000  \n",
              "mean     1056.807758       0.034074       0.038265       0.035985  \n",
              "std      1428.279212       0.338607       0.370553       0.360769  \n",
              "min       212.040000       0.000000       0.000000       0.000000  \n",
              "25%       449.120000       0.000000       0.000000       0.000000  \n",
              "50%       679.420000       0.000000       0.000000       0.000000  \n",
              "75%      1142.220000       0.000000       0.000000       0.000000  \n",
              "max     29854.120000      24.000000      21.000000      24.000000  "
            ],
            "text/html": [
              "\n",
              "  <div id=\"df-f8743936-6cda-498b-bc91-95b8a3585569\">\n",
              "    <div class=\"colab-df-container\">\n",
              "      <div>\n",
              "<style scoped>\n",
              "    .dataframe tbody tr th:only-of-type {\n",
              "        vertical-align: middle;\n",
              "    }\n",
              "\n",
              "    .dataframe tbody tr th {\n",
              "        vertical-align: top;\n",
              "    }\n",
              "\n",
              "    .dataframe thead th {\n",
              "        text-align: right;\n",
              "    }\n",
              "</style>\n",
              "<table border=\"1\" class=\"dataframe\">\n",
              "  <thead>\n",
              "    <tr style=\"text-align: right;\">\n",
              "      <th></th>\n",
              "      <th>swl</th>\n",
              "      <th>inf</th>\n",
              "      <th>sfw</th>\n",
              "      <th>ecpc</th>\n",
              "      <th>tototf</th>\n",
              "      <th>tide_level</th>\n",
              "      <th>wl_1018662</th>\n",
              "      <th>fw_1018662</th>\n",
              "      <th>wl_1018680</th>\n",
              "      <th>fw_1018680</th>\n",
              "      <th>wl_1018683</th>\n",
              "      <th>fw_1018683</th>\n",
              "      <th>wl_1019630</th>\n",
              "      <th>fw_1019630</th>\n",
              "      <th>rf_10184100</th>\n",
              "      <th>rf_10184110</th>\n",
              "      <th>rf_10184140</th>\n",
              "    </tr>\n",
              "  </thead>\n",
              "  <tbody>\n",
              "    <tr>\n",
              "      <th>count</th>\n",
              "      <td>276336.000000</td>\n",
              "      <td>276336.000000</td>\n",
              "      <td>276336.000000</td>\n",
              "      <td>276336.000000</td>\n",
              "      <td>276336.000000</td>\n",
              "      <td>276336.000000</td>\n",
              "      <td>276336.000000</td>\n",
              "      <td>276336.000000</td>\n",
              "      <td>276336.000000</td>\n",
              "      <td>276336.0</td>\n",
              "      <td>276336.000000</td>\n",
              "      <td>276336.000000</td>\n",
              "      <td>276336.000000</td>\n",
              "      <td>276336.000000</td>\n",
              "      <td>276336.000000</td>\n",
              "      <td>276336.000000</td>\n",
              "      <td>276336.000000</td>\n",
              "    </tr>\n",
              "    <tr>\n",
              "      <th>mean</th>\n",
              "      <td>25.079251</td>\n",
              "      <td>548.548083</td>\n",
              "      <td>219.425047</td>\n",
              "      <td>24.575537</td>\n",
              "      <td>542.036770</td>\n",
              "      <td>345.631700</td>\n",
              "      <td>329.232797</td>\n",
              "      <td>746.826551</td>\n",
              "      <td>316.071760</td>\n",
              "      <td>0.0</td>\n",
              "      <td>312.590404</td>\n",
              "      <td>600.970021</td>\n",
              "      <td>299.979812</td>\n",
              "      <td>1056.807758</td>\n",
              "      <td>0.034074</td>\n",
              "      <td>0.038265</td>\n",
              "      <td>0.035985</td>\n",
              "    </tr>\n",
              "    <tr>\n",
              "      <th>std</th>\n",
              "      <td>0.146126</td>\n",
              "      <td>1110.978412</td>\n",
              "      <td>9.912109</td>\n",
              "      <td>9.911699</td>\n",
              "      <td>1104.317791</td>\n",
              "      <td>174.250734</td>\n",
              "      <td>76.559900</td>\n",
              "      <td>1077.388189</td>\n",
              "      <td>67.495669</td>\n",
              "      <td>0.0</td>\n",
              "      <td>63.883452</td>\n",
              "      <td>1376.848129</td>\n",
              "      <td>51.442783</td>\n",
              "      <td>1428.279212</td>\n",
              "      <td>0.338607</td>\n",
              "      <td>0.370553</td>\n",
              "      <td>0.360769</td>\n",
              "    </tr>\n",
              "    <tr>\n",
              "      <th>min</th>\n",
              "      <td>23.993000</td>\n",
              "      <td>-807.500000</td>\n",
              "      <td>176.380000</td>\n",
              "      <td>2.150000</td>\n",
              "      <td>-222.000000</td>\n",
              "      <td>39.000000</td>\n",
              "      <td>259.700000</td>\n",
              "      <td>243.290000</td>\n",
              "      <td>246.200000</td>\n",
              "      <td>0.0</td>\n",
              "      <td>247.000000</td>\n",
              "      <td>-3522.710000</td>\n",
              "      <td>241.300000</td>\n",
              "      <td>212.040000</td>\n",
              "      <td>0.000000</td>\n",
              "      <td>0.000000</td>\n",
              "      <td>0.000000</td>\n",
              "    </tr>\n",
              "    <tr>\n",
              "      <th>25%</th>\n",
              "      <td>24.980000</td>\n",
              "      <td>127.417500</td>\n",
              "      <td>211.770000</td>\n",
              "      <td>14.670000</td>\n",
              "      <td>132.000000</td>\n",
              "      <td>192.000000</td>\n",
              "      <td>287.700000</td>\n",
              "      <td>319.840000</td>\n",
              "      <td>278.200000</td>\n",
              "      <td>0.0</td>\n",
              "      <td>275.000000</td>\n",
              "      <td>205.082500</td>\n",
              "      <td>267.300000</td>\n",
              "      <td>449.120000</td>\n",
              "      <td>0.000000</td>\n",
              "      <td>0.000000</td>\n",
              "      <td>0.000000</td>\n",
              "    </tr>\n",
              "    <tr>\n",
              "      <th>50%</th>\n",
              "      <td>25.100000</td>\n",
              "      <td>249.570000</td>\n",
              "      <td>217.630000</td>\n",
              "      <td>26.370000</td>\n",
              "      <td>174.980000</td>\n",
              "      <td>324.000000</td>\n",
              "      <td>307.000000</td>\n",
              "      <td>441.000000</td>\n",
              "      <td>297.200000</td>\n",
              "      <td>0.0</td>\n",
              "      <td>295.000000</td>\n",
              "      <td>355.980000</td>\n",
              "      <td>286.300000</td>\n",
              "      <td>679.420000</td>\n",
              "      <td>0.000000</td>\n",
              "      <td>0.000000</td>\n",
              "      <td>0.000000</td>\n",
              "    </tr>\n",
              "    <tr>\n",
              "      <th>75%</th>\n",
              "      <td>25.190000</td>\n",
              "      <td>530.000000</td>\n",
              "      <td>229.330000</td>\n",
              "      <td>32.230000</td>\n",
              "      <td>505.000000</td>\n",
              "      <td>487.000000</td>\n",
              "      <td>342.700000</td>\n",
              "      <td>725.690000</td>\n",
              "      <td>330.200000</td>\n",
              "      <td>0.0</td>\n",
              "      <td>328.000000</td>\n",
              "      <td>709.710000</td>\n",
              "      <td>316.300000</td>\n",
              "      <td>1142.220000</td>\n",
              "      <td>0.000000</td>\n",
              "      <td>0.000000</td>\n",
              "      <td>0.000000</td>\n",
              "    </tr>\n",
              "    <tr>\n",
              "      <th>max</th>\n",
              "      <td>25.449000</td>\n",
              "      <td>25991.500000</td>\n",
              "      <td>241.850000</td>\n",
              "      <td>67.620000</td>\n",
              "      <td>25791.500000</td>\n",
              "      <td>842.000000</td>\n",
              "      <td>1287.700000</td>\n",
              "      <td>9405.640000</td>\n",
              "      <td>1146.200000</td>\n",
              "      <td>0.0</td>\n",
              "      <td>1080.000000</td>\n",
              "      <td>25289.170000</td>\n",
              "      <td>843.300000</td>\n",
              "      <td>29854.120000</td>\n",
              "      <td>24.000000</td>\n",
              "      <td>21.000000</td>\n",
              "      <td>24.000000</td>\n",
              "    </tr>\n",
              "  </tbody>\n",
              "</table>\n",
              "</div>\n",
              "      <button class=\"colab-df-convert\" onclick=\"convertToInteractive('df-f8743936-6cda-498b-bc91-95b8a3585569')\"\n",
              "              title=\"Convert this dataframe to an interactive table.\"\n",
              "              style=\"display:none;\">\n",
              "        \n",
              "  <svg xmlns=\"http://www.w3.org/2000/svg\" height=\"24px\"viewBox=\"0 0 24 24\"\n",
              "       width=\"24px\">\n",
              "    <path d=\"M0 0h24v24H0V0z\" fill=\"none\"/>\n",
              "    <path d=\"M18.56 5.44l.94 2.06.94-2.06 2.06-.94-2.06-.94-.94-2.06-.94 2.06-2.06.94zm-11 1L8.5 8.5l.94-2.06 2.06-.94-2.06-.94L8.5 2.5l-.94 2.06-2.06.94zm10 10l.94 2.06.94-2.06 2.06-.94-2.06-.94-.94-2.06-.94 2.06-2.06.94z\"/><path d=\"M17.41 7.96l-1.37-1.37c-.4-.4-.92-.59-1.43-.59-.52 0-1.04.2-1.43.59L10.3 9.45l-7.72 7.72c-.78.78-.78 2.05 0 2.83L4 21.41c.39.39.9.59 1.41.59.51 0 1.02-.2 1.41-.59l7.78-7.78 2.81-2.81c.8-.78.8-2.07 0-2.86zM5.41 20L4 18.59l7.72-7.72 1.47 1.35L5.41 20z\"/>\n",
              "  </svg>\n",
              "      </button>\n",
              "      \n",
              "  <style>\n",
              "    .colab-df-container {\n",
              "      display:flex;\n",
              "      flex-wrap:wrap;\n",
              "      gap: 12px;\n",
              "    }\n",
              "\n",
              "    .colab-df-convert {\n",
              "      background-color: #E8F0FE;\n",
              "      border: none;\n",
              "      border-radius: 50%;\n",
              "      cursor: pointer;\n",
              "      display: none;\n",
              "      fill: #1967D2;\n",
              "      height: 32px;\n",
              "      padding: 0 0 0 0;\n",
              "      width: 32px;\n",
              "    }\n",
              "\n",
              "    .colab-df-convert:hover {\n",
              "      background-color: #E2EBFA;\n",
              "      box-shadow: 0px 1px 2px rgba(60, 64, 67, 0.3), 0px 1px 3px 1px rgba(60, 64, 67, 0.15);\n",
              "      fill: #174EA6;\n",
              "    }\n",
              "\n",
              "    [theme=dark] .colab-df-convert {\n",
              "      background-color: #3B4455;\n",
              "      fill: #D2E3FC;\n",
              "    }\n",
              "\n",
              "    [theme=dark] .colab-df-convert:hover {\n",
              "      background-color: #434B5C;\n",
              "      box-shadow: 0px 1px 3px 1px rgba(0, 0, 0, 0.15);\n",
              "      filter: drop-shadow(0px 1px 2px rgba(0, 0, 0, 0.3));\n",
              "      fill: #FFFFFF;\n",
              "    }\n",
              "  </style>\n",
              "\n",
              "      <script>\n",
              "        const buttonEl =\n",
              "          document.querySelector('#df-f8743936-6cda-498b-bc91-95b8a3585569 button.colab-df-convert');\n",
              "        buttonEl.style.display =\n",
              "          google.colab.kernel.accessAllowed ? 'block' : 'none';\n",
              "\n",
              "        async function convertToInteractive(key) {\n",
              "          const element = document.querySelector('#df-f8743936-6cda-498b-bc91-95b8a3585569');\n",
              "          const dataTable =\n",
              "            await google.colab.kernel.invokeFunction('convertToInteractive',\n",
              "                                                     [key], {});\n",
              "          if (!dataTable) return;\n",
              "\n",
              "          const docLinkHtml = 'Like what you see? Visit the ' +\n",
              "            '<a target=\"_blank\" href=https://colab.research.google.com/notebooks/data_table.ipynb>data table notebook</a>'\n",
              "            + ' to learn more about interactive tables.';\n",
              "          element.innerHTML = '';\n",
              "          dataTable['output_type'] = 'display_data';\n",
              "          await google.colab.output.renderOutput(dataTable, element);\n",
              "          const docLink = document.createElement('div');\n",
              "          docLink.innerHTML = docLinkHtml;\n",
              "          element.appendChild(docLink);\n",
              "        }\n",
              "      </script>\n",
              "    </div>\n",
              "  </div>\n",
              "  "
            ]
          },
          "metadata": {},
          "execution_count": 5
        }
      ]
    },
    {
      "cell_type": "code",
      "source": [
        "df.info()"
      ],
      "metadata": {
        "colab": {
          "base_uri": "https://localhost:8080/"
        },
        "id": "8mhQPM-CCE8F",
        "outputId": "d23877ca-e77b-495b-b759-b9b9307d8069"
      },
      "id": "8mhQPM-CCE8F",
      "execution_count": null,
      "outputs": [
        {
          "output_type": "stream",
          "name": "stdout",
          "text": [
            "<class 'pandas.core.frame.DataFrame'>\n",
            "DatetimeIndex: 276336 entries, 2012-05-01 00:00:00 to 2022-07-18 23:50:00\n",
            "Data columns (total 17 columns):\n",
            " #   Column       Non-Null Count   Dtype  \n",
            "---  ------       --------------   -----  \n",
            " 0   swl          276336 non-null  float64\n",
            " 1   inf          276336 non-null  float64\n",
            " 2   sfw          276336 non-null  float64\n",
            " 3   ecpc         276336 non-null  float64\n",
            " 4   tototf       276336 non-null  float64\n",
            " 5   tide_level   276336 non-null  float64\n",
            " 6   wl_1018662   276336 non-null  float64\n",
            " 7   fw_1018662   276336 non-null  float64\n",
            " 8   wl_1018680   276336 non-null  float64\n",
            " 9   fw_1018680   276336 non-null  float64\n",
            " 10  wl_1018683   276336 non-null  float64\n",
            " 11  fw_1018683   276336 non-null  float64\n",
            " 12  wl_1019630   276336 non-null  float64\n",
            " 13  fw_1019630   276336 non-null  float64\n",
            " 14  rf_10184100  276336 non-null  float64\n",
            " 15  rf_10184110  276336 non-null  float64\n",
            " 16  rf_10184140  276336 non-null  float64\n",
            "dtypes: float64(17)\n",
            "memory usage: 37.9 MB\n"
          ]
        }
      ]
    },
    {
      "cell_type": "code",
      "source": [
        "df.isnull().sum()"
      ],
      "metadata": {
        "colab": {
          "base_uri": "https://localhost:8080/"
        },
        "id": "8AYJOwX5CGYc",
        "outputId": "c4423aec-1f8f-462e-d765-4406bb53c145"
      },
      "id": "8AYJOwX5CGYc",
      "execution_count": null,
      "outputs": [
        {
          "output_type": "execute_result",
          "data": {
            "text/plain": [
              "swl            0\n",
              "inf            0\n",
              "sfw            0\n",
              "ecpc           0\n",
              "tototf         0\n",
              "tide_level     0\n",
              "wl_1018662     0\n",
              "fw_1018662     0\n",
              "wl_1018680     0\n",
              "fw_1018680     0\n",
              "wl_1018683     0\n",
              "fw_1018683     0\n",
              "wl_1019630     0\n",
              "fw_1019630     0\n",
              "rf_10184100    0\n",
              "rf_10184110    0\n",
              "rf_10184140    0\n",
              "dtype: int64"
            ]
          },
          "metadata": {},
          "execution_count": 7
        }
      ]
    },
    {
      "cell_type": "code",
      "source": [
        "sub_df = pd.read_csv('/content/drive/Shareddrives/팔당댐/competition_data/sample_submission.csv',index_col=0)\n",
        "sub_df.head()"
      ],
      "metadata": {
        "colab": {
          "base_uri": "https://localhost:8080/",
          "height": 237
        },
        "id": "Oss-gDvnOuap",
        "outputId": "32eedcda-ca6f-47fa-f694-43b484e3652d"
      },
      "id": "Oss-gDvnOuap",
      "execution_count": null,
      "outputs": [
        {
          "output_type": "execute_result",
          "data": {
            "text/plain": [
              "                  wl_1018662  wl_1018680  wl_1018683  wl_1019630\n",
              "ymdhm                                                           \n",
              "2022-06-01 00:00           0           0           0           0\n",
              "2022-06-01 00:10           0           0           0           0\n",
              "2022-06-01 00:20           0           0           0           0\n",
              "2022-06-01 00:30           0           0           0           0\n",
              "2022-06-01 00:40           0           0           0           0"
            ],
            "text/html": [
              "\n",
              "  <div id=\"df-ccc667d0-1126-4501-ba23-aa290cdccf71\">\n",
              "    <div class=\"colab-df-container\">\n",
              "      <div>\n",
              "<style scoped>\n",
              "    .dataframe tbody tr th:only-of-type {\n",
              "        vertical-align: middle;\n",
              "    }\n",
              "\n",
              "    .dataframe tbody tr th {\n",
              "        vertical-align: top;\n",
              "    }\n",
              "\n",
              "    .dataframe thead th {\n",
              "        text-align: right;\n",
              "    }\n",
              "</style>\n",
              "<table border=\"1\" class=\"dataframe\">\n",
              "  <thead>\n",
              "    <tr style=\"text-align: right;\">\n",
              "      <th></th>\n",
              "      <th>wl_1018662</th>\n",
              "      <th>wl_1018680</th>\n",
              "      <th>wl_1018683</th>\n",
              "      <th>wl_1019630</th>\n",
              "    </tr>\n",
              "    <tr>\n",
              "      <th>ymdhm</th>\n",
              "      <th></th>\n",
              "      <th></th>\n",
              "      <th></th>\n",
              "      <th></th>\n",
              "    </tr>\n",
              "  </thead>\n",
              "  <tbody>\n",
              "    <tr>\n",
              "      <th>2022-06-01 00:00</th>\n",
              "      <td>0</td>\n",
              "      <td>0</td>\n",
              "      <td>0</td>\n",
              "      <td>0</td>\n",
              "    </tr>\n",
              "    <tr>\n",
              "      <th>2022-06-01 00:10</th>\n",
              "      <td>0</td>\n",
              "      <td>0</td>\n",
              "      <td>0</td>\n",
              "      <td>0</td>\n",
              "    </tr>\n",
              "    <tr>\n",
              "      <th>2022-06-01 00:20</th>\n",
              "      <td>0</td>\n",
              "      <td>0</td>\n",
              "      <td>0</td>\n",
              "      <td>0</td>\n",
              "    </tr>\n",
              "    <tr>\n",
              "      <th>2022-06-01 00:30</th>\n",
              "      <td>0</td>\n",
              "      <td>0</td>\n",
              "      <td>0</td>\n",
              "      <td>0</td>\n",
              "    </tr>\n",
              "    <tr>\n",
              "      <th>2022-06-01 00:40</th>\n",
              "      <td>0</td>\n",
              "      <td>0</td>\n",
              "      <td>0</td>\n",
              "      <td>0</td>\n",
              "    </tr>\n",
              "  </tbody>\n",
              "</table>\n",
              "</div>\n",
              "      <button class=\"colab-df-convert\" onclick=\"convertToInteractive('df-ccc667d0-1126-4501-ba23-aa290cdccf71')\"\n",
              "              title=\"Convert this dataframe to an interactive table.\"\n",
              "              style=\"display:none;\">\n",
              "        \n",
              "  <svg xmlns=\"http://www.w3.org/2000/svg\" height=\"24px\"viewBox=\"0 0 24 24\"\n",
              "       width=\"24px\">\n",
              "    <path d=\"M0 0h24v24H0V0z\" fill=\"none\"/>\n",
              "    <path d=\"M18.56 5.44l.94 2.06.94-2.06 2.06-.94-2.06-.94-.94-2.06-.94 2.06-2.06.94zm-11 1L8.5 8.5l.94-2.06 2.06-.94-2.06-.94L8.5 2.5l-.94 2.06-2.06.94zm10 10l.94 2.06.94-2.06 2.06-.94-2.06-.94-.94-2.06-.94 2.06-2.06.94z\"/><path d=\"M17.41 7.96l-1.37-1.37c-.4-.4-.92-.59-1.43-.59-.52 0-1.04.2-1.43.59L10.3 9.45l-7.72 7.72c-.78.78-.78 2.05 0 2.83L4 21.41c.39.39.9.59 1.41.59.51 0 1.02-.2 1.41-.59l7.78-7.78 2.81-2.81c.8-.78.8-2.07 0-2.86zM5.41 20L4 18.59l7.72-7.72 1.47 1.35L5.41 20z\"/>\n",
              "  </svg>\n",
              "      </button>\n",
              "      \n",
              "  <style>\n",
              "    .colab-df-container {\n",
              "      display:flex;\n",
              "      flex-wrap:wrap;\n",
              "      gap: 12px;\n",
              "    }\n",
              "\n",
              "    .colab-df-convert {\n",
              "      background-color: #E8F0FE;\n",
              "      border: none;\n",
              "      border-radius: 50%;\n",
              "      cursor: pointer;\n",
              "      display: none;\n",
              "      fill: #1967D2;\n",
              "      height: 32px;\n",
              "      padding: 0 0 0 0;\n",
              "      width: 32px;\n",
              "    }\n",
              "\n",
              "    .colab-df-convert:hover {\n",
              "      background-color: #E2EBFA;\n",
              "      box-shadow: 0px 1px 2px rgba(60, 64, 67, 0.3), 0px 1px 3px 1px rgba(60, 64, 67, 0.15);\n",
              "      fill: #174EA6;\n",
              "    }\n",
              "\n",
              "    [theme=dark] .colab-df-convert {\n",
              "      background-color: #3B4455;\n",
              "      fill: #D2E3FC;\n",
              "    }\n",
              "\n",
              "    [theme=dark] .colab-df-convert:hover {\n",
              "      background-color: #434B5C;\n",
              "      box-shadow: 0px 1px 3px 1px rgba(0, 0, 0, 0.15);\n",
              "      filter: drop-shadow(0px 1px 2px rgba(0, 0, 0, 0.3));\n",
              "      fill: #FFFFFF;\n",
              "    }\n",
              "  </style>\n",
              "\n",
              "      <script>\n",
              "        const buttonEl =\n",
              "          document.querySelector('#df-ccc667d0-1126-4501-ba23-aa290cdccf71 button.colab-df-convert');\n",
              "        buttonEl.style.display =\n",
              "          google.colab.kernel.accessAllowed ? 'block' : 'none';\n",
              "\n",
              "        async function convertToInteractive(key) {\n",
              "          const element = document.querySelector('#df-ccc667d0-1126-4501-ba23-aa290cdccf71');\n",
              "          const dataTable =\n",
              "            await google.colab.kernel.invokeFunction('convertToInteractive',\n",
              "                                                     [key], {});\n",
              "          if (!dataTable) return;\n",
              "\n",
              "          const docLinkHtml = 'Like what you see? Visit the ' +\n",
              "            '<a target=\"_blank\" href=https://colab.research.google.com/notebooks/data_table.ipynb>data table notebook</a>'\n",
              "            + ' to learn more about interactive tables.';\n",
              "          element.innerHTML = '';\n",
              "          dataTable['output_type'] = 'display_data';\n",
              "          await google.colab.output.renderOutput(dataTable, element);\n",
              "          const docLink = document.createElement('div');\n",
              "          docLink.innerHTML = docLinkHtml;\n",
              "          element.appendChild(docLink);\n",
              "        }\n",
              "      </script>\n",
              "    </div>\n",
              "  </div>\n",
              "  "
            ]
          },
          "metadata": {},
          "execution_count": 21
        }
      ]
    },
    {
      "cell_type": "code",
      "source": [
        "df.sort_index(inplace=True)\n",
        "sub_df.sort_index(inplace=True)"
      ],
      "metadata": {
        "id": "nM2-xBj6OuZc"
      },
      "id": "nM2-xBj6OuZc",
      "execution_count": null,
      "outputs": []
    },
    {
      "cell_type": "code",
      "source": [
        "target = df.loc[:,sub_df.columns]\n",
        "data = df.drop(sub_df.columns,axis=1)"
      ],
      "metadata": {
        "id": "54EW3GY9OuT9"
      },
      "id": "54EW3GY9OuT9",
      "execution_count": null,
      "outputs": []
    },
    {
      "cell_type": "code",
      "source": [
        "target.head()"
      ],
      "metadata": {
        "colab": {
          "base_uri": "https://localhost:8080/",
          "height": 238
        },
        "id": "Uwlzja6aOuOH",
        "outputId": "ddf6bcfc-32fb-4e0e-b57e-f15dfc8ecd43"
      },
      "id": "Uwlzja6aOuOH",
      "execution_count": null,
      "outputs": [
        {
          "output_type": "execute_result",
          "data": {
            "text/plain": [
              "                     wl_1018662  wl_1018680  wl_1018683  wl_1019630\n",
              "ymdhm                                                              \n",
              "2012-05-01 00:00:00       310.7       300.2       290.0       275.3\n",
              "2012-05-01 00:10:00       314.7       300.2       290.0       275.3\n",
              "2012-05-01 00:20:00       313.7       301.2       290.0       275.3\n",
              "2012-05-01 00:30:00       311.7       301.2       290.0       276.3\n",
              "2012-05-01 00:40:00       311.7       301.2       291.0       277.3"
            ],
            "text/html": [
              "\n",
              "  <div id=\"df-5e5b53d8-df69-4361-bab6-436ff21a89de\">\n",
              "    <div class=\"colab-df-container\">\n",
              "      <div>\n",
              "<style scoped>\n",
              "    .dataframe tbody tr th:only-of-type {\n",
              "        vertical-align: middle;\n",
              "    }\n",
              "\n",
              "    .dataframe tbody tr th {\n",
              "        vertical-align: top;\n",
              "    }\n",
              "\n",
              "    .dataframe thead th {\n",
              "        text-align: right;\n",
              "    }\n",
              "</style>\n",
              "<table border=\"1\" class=\"dataframe\">\n",
              "  <thead>\n",
              "    <tr style=\"text-align: right;\">\n",
              "      <th></th>\n",
              "      <th>wl_1018662</th>\n",
              "      <th>wl_1018680</th>\n",
              "      <th>wl_1018683</th>\n",
              "      <th>wl_1019630</th>\n",
              "    </tr>\n",
              "    <tr>\n",
              "      <th>ymdhm</th>\n",
              "      <th></th>\n",
              "      <th></th>\n",
              "      <th></th>\n",
              "      <th></th>\n",
              "    </tr>\n",
              "  </thead>\n",
              "  <tbody>\n",
              "    <tr>\n",
              "      <th>2012-05-01 00:00:00</th>\n",
              "      <td>310.7</td>\n",
              "      <td>300.2</td>\n",
              "      <td>290.0</td>\n",
              "      <td>275.3</td>\n",
              "    </tr>\n",
              "    <tr>\n",
              "      <th>2012-05-01 00:10:00</th>\n",
              "      <td>314.7</td>\n",
              "      <td>300.2</td>\n",
              "      <td>290.0</td>\n",
              "      <td>275.3</td>\n",
              "    </tr>\n",
              "    <tr>\n",
              "      <th>2012-05-01 00:20:00</th>\n",
              "      <td>313.7</td>\n",
              "      <td>301.2</td>\n",
              "      <td>290.0</td>\n",
              "      <td>275.3</td>\n",
              "    </tr>\n",
              "    <tr>\n",
              "      <th>2012-05-01 00:30:00</th>\n",
              "      <td>311.7</td>\n",
              "      <td>301.2</td>\n",
              "      <td>290.0</td>\n",
              "      <td>276.3</td>\n",
              "    </tr>\n",
              "    <tr>\n",
              "      <th>2012-05-01 00:40:00</th>\n",
              "      <td>311.7</td>\n",
              "      <td>301.2</td>\n",
              "      <td>291.0</td>\n",
              "      <td>277.3</td>\n",
              "    </tr>\n",
              "  </tbody>\n",
              "</table>\n",
              "</div>\n",
              "      <button class=\"colab-df-convert\" onclick=\"convertToInteractive('df-5e5b53d8-df69-4361-bab6-436ff21a89de')\"\n",
              "              title=\"Convert this dataframe to an interactive table.\"\n",
              "              style=\"display:none;\">\n",
              "        \n",
              "  <svg xmlns=\"http://www.w3.org/2000/svg\" height=\"24px\"viewBox=\"0 0 24 24\"\n",
              "       width=\"24px\">\n",
              "    <path d=\"M0 0h24v24H0V0z\" fill=\"none\"/>\n",
              "    <path d=\"M18.56 5.44l.94 2.06.94-2.06 2.06-.94-2.06-.94-.94-2.06-.94 2.06-2.06.94zm-11 1L8.5 8.5l.94-2.06 2.06-.94-2.06-.94L8.5 2.5l-.94 2.06-2.06.94zm10 10l.94 2.06.94-2.06 2.06-.94-2.06-.94-.94-2.06-.94 2.06-2.06.94z\"/><path d=\"M17.41 7.96l-1.37-1.37c-.4-.4-.92-.59-1.43-.59-.52 0-1.04.2-1.43.59L10.3 9.45l-7.72 7.72c-.78.78-.78 2.05 0 2.83L4 21.41c.39.39.9.59 1.41.59.51 0 1.02-.2 1.41-.59l7.78-7.78 2.81-2.81c.8-.78.8-2.07 0-2.86zM5.41 20L4 18.59l7.72-7.72 1.47 1.35L5.41 20z\"/>\n",
              "  </svg>\n",
              "      </button>\n",
              "      \n",
              "  <style>\n",
              "    .colab-df-container {\n",
              "      display:flex;\n",
              "      flex-wrap:wrap;\n",
              "      gap: 12px;\n",
              "    }\n",
              "\n",
              "    .colab-df-convert {\n",
              "      background-color: #E8F0FE;\n",
              "      border: none;\n",
              "      border-radius: 50%;\n",
              "      cursor: pointer;\n",
              "      display: none;\n",
              "      fill: #1967D2;\n",
              "      height: 32px;\n",
              "      padding: 0 0 0 0;\n",
              "      width: 32px;\n",
              "    }\n",
              "\n",
              "    .colab-df-convert:hover {\n",
              "      background-color: #E2EBFA;\n",
              "      box-shadow: 0px 1px 2px rgba(60, 64, 67, 0.3), 0px 1px 3px 1px rgba(60, 64, 67, 0.15);\n",
              "      fill: #174EA6;\n",
              "    }\n",
              "\n",
              "    [theme=dark] .colab-df-convert {\n",
              "      background-color: #3B4455;\n",
              "      fill: #D2E3FC;\n",
              "    }\n",
              "\n",
              "    [theme=dark] .colab-df-convert:hover {\n",
              "      background-color: #434B5C;\n",
              "      box-shadow: 0px 1px 3px 1px rgba(0, 0, 0, 0.15);\n",
              "      filter: drop-shadow(0px 1px 2px rgba(0, 0, 0, 0.3));\n",
              "      fill: #FFFFFF;\n",
              "    }\n",
              "  </style>\n",
              "\n",
              "      <script>\n",
              "        const buttonEl =\n",
              "          document.querySelector('#df-5e5b53d8-df69-4361-bab6-436ff21a89de button.colab-df-convert');\n",
              "        buttonEl.style.display =\n",
              "          google.colab.kernel.accessAllowed ? 'block' : 'none';\n",
              "\n",
              "        async function convertToInteractive(key) {\n",
              "          const element = document.querySelector('#df-5e5b53d8-df69-4361-bab6-436ff21a89de');\n",
              "          const dataTable =\n",
              "            await google.colab.kernel.invokeFunction('convertToInteractive',\n",
              "                                                     [key], {});\n",
              "          if (!dataTable) return;\n",
              "\n",
              "          const docLinkHtml = 'Like what you see? Visit the ' +\n",
              "            '<a target=\"_blank\" href=https://colab.research.google.com/notebooks/data_table.ipynb>data table notebook</a>'\n",
              "            + ' to learn more about interactive tables.';\n",
              "          element.innerHTML = '';\n",
              "          dataTable['output_type'] = 'display_data';\n",
              "          await google.colab.output.renderOutput(dataTable, element);\n",
              "          const docLink = document.createElement('div');\n",
              "          docLink.innerHTML = docLinkHtml;\n",
              "          element.appendChild(docLink);\n",
              "        }\n",
              "      </script>\n",
              "    </div>\n",
              "  </div>\n",
              "  "
            ]
          },
          "metadata": {},
          "execution_count": 74
        }
      ]
    },
    {
      "cell_type": "code",
      "source": [
        "data.head()"
      ],
      "metadata": {
        "colab": {
          "base_uri": "https://localhost:8080/",
          "height": 238
        },
        "id": "m1WSNvPGOuLX",
        "outputId": "d3ba148b-633f-4438-f93a-0f0c2ecc13af"
      },
      "id": "m1WSNvPGOuLX",
      "execution_count": null,
      "outputs": [
        {
          "output_type": "execute_result",
          "data": {
            "text/plain": [
              "                        swl    inf     sfw   ecpc  tototf  tide_level  \\\n",
              "ymdhm                                                                   \n",
              "2012-05-01 00:00:00  24.800  555.0  219.07  24.93   555.0       445.0   \n",
              "2012-05-01 00:10:00  24.794  464.6  218.86  25.15   562.9       449.0   \n",
              "2012-05-01 00:20:00  24.789  478.1  218.69  25.31   576.4       451.0   \n",
              "2012-05-01 00:30:00  24.789  464.8  218.69  25.31   563.1       452.0   \n",
              "2012-05-01 00:40:00  24.789  478.1  218.69  25.31   576.4       450.0   \n",
              "\n",
              "                     fw_1018662  fw_1018680  fw_1018683  fw_1019630  \\\n",
              "ymdhm                                                                 \n",
              "2012-05-01 00:00:00      469.05         0.0      729.80      540.18   \n",
              "2012-05-01 00:10:00      498.00         0.0      731.48      540.18   \n",
              "2012-05-01 00:20:00      490.68         0.0      726.42      540.18   \n",
              "2012-05-01 00:30:00      476.21         0.0      726.42      552.17   \n",
              "2012-05-01 00:40:00      476.21         0.0      707.17      564.29   \n",
              "\n",
              "                     rf_10184100  rf_10184110  rf_10184140  \n",
              "ymdhm                                                       \n",
              "2012-05-01 00:00:00          0.0          0.0          0.0  \n",
              "2012-05-01 00:10:00          0.0          0.0          0.0  \n",
              "2012-05-01 00:20:00          0.0          0.0          0.0  \n",
              "2012-05-01 00:30:00          0.0          0.0          0.0  \n",
              "2012-05-01 00:40:00          0.0          0.0          0.0  "
            ],
            "text/html": [
              "\n",
              "  <div id=\"df-929c29f7-f829-4006-a493-b2c105b2b194\">\n",
              "    <div class=\"colab-df-container\">\n",
              "      <div>\n",
              "<style scoped>\n",
              "    .dataframe tbody tr th:only-of-type {\n",
              "        vertical-align: middle;\n",
              "    }\n",
              "\n",
              "    .dataframe tbody tr th {\n",
              "        vertical-align: top;\n",
              "    }\n",
              "\n",
              "    .dataframe thead th {\n",
              "        text-align: right;\n",
              "    }\n",
              "</style>\n",
              "<table border=\"1\" class=\"dataframe\">\n",
              "  <thead>\n",
              "    <tr style=\"text-align: right;\">\n",
              "      <th></th>\n",
              "      <th>swl</th>\n",
              "      <th>inf</th>\n",
              "      <th>sfw</th>\n",
              "      <th>ecpc</th>\n",
              "      <th>tototf</th>\n",
              "      <th>tide_level</th>\n",
              "      <th>fw_1018662</th>\n",
              "      <th>fw_1018680</th>\n",
              "      <th>fw_1018683</th>\n",
              "      <th>fw_1019630</th>\n",
              "      <th>rf_10184100</th>\n",
              "      <th>rf_10184110</th>\n",
              "      <th>rf_10184140</th>\n",
              "    </tr>\n",
              "    <tr>\n",
              "      <th>ymdhm</th>\n",
              "      <th></th>\n",
              "      <th></th>\n",
              "      <th></th>\n",
              "      <th></th>\n",
              "      <th></th>\n",
              "      <th></th>\n",
              "      <th></th>\n",
              "      <th></th>\n",
              "      <th></th>\n",
              "      <th></th>\n",
              "      <th></th>\n",
              "      <th></th>\n",
              "      <th></th>\n",
              "    </tr>\n",
              "  </thead>\n",
              "  <tbody>\n",
              "    <tr>\n",
              "      <th>2012-05-01 00:00:00</th>\n",
              "      <td>24.800</td>\n",
              "      <td>555.0</td>\n",
              "      <td>219.07</td>\n",
              "      <td>24.93</td>\n",
              "      <td>555.0</td>\n",
              "      <td>445.0</td>\n",
              "      <td>469.05</td>\n",
              "      <td>0.0</td>\n",
              "      <td>729.80</td>\n",
              "      <td>540.18</td>\n",
              "      <td>0.0</td>\n",
              "      <td>0.0</td>\n",
              "      <td>0.0</td>\n",
              "    </tr>\n",
              "    <tr>\n",
              "      <th>2012-05-01 00:10:00</th>\n",
              "      <td>24.794</td>\n",
              "      <td>464.6</td>\n",
              "      <td>218.86</td>\n",
              "      <td>25.15</td>\n",
              "      <td>562.9</td>\n",
              "      <td>449.0</td>\n",
              "      <td>498.00</td>\n",
              "      <td>0.0</td>\n",
              "      <td>731.48</td>\n",
              "      <td>540.18</td>\n",
              "      <td>0.0</td>\n",
              "      <td>0.0</td>\n",
              "      <td>0.0</td>\n",
              "    </tr>\n",
              "    <tr>\n",
              "      <th>2012-05-01 00:20:00</th>\n",
              "      <td>24.789</td>\n",
              "      <td>478.1</td>\n",
              "      <td>218.69</td>\n",
              "      <td>25.31</td>\n",
              "      <td>576.4</td>\n",
              "      <td>451.0</td>\n",
              "      <td>490.68</td>\n",
              "      <td>0.0</td>\n",
              "      <td>726.42</td>\n",
              "      <td>540.18</td>\n",
              "      <td>0.0</td>\n",
              "      <td>0.0</td>\n",
              "      <td>0.0</td>\n",
              "    </tr>\n",
              "    <tr>\n",
              "      <th>2012-05-01 00:30:00</th>\n",
              "      <td>24.789</td>\n",
              "      <td>464.8</td>\n",
              "      <td>218.69</td>\n",
              "      <td>25.31</td>\n",
              "      <td>563.1</td>\n",
              "      <td>452.0</td>\n",
              "      <td>476.21</td>\n",
              "      <td>0.0</td>\n",
              "      <td>726.42</td>\n",
              "      <td>552.17</td>\n",
              "      <td>0.0</td>\n",
              "      <td>0.0</td>\n",
              "      <td>0.0</td>\n",
              "    </tr>\n",
              "    <tr>\n",
              "      <th>2012-05-01 00:40:00</th>\n",
              "      <td>24.789</td>\n",
              "      <td>478.1</td>\n",
              "      <td>218.69</td>\n",
              "      <td>25.31</td>\n",
              "      <td>576.4</td>\n",
              "      <td>450.0</td>\n",
              "      <td>476.21</td>\n",
              "      <td>0.0</td>\n",
              "      <td>707.17</td>\n",
              "      <td>564.29</td>\n",
              "      <td>0.0</td>\n",
              "      <td>0.0</td>\n",
              "      <td>0.0</td>\n",
              "    </tr>\n",
              "  </tbody>\n",
              "</table>\n",
              "</div>\n",
              "      <button class=\"colab-df-convert\" onclick=\"convertToInteractive('df-929c29f7-f829-4006-a493-b2c105b2b194')\"\n",
              "              title=\"Convert this dataframe to an interactive table.\"\n",
              "              style=\"display:none;\">\n",
              "        \n",
              "  <svg xmlns=\"http://www.w3.org/2000/svg\" height=\"24px\"viewBox=\"0 0 24 24\"\n",
              "       width=\"24px\">\n",
              "    <path d=\"M0 0h24v24H0V0z\" fill=\"none\"/>\n",
              "    <path d=\"M18.56 5.44l.94 2.06.94-2.06 2.06-.94-2.06-.94-.94-2.06-.94 2.06-2.06.94zm-11 1L8.5 8.5l.94-2.06 2.06-.94-2.06-.94L8.5 2.5l-.94 2.06-2.06.94zm10 10l.94 2.06.94-2.06 2.06-.94-2.06-.94-.94-2.06-.94 2.06-2.06.94z\"/><path d=\"M17.41 7.96l-1.37-1.37c-.4-.4-.92-.59-1.43-.59-.52 0-1.04.2-1.43.59L10.3 9.45l-7.72 7.72c-.78.78-.78 2.05 0 2.83L4 21.41c.39.39.9.59 1.41.59.51 0 1.02-.2 1.41-.59l7.78-7.78 2.81-2.81c.8-.78.8-2.07 0-2.86zM5.41 20L4 18.59l7.72-7.72 1.47 1.35L5.41 20z\"/>\n",
              "  </svg>\n",
              "      </button>\n",
              "      \n",
              "  <style>\n",
              "    .colab-df-container {\n",
              "      display:flex;\n",
              "      flex-wrap:wrap;\n",
              "      gap: 12px;\n",
              "    }\n",
              "\n",
              "    .colab-df-convert {\n",
              "      background-color: #E8F0FE;\n",
              "      border: none;\n",
              "      border-radius: 50%;\n",
              "      cursor: pointer;\n",
              "      display: none;\n",
              "      fill: #1967D2;\n",
              "      height: 32px;\n",
              "      padding: 0 0 0 0;\n",
              "      width: 32px;\n",
              "    }\n",
              "\n",
              "    .colab-df-convert:hover {\n",
              "      background-color: #E2EBFA;\n",
              "      box-shadow: 0px 1px 2px rgba(60, 64, 67, 0.3), 0px 1px 3px 1px rgba(60, 64, 67, 0.15);\n",
              "      fill: #174EA6;\n",
              "    }\n",
              "\n",
              "    [theme=dark] .colab-df-convert {\n",
              "      background-color: #3B4455;\n",
              "      fill: #D2E3FC;\n",
              "    }\n",
              "\n",
              "    [theme=dark] .colab-df-convert:hover {\n",
              "      background-color: #434B5C;\n",
              "      box-shadow: 0px 1px 3px 1px rgba(0, 0, 0, 0.15);\n",
              "      filter: drop-shadow(0px 1px 2px rgba(0, 0, 0, 0.3));\n",
              "      fill: #FFFFFF;\n",
              "    }\n",
              "  </style>\n",
              "\n",
              "      <script>\n",
              "        const buttonEl =\n",
              "          document.querySelector('#df-929c29f7-f829-4006-a493-b2c105b2b194 button.colab-df-convert');\n",
              "        buttonEl.style.display =\n",
              "          google.colab.kernel.accessAllowed ? 'block' : 'none';\n",
              "\n",
              "        async function convertToInteractive(key) {\n",
              "          const element = document.querySelector('#df-929c29f7-f829-4006-a493-b2c105b2b194');\n",
              "          const dataTable =\n",
              "            await google.colab.kernel.invokeFunction('convertToInteractive',\n",
              "                                                     [key], {});\n",
              "          if (!dataTable) return;\n",
              "\n",
              "          const docLinkHtml = 'Like what you see? Visit the ' +\n",
              "            '<a target=\"_blank\" href=https://colab.research.google.com/notebooks/data_table.ipynb>data table notebook</a>'\n",
              "            + ' to learn more about interactive tables.';\n",
              "          element.innerHTML = '';\n",
              "          dataTable['output_type'] = 'display_data';\n",
              "          await google.colab.output.renderOutput(dataTable, element);\n",
              "          const docLink = document.createElement('div');\n",
              "          docLink.innerHTML = docLinkHtml;\n",
              "          element.appendChild(docLink);\n",
              "        }\n",
              "      </script>\n",
              "    </div>\n",
              "  </div>\n",
              "  "
            ]
          },
          "metadata": {},
          "execution_count": 75
        }
      ]
    },
    {
      "cell_type": "code",
      "source": [
        "# data와 target 하나 밀어주기 (과거데이터를 사용해야 함으로)\n",
        "y = target.reset_index(drop=True)\n",
        "X = data.reset_index(drop=True)\n",
        "\n",
        "X.index += 1\n",
        "\n",
        "tot=pd.concat((X,y),axis=1)\n",
        "tot=tot.sort_index()\n",
        "\n",
        "tot=tot.iloc[1:-1]\n",
        "\n",
        "target = tot.loc[:,sub_df.columns]\n",
        "data = tot.drop(sub_df.columns,axis=1)"
      ],
      "metadata": {
        "id": "zAnuF3XvOuIe"
      },
      "id": "zAnuF3XvOuIe",
      "execution_count": null,
      "outputs": []
    },
    {
      "cell_type": "code",
      "source": [
        "train_target=target.iloc[:-len(sub_df),:]\n",
        "test_target=target.iloc[-len(sub_df):,:]\n",
        "\n",
        "train_data=data.iloc[:-len(sub_df),:]\n",
        "test_data=data.iloc[-len(sub_df):,:]"
      ],
      "metadata": {
        "id": "vdoXv3VfPkx6"
      },
      "id": "vdoXv3VfPkx6",
      "execution_count": null,
      "outputs": []
    },
    {
      "cell_type": "code",
      "source": [
        "train_target"
      ],
      "metadata": {
        "id": "Amoj3z6JPkvP",
        "colab": {
          "base_uri": "https://localhost:8080/",
          "height": 424
        },
        "outputId": "3ff44257-c40e-4ceb-af7b-160ca271d7f4"
      },
      "id": "Amoj3z6JPkvP",
      "execution_count": null,
      "outputs": [
        {
          "output_type": "execute_result",
          "data": {
            "text/plain": [
              "        wl_1018662  wl_1018680  wl_1018683  wl_1019630\n",
              "1            314.7       300.2       290.0       275.3\n",
              "2            313.7       301.2       290.0       275.3\n",
              "3            311.7       301.2       290.0       276.3\n",
              "4            311.7       301.2       291.0       277.3\n",
              "5            311.7       301.2       291.0       277.3\n",
              "...            ...         ...         ...         ...\n",
              "269419       281.7       281.2       278.0       271.3\n",
              "269420       279.7       279.2       278.0       272.3\n",
              "269421       278.7       277.2       277.0       272.3\n",
              "269422       277.7       276.2       276.0       271.3\n",
              "269423       278.7       276.2       275.0       270.3\n",
              "\n",
              "[269423 rows x 4 columns]"
            ],
            "text/html": [
              "\n",
              "  <div id=\"df-24bdac10-7872-4aec-96ea-33d5e04ca469\">\n",
              "    <div class=\"colab-df-container\">\n",
              "      <div>\n",
              "<style scoped>\n",
              "    .dataframe tbody tr th:only-of-type {\n",
              "        vertical-align: middle;\n",
              "    }\n",
              "\n",
              "    .dataframe tbody tr th {\n",
              "        vertical-align: top;\n",
              "    }\n",
              "\n",
              "    .dataframe thead th {\n",
              "        text-align: right;\n",
              "    }\n",
              "</style>\n",
              "<table border=\"1\" class=\"dataframe\">\n",
              "  <thead>\n",
              "    <tr style=\"text-align: right;\">\n",
              "      <th></th>\n",
              "      <th>wl_1018662</th>\n",
              "      <th>wl_1018680</th>\n",
              "      <th>wl_1018683</th>\n",
              "      <th>wl_1019630</th>\n",
              "    </tr>\n",
              "  </thead>\n",
              "  <tbody>\n",
              "    <tr>\n",
              "      <th>1</th>\n",
              "      <td>314.7</td>\n",
              "      <td>300.2</td>\n",
              "      <td>290.0</td>\n",
              "      <td>275.3</td>\n",
              "    </tr>\n",
              "    <tr>\n",
              "      <th>2</th>\n",
              "      <td>313.7</td>\n",
              "      <td>301.2</td>\n",
              "      <td>290.0</td>\n",
              "      <td>275.3</td>\n",
              "    </tr>\n",
              "    <tr>\n",
              "      <th>3</th>\n",
              "      <td>311.7</td>\n",
              "      <td>301.2</td>\n",
              "      <td>290.0</td>\n",
              "      <td>276.3</td>\n",
              "    </tr>\n",
              "    <tr>\n",
              "      <th>4</th>\n",
              "      <td>311.7</td>\n",
              "      <td>301.2</td>\n",
              "      <td>291.0</td>\n",
              "      <td>277.3</td>\n",
              "    </tr>\n",
              "    <tr>\n",
              "      <th>5</th>\n",
              "      <td>311.7</td>\n",
              "      <td>301.2</td>\n",
              "      <td>291.0</td>\n",
              "      <td>277.3</td>\n",
              "    </tr>\n",
              "    <tr>\n",
              "      <th>...</th>\n",
              "      <td>...</td>\n",
              "      <td>...</td>\n",
              "      <td>...</td>\n",
              "      <td>...</td>\n",
              "    </tr>\n",
              "    <tr>\n",
              "      <th>269419</th>\n",
              "      <td>281.7</td>\n",
              "      <td>281.2</td>\n",
              "      <td>278.0</td>\n",
              "      <td>271.3</td>\n",
              "    </tr>\n",
              "    <tr>\n",
              "      <th>269420</th>\n",
              "      <td>279.7</td>\n",
              "      <td>279.2</td>\n",
              "      <td>278.0</td>\n",
              "      <td>272.3</td>\n",
              "    </tr>\n",
              "    <tr>\n",
              "      <th>269421</th>\n",
              "      <td>278.7</td>\n",
              "      <td>277.2</td>\n",
              "      <td>277.0</td>\n",
              "      <td>272.3</td>\n",
              "    </tr>\n",
              "    <tr>\n",
              "      <th>269422</th>\n",
              "      <td>277.7</td>\n",
              "      <td>276.2</td>\n",
              "      <td>276.0</td>\n",
              "      <td>271.3</td>\n",
              "    </tr>\n",
              "    <tr>\n",
              "      <th>269423</th>\n",
              "      <td>278.7</td>\n",
              "      <td>276.2</td>\n",
              "      <td>275.0</td>\n",
              "      <td>270.3</td>\n",
              "    </tr>\n",
              "  </tbody>\n",
              "</table>\n",
              "<p>269423 rows × 4 columns</p>\n",
              "</div>\n",
              "      <button class=\"colab-df-convert\" onclick=\"convertToInteractive('df-24bdac10-7872-4aec-96ea-33d5e04ca469')\"\n",
              "              title=\"Convert this dataframe to an interactive table.\"\n",
              "              style=\"display:none;\">\n",
              "        \n",
              "  <svg xmlns=\"http://www.w3.org/2000/svg\" height=\"24px\"viewBox=\"0 0 24 24\"\n",
              "       width=\"24px\">\n",
              "    <path d=\"M0 0h24v24H0V0z\" fill=\"none\"/>\n",
              "    <path d=\"M18.56 5.44l.94 2.06.94-2.06 2.06-.94-2.06-.94-.94-2.06-.94 2.06-2.06.94zm-11 1L8.5 8.5l.94-2.06 2.06-.94-2.06-.94L8.5 2.5l-.94 2.06-2.06.94zm10 10l.94 2.06.94-2.06 2.06-.94-2.06-.94-.94-2.06-.94 2.06-2.06.94z\"/><path d=\"M17.41 7.96l-1.37-1.37c-.4-.4-.92-.59-1.43-.59-.52 0-1.04.2-1.43.59L10.3 9.45l-7.72 7.72c-.78.78-.78 2.05 0 2.83L4 21.41c.39.39.9.59 1.41.59.51 0 1.02-.2 1.41-.59l7.78-7.78 2.81-2.81c.8-.78.8-2.07 0-2.86zM5.41 20L4 18.59l7.72-7.72 1.47 1.35L5.41 20z\"/>\n",
              "  </svg>\n",
              "      </button>\n",
              "      \n",
              "  <style>\n",
              "    .colab-df-container {\n",
              "      display:flex;\n",
              "      flex-wrap:wrap;\n",
              "      gap: 12px;\n",
              "    }\n",
              "\n",
              "    .colab-df-convert {\n",
              "      background-color: #E8F0FE;\n",
              "      border: none;\n",
              "      border-radius: 50%;\n",
              "      cursor: pointer;\n",
              "      display: none;\n",
              "      fill: #1967D2;\n",
              "      height: 32px;\n",
              "      padding: 0 0 0 0;\n",
              "      width: 32px;\n",
              "    }\n",
              "\n",
              "    .colab-df-convert:hover {\n",
              "      background-color: #E2EBFA;\n",
              "      box-shadow: 0px 1px 2px rgba(60, 64, 67, 0.3), 0px 1px 3px 1px rgba(60, 64, 67, 0.15);\n",
              "      fill: #174EA6;\n",
              "    }\n",
              "\n",
              "    [theme=dark] .colab-df-convert {\n",
              "      background-color: #3B4455;\n",
              "      fill: #D2E3FC;\n",
              "    }\n",
              "\n",
              "    [theme=dark] .colab-df-convert:hover {\n",
              "      background-color: #434B5C;\n",
              "      box-shadow: 0px 1px 3px 1px rgba(0, 0, 0, 0.15);\n",
              "      filter: drop-shadow(0px 1px 2px rgba(0, 0, 0, 0.3));\n",
              "      fill: #FFFFFF;\n",
              "    }\n",
              "  </style>\n",
              "\n",
              "      <script>\n",
              "        const buttonEl =\n",
              "          document.querySelector('#df-24bdac10-7872-4aec-96ea-33d5e04ca469 button.colab-df-convert');\n",
              "        buttonEl.style.display =\n",
              "          google.colab.kernel.accessAllowed ? 'block' : 'none';\n",
              "\n",
              "        async function convertToInteractive(key) {\n",
              "          const element = document.querySelector('#df-24bdac10-7872-4aec-96ea-33d5e04ca469');\n",
              "          const dataTable =\n",
              "            await google.colab.kernel.invokeFunction('convertToInteractive',\n",
              "                                                     [key], {});\n",
              "          if (!dataTable) return;\n",
              "\n",
              "          const docLinkHtml = 'Like what you see? Visit the ' +\n",
              "            '<a target=\"_blank\" href=https://colab.research.google.com/notebooks/data_table.ipynb>data table notebook</a>'\n",
              "            + ' to learn more about interactive tables.';\n",
              "          element.innerHTML = '';\n",
              "          dataTable['output_type'] = 'display_data';\n",
              "          await google.colab.output.renderOutput(dataTable, element);\n",
              "          const docLink = document.createElement('div');\n",
              "          docLink.innerHTML = docLinkHtml;\n",
              "          element.appendChild(docLink);\n",
              "        }\n",
              "      </script>\n",
              "    </div>\n",
              "  </div>\n",
              "  "
            ]
          },
          "metadata": {},
          "execution_count": 26
        }
      ]
    },
    {
      "cell_type": "code",
      "source": [
        "train_data"
      ],
      "metadata": {
        "id": "T7XXkeO9Pksw",
        "colab": {
          "base_uri": "https://localhost:8080/",
          "height": 424
        },
        "outputId": "cb54533d-f065-4b21-9a57-73984bd2df67"
      },
      "id": "T7XXkeO9Pksw",
      "execution_count": null,
      "outputs": [
        {
          "output_type": "execute_result",
          "data": {
            "text/plain": [
              "           swl     inf     sfw   ecpc  tototf  tide_level  fw_1018662  \\\n",
              "1       24.800  555.00  219.07  24.93  555.00       445.0      469.05   \n",
              "2       24.794  464.60  218.86  25.15  562.90       449.0      498.00   \n",
              "3       24.789  478.10  218.69  25.31  576.40       451.0      490.68   \n",
              "4       24.789  464.80  218.69  25.31  563.10       452.0      476.21   \n",
              "5       24.789  478.10  218.69  25.31  576.40       450.0      476.21   \n",
              "...        ...     ...     ...    ...     ...         ...         ...   \n",
              "269419  25.180  140.89  217.99  26.01  140.89       232.0      314.01   \n",
              "269420  25.180  140.94  217.99  26.01  140.94       220.0      285.72   \n",
              "269421  25.180  141.07  217.99  26.01  141.07       208.0      274.78   \n",
              "269422  25.180  141.01  217.99  26.01  141.01       196.0      269.40   \n",
              "269423  25.190  755.75  218.36  25.64  140.75       184.0      264.07   \n",
              "\n",
              "        fw_1018680  fw_1018683  fw_1019630  rf_10184100  rf_10184110  \\\n",
              "1              0.0      729.80      540.18          0.0          0.0   \n",
              "2              0.0      731.48      540.18          0.0          0.0   \n",
              "3              0.0      726.42      540.18          0.0          0.0   \n",
              "4              0.0      726.42      552.17          0.0          0.0   \n",
              "5              0.0      707.17      564.29          0.0          0.0   \n",
              "...            ...         ...         ...          ...          ...   \n",
              "269419         0.0      597.98      471.08          0.0          0.0   \n",
              "269420         0.0      575.57      493.58          0.0          0.0   \n",
              "269421         0.0      501.04      505.03          0.0          0.0   \n",
              "269422         0.0      425.89      505.03          0.0          0.0   \n",
              "269423         0.0      198.19      493.58          0.0          0.0   \n",
              "\n",
              "        rf_10184140  \n",
              "1               0.0  \n",
              "2               0.0  \n",
              "3               0.0  \n",
              "4               0.0  \n",
              "5               0.0  \n",
              "...             ...  \n",
              "269419          0.0  \n",
              "269420          0.0  \n",
              "269421          0.0  \n",
              "269422          0.0  \n",
              "269423          0.0  \n",
              "\n",
              "[269423 rows x 13 columns]"
            ],
            "text/html": [
              "\n",
              "  <div id=\"df-11787014-6ff4-4fdc-a633-4bf20aa2f0ea\">\n",
              "    <div class=\"colab-df-container\">\n",
              "      <div>\n",
              "<style scoped>\n",
              "    .dataframe tbody tr th:only-of-type {\n",
              "        vertical-align: middle;\n",
              "    }\n",
              "\n",
              "    .dataframe tbody tr th {\n",
              "        vertical-align: top;\n",
              "    }\n",
              "\n",
              "    .dataframe thead th {\n",
              "        text-align: right;\n",
              "    }\n",
              "</style>\n",
              "<table border=\"1\" class=\"dataframe\">\n",
              "  <thead>\n",
              "    <tr style=\"text-align: right;\">\n",
              "      <th></th>\n",
              "      <th>swl</th>\n",
              "      <th>inf</th>\n",
              "      <th>sfw</th>\n",
              "      <th>ecpc</th>\n",
              "      <th>tototf</th>\n",
              "      <th>tide_level</th>\n",
              "      <th>fw_1018662</th>\n",
              "      <th>fw_1018680</th>\n",
              "      <th>fw_1018683</th>\n",
              "      <th>fw_1019630</th>\n",
              "      <th>rf_10184100</th>\n",
              "      <th>rf_10184110</th>\n",
              "      <th>rf_10184140</th>\n",
              "    </tr>\n",
              "  </thead>\n",
              "  <tbody>\n",
              "    <tr>\n",
              "      <th>1</th>\n",
              "      <td>24.800</td>\n",
              "      <td>555.00</td>\n",
              "      <td>219.07</td>\n",
              "      <td>24.93</td>\n",
              "      <td>555.00</td>\n",
              "      <td>445.0</td>\n",
              "      <td>469.05</td>\n",
              "      <td>0.0</td>\n",
              "      <td>729.80</td>\n",
              "      <td>540.18</td>\n",
              "      <td>0.0</td>\n",
              "      <td>0.0</td>\n",
              "      <td>0.0</td>\n",
              "    </tr>\n",
              "    <tr>\n",
              "      <th>2</th>\n",
              "      <td>24.794</td>\n",
              "      <td>464.60</td>\n",
              "      <td>218.86</td>\n",
              "      <td>25.15</td>\n",
              "      <td>562.90</td>\n",
              "      <td>449.0</td>\n",
              "      <td>498.00</td>\n",
              "      <td>0.0</td>\n",
              "      <td>731.48</td>\n",
              "      <td>540.18</td>\n",
              "      <td>0.0</td>\n",
              "      <td>0.0</td>\n",
              "      <td>0.0</td>\n",
              "    </tr>\n",
              "    <tr>\n",
              "      <th>3</th>\n",
              "      <td>24.789</td>\n",
              "      <td>478.10</td>\n",
              "      <td>218.69</td>\n",
              "      <td>25.31</td>\n",
              "      <td>576.40</td>\n",
              "      <td>451.0</td>\n",
              "      <td>490.68</td>\n",
              "      <td>0.0</td>\n",
              "      <td>726.42</td>\n",
              "      <td>540.18</td>\n",
              "      <td>0.0</td>\n",
              "      <td>0.0</td>\n",
              "      <td>0.0</td>\n",
              "    </tr>\n",
              "    <tr>\n",
              "      <th>4</th>\n",
              "      <td>24.789</td>\n",
              "      <td>464.80</td>\n",
              "      <td>218.69</td>\n",
              "      <td>25.31</td>\n",
              "      <td>563.10</td>\n",
              "      <td>452.0</td>\n",
              "      <td>476.21</td>\n",
              "      <td>0.0</td>\n",
              "      <td>726.42</td>\n",
              "      <td>552.17</td>\n",
              "      <td>0.0</td>\n",
              "      <td>0.0</td>\n",
              "      <td>0.0</td>\n",
              "    </tr>\n",
              "    <tr>\n",
              "      <th>5</th>\n",
              "      <td>24.789</td>\n",
              "      <td>478.10</td>\n",
              "      <td>218.69</td>\n",
              "      <td>25.31</td>\n",
              "      <td>576.40</td>\n",
              "      <td>450.0</td>\n",
              "      <td>476.21</td>\n",
              "      <td>0.0</td>\n",
              "      <td>707.17</td>\n",
              "      <td>564.29</td>\n",
              "      <td>0.0</td>\n",
              "      <td>0.0</td>\n",
              "      <td>0.0</td>\n",
              "    </tr>\n",
              "    <tr>\n",
              "      <th>...</th>\n",
              "      <td>...</td>\n",
              "      <td>...</td>\n",
              "      <td>...</td>\n",
              "      <td>...</td>\n",
              "      <td>...</td>\n",
              "      <td>...</td>\n",
              "      <td>...</td>\n",
              "      <td>...</td>\n",
              "      <td>...</td>\n",
              "      <td>...</td>\n",
              "      <td>...</td>\n",
              "      <td>...</td>\n",
              "      <td>...</td>\n",
              "    </tr>\n",
              "    <tr>\n",
              "      <th>269419</th>\n",
              "      <td>25.180</td>\n",
              "      <td>140.89</td>\n",
              "      <td>217.99</td>\n",
              "      <td>26.01</td>\n",
              "      <td>140.89</td>\n",
              "      <td>232.0</td>\n",
              "      <td>314.01</td>\n",
              "      <td>0.0</td>\n",
              "      <td>597.98</td>\n",
              "      <td>471.08</td>\n",
              "      <td>0.0</td>\n",
              "      <td>0.0</td>\n",
              "      <td>0.0</td>\n",
              "    </tr>\n",
              "    <tr>\n",
              "      <th>269420</th>\n",
              "      <td>25.180</td>\n",
              "      <td>140.94</td>\n",
              "      <td>217.99</td>\n",
              "      <td>26.01</td>\n",
              "      <td>140.94</td>\n",
              "      <td>220.0</td>\n",
              "      <td>285.72</td>\n",
              "      <td>0.0</td>\n",
              "      <td>575.57</td>\n",
              "      <td>493.58</td>\n",
              "      <td>0.0</td>\n",
              "      <td>0.0</td>\n",
              "      <td>0.0</td>\n",
              "    </tr>\n",
              "    <tr>\n",
              "      <th>269421</th>\n",
              "      <td>25.180</td>\n",
              "      <td>141.07</td>\n",
              "      <td>217.99</td>\n",
              "      <td>26.01</td>\n",
              "      <td>141.07</td>\n",
              "      <td>208.0</td>\n",
              "      <td>274.78</td>\n",
              "      <td>0.0</td>\n",
              "      <td>501.04</td>\n",
              "      <td>505.03</td>\n",
              "      <td>0.0</td>\n",
              "      <td>0.0</td>\n",
              "      <td>0.0</td>\n",
              "    </tr>\n",
              "    <tr>\n",
              "      <th>269422</th>\n",
              "      <td>25.180</td>\n",
              "      <td>141.01</td>\n",
              "      <td>217.99</td>\n",
              "      <td>26.01</td>\n",
              "      <td>141.01</td>\n",
              "      <td>196.0</td>\n",
              "      <td>269.40</td>\n",
              "      <td>0.0</td>\n",
              "      <td>425.89</td>\n",
              "      <td>505.03</td>\n",
              "      <td>0.0</td>\n",
              "      <td>0.0</td>\n",
              "      <td>0.0</td>\n",
              "    </tr>\n",
              "    <tr>\n",
              "      <th>269423</th>\n",
              "      <td>25.190</td>\n",
              "      <td>755.75</td>\n",
              "      <td>218.36</td>\n",
              "      <td>25.64</td>\n",
              "      <td>140.75</td>\n",
              "      <td>184.0</td>\n",
              "      <td>264.07</td>\n",
              "      <td>0.0</td>\n",
              "      <td>198.19</td>\n",
              "      <td>493.58</td>\n",
              "      <td>0.0</td>\n",
              "      <td>0.0</td>\n",
              "      <td>0.0</td>\n",
              "    </tr>\n",
              "  </tbody>\n",
              "</table>\n",
              "<p>269423 rows × 13 columns</p>\n",
              "</div>\n",
              "      <button class=\"colab-df-convert\" onclick=\"convertToInteractive('df-11787014-6ff4-4fdc-a633-4bf20aa2f0ea')\"\n",
              "              title=\"Convert this dataframe to an interactive table.\"\n",
              "              style=\"display:none;\">\n",
              "        \n",
              "  <svg xmlns=\"http://www.w3.org/2000/svg\" height=\"24px\"viewBox=\"0 0 24 24\"\n",
              "       width=\"24px\">\n",
              "    <path d=\"M0 0h24v24H0V0z\" fill=\"none\"/>\n",
              "    <path d=\"M18.56 5.44l.94 2.06.94-2.06 2.06-.94-2.06-.94-.94-2.06-.94 2.06-2.06.94zm-11 1L8.5 8.5l.94-2.06 2.06-.94-2.06-.94L8.5 2.5l-.94 2.06-2.06.94zm10 10l.94 2.06.94-2.06 2.06-.94-2.06-.94-.94-2.06-.94 2.06-2.06.94z\"/><path d=\"M17.41 7.96l-1.37-1.37c-.4-.4-.92-.59-1.43-.59-.52 0-1.04.2-1.43.59L10.3 9.45l-7.72 7.72c-.78.78-.78 2.05 0 2.83L4 21.41c.39.39.9.59 1.41.59.51 0 1.02-.2 1.41-.59l7.78-7.78 2.81-2.81c.8-.78.8-2.07 0-2.86zM5.41 20L4 18.59l7.72-7.72 1.47 1.35L5.41 20z\"/>\n",
              "  </svg>\n",
              "      </button>\n",
              "      \n",
              "  <style>\n",
              "    .colab-df-container {\n",
              "      display:flex;\n",
              "      flex-wrap:wrap;\n",
              "      gap: 12px;\n",
              "    }\n",
              "\n",
              "    .colab-df-convert {\n",
              "      background-color: #E8F0FE;\n",
              "      border: none;\n",
              "      border-radius: 50%;\n",
              "      cursor: pointer;\n",
              "      display: none;\n",
              "      fill: #1967D2;\n",
              "      height: 32px;\n",
              "      padding: 0 0 0 0;\n",
              "      width: 32px;\n",
              "    }\n",
              "\n",
              "    .colab-df-convert:hover {\n",
              "      background-color: #E2EBFA;\n",
              "      box-shadow: 0px 1px 2px rgba(60, 64, 67, 0.3), 0px 1px 3px 1px rgba(60, 64, 67, 0.15);\n",
              "      fill: #174EA6;\n",
              "    }\n",
              "\n",
              "    [theme=dark] .colab-df-convert {\n",
              "      background-color: #3B4455;\n",
              "      fill: #D2E3FC;\n",
              "    }\n",
              "\n",
              "    [theme=dark] .colab-df-convert:hover {\n",
              "      background-color: #434B5C;\n",
              "      box-shadow: 0px 1px 3px 1px rgba(0, 0, 0, 0.15);\n",
              "      filter: drop-shadow(0px 1px 2px rgba(0, 0, 0, 0.3));\n",
              "      fill: #FFFFFF;\n",
              "    }\n",
              "  </style>\n",
              "\n",
              "      <script>\n",
              "        const buttonEl =\n",
              "          document.querySelector('#df-11787014-6ff4-4fdc-a633-4bf20aa2f0ea button.colab-df-convert');\n",
              "        buttonEl.style.display =\n",
              "          google.colab.kernel.accessAllowed ? 'block' : 'none';\n",
              "\n",
              "        async function convertToInteractive(key) {\n",
              "          const element = document.querySelector('#df-11787014-6ff4-4fdc-a633-4bf20aa2f0ea');\n",
              "          const dataTable =\n",
              "            await google.colab.kernel.invokeFunction('convertToInteractive',\n",
              "                                                     [key], {});\n",
              "          if (!dataTable) return;\n",
              "\n",
              "          const docLinkHtml = 'Like what you see? Visit the ' +\n",
              "            '<a target=\"_blank\" href=https://colab.research.google.com/notebooks/data_table.ipynb>data table notebook</a>'\n",
              "            + ' to learn more about interactive tables.';\n",
              "          element.innerHTML = '';\n",
              "          dataTable['output_type'] = 'display_data';\n",
              "          await google.colab.output.renderOutput(dataTable, element);\n",
              "          const docLink = document.createElement('div');\n",
              "          docLink.innerHTML = docLinkHtml;\n",
              "          element.appendChild(docLink);\n",
              "        }\n",
              "      </script>\n",
              "    </div>\n",
              "  </div>\n",
              "  "
            ]
          },
          "metadata": {},
          "execution_count": 27
        }
      ]
    },
    {
      "cell_type": "code",
      "source": [],
      "metadata": {
        "id": "2sw70alEPkqd"
      },
      "id": "2sw70alEPkqd",
      "execution_count": null,
      "outputs": []
    },
    {
      "cell_type": "code",
      "source": [],
      "metadata": {
        "id": "7J-Oj34RPknx"
      },
      "id": "7J-Oj34RPknx",
      "execution_count": null,
      "outputs": []
    },
    {
      "cell_type": "code",
      "source": [],
      "metadata": {
        "id": "Xu5o0vCqPklJ"
      },
      "id": "Xu5o0vCqPklJ",
      "execution_count": null,
      "outputs": []
    },
    {
      "cell_type": "markdown",
      "id": "eeaaaae4-4fc7-4f18-94a7-af657eac0b70",
      "metadata": {
        "id": "eeaaaae4-4fc7-4f18-94a7-af657eac0b70"
      },
      "source": [
        "# feature scaling"
      ]
    },
    {
      "cell_type": "markdown",
      "id": "9e9b3130-1a21-42c1-8e17-825b942db5f4",
      "metadata": {
        "id": "9e9b3130-1a21-42c1-8e17-825b942db5f4"
      },
      "source": [
        "## standardization"
      ]
    },
    {
      "cell_type": "code",
      "execution_count": null,
      "id": "4d761d86-a6d6-42e3-a7ae-86f52a10ad6f",
      "metadata": {
        "id": "4d761d86-a6d6-42e3-a7ae-86f52a10ad6f"
      },
      "outputs": [],
      "source": [
        "import numpy as np\n",
        "import pandas as pd\n",
        "\n",
        "from sklearn.model_selection import train_test_split\n",
        "from sklearn.linear_model import LinearRegression\n",
        "from sklearn.metrics import mean_squared_error,r2_score\n",
        "from sklearn.preprocessing import StandardScaler"
      ]
    },
    {
      "cell_type": "code",
      "execution_count": null,
      "id": "066c306f-f5ff-4365-95f0-f055b62a3797",
      "metadata": {
        "id": "066c306f-f5ff-4365-95f0-f055b62a3797"
      },
      "outputs": [],
      "source": [
        "scaler = StandardScaler()"
      ]
    },
    {
      "cell_type": "code",
      "execution_count": null,
      "id": "40e48928-817f-4d05-a994-2b5097c35feb",
      "metadata": {
        "id": "40e48928-817f-4d05-a994-2b5097c35feb"
      },
      "outputs": [],
      "source": [
        "x_train_std = scaler.fit_transform(train_data) # 학습데이터 feature scaling\n",
        "x_test_std = scaler.transform(test_data)"
      ]
    },
    {
      "cell_type": "code",
      "execution_count": null,
      "id": "42cd1ada-f75c-44b5-b796-cd1fb7fbddce",
      "metadata": {
        "colab": {
          "base_uri": "https://localhost:8080/"
        },
        "id": "42cd1ada-f75c-44b5-b796-cd1fb7fbddce",
        "outputId": "1944ebe0-86c7-4748-8aad-1dbc7cb67e09"
      },
      "outputs": [
        {
          "output_type": "execute_result",
          "data": {
            "text/plain": [
              "array([[-1.92855805,  0.0106116 , -0.0572073 , ..., -0.09883235,\n",
              "        -0.10173185, -0.09795489],\n",
              "       [-1.96966827, -0.07114668, -0.07837522, ..., -0.09883235,\n",
              "        -0.10173185, -0.09795489],\n",
              "       [-2.00392679, -0.0589372 , -0.09551115, ..., -0.09883235,\n",
              "        -0.10173185, -0.09795489],\n",
              "       ...,\n",
              "       [ 0.67508905, -0.36374909, -0.16607089, ..., -0.09883235,\n",
              "        -0.10173185, -0.09795489],\n",
              "       [ 0.67508905, -0.36380335, -0.16607089, ..., -0.09883235,\n",
              "        -0.10173185, -0.09795489],\n",
              "       [ 0.74360608,  0.19217106, -0.12877503, ..., -0.09883235,\n",
              "        -0.10173185, -0.09795489]])"
            ]
          },
          "metadata": {},
          "execution_count": 38
        }
      ],
      "source": [
        "x_train_std"
      ]
    },
    {
      "cell_type": "code",
      "source": [
        "x_train_std.shape"
      ],
      "metadata": {
        "colab": {
          "base_uri": "https://localhost:8080/"
        },
        "id": "8iOUQtf5x1s9",
        "outputId": "58a0d63b-b462-4375-9454-0a741220ec70"
      },
      "id": "8iOUQtf5x1s9",
      "execution_count": null,
      "outputs": [
        {
          "output_type": "execute_result",
          "data": {
            "text/plain": [
              "(269423, 13)"
            ]
          },
          "metadata": {},
          "execution_count": 39
        }
      ]
    },
    {
      "cell_type": "code",
      "source": [
        "train_data.shape"
      ],
      "metadata": {
        "colab": {
          "base_uri": "https://localhost:8080/"
        },
        "id": "Q8mp6aSGx1nf",
        "outputId": "8f6861a2-3447-41e0-bc43-98c50a4d8caf"
      },
      "id": "Q8mp6aSGx1nf",
      "execution_count": null,
      "outputs": [
        {
          "output_type": "execute_result",
          "data": {
            "text/plain": [
              "(269423, 13)"
            ]
          },
          "metadata": {},
          "execution_count": 50
        }
      ]
    },
    {
      "cell_type": "markdown",
      "source": [
        "# train-test 데이터 나누기"
      ],
      "metadata": {
        "id": "NAGnusVv7Kfl"
      },
      "id": "NAGnusVv7Kfl"
    },
    {
      "cell_type": "markdown",
      "source": [
        "* train y"
      ],
      "metadata": {
        "id": "smCdiiHQ4Ybf"
      },
      "id": "smCdiiHQ4Ybf"
    },
    {
      "cell_type": "code",
      "source": [
        "y1 = train_target.iloc[:,0] #청담대교\n",
        "y2 = train_target.iloc[:,1] #잠수교\n",
        "y3 = train_target.iloc[:,2] #한강대교 \n",
        "y4 = train_target.iloc[:,3] #행주대교"
      ],
      "metadata": {
        "id": "4rzKUG1pzVTy"
      },
      "execution_count": null,
      "outputs": [],
      "id": "4rzKUG1pzVTy"
    },
    {
      "cell_type": "code",
      "source": [
        "train_target.shape"
      ],
      "metadata": {
        "colab": {
          "base_uri": "https://localhost:8080/"
        },
        "id": "tjvizm-wBfVH",
        "outputId": "f0af0502-bf06-44ef-edfa-18643e9efb8c"
      },
      "execution_count": null,
      "outputs": [
        {
          "output_type": "execute_result",
          "data": {
            "text/plain": [
              "(269423, 4)"
            ]
          },
          "metadata": {},
          "execution_count": 45
        }
      ],
      "id": "tjvizm-wBfVH"
    },
    {
      "cell_type": "code",
      "source": [
        "y1"
      ],
      "metadata": {
        "colab": {
          "base_uri": "https://localhost:8080/"
        },
        "id": "QI7tXlvNSFzS",
        "outputId": "4afc7f4a-e39a-4fdf-d7ac-a44f64002aa0"
      },
      "execution_count": null,
      "outputs": [
        {
          "output_type": "execute_result",
          "data": {
            "text/plain": [
              "1         314.7\n",
              "2         313.7\n",
              "3         311.7\n",
              "4         311.7\n",
              "5         311.7\n",
              "          ...  \n",
              "269419    281.7\n",
              "269420    279.7\n",
              "269421    278.7\n",
              "269422    277.7\n",
              "269423    278.7\n",
              "Name: wl_1018662, Length: 269423, dtype: float64"
            ]
          },
          "metadata": {},
          "execution_count": 46
        }
      ],
      "id": "QI7tXlvNSFzS"
    },
    {
      "cell_type": "markdown",
      "source": [
        "* test y"
      ],
      "metadata": {
        "id": "NERpO3ac4chY"
      },
      "id": "NERpO3ac4chY"
    },
    {
      "cell_type": "code",
      "source": [
        "y1_test = test_target.iloc[:,0] #청담대교\n",
        "y2_test = test_target.iloc[:,1] #잠수교\n",
        "y3_test = test_target.iloc[:,2] #한강대교 \n",
        "y4_test = test_target.iloc[:,3] #행주대교"
      ],
      "metadata": {
        "id": "OVxFWfnC4dyE"
      },
      "execution_count": null,
      "outputs": [],
      "id": "OVxFWfnC4dyE"
    },
    {
      "cell_type": "code",
      "source": [
        "test_target.shape"
      ],
      "metadata": {
        "colab": {
          "base_uri": "https://localhost:8080/"
        },
        "id": "a6Kudd-S_lCa",
        "outputId": "2c69479f-19b1-4691-9f3c-48676b8ef87e"
      },
      "execution_count": null,
      "outputs": [
        {
          "output_type": "execute_result",
          "data": {
            "text/plain": [
              "(6912, 4)"
            ]
          },
          "metadata": {},
          "execution_count": 48
        }
      ],
      "id": "a6Kudd-S_lCa"
    },
    {
      "cell_type": "code",
      "source": [
        "y1_test"
      ],
      "metadata": {
        "colab": {
          "base_uri": "https://localhost:8080/"
        },
        "id": "r2HyzYx-SKWi",
        "outputId": "57ec7097-940a-4add-c3e7-a99fc7ede03e"
      },
      "execution_count": null,
      "outputs": [
        {
          "output_type": "execute_result",
          "data": {
            "text/plain": [
              "269424    279.0\n",
              "269425    281.0\n",
              "269426    284.0\n",
              "269427    285.0\n",
              "269428    284.0\n",
              "          ...  \n",
              "276331    288.0\n",
              "276332    287.0\n",
              "276333    299.0\n",
              "276334    309.0\n",
              "276335    326.0\n",
              "Name: wl_1018662, Length: 6912, dtype: float64"
            ]
          },
          "metadata": {},
          "execution_count": 49
        }
      ],
      "id": "r2HyzYx-SKWi"
    },
    {
      "cell_type": "markdown",
      "id": "a3774638-a825-44d8-8c85-1f3cf38654a9",
      "metadata": {
        "id": "a3774638-a825-44d8-8c85-1f3cf38654a9"
      },
      "source": [
        "# 모델"
      ]
    },
    {
      "cell_type": "code",
      "execution_count": null,
      "id": "20b211ba-8008-4e7f-8251-c0f8c08e8d58",
      "metadata": {
        "id": "20b211ba-8008-4e7f-8251-c0f8c08e8d58"
      },
      "outputs": [],
      "source": [
        "import xgboost as xgb"
      ]
    },
    {
      "cell_type": "markdown",
      "source": [
        "## 파라미터 조정 -> regressor는 없고 classifier만 있음 = 실패"
      ],
      "metadata": {
        "id": "XJLE-l7ZJckF"
      },
      "id": "XJLE-l7ZJckF"
    },
    {
      "cell_type": "code",
      "source": [
        "from sklearn.model_selection import RandomizedSearchCV"
      ],
      "metadata": {
        "id": "WICu2pDgKqsj"
      },
      "id": "WICu2pDgKqsj",
      "execution_count": null,
      "outputs": []
    },
    {
      "cell_type": "code",
      "source": [
        "## Hyper Parameter Optimization\n",
        "n_estimators = [100, 500, 900, 1100, 1500]\n",
        "max_depth = [2, 3, 5, 10, 15]\n",
        "booster=['gbtree','gblinear','reg:squarederror']\n",
        "learning_rate=[0.05,0.1,0.15,0.20]\n",
        "min_child_weight=[1,2,3,4]\n",
        "\n",
        "# Define the grid of hyperparameters to search\n",
        "hyperparameter_grid = {\n",
        "    'n_estimators': [100, 400, 800],\n",
        "    'max_depth': [3, 6, 9],\n",
        "    'learning_rate': [0.05, 0.1, 0.20],\n",
        "    'min_child_weight': [1, 10, 100]\n",
        "    }\n",
        "\n",
        "# Set up the random search with 4-fold cross validation\n",
        "random_cv = RandomizedSearchCV(estimator='reg:squarederror',\n",
        "            param_distributions=hyperparameter_grid,\n",
        "            cv=5, n_iter=50,\n",
        "            scoring = 'neg_mean_absolute_error',n_jobs = 4,\n",
        "            verbose = 5, \n",
        "            return_train_score = True,\n",
        "            random_state=42)"
      ],
      "metadata": {
        "id": "BpVCXqTRJ2U7"
      },
      "id": "BpVCXqTRJ2U7",
      "execution_count": null,
      "outputs": []
    },
    {
      "cell_type": "code",
      "source": [
        "random_cv.fit(train_data,y1)"
      ],
      "metadata": {
        "colab": {
          "base_uri": "https://localhost:8080/",
          "height": 327
        },
        "id": "tcghcXzuJ2QD",
        "outputId": "fd6a6342-d7ca-48d7-b4da-64488ca21c97"
      },
      "id": "tcghcXzuJ2QD",
      "execution_count": null,
      "outputs": [
        {
          "output_type": "error",
          "ename": "TypeError",
          "evalue": "ignored",
          "traceback": [
            "\u001b[0;31m---------------------------------------------------------------------------\u001b[0m",
            "\u001b[0;31mTypeError\u001b[0m                                 Traceback (most recent call last)",
            "\u001b[0;32m<ipython-input-47-e7c0980f5677>\u001b[0m in \u001b[0;36m<module>\u001b[0;34m()\u001b[0m\n\u001b[0;32m----> 1\u001b[0;31m \u001b[0mrandom_cv\u001b[0m\u001b[0;34m.\u001b[0m\u001b[0mfit\u001b[0m\u001b[0;34m(\u001b[0m\u001b[0mtrain_data\u001b[0m\u001b[0;34m,\u001b[0m\u001b[0my1\u001b[0m\u001b[0;34m)\u001b[0m\u001b[0;34m\u001b[0m\u001b[0;34m\u001b[0m\u001b[0m\n\u001b[0m",
            "\u001b[0;32m/usr/local/lib/python3.7/dist-packages/sklearn/model_selection/_search.py\u001b[0m in \u001b[0;36mfit\u001b[0;34m(self, X, y, groups, **fit_params)\u001b[0m\n\u001b[1;32m    791\u001b[0m             \u001b[0mscorers\u001b[0m \u001b[0;34m=\u001b[0m \u001b[0mself\u001b[0m\u001b[0;34m.\u001b[0m\u001b[0mscoring\u001b[0m\u001b[0;34m\u001b[0m\u001b[0;34m\u001b[0m\u001b[0m\n\u001b[1;32m    792\u001b[0m         \u001b[0;32melif\u001b[0m \u001b[0mself\u001b[0m\u001b[0;34m.\u001b[0m\u001b[0mscoring\u001b[0m \u001b[0;32mis\u001b[0m \u001b[0;32mNone\u001b[0m \u001b[0;32mor\u001b[0m \u001b[0misinstance\u001b[0m\u001b[0;34m(\u001b[0m\u001b[0mself\u001b[0m\u001b[0;34m.\u001b[0m\u001b[0mscoring\u001b[0m\u001b[0;34m,\u001b[0m \u001b[0mstr\u001b[0m\u001b[0;34m)\u001b[0m\u001b[0;34m:\u001b[0m\u001b[0;34m\u001b[0m\u001b[0;34m\u001b[0m\u001b[0m\n\u001b[0;32m--> 793\u001b[0;31m             \u001b[0mscorers\u001b[0m \u001b[0;34m=\u001b[0m \u001b[0mcheck_scoring\u001b[0m\u001b[0;34m(\u001b[0m\u001b[0mself\u001b[0m\u001b[0;34m.\u001b[0m\u001b[0mestimator\u001b[0m\u001b[0;34m,\u001b[0m \u001b[0mself\u001b[0m\u001b[0;34m.\u001b[0m\u001b[0mscoring\u001b[0m\u001b[0;34m)\u001b[0m\u001b[0;34m\u001b[0m\u001b[0;34m\u001b[0m\u001b[0m\n\u001b[0m\u001b[1;32m    794\u001b[0m         \u001b[0;32melse\u001b[0m\u001b[0;34m:\u001b[0m\u001b[0;34m\u001b[0m\u001b[0;34m\u001b[0m\u001b[0m\n\u001b[1;32m    795\u001b[0m             \u001b[0mscorers\u001b[0m \u001b[0;34m=\u001b[0m \u001b[0m_check_multimetric_scoring\u001b[0m\u001b[0;34m(\u001b[0m\u001b[0mself\u001b[0m\u001b[0;34m.\u001b[0m\u001b[0mestimator\u001b[0m\u001b[0;34m,\u001b[0m \u001b[0mself\u001b[0m\u001b[0;34m.\u001b[0m\u001b[0mscoring\u001b[0m\u001b[0;34m)\u001b[0m\u001b[0;34m\u001b[0m\u001b[0;34m\u001b[0m\u001b[0m\n",
            "\u001b[0;32m/usr/local/lib/python3.7/dist-packages/sklearn/metrics/_scorer.py\u001b[0m in \u001b[0;36mcheck_scoring\u001b[0;34m(estimator, scoring, allow_none)\u001b[0m\n\u001b[1;32m    448\u001b[0m         raise TypeError(\n\u001b[1;32m    449\u001b[0m             \u001b[0;34m\"estimator should be an estimator implementing 'fit' method, %r was passed\"\u001b[0m\u001b[0;34m\u001b[0m\u001b[0;34m\u001b[0m\u001b[0m\n\u001b[0;32m--> 450\u001b[0;31m             \u001b[0;34m%\u001b[0m \u001b[0mestimator\u001b[0m\u001b[0;34m\u001b[0m\u001b[0;34m\u001b[0m\u001b[0m\n\u001b[0m\u001b[1;32m    451\u001b[0m         )\n\u001b[1;32m    452\u001b[0m     \u001b[0;32mif\u001b[0m \u001b[0misinstance\u001b[0m\u001b[0;34m(\u001b[0m\u001b[0mscoring\u001b[0m\u001b[0;34m,\u001b[0m \u001b[0mstr\u001b[0m\u001b[0;34m)\u001b[0m\u001b[0;34m:\u001b[0m\u001b[0;34m\u001b[0m\u001b[0;34m\u001b[0m\u001b[0m\n",
            "\u001b[0;31mTypeError\u001b[0m: estimator should be an estimator implementing 'fit' method, 'reg:squarederror' was passed"
          ]
        }
      ]
    },
    {
      "cell_type": "code",
      "source": [],
      "metadata": {
        "id": "XK5ysfC2J2Nm"
      },
      "id": "XK5ysfC2J2Nm",
      "execution_count": null,
      "outputs": []
    },
    {
      "cell_type": "code",
      "source": [],
      "metadata": {
        "id": "kpeCUBibJ2Lh"
      },
      "id": "kpeCUBibJ2Lh",
      "execution_count": null,
      "outputs": []
    },
    {
      "cell_type": "code",
      "source": [],
      "metadata": {
        "id": "Eyk9_j5oJ2JN"
      },
      "id": "Eyk9_j5oJ2JN",
      "execution_count": null,
      "outputs": []
    },
    {
      "cell_type": "code",
      "source": [],
      "metadata": {
        "id": "9ZgT4WOzJ2Ge"
      },
      "id": "9ZgT4WOzJ2Ge",
      "execution_count": null,
      "outputs": []
    },
    {
      "cell_type": "code",
      "source": [],
      "metadata": {
        "id": "sywx-EmxJ2Dx"
      },
      "id": "sywx-EmxJ2Dx",
      "execution_count": null,
      "outputs": []
    },
    {
      "cell_type": "markdown",
      "source": [
        "## 임의로 지정"
      ],
      "metadata": {
        "id": "YJ-oKCNEJmQY"
      },
      "id": "YJ-oKCNEJmQY"
    },
    {
      "cell_type": "code",
      "source": [
        "# xgb_model = xgb.XGBRegressor(max_depth=2, n_estimators=1000)"
      ],
      "metadata": {
        "id": "dRoKYHQrGRfO"
      },
      "id": "dRoKYHQrGRfO",
      "execution_count": null,
      "outputs": []
    },
    {
      "cell_type": "markdown",
      "source": [
        "![image.png](data:image/png;base64,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)"
      ],
      "metadata": {
        "id": "kN2vrg7UCzQ6"
      },
      "id": "kN2vrg7UCzQ6"
    },
    {
      "cell_type": "markdown",
      "source": [
        "[05:46:13] WARNING: /workspace/src/objective/regression_obj.cu:152: reg:linear is now deprecated in favor of reg:squarederror."
      ],
      "metadata": {
        "id": "c681SU19C1ji"
      },
      "id": "c681SU19C1ji"
    },
    {
      "cell_type": "markdown",
      "source": [
        "* 위에 error로 인해서 reg:squarederror 로 바꿈"
      ],
      "metadata": {
        "id": "GW4BMnbWC2QC"
      },
      "id": "GW4BMnbWC2QC"
    },
    {
      "cell_type": "code",
      "source": [
        "xgb_model = xgb.XGBRegressor(objective='reg:squarederror', max_depth = 2, n_estimators = 1000)"
      ],
      "metadata": {
        "id": "aos82AY33e36"
      },
      "id": "aos82AY33e36",
      "execution_count": null,
      "outputs": []
    },
    {
      "cell_type": "markdown",
      "id": "c7cc50b0-202d-405c-bfc5-c0c027fcda29",
      "metadata": {
        "id": "c7cc50b0-202d-405c-bfc5-c0c027fcda29"
      },
      "source": [
        "## 종속1"
      ]
    },
    {
      "cell_type": "markdown",
      "id": "74ac474c-2e6d-47a5-9459-f4a0f69c0078",
      "metadata": {
        "id": "74ac474c-2e6d-47a5-9459-f4a0f69c0078"
      },
      "source": [
        "* train 데이터"
      ]
    },
    {
      "cell_type": "code",
      "execution_count": null,
      "id": "0a46fa92-fbc7-487d-9741-f38b1d8255d3",
      "metadata": {
        "colab": {
          "base_uri": "https://localhost:8080/"
        },
        "id": "0a46fa92-fbc7-487d-9741-f38b1d8255d3",
        "outputId": "4e9d79bc-863f-4386-d504-be56712f6be6"
      },
      "outputs": [
        {
          "output_type": "execute_result",
          "data": {
            "text/plain": [
              "1         314.7\n",
              "2         313.7\n",
              "3         311.7\n",
              "4         311.7\n",
              "5         311.7\n",
              "          ...  \n",
              "269419    281.7\n",
              "269420    279.7\n",
              "269421    278.7\n",
              "269422    277.7\n",
              "269423    278.7\n",
              "Name: wl_1018662, Length: 269423, dtype: float64"
            ]
          },
          "metadata": {},
          "execution_count": 51
        }
      ],
      "source": [
        "y1"
      ]
    },
    {
      "cell_type": "code",
      "execution_count": null,
      "id": "9bbc061c-0b7f-43bc-915a-453f78c08bf0",
      "metadata": {
        "colab": {
          "base_uri": "https://localhost:8080/"
        },
        "id": "9bbc061c-0b7f-43bc-915a-453f78c08bf0",
        "outputId": "be3e508e-3a31-4fa1-c108-ac2725b9002f"
      },
      "outputs": [
        {
          "output_type": "execute_result",
          "data": {
            "text/plain": [
              "array([314.7, 313.7, 311.7, ..., 278.7, 277.7, 278.7])"
            ]
          },
          "metadata": {},
          "execution_count": 53
        }
      ],
      "source": [
        "y1 = np.array(y1)\n",
        "y1"
      ]
    },
    {
      "cell_type": "code",
      "execution_count": null,
      "id": "ffbf93d2-8a68-45ae-bf80-96e44077398e",
      "metadata": {
        "id": "ffbf93d2-8a68-45ae-bf80-96e44077398e"
      },
      "outputs": [],
      "source": [
        "xgb_model1=xgb_model.fit(x_train_std, y1)"
      ]
    },
    {
      "cell_type": "code",
      "execution_count": null,
      "id": "a30a08cf-dbb1-4938-ba49-7b6ba2515130",
      "metadata": {
        "colab": {
          "base_uri": "https://localhost:8080/"
        },
        "id": "a30a08cf-dbb1-4938-ba49-7b6ba2515130",
        "outputId": "8d1faf61-a905-4bff-c81c-12bf376bd461"
      },
      "outputs": [
        {
          "output_type": "execute_result",
          "data": {
            "text/plain": [
              "XGBRegressor(max_depth=2, n_estimators=1000, objective='reg:squarederror')"
            ]
          },
          "metadata": {},
          "execution_count": 55
        }
      ],
      "source": [
        "xgb_model1"
      ]
    },
    {
      "cell_type": "markdown",
      "id": "f3b8e140-9df0-4c80-b7f8-f707edc85550",
      "metadata": {
        "id": "f3b8e140-9df0-4c80-b7f8-f707edc85550"
      },
      "source": [
        "* y_preds"
      ]
    },
    {
      "cell_type": "code",
      "execution_count": null,
      "id": "f8588ca2-02d7-4c21-93b4-d1cd4f2b4145",
      "metadata": {
        "id": "f8588ca2-02d7-4c21-93b4-d1cd4f2b4145",
        "colab": {
          "base_uri": "https://localhost:8080/"
        },
        "outputId": "429fbe54-0bf0-4eb4-c4aa-9ce6b38629c7"
      },
      "outputs": [
        {
          "output_type": "execute_result",
          "data": {
            "text/plain": [
              "array([279.15753, 279.56558, 281.23822, ..., 292.8317 , 307.2099 ,\n",
              "       318.47733], dtype=float32)"
            ]
          },
          "metadata": {},
          "execution_count": 107
        }
      ],
      "source": [
        "y1_preds = xgb_model1.predict(x_test_std)\n",
        "y1_preds"
      ]
    },
    {
      "cell_type": "markdown",
      "id": "c6553ff1-1f6a-4fbb-b3b1-7edc8e405863",
      "metadata": {
        "id": "c6553ff1-1f6a-4fbb-b3b1-7edc8e405863"
      },
      "source": [
        "* test데이터"
      ]
    },
    {
      "cell_type": "code",
      "execution_count": null,
      "id": "c7bf136f-77fb-4390-b5a1-a43b4eff0d57",
      "metadata": {
        "id": "c7bf136f-77fb-4390-b5a1-a43b4eff0d57",
        "colab": {
          "base_uri": "https://localhost:8080/"
        },
        "outputId": "1e8476a9-711e-40a5-e213-5156780eaca9"
      },
      "outputs": [
        {
          "output_type": "execute_result",
          "data": {
            "text/plain": [
              "array([279., 281., 284., ..., 299., 309., 326.])"
            ]
          },
          "metadata": {},
          "execution_count": 58
        }
      ],
      "source": [
        "y1_test = np.array(y1_test)\n",
        "y1_test"
      ]
    },
    {
      "cell_type": "markdown",
      "id": "a573cd60-f29d-4635-aa9a-c8b020f5da7c",
      "metadata": {
        "id": "a573cd60-f29d-4635-aa9a-c8b020f5da7c"
      },
      "source": [
        "* score 보기"
      ]
    },
    {
      "cell_type": "code",
      "execution_count": null,
      "id": "b69c82a0-4cd8-4d96-951c-645ec894c996",
      "metadata": {
        "colab": {
          "base_uri": "https://localhost:8080/"
        },
        "id": "b69c82a0-4cd8-4d96-951c-645ec894c996",
        "outputId": "8962109a-c3d2-4308-97a5-800b7b41baf8"
      },
      "outputs": [
        {
          "output_type": "stream",
          "name": "stdout",
          "text": [
            "train data 정확도: 0.9991833280029114\n",
            "test data 정확도: 0.998925618918971\n"
          ]
        }
      ],
      "source": [
        "print('train data 정확도:', xgb_model1.score(x_train_std, y1))\n",
        "print('test data 정확도:', xgb_model1.score(x_test_std, y1_test))"
      ]
    },
    {
      "cell_type": "markdown",
      "id": "4315c9c5-6e81-4f50-95f0-1782acf815fd",
      "metadata": {
        "id": "4315c9c5-6e81-4f50-95f0-1782acf815fd"
      },
      "source": [
        "## 종속2"
      ]
    },
    {
      "cell_type": "code",
      "execution_count": null,
      "metadata": {
        "colab": {
          "base_uri": "https://localhost:8080/"
        },
        "outputId": "fa6932cd-3076-461a-c964-3c3d8721c0ca",
        "id": "2wAz7s0kBjjT"
      },
      "outputs": [
        {
          "output_type": "execute_result",
          "data": {
            "text/plain": [
              "1         300.2\n",
              "2         301.2\n",
              "3         301.2\n",
              "4         301.2\n",
              "5         301.2\n",
              "          ...  \n",
              "269419    281.2\n",
              "269420    279.2\n",
              "269421    277.2\n",
              "269422    276.2\n",
              "269423    276.2\n",
              "Name: wl_1018680, Length: 269423, dtype: float64"
            ]
          },
          "metadata": {},
          "execution_count": 61
        }
      ],
      "source": [
        "y2"
      ],
      "id": "2wAz7s0kBjjT"
    },
    {
      "cell_type": "code",
      "execution_count": null,
      "metadata": {
        "colab": {
          "base_uri": "https://localhost:8080/"
        },
        "outputId": "988dc7ed-201d-4e52-edda-fd99b60c6199",
        "id": "5JwcuaH-BjjV"
      },
      "outputs": [
        {
          "output_type": "execute_result",
          "data": {
            "text/plain": [
              "array([300.2, 301.2, 301.2, ..., 277.2, 276.2, 276.2])"
            ]
          },
          "metadata": {},
          "execution_count": 62
        }
      ],
      "source": [
        "y2 = np.array(y2)\n",
        "y2"
      ],
      "id": "5JwcuaH-BjjV"
    },
    {
      "cell_type": "code",
      "execution_count": null,
      "metadata": {
        "id": "kO4EfeRwBjjW"
      },
      "outputs": [],
      "source": [
        "xgb_model2=xgb_model.fit(x_train_std, y2)"
      ],
      "id": "kO4EfeRwBjjW"
    },
    {
      "cell_type": "code",
      "execution_count": null,
      "metadata": {
        "colab": {
          "base_uri": "https://localhost:8080/"
        },
        "outputId": "aef90abf-d799-4538-fcf0-47c568b9d04e",
        "id": "KFOVSJdiBjjX"
      },
      "outputs": [
        {
          "output_type": "execute_result",
          "data": {
            "text/plain": [
              "XGBRegressor(max_depth=2, n_estimators=1000, objective='reg:squarederror')"
            ]
          },
          "metadata": {},
          "execution_count": 64
        }
      ],
      "source": [
        "xgb_model2"
      ],
      "id": "KFOVSJdiBjjX"
    },
    {
      "cell_type": "markdown",
      "metadata": {
        "id": "Dr7OlkgvBjja"
      },
      "source": [
        "* y_preds"
      ],
      "id": "Dr7OlkgvBjja"
    },
    {
      "cell_type": "code",
      "execution_count": null,
      "metadata": {
        "colab": {
          "base_uri": "https://localhost:8080/"
        },
        "outputId": "772fde02-5d8c-492c-9367-8f7734c730d9",
        "id": "8V7X8yhoBjjb"
      },
      "outputs": [
        {
          "output_type": "execute_result",
          "data": {
            "text/plain": [
              "array([272.01114, 273.2155 , 273.39328, ..., 296.9285 , 305.18015,\n",
              "       313.00516], dtype=float32)"
            ]
          },
          "metadata": {},
          "execution_count": 116
        }
      ],
      "source": [
        "y2_preds = xgb_model2.predict(x_test_std)\n",
        "y2_preds"
      ],
      "id": "8V7X8yhoBjjb"
    },
    {
      "cell_type": "markdown",
      "metadata": {
        "id": "c0qBd49KBjjb"
      },
      "source": [
        "* test데이터"
      ],
      "id": "c0qBd49KBjjb"
    },
    {
      "cell_type": "code",
      "execution_count": null,
      "metadata": {
        "colab": {
          "base_uri": "https://localhost:8080/"
        },
        "outputId": "e4798a35-bc63-477c-f9d7-39b5972c8118",
        "id": "hkPHrjVWBjjc"
      },
      "outputs": [
        {
          "output_type": "execute_result",
          "data": {
            "text/plain": [
              "array([276., 277., 277., ..., 307., 311., 314.])"
            ]
          },
          "metadata": {},
          "execution_count": 66
        }
      ],
      "source": [
        "y2_test = np.array(y2_test)\n",
        "y2_test"
      ],
      "id": "hkPHrjVWBjjc"
    },
    {
      "cell_type": "markdown",
      "metadata": {
        "id": "0cOq4GFbBjjd"
      },
      "source": [
        "* score 보기"
      ],
      "id": "0cOq4GFbBjjd"
    },
    {
      "cell_type": "code",
      "execution_count": null,
      "metadata": {
        "colab": {
          "base_uri": "https://localhost:8080/"
        },
        "outputId": "2aeffe04-81ad-4447-a652-01a974abf8dc",
        "id": "sd_odeomBjje"
      },
      "outputs": [
        {
          "output_type": "stream",
          "name": "stdout",
          "text": [
            "train data 정확도: 0.9912739369207187\n",
            "test data 정확도: 0.9952434280993556\n"
          ]
        }
      ],
      "source": [
        "print('train data 정확도:', xgb_model2.score(x_train_std, y2))\n",
        "print('test data 정확도:', xgb_model2.score(x_test_std, y2_test))"
      ],
      "id": "sd_odeomBjje"
    },
    {
      "cell_type": "markdown",
      "id": "00d81a68-4a8e-4939-96c1-e294f3a1ab3d",
      "metadata": {
        "id": "00d81a68-4a8e-4939-96c1-e294f3a1ab3d"
      },
      "source": [
        "## 종속3"
      ]
    },
    {
      "cell_type": "code",
      "execution_count": null,
      "metadata": {
        "colab": {
          "base_uri": "https://localhost:8080/"
        },
        "outputId": "7ff16983-d2cb-4148-df21-043e2d1fa862",
        "id": "pkP3TlWHCFBK"
      },
      "outputs": [
        {
          "output_type": "execute_result",
          "data": {
            "text/plain": [
              "1         290.0\n",
              "2         290.0\n",
              "3         290.0\n",
              "4         291.0\n",
              "5         291.0\n",
              "          ...  \n",
              "269419    278.0\n",
              "269420    278.0\n",
              "269421    277.0\n",
              "269422    276.0\n",
              "269423    275.0\n",
              "Name: wl_1018683, Length: 269423, dtype: float64"
            ]
          },
          "metadata": {},
          "execution_count": 68
        }
      ],
      "source": [
        "y3"
      ],
      "id": "pkP3TlWHCFBK"
    },
    {
      "cell_type": "code",
      "execution_count": null,
      "metadata": {
        "colab": {
          "base_uri": "https://localhost:8080/"
        },
        "outputId": "e2098edb-abfc-4bf9-ffaf-14f508adab05",
        "id": "mbuyoWz4CFBM"
      },
      "outputs": [
        {
          "output_type": "execute_result",
          "data": {
            "text/plain": [
              "array([290., 290., 290., ..., 277., 276., 275.])"
            ]
          },
          "metadata": {},
          "execution_count": 69
        }
      ],
      "source": [
        "y3 = np.array(y3)\n",
        "y3"
      ],
      "id": "mbuyoWz4CFBM"
    },
    {
      "cell_type": "code",
      "execution_count": null,
      "metadata": {
        "id": "AXXQuAjZCFBN"
      },
      "outputs": [],
      "source": [
        "xgb_model3=xgb_model.fit(x_train_std, y3)"
      ],
      "id": "AXXQuAjZCFBN"
    },
    {
      "cell_type": "code",
      "execution_count": null,
      "metadata": {
        "colab": {
          "base_uri": "https://localhost:8080/"
        },
        "outputId": "1972817a-af36-4c28-eb18-c1abb2fb160f",
        "id": "_ls4nbWdCFBN"
      },
      "outputs": [
        {
          "output_type": "execute_result",
          "data": {
            "text/plain": [
              "XGBRegressor(max_depth=2, n_estimators=1000, objective='reg:squarederror')"
            ]
          },
          "metadata": {},
          "execution_count": 71
        }
      ],
      "source": [
        "xgb_model3"
      ],
      "id": "_ls4nbWdCFBN"
    },
    {
      "cell_type": "markdown",
      "metadata": {
        "id": "TT_SNDUQCFBO"
      },
      "source": [
        "* y_preds"
      ],
      "id": "TT_SNDUQCFBO"
    },
    {
      "cell_type": "code",
      "execution_count": null,
      "metadata": {
        "colab": {
          "base_uri": "https://localhost:8080/"
        },
        "outputId": "e2d92efa-8a8d-4a3a-f6e3-0000a882a856",
        "id": "HMDqoLDlCFBO"
      },
      "outputs": [
        {
          "output_type": "execute_result",
          "data": {
            "text/plain": [
              "array([269.82306, 271.71097, 273.10593, ..., 299.36725, 310.75974,\n",
              "       314.5395 ], dtype=float32)"
            ]
          },
          "metadata": {},
          "execution_count": 72
        }
      ],
      "source": [
        "y3_preds = xgb_model3.predict(x_test_std)\n",
        "y3_preds"
      ],
      "id": "HMDqoLDlCFBO"
    },
    {
      "cell_type": "markdown",
      "metadata": {
        "id": "3OUOlcfQCFBP"
      },
      "source": [
        "* test데이터"
      ],
      "id": "3OUOlcfQCFBP"
    },
    {
      "cell_type": "code",
      "execution_count": null,
      "metadata": {
        "colab": {
          "base_uri": "https://localhost:8080/"
        },
        "outputId": "1f52cb29-d54c-480b-eeb8-bd7b0198652d",
        "id": "MciiWg7uCFBP"
      },
      "outputs": [
        {
          "output_type": "execute_result",
          "data": {
            "text/plain": [
              "array([274., 274., 274., ..., 309., 314., 317.])"
            ]
          },
          "metadata": {},
          "execution_count": 73
        }
      ],
      "source": [
        "y3_test = np.array(y3_test)\n",
        "y3_test"
      ],
      "id": "MciiWg7uCFBP"
    },
    {
      "cell_type": "markdown",
      "metadata": {
        "id": "NMEXGUKNCFBQ"
      },
      "source": [
        "* score 보기"
      ],
      "id": "NMEXGUKNCFBQ"
    },
    {
      "cell_type": "code",
      "execution_count": null,
      "metadata": {
        "colab": {
          "base_uri": "https://localhost:8080/"
        },
        "outputId": "37124530-3e29-47b2-de51-43ae51a0c646",
        "id": "_N0NpUZVCFBQ"
      },
      "outputs": [
        {
          "output_type": "stream",
          "name": "stdout",
          "text": [
            "train data 정확도: 0.8809348795986786\n",
            "test data 정확도: 0.8874560960981666\n"
          ]
        }
      ],
      "source": [
        "print('train data 정확도:', xgb_model3.score(x_train_std, y3))\n",
        "print('test data 정확도:', xgb_model3.score(x_test_std, y3_test))"
      ],
      "id": "_N0NpUZVCFBQ"
    },
    {
      "cell_type": "code",
      "source": [],
      "metadata": {
        "id": "16yuLjMTBtCa"
      },
      "id": "16yuLjMTBtCa",
      "execution_count": null,
      "outputs": []
    },
    {
      "cell_type": "markdown",
      "id": "5ec47af9-90cb-4dc8-bb8e-118f5f54a229",
      "metadata": {
        "id": "5ec47af9-90cb-4dc8-bb8e-118f5f54a229"
      },
      "source": [
        "## 종속 4"
      ]
    },
    {
      "cell_type": "code",
      "execution_count": null,
      "metadata": {
        "colab": {
          "base_uri": "https://localhost:8080/"
        },
        "outputId": "40810ecf-93db-450c-eee0-d25cb345b6a7",
        "id": "L5Tc0GLiCIwH"
      },
      "outputs": [
        {
          "output_type": "execute_result",
          "data": {
            "text/plain": [
              "1         275.3\n",
              "2         275.3\n",
              "3         276.3\n",
              "4         277.3\n",
              "5         277.3\n",
              "          ...  \n",
              "269419    271.3\n",
              "269420    272.3\n",
              "269421    272.3\n",
              "269422    271.3\n",
              "269423    270.3\n",
              "Name: wl_1019630, Length: 269423, dtype: float64"
            ]
          },
          "metadata": {},
          "execution_count": 75
        }
      ],
      "source": [
        "y4"
      ],
      "id": "L5Tc0GLiCIwH"
    },
    {
      "cell_type": "code",
      "execution_count": null,
      "metadata": {
        "colab": {
          "base_uri": "https://localhost:8080/"
        },
        "outputId": "fd6b1894-22fa-46a3-ccdc-0c6e4816398f",
        "id": "5mPCunhpCIwI"
      },
      "outputs": [
        {
          "output_type": "execute_result",
          "data": {
            "text/plain": [
              "array([275.3, 275.3, 276.3, ..., 272.3, 271.3, 270.3])"
            ]
          },
          "metadata": {},
          "execution_count": 76
        }
      ],
      "source": [
        "y4 = np.array(y4)\n",
        "y4"
      ],
      "id": "5mPCunhpCIwI"
    },
    {
      "cell_type": "code",
      "execution_count": null,
      "metadata": {
        "id": "kbuwMTQtCIwI"
      },
      "outputs": [],
      "source": [
        "xgb_model4=xgb_model.fit(x_train_std, y4)"
      ],
      "id": "kbuwMTQtCIwI"
    },
    {
      "cell_type": "code",
      "execution_count": null,
      "metadata": {
        "colab": {
          "base_uri": "https://localhost:8080/"
        },
        "outputId": "59cb8740-7a4b-484a-e7a3-6acec9e77111",
        "id": "UTwm4kUpCIwJ"
      },
      "outputs": [
        {
          "output_type": "execute_result",
          "data": {
            "text/plain": [
              "XGBRegressor(max_depth=2, n_estimators=1000, objective='reg:squarederror')"
            ]
          },
          "metadata": {},
          "execution_count": 78
        }
      ],
      "source": [
        "xgb_model4"
      ],
      "id": "UTwm4kUpCIwJ"
    },
    {
      "cell_type": "markdown",
      "metadata": {
        "id": "gE9F9nZYCIwJ"
      },
      "source": [
        "* y_preds"
      ],
      "id": "gE9F9nZYCIwJ"
    },
    {
      "cell_type": "code",
      "execution_count": null,
      "metadata": {
        "colab": {
          "base_uri": "https://localhost:8080/"
        },
        "outputId": "b68ac94c-ca8d-46db-c313-32c2f10f2271",
        "id": "JDi848PkCIwK"
      },
      "outputs": [
        {
          "output_type": "execute_result",
          "data": {
            "text/plain": [
              "array([270.22623, 267.76993, 265.86398, ..., 309.51437, 311.56815,\n",
              "       311.9681 ], dtype=float32)"
            ]
          },
          "metadata": {},
          "execution_count": 82
        }
      ],
      "source": [
        "y4_preds = xgb_model4.predict(x_test_std)\n",
        "y4_preds"
      ],
      "id": "JDi848PkCIwK"
    },
    {
      "cell_type": "markdown",
      "metadata": {
        "id": "-Ku-CAwuCIwK"
      },
      "source": [
        "* test데이터"
      ],
      "id": "-Ku-CAwuCIwK"
    },
    {
      "cell_type": "code",
      "execution_count": null,
      "metadata": {
        "colab": {
          "base_uri": "https://localhost:8080/"
        },
        "outputId": "ab280363-6cc9-4f89-83ad-af36ca3918b4",
        "id": "up_Q1ZICCIwK"
      },
      "outputs": [
        {
          "output_type": "execute_result",
          "data": {
            "text/plain": [
              "array([269., 267., 264., ..., 310., 312., 313.])"
            ]
          },
          "metadata": {},
          "execution_count": 80
        }
      ],
      "source": [
        "y4_test = np.array(y4_test)\n",
        "y4_test"
      ],
      "id": "up_Q1ZICCIwK"
    },
    {
      "cell_type": "markdown",
      "metadata": {
        "id": "30ztO1fhCIwL"
      },
      "source": [
        "* score 보기"
      ],
      "id": "30ztO1fhCIwL"
    },
    {
      "cell_type": "code",
      "execution_count": null,
      "metadata": {
        "colab": {
          "base_uri": "https://localhost:8080/"
        },
        "outputId": "e9f3683e-be55-482a-baf9-ee9abd681c74",
        "id": "a1Xs4tPtCIwL"
      },
      "outputs": [
        {
          "output_type": "stream",
          "name": "stdout",
          "text": [
            "train data 정확도: 0.9982314303938536\n",
            "test data 정확도: 0.9988140902992032\n"
          ]
        }
      ],
      "source": [
        "print('train data 정확도:', xgb_model4.score(x_train_std, y4))\n",
        "print('test data 정확도:', xgb_model4.score(x_test_std, y4_test))"
      ],
      "id": "a1Xs4tPtCIwL"
    },
    {
      "cell_type": "code",
      "source": [],
      "metadata": {
        "id": "F4dHrQfECHtj"
      },
      "id": "F4dHrQfECHtj",
      "execution_count": null,
      "outputs": []
    },
    {
      "cell_type": "markdown",
      "id": "451d5f76-688b-46c9-af9c-d1298e96552b",
      "metadata": {
        "id": "451d5f76-688b-46c9-af9c-d1298e96552b"
      },
      "source": [
        "## 예측 결과(y_preds) 합치기"
      ]
    },
    {
      "cell_type": "code",
      "source": [
        "df_y1_preds = pd.DataFrame(y1_preds)\n",
        "df_y2_preds = pd.DataFrame(y2_preds)\n",
        "df_y3_preds = pd.DataFrame(y3_preds)\n",
        "df_y4_preds = pd.DataFrame(y4_preds)"
      ],
      "metadata": {
        "id": "M4anxaTj9JFk"
      },
      "id": "M4anxaTj9JFk",
      "execution_count": null,
      "outputs": []
    },
    {
      "cell_type": "code",
      "source": [
        "pred=pd.concat([df_y1_preds,df_y2_preds,df_y3_preds,df_y4_preds], axis = 1)\n",
        "pred.columns=train_target.columns\n",
        "pred"
      ],
      "metadata": {
        "id": "1a-f77AE9kef",
        "colab": {
          "base_uri": "https://localhost:8080/",
          "height": 424
        },
        "outputId": "f1db0c16-6e75-4b8a-c605-04b2de1d2bef"
      },
      "id": "1a-f77AE9kef",
      "execution_count": null,
      "outputs": [
        {
          "output_type": "execute_result",
          "data": {
            "text/plain": [
              "      wl_1018662  wl_1018680  wl_1018683  wl_1019630\n",
              "0     279.157532  272.011139  269.823059  270.226227\n",
              "1     279.565582  273.215515  271.710968  267.769928\n",
              "2     281.238220  273.393280  273.105927  265.863983\n",
              "3     284.879517  276.735809  273.035950  262.704102\n",
              "4     284.745453  274.013306  271.487061  259.490906\n",
              "...          ...         ...         ...         ...\n",
              "6907  288.386688  289.272308  293.895172  307.265289\n",
              "6908  291.982849  295.877289  299.063721  309.921234\n",
              "6909  292.831696  296.928497  299.367249  309.514374\n",
              "6910  307.209900  305.180145  310.759735  311.568146\n",
              "6911  318.477325  313.005157  314.539490  311.968109\n",
              "\n",
              "[6912 rows x 4 columns]"
            ],
            "text/html": [
              "\n",
              "  <div id=\"df-8a1bd649-6c88-4a00-b2d6-1d7dadc87c6f\">\n",
              "    <div class=\"colab-df-container\">\n",
              "      <div>\n",
              "<style scoped>\n",
              "    .dataframe tbody tr th:only-of-type {\n",
              "        vertical-align: middle;\n",
              "    }\n",
              "\n",
              "    .dataframe tbody tr th {\n",
              "        vertical-align: top;\n",
              "    }\n",
              "\n",
              "    .dataframe thead th {\n",
              "        text-align: right;\n",
              "    }\n",
              "</style>\n",
              "<table border=\"1\" class=\"dataframe\">\n",
              "  <thead>\n",
              "    <tr style=\"text-align: right;\">\n",
              "      <th></th>\n",
              "      <th>wl_1018662</th>\n",
              "      <th>wl_1018680</th>\n",
              "      <th>wl_1018683</th>\n",
              "      <th>wl_1019630</th>\n",
              "    </tr>\n",
              "  </thead>\n",
              "  <tbody>\n",
              "    <tr>\n",
              "      <th>0</th>\n",
              "      <td>279.157532</td>\n",
              "      <td>272.011139</td>\n",
              "      <td>269.823059</td>\n",
              "      <td>270.226227</td>\n",
              "    </tr>\n",
              "    <tr>\n",
              "      <th>1</th>\n",
              "      <td>279.565582</td>\n",
              "      <td>273.215515</td>\n",
              "      <td>271.710968</td>\n",
              "      <td>267.769928</td>\n",
              "    </tr>\n",
              "    <tr>\n",
              "      <th>2</th>\n",
              "      <td>281.238220</td>\n",
              "      <td>273.393280</td>\n",
              "      <td>273.105927</td>\n",
              "      <td>265.863983</td>\n",
              "    </tr>\n",
              "    <tr>\n",
              "      <th>3</th>\n",
              "      <td>284.879517</td>\n",
              "      <td>276.735809</td>\n",
              "      <td>273.035950</td>\n",
              "      <td>262.704102</td>\n",
              "    </tr>\n",
              "    <tr>\n",
              "      <th>4</th>\n",
              "      <td>284.745453</td>\n",
              "      <td>274.013306</td>\n",
              "      <td>271.487061</td>\n",
              "      <td>259.490906</td>\n",
              "    </tr>\n",
              "    <tr>\n",
              "      <th>...</th>\n",
              "      <td>...</td>\n",
              "      <td>...</td>\n",
              "      <td>...</td>\n",
              "      <td>...</td>\n",
              "    </tr>\n",
              "    <tr>\n",
              "      <th>6907</th>\n",
              "      <td>288.386688</td>\n",
              "      <td>289.272308</td>\n",
              "      <td>293.895172</td>\n",
              "      <td>307.265289</td>\n",
              "    </tr>\n",
              "    <tr>\n",
              "      <th>6908</th>\n",
              "      <td>291.982849</td>\n",
              "      <td>295.877289</td>\n",
              "      <td>299.063721</td>\n",
              "      <td>309.921234</td>\n",
              "    </tr>\n",
              "    <tr>\n",
              "      <th>6909</th>\n",
              "      <td>292.831696</td>\n",
              "      <td>296.928497</td>\n",
              "      <td>299.367249</td>\n",
              "      <td>309.514374</td>\n",
              "    </tr>\n",
              "    <tr>\n",
              "      <th>6910</th>\n",
              "      <td>307.209900</td>\n",
              "      <td>305.180145</td>\n",
              "      <td>310.759735</td>\n",
              "      <td>311.568146</td>\n",
              "    </tr>\n",
              "    <tr>\n",
              "      <th>6911</th>\n",
              "      <td>318.477325</td>\n",
              "      <td>313.005157</td>\n",
              "      <td>314.539490</td>\n",
              "      <td>311.968109</td>\n",
              "    </tr>\n",
              "  </tbody>\n",
              "</table>\n",
              "<p>6912 rows × 4 columns</p>\n",
              "</div>\n",
              "      <button class=\"colab-df-convert\" onclick=\"convertToInteractive('df-8a1bd649-6c88-4a00-b2d6-1d7dadc87c6f')\"\n",
              "              title=\"Convert this dataframe to an interactive table.\"\n",
              "              style=\"display:none;\">\n",
              "        \n",
              "  <svg xmlns=\"http://www.w3.org/2000/svg\" height=\"24px\"viewBox=\"0 0 24 24\"\n",
              "       width=\"24px\">\n",
              "    <path d=\"M0 0h24v24H0V0z\" fill=\"none\"/>\n",
              "    <path d=\"M18.56 5.44l.94 2.06.94-2.06 2.06-.94-2.06-.94-.94-2.06-.94 2.06-2.06.94zm-11 1L8.5 8.5l.94-2.06 2.06-.94-2.06-.94L8.5 2.5l-.94 2.06-2.06.94zm10 10l.94 2.06.94-2.06 2.06-.94-2.06-.94-.94-2.06-.94 2.06-2.06.94z\"/><path d=\"M17.41 7.96l-1.37-1.37c-.4-.4-.92-.59-1.43-.59-.52 0-1.04.2-1.43.59L10.3 9.45l-7.72 7.72c-.78.78-.78 2.05 0 2.83L4 21.41c.39.39.9.59 1.41.59.51 0 1.02-.2 1.41-.59l7.78-7.78 2.81-2.81c.8-.78.8-2.07 0-2.86zM5.41 20L4 18.59l7.72-7.72 1.47 1.35L5.41 20z\"/>\n",
              "  </svg>\n",
              "      </button>\n",
              "      \n",
              "  <style>\n",
              "    .colab-df-container {\n",
              "      display:flex;\n",
              "      flex-wrap:wrap;\n",
              "      gap: 12px;\n",
              "    }\n",
              "\n",
              "    .colab-df-convert {\n",
              "      background-color: #E8F0FE;\n",
              "      border: none;\n",
              "      border-radius: 50%;\n",
              "      cursor: pointer;\n",
              "      display: none;\n",
              "      fill: #1967D2;\n",
              "      height: 32px;\n",
              "      padding: 0 0 0 0;\n",
              "      width: 32px;\n",
              "    }\n",
              "\n",
              "    .colab-df-convert:hover {\n",
              "      background-color: #E2EBFA;\n",
              "      box-shadow: 0px 1px 2px rgba(60, 64, 67, 0.3), 0px 1px 3px 1px rgba(60, 64, 67, 0.15);\n",
              "      fill: #174EA6;\n",
              "    }\n",
              "\n",
              "    [theme=dark] .colab-df-convert {\n",
              "      background-color: #3B4455;\n",
              "      fill: #D2E3FC;\n",
              "    }\n",
              "\n",
              "    [theme=dark] .colab-df-convert:hover {\n",
              "      background-color: #434B5C;\n",
              "      box-shadow: 0px 1px 3px 1px rgba(0, 0, 0, 0.15);\n",
              "      filter: drop-shadow(0px 1px 2px rgba(0, 0, 0, 0.3));\n",
              "      fill: #FFFFFF;\n",
              "    }\n",
              "  </style>\n",
              "\n",
              "      <script>\n",
              "        const buttonEl =\n",
              "          document.querySelector('#df-8a1bd649-6c88-4a00-b2d6-1d7dadc87c6f button.colab-df-convert');\n",
              "        buttonEl.style.display =\n",
              "          google.colab.kernel.accessAllowed ? 'block' : 'none';\n",
              "\n",
              "        async function convertToInteractive(key) {\n",
              "          const element = document.querySelector('#df-8a1bd649-6c88-4a00-b2d6-1d7dadc87c6f');\n",
              "          const dataTable =\n",
              "            await google.colab.kernel.invokeFunction('convertToInteractive',\n",
              "                                                     [key], {});\n",
              "          if (!dataTable) return;\n",
              "\n",
              "          const docLinkHtml = 'Like what you see? Visit the ' +\n",
              "            '<a target=\"_blank\" href=https://colab.research.google.com/notebooks/data_table.ipynb>data table notebook</a>'\n",
              "            + ' to learn more about interactive tables.';\n",
              "          element.innerHTML = '';\n",
              "          dataTable['output_type'] = 'display_data';\n",
              "          await google.colab.output.renderOutput(dataTable, element);\n",
              "          const docLink = document.createElement('div');\n",
              "          docLink.innerHTML = docLinkHtml;\n",
              "          element.appendChild(docLink);\n",
              "        }\n",
              "      </script>\n",
              "    </div>\n",
              "  </div>\n",
              "  "
            ]
          },
          "metadata": {},
          "execution_count": 119
        }
      ]
    },
    {
      "cell_type": "markdown",
      "id": "20c77e70-dd54-4b8c-9e74-957fb9d7fd4a",
      "metadata": {
        "id": "20c77e70-dd54-4b8c-9e74-957fb9d7fd4a"
      },
      "source": [
        "# 제출양식"
      ]
    },
    {
      "cell_type": "code",
      "execution_count": null,
      "id": "086e3aeb-3bc0-4c2f-b162-1f0595f11fa3",
      "metadata": {
        "colab": {
          "base_uri": "https://localhost:8080/",
          "height": 237
        },
        "id": "086e3aeb-3bc0-4c2f-b162-1f0595f11fa3",
        "outputId": "4a56bdec-8792-4500-daaa-f07db6a6336d"
      },
      "outputs": [
        {
          "output_type": "execute_result",
          "data": {
            "text/plain": [
              "                  wl_1018662  wl_1018680  wl_1018683  wl_1019630\n",
              "ymdhm                                                           \n",
              "2022-06-01 00:00           0           0           0           0\n",
              "2022-06-01 00:10           0           0           0           0\n",
              "2022-06-01 00:20           0           0           0           0\n",
              "2022-06-01 00:30           0           0           0           0\n",
              "2022-06-01 00:40           0           0           0           0"
            ],
            "text/html": [
              "\n",
              "  <div id=\"df-4c6edb0c-98b9-4ea9-805a-2b4819721478\">\n",
              "    <div class=\"colab-df-container\">\n",
              "      <div>\n",
              "<style scoped>\n",
              "    .dataframe tbody tr th:only-of-type {\n",
              "        vertical-align: middle;\n",
              "    }\n",
              "\n",
              "    .dataframe tbody tr th {\n",
              "        vertical-align: top;\n",
              "    }\n",
              "\n",
              "    .dataframe thead th {\n",
              "        text-align: right;\n",
              "    }\n",
              "</style>\n",
              "<table border=\"1\" class=\"dataframe\">\n",
              "  <thead>\n",
              "    <tr style=\"text-align: right;\">\n",
              "      <th></th>\n",
              "      <th>wl_1018662</th>\n",
              "      <th>wl_1018680</th>\n",
              "      <th>wl_1018683</th>\n",
              "      <th>wl_1019630</th>\n",
              "    </tr>\n",
              "    <tr>\n",
              "      <th>ymdhm</th>\n",
              "      <th></th>\n",
              "      <th></th>\n",
              "      <th></th>\n",
              "      <th></th>\n",
              "    </tr>\n",
              "  </thead>\n",
              "  <tbody>\n",
              "    <tr>\n",
              "      <th>2022-06-01 00:00</th>\n",
              "      <td>0</td>\n",
              "      <td>0</td>\n",
              "      <td>0</td>\n",
              "      <td>0</td>\n",
              "    </tr>\n",
              "    <tr>\n",
              "      <th>2022-06-01 00:10</th>\n",
              "      <td>0</td>\n",
              "      <td>0</td>\n",
              "      <td>0</td>\n",
              "      <td>0</td>\n",
              "    </tr>\n",
              "    <tr>\n",
              "      <th>2022-06-01 00:20</th>\n",
              "      <td>0</td>\n",
              "      <td>0</td>\n",
              "      <td>0</td>\n",
              "      <td>0</td>\n",
              "    </tr>\n",
              "    <tr>\n",
              "      <th>2022-06-01 00:30</th>\n",
              "      <td>0</td>\n",
              "      <td>0</td>\n",
              "      <td>0</td>\n",
              "      <td>0</td>\n",
              "    </tr>\n",
              "    <tr>\n",
              "      <th>2022-06-01 00:40</th>\n",
              "      <td>0</td>\n",
              "      <td>0</td>\n",
              "      <td>0</td>\n",
              "      <td>0</td>\n",
              "    </tr>\n",
              "  </tbody>\n",
              "</table>\n",
              "</div>\n",
              "      <button class=\"colab-df-convert\" onclick=\"convertToInteractive('df-4c6edb0c-98b9-4ea9-805a-2b4819721478')\"\n",
              "              title=\"Convert this dataframe to an interactive table.\"\n",
              "              style=\"display:none;\">\n",
              "        \n",
              "  <svg xmlns=\"http://www.w3.org/2000/svg\" height=\"24px\"viewBox=\"0 0 24 24\"\n",
              "       width=\"24px\">\n",
              "    <path d=\"M0 0h24v24H0V0z\" fill=\"none\"/>\n",
              "    <path d=\"M18.56 5.44l.94 2.06.94-2.06 2.06-.94-2.06-.94-.94-2.06-.94 2.06-2.06.94zm-11 1L8.5 8.5l.94-2.06 2.06-.94-2.06-.94L8.5 2.5l-.94 2.06-2.06.94zm10 10l.94 2.06.94-2.06 2.06-.94-2.06-.94-.94-2.06-.94 2.06-2.06.94z\"/><path d=\"M17.41 7.96l-1.37-1.37c-.4-.4-.92-.59-1.43-.59-.52 0-1.04.2-1.43.59L10.3 9.45l-7.72 7.72c-.78.78-.78 2.05 0 2.83L4 21.41c.39.39.9.59 1.41.59.51 0 1.02-.2 1.41-.59l7.78-7.78 2.81-2.81c.8-.78.8-2.07 0-2.86zM5.41 20L4 18.59l7.72-7.72 1.47 1.35L5.41 20z\"/>\n",
              "  </svg>\n",
              "      </button>\n",
              "      \n",
              "  <style>\n",
              "    .colab-df-container {\n",
              "      display:flex;\n",
              "      flex-wrap:wrap;\n",
              "      gap: 12px;\n",
              "    }\n",
              "\n",
              "    .colab-df-convert {\n",
              "      background-color: #E8F0FE;\n",
              "      border: none;\n",
              "      border-radius: 50%;\n",
              "      cursor: pointer;\n",
              "      display: none;\n",
              "      fill: #1967D2;\n",
              "      height: 32px;\n",
              "      padding: 0 0 0 0;\n",
              "      width: 32px;\n",
              "    }\n",
              "\n",
              "    .colab-df-convert:hover {\n",
              "      background-color: #E2EBFA;\n",
              "      box-shadow: 0px 1px 2px rgba(60, 64, 67, 0.3), 0px 1px 3px 1px rgba(60, 64, 67, 0.15);\n",
              "      fill: #174EA6;\n",
              "    }\n",
              "\n",
              "    [theme=dark] .colab-df-convert {\n",
              "      background-color: #3B4455;\n",
              "      fill: #D2E3FC;\n",
              "    }\n",
              "\n",
              "    [theme=dark] .colab-df-convert:hover {\n",
              "      background-color: #434B5C;\n",
              "      box-shadow: 0px 1px 3px 1px rgba(0, 0, 0, 0.15);\n",
              "      filter: drop-shadow(0px 1px 2px rgba(0, 0, 0, 0.3));\n",
              "      fill: #FFFFFF;\n",
              "    }\n",
              "  </style>\n",
              "\n",
              "      <script>\n",
              "        const buttonEl =\n",
              "          document.querySelector('#df-4c6edb0c-98b9-4ea9-805a-2b4819721478 button.colab-df-convert');\n",
              "        buttonEl.style.display =\n",
              "          google.colab.kernel.accessAllowed ? 'block' : 'none';\n",
              "\n",
              "        async function convertToInteractive(key) {\n",
              "          const element = document.querySelector('#df-4c6edb0c-98b9-4ea9-805a-2b4819721478');\n",
              "          const dataTable =\n",
              "            await google.colab.kernel.invokeFunction('convertToInteractive',\n",
              "                                                     [key], {});\n",
              "          if (!dataTable) return;\n",
              "\n",
              "          const docLinkHtml = 'Like what you see? Visit the ' +\n",
              "            '<a target=\"_blank\" href=https://colab.research.google.com/notebooks/data_table.ipynb>data table notebook</a>'\n",
              "            + ' to learn more about interactive tables.';\n",
              "          element.innerHTML = '';\n",
              "          dataTable['output_type'] = 'display_data';\n",
              "          await google.colab.output.renderOutput(dataTable, element);\n",
              "          const docLink = document.createElement('div');\n",
              "          docLink.innerHTML = docLinkHtml;\n",
              "          element.appendChild(docLink);\n",
              "        }\n",
              "      </script>\n",
              "    </div>\n",
              "  </div>\n",
              "  "
            ]
          },
          "metadata": {},
          "execution_count": 95
        }
      ],
      "source": [
        "sub_df = pd.read_csv('/content/drive/Shareddrives/팔당댐/competition_data/sample_submission.csv',index_col=0)\n",
        "sub_df.head()"
      ]
    },
    {
      "cell_type": "code",
      "source": [
        "pred.index=sub_df.index\n",
        "pred"
      ],
      "metadata": {
        "id": "8XZ1By6M0HrA",
        "colab": {
          "base_uri": "https://localhost:8080/",
          "height": 455
        },
        "outputId": "9fed534b-62b7-4858-f74c-20792db8e6d8"
      },
      "id": "8XZ1By6M0HrA",
      "execution_count": null,
      "outputs": [
        {
          "output_type": "execute_result",
          "data": {
            "text/plain": [
              "                  wl_1018662  wl_1018680  wl_1018683  wl_1019630\n",
              "ymdhm                                                           \n",
              "2022-06-01 00:00  279.157532  272.011139  269.823059  270.226227\n",
              "2022-06-01 00:10  279.565582  273.215515  271.710968  267.769928\n",
              "2022-06-01 00:20  281.238220  273.393280  273.105927  265.863983\n",
              "2022-06-01 00:30  284.879517  276.735809  273.035950  262.704102\n",
              "2022-06-01 00:40  284.745453  274.013306  271.487061  259.490906\n",
              "...                      ...         ...         ...         ...\n",
              "2022-07-18 23:10  288.386688  289.272308  293.895172  307.265289\n",
              "2022-07-18 23:20  291.982849  295.877289  299.063721  309.921234\n",
              "2022-07-18 23:30  292.831696  296.928497  299.367249  309.514374\n",
              "2022-07-18 23:40  307.209900  305.180145  310.759735  311.568146\n",
              "2022-07-18 23:50  318.477325  313.005157  314.539490  311.968109\n",
              "\n",
              "[6912 rows x 4 columns]"
            ],
            "text/html": [
              "\n",
              "  <div id=\"df-8f1ce497-98d6-4a57-ab72-6e2a39e3c0c5\">\n",
              "    <div class=\"colab-df-container\">\n",
              "      <div>\n",
              "<style scoped>\n",
              "    .dataframe tbody tr th:only-of-type {\n",
              "        vertical-align: middle;\n",
              "    }\n",
              "\n",
              "    .dataframe tbody tr th {\n",
              "        vertical-align: top;\n",
              "    }\n",
              "\n",
              "    .dataframe thead th {\n",
              "        text-align: right;\n",
              "    }\n",
              "</style>\n",
              "<table border=\"1\" class=\"dataframe\">\n",
              "  <thead>\n",
              "    <tr style=\"text-align: right;\">\n",
              "      <th></th>\n",
              "      <th>wl_1018662</th>\n",
              "      <th>wl_1018680</th>\n",
              "      <th>wl_1018683</th>\n",
              "      <th>wl_1019630</th>\n",
              "    </tr>\n",
              "    <tr>\n",
              "      <th>ymdhm</th>\n",
              "      <th></th>\n",
              "      <th></th>\n",
              "      <th></th>\n",
              "      <th></th>\n",
              "    </tr>\n",
              "  </thead>\n",
              "  <tbody>\n",
              "    <tr>\n",
              "      <th>2022-06-01 00:00</th>\n",
              "      <td>279.157532</td>\n",
              "      <td>272.011139</td>\n",
              "      <td>269.823059</td>\n",
              "      <td>270.226227</td>\n",
              "    </tr>\n",
              "    <tr>\n",
              "      <th>2022-06-01 00:10</th>\n",
              "      <td>279.565582</td>\n",
              "      <td>273.215515</td>\n",
              "      <td>271.710968</td>\n",
              "      <td>267.769928</td>\n",
              "    </tr>\n",
              "    <tr>\n",
              "      <th>2022-06-01 00:20</th>\n",
              "      <td>281.238220</td>\n",
              "      <td>273.393280</td>\n",
              "      <td>273.105927</td>\n",
              "      <td>265.863983</td>\n",
              "    </tr>\n",
              "    <tr>\n",
              "      <th>2022-06-01 00:30</th>\n",
              "      <td>284.879517</td>\n",
              "      <td>276.735809</td>\n",
              "      <td>273.035950</td>\n",
              "      <td>262.704102</td>\n",
              "    </tr>\n",
              "    <tr>\n",
              "      <th>2022-06-01 00:40</th>\n",
              "      <td>284.745453</td>\n",
              "      <td>274.013306</td>\n",
              "      <td>271.487061</td>\n",
              "      <td>259.490906</td>\n",
              "    </tr>\n",
              "    <tr>\n",
              "      <th>...</th>\n",
              "      <td>...</td>\n",
              "      <td>...</td>\n",
              "      <td>...</td>\n",
              "      <td>...</td>\n",
              "    </tr>\n",
              "    <tr>\n",
              "      <th>2022-07-18 23:10</th>\n",
              "      <td>288.386688</td>\n",
              "      <td>289.272308</td>\n",
              "      <td>293.895172</td>\n",
              "      <td>307.265289</td>\n",
              "    </tr>\n",
              "    <tr>\n",
              "      <th>2022-07-18 23:20</th>\n",
              "      <td>291.982849</td>\n",
              "      <td>295.877289</td>\n",
              "      <td>299.063721</td>\n",
              "      <td>309.921234</td>\n",
              "    </tr>\n",
              "    <tr>\n",
              "      <th>2022-07-18 23:30</th>\n",
              "      <td>292.831696</td>\n",
              "      <td>296.928497</td>\n",
              "      <td>299.367249</td>\n",
              "      <td>309.514374</td>\n",
              "    </tr>\n",
              "    <tr>\n",
              "      <th>2022-07-18 23:40</th>\n",
              "      <td>307.209900</td>\n",
              "      <td>305.180145</td>\n",
              "      <td>310.759735</td>\n",
              "      <td>311.568146</td>\n",
              "    </tr>\n",
              "    <tr>\n",
              "      <th>2022-07-18 23:50</th>\n",
              "      <td>318.477325</td>\n",
              "      <td>313.005157</td>\n",
              "      <td>314.539490</td>\n",
              "      <td>311.968109</td>\n",
              "    </tr>\n",
              "  </tbody>\n",
              "</table>\n",
              "<p>6912 rows × 4 columns</p>\n",
              "</div>\n",
              "      <button class=\"colab-df-convert\" onclick=\"convertToInteractive('df-8f1ce497-98d6-4a57-ab72-6e2a39e3c0c5')\"\n",
              "              title=\"Convert this dataframe to an interactive table.\"\n",
              "              style=\"display:none;\">\n",
              "        \n",
              "  <svg xmlns=\"http://www.w3.org/2000/svg\" height=\"24px\"viewBox=\"0 0 24 24\"\n",
              "       width=\"24px\">\n",
              "    <path d=\"M0 0h24v24H0V0z\" fill=\"none\"/>\n",
              "    <path d=\"M18.56 5.44l.94 2.06.94-2.06 2.06-.94-2.06-.94-.94-2.06-.94 2.06-2.06.94zm-11 1L8.5 8.5l.94-2.06 2.06-.94-2.06-.94L8.5 2.5l-.94 2.06-2.06.94zm10 10l.94 2.06.94-2.06 2.06-.94-2.06-.94-.94-2.06-.94 2.06-2.06.94z\"/><path d=\"M17.41 7.96l-1.37-1.37c-.4-.4-.92-.59-1.43-.59-.52 0-1.04.2-1.43.59L10.3 9.45l-7.72 7.72c-.78.78-.78 2.05 0 2.83L4 21.41c.39.39.9.59 1.41.59.51 0 1.02-.2 1.41-.59l7.78-7.78 2.81-2.81c.8-.78.8-2.07 0-2.86zM5.41 20L4 18.59l7.72-7.72 1.47 1.35L5.41 20z\"/>\n",
              "  </svg>\n",
              "      </button>\n",
              "      \n",
              "  <style>\n",
              "    .colab-df-container {\n",
              "      display:flex;\n",
              "      flex-wrap:wrap;\n",
              "      gap: 12px;\n",
              "    }\n",
              "\n",
              "    .colab-df-convert {\n",
              "      background-color: #E8F0FE;\n",
              "      border: none;\n",
              "      border-radius: 50%;\n",
              "      cursor: pointer;\n",
              "      display: none;\n",
              "      fill: #1967D2;\n",
              "      height: 32px;\n",
              "      padding: 0 0 0 0;\n",
              "      width: 32px;\n",
              "    }\n",
              "\n",
              "    .colab-df-convert:hover {\n",
              "      background-color: #E2EBFA;\n",
              "      box-shadow: 0px 1px 2px rgba(60, 64, 67, 0.3), 0px 1px 3px 1px rgba(60, 64, 67, 0.15);\n",
              "      fill: #174EA6;\n",
              "    }\n",
              "\n",
              "    [theme=dark] .colab-df-convert {\n",
              "      background-color: #3B4455;\n",
              "      fill: #D2E3FC;\n",
              "    }\n",
              "\n",
              "    [theme=dark] .colab-df-convert:hover {\n",
              "      background-color: #434B5C;\n",
              "      box-shadow: 0px 1px 3px 1px rgba(0, 0, 0, 0.15);\n",
              "      filter: drop-shadow(0px 1px 2px rgba(0, 0, 0, 0.3));\n",
              "      fill: #FFFFFF;\n",
              "    }\n",
              "  </style>\n",
              "\n",
              "      <script>\n",
              "        const buttonEl =\n",
              "          document.querySelector('#df-8f1ce497-98d6-4a57-ab72-6e2a39e3c0c5 button.colab-df-convert');\n",
              "        buttonEl.style.display =\n",
              "          google.colab.kernel.accessAllowed ? 'block' : 'none';\n",
              "\n",
              "        async function convertToInteractive(key) {\n",
              "          const element = document.querySelector('#df-8f1ce497-98d6-4a57-ab72-6e2a39e3c0c5');\n",
              "          const dataTable =\n",
              "            await google.colab.kernel.invokeFunction('convertToInteractive',\n",
              "                                                     [key], {});\n",
              "          if (!dataTable) return;\n",
              "\n",
              "          const docLinkHtml = 'Like what you see? Visit the ' +\n",
              "            '<a target=\"_blank\" href=https://colab.research.google.com/notebooks/data_table.ipynb>data table notebook</a>'\n",
              "            + ' to learn more about interactive tables.';\n",
              "          element.innerHTML = '';\n",
              "          dataTable['output_type'] = 'display_data';\n",
              "          await google.colab.output.renderOutput(dataTable, element);\n",
              "          const docLink = document.createElement('div');\n",
              "          docLink.innerHTML = docLinkHtml;\n",
              "          element.appendChild(docLink);\n",
              "        }\n",
              "      </script>\n",
              "    </div>\n",
              "  </div>\n",
              "  "
            ]
          },
          "metadata": {},
          "execution_count": 120
        }
      ]
    },
    {
      "cell_type": "code",
      "source": [],
      "metadata": {
        "id": "z1fCfzymKJ9e"
      },
      "id": "z1fCfzymKJ9e",
      "execution_count": null,
      "outputs": []
    },
    {
      "cell_type": "markdown",
      "source": [
        "## 실제 vs 예측 시각화"
      ],
      "metadata": {
        "id": "BuWWKEbcIXGi"
      },
      "id": "BuWWKEbcIXGi"
    },
    {
      "cell_type": "code",
      "source": [
        "import matplotlib.pyplot as plt\n",
        "\n",
        "df_test_target=df.loc['2022-06-01 00:00':,['wl_1018662', 'wl_1018680', 'wl_1018683', 'wl_1019630']]\n",
        "df_test_target.index=pred.index\n",
        "pred_y=pd.DataFrame.copy(pred)\n",
        "pred_y.columns=['wl_1018662_forecast', 'wl_1018680_forecast', 'wl_1018683_forecast', 'wl_1019630_forecast']\n",
        "fig, axes = plt.subplots(nrows=4, ncols=1, figsize=(20,15))\n",
        "\n",
        "for col, ax in zip(['wl_1018662', 'wl_1018680', 'wl_1018683', 'wl_1019630'], axes):\n",
        "    pred_y.plot(y=[col+'_forecast'], ax=ax, alpha=0.5, color='r', legend=True).autoscale(axis='x',tight=True)\n",
        "    df_test_target[col].plot(legend=True, ax=ax)\n",
        "    ax.set_title(col + \": Forecast vs Actuals\")\n",
        "plt.tight_layout()\n",
        "plt.show()"
      ],
      "metadata": {
        "colab": {
          "base_uri": "https://localhost:8080/",
          "height": 1000
        },
        "id": "KkAJZHZ0IZ-1",
        "outputId": "e4815a57-16bb-447f-f1d7-51a4507e30d5"
      },
      "execution_count": null,
      "outputs": [
        {
          "output_type": "display_data",
          "data": {
            "text/plain": [
              "<Figure size 1440x1080 with 4 Axes>"
            ],
            "image/png": "[encoded data removed]"
          },
          "metadata": {
            "needs_background": "light"
          }
        }
      ],
      "id": "KkAJZHZ0IZ-1"
    },
    {
      "cell_type": "code",
      "source": [
        "pred.to_csv('/content/drive/Shareddrives/팔당댐/제출/XGBoost(2).csv')"
      ],
      "metadata": {
        "id": "ZaemG8780HpW"
      },
      "id": "ZaemG8780HpW",
      "execution_count": null,
      "outputs": []
    },
    {
      "cell_type": "markdown",
      "source": [
        "# 모델 저장\n",
        "- 모델 새롭게 돌려서 정확도 더 높은 새로운 예측값 얻었으면 모델 저장하기 (낮으면 저장할 필요 없음)"
      ],
      "metadata": {
        "id": "-2nYNHjSNHqY"
      },
      "id": "-2nYNHjSNHqY"
    },
    {
      "cell_type": "code",
      "source": [
        "# 파일명\n",
        "# filename1 = 'xgb_model_wl_1018662_(2).model'\n",
        "# filename2 = 'xgb_model_wl_1018680_(2).model'\n",
        "# filename3 = 'xgb_model_wl_1018683_(2).model'\n",
        "# filename4 = 'xgb_model_wl_1019630_(2).model'\n",
        "\n",
        "# 모델 저장\n",
        "# xgb_model1.save_model('/content/drive/Shareddrives/팔당댐/model/'+filename1)\n",
        "# xgb_model2.save_model('/content/drive/Shareddrives/팔당댐/model/'+filename2)\n",
        "# xgb_model3.save_model('/content/drive/Shareddrives/팔당댐/model/'+filename3)\n",
        "# xgb_model4.save_model('/content/drive/Shareddrives/팔당댐/model/'+filename4)"
      ],
      "metadata": {
        "id": "sZHfjdp40Hob"
      },
      "id": "sZHfjdp40Hob",
      "execution_count": null,
      "outputs": []
    },
    {
      "cell_type": "code",
      "source": [
        "# (참고) 모델 불러오기\n",
        "# new_xgb_model = xgb.XGBRegressor() # 모델 초기화\n",
        "# new_xgb_model.load_model(filename1) # 모델 불러오기"
      ],
      "metadata": {
        "id": "Dxd9tsNK0Hnj"
      },
      "id": "Dxd9tsNK0Hnj",
      "execution_count": null,
      "outputs": []
    },
    {
      "cell_type": "code",
      "source": [],
      "metadata": {
        "id": "1C7EJCLf0HS8"
      },
      "id": "1C7EJCLf0HS8",
      "execution_count": null,
      "outputs": []
    }
  ],
  "metadata": {
    "kernelspec": {
      "display_name": "Python 3",
      "language": "python",
      "name": "python3"
    },
    "language_info": {
      "codemirror_mode": {
        "name": "ipython",
        "version": 3
      },
      "file_extension": ".py",
      "mimetype": "text/x-python",
      "name": "python",
      "nbconvert_exporter": "python",
      "pygments_lexer": "ipython3",
      "version": "3.8.5"
    },
    "toc-showcode": false,
    "toc-showtags": false,
    "colab": {
      "provenance": [],
      "collapsed_sections": [
        "XJLE-l7ZJckF"
      ],
      "toc_visible": true
    },
    "gpuClass": "standard"
  },
  "nbformat": 4,
  "nbformat_minor": 5
}