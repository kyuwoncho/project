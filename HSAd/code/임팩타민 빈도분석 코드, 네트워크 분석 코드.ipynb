{
 "cells": [
  {
   "cell_type": "code",
   "execution_count": 1,
   "metadata": {
    "tags": []
   },
   "outputs": [],
   "source": [
    "import re\n",
    "import networkx as nx\n",
    "\n",
    "NUM_WORDS = 10"
   ]
  },
  {
   "cell_type": "code",
   "execution_count": 2,
   "metadata": {
    "tags": []
   },
   "outputs": [],
   "source": [
    "def get_words(counter_results):\n",
    "    words = []\n",
    "    for word, fre in counter_results:\n",
    "        words.append(word)\n",
    "    return words"
   ]
  },
  {
   "cell_type": "code",
   "execution_count": 3,
   "metadata": {
    "tags": []
   },
   "outputs": [],
   "source": [
    "def get_sentences(content):\n",
    "    text1 = re.sub(r'[^\\.\\?\\!\\s\\w\\d]', ' ', content)\n",
    "    text1 = re.sub(r'([\\.\\?\\!])',r'\\1 ', text1)\n",
    "    text1 = text1.replace('\\n','').replace('\\t','').replace('\\r','')\n",
    "    sentences = re.split(r'[\\.\\?\\!]\\s+', text1)\n",
    "    sentences = [komoran.nouns(sentence) for sentence in sentences if len(sentence)>0]\n",
    "    return sentences"
   ]
  },
  {
   "cell_type": "code",
   "execution_count": 4,
   "metadata": {},
   "outputs": [],
   "source": [
    "channel_lst =  ['인스타그램', '커뮤니티', '블로그', '뉴스', '트위터']\n",
    "for i in channel_lst:\n",
    "    with open(f'/home/hsung/text_mining/Impactamin_final_text_data/임팩타민_{i}.txt', 'r', encoding='utf8') as p:\n",
    "        globals()['df_{}'.format(i)] = p.read()\n",
    " "
   ]
  },
  {
   "cell_type": "code",
   "execution_count": 5,
   "metadata": {},
   "outputs": [],
   "source": [
    "#df_인스타그램"
   ]
  },
  {
   "cell_type": "code",
   "execution_count": 6,
   "metadata": {
    "tags": []
   },
   "outputs": [],
   "source": [
    "stopwords = ['가탄', '태전동', '칠곡','장영실', '에디슨','양제', '보드게임','하하호호', '지금','맥스', '대웅제약', '이랑', '민이', '거', '메타', '프리미엄',\n",
    "             '실버','로나', '골드','우루사','오늘', '그램', '우리', '차이', '그램',  '하나', '일동제약', '김혜윤', '강동호',\n",
    "             '박카스', '이진혁',' 공진단', '세라', '진짜','주년''문재인', '대통령','시우민', '우루사', '비콤','마멜공쥬',\n",
    "            '현미', '곤약', '밥', '고구마', '치즈', '롤', '스테이크', '물', '물', '컵','띵가띵', '놀고잇엇어','길용우', '배우', '까스', '명수',\n",
    "            '자가', '키트', '코로나', '와인', '모주', '코스피', '종목', '일동', '전속계약', '오윤수', '씨앤코', '전속계약', \n",
    "             '김규리', '최', '희서', '한솥', '밥', '배우', '조우진', '포벨', '종근당', '임팩타민', '아시', '비타민']"
   ]
  },
  {
   "cell_type": "code",
   "execution_count": 7,
   "metadata": {
    "tags": []
   },
   "outputs": [],
   "source": [
    "from kornounextractor.noun_extractor import extract"
   ]
  },
  {
   "cell_type": "code",
   "execution_count": 8,
   "metadata": {
    "tags": []
   },
   "outputs": [],
   "source": [
    "# with open('dic.txt', 'w', encoding='utf8') as f:\n",
    "#     for word in sorted(extract(content, freq=2)):\n",
    "#         f.write(word+'\\tNNG\\n')"
   ]
  },
  {
   "cell_type": "code",
   "execution_count": 9,
   "metadata": {
    "tags": []
   },
   "outputs": [],
   "source": [
    "import konlpy.tag\n",
    "#komoran = konlpy.tag.Komoran(userdic='dic.txt')\n",
    "\n",
    "komoran = konlpy.tag.Komoran()"
   ]
  },
  {
   "cell_type": "code",
   "execution_count": 10,
   "metadata": {},
   "outputs": [],
   "source": [
    "noun_instagram = komoran.nouns(df_인스타그램)\n",
    "noun_community = komoran.nouns(df_커뮤니티)\n",
    "noun_blog = komoran.nouns(df_블로그)\n",
    "noun_news = komoran.nouns(df_뉴스)\n",
    "noun_twitter = komoran.nouns(df_트위터)"
   ]
  },
  {
   "cell_type": "code",
   "execution_count": 11,
   "metadata": {},
   "outputs": [],
   "source": [
    "# print(noun_instagram)\n",
    "# print(noun_community)\n",
    "# print(noun_blog)"
   ]
  },
  {
   "cell_type": "code",
   "execution_count": 12,
   "metadata": {},
   "outputs": [],
   "source": [
    "# final_nouns_blog= noun_blog.copy()\n",
    "# unique_nouns_blog= set(noun_blog)\n",
    "# for word in unique_nouns_blog:\n",
    "#     if len(word) == 1: # 1음절 단어 제거하기\n",
    "#         while word in final_nouns_blog:\n",
    "#             final_nouns_blog.remove(word)\n",
    "#     if word in stopwords:\n",
    "#         while word in final_nouns_blog:\n",
    "#             final_nouns_blog.remove(word)"
   ]
  },
  {
   "cell_type": "code",
   "execution_count": 13,
   "metadata": {
    "tags": []
   },
   "outputs": [],
   "source": [
    "noun_lst = [noun_instagram, noun_community, noun_blog, noun_news, noun_twitter]\n",
    "for t in noun_lst:\n",
    "    globals()['final_{}'.format(t)] = t.copy()\n",
    "    globals()['unique_{}'.format(t)] = set(t)\n",
    "    \n",
    "\n",
    "\n",
    "            \n",
    "#1 인스타그램\n",
    "final_nouns_instagram = noun_instagram.copy()\n",
    "unique_nouns_instagram = set(noun_instagram)\n",
    "for word in unique_nouns_instagram:\n",
    "    if len(word) == 1: # 1음절 단어 제거하기\n",
    "        while word in final_nouns_instagram:\n",
    "            final_nouns_instagram.remove(word)\n",
    "    if word in stopwords:\n",
    "        while word in final_nouns_instagram:\n",
    "            final_nouns_instagram.remove(word)\n",
    "            \n",
    "# #2 커뮤니티\n",
    "final_nouns_community = noun_community.copy()\n",
    "unique_nouns_community = set(noun_community)\n",
    "for word in unique_nouns_community:\n",
    "    if len(word) == 1: # 1음절 단어 제거하기\n",
    "        while word in final_nouns_community:\n",
    "            final_nouns_community.remove(word)\n",
    "    if word in stopwords:\n",
    "        while word in final_nouns_community:\n",
    "            final_nouns_community.remove(word)\n",
    "            \n",
    "# #3 블로그\n",
    "final_nouns_blog= noun_blog.copy()\n",
    "unique_nouns_blog= set(noun_blog)\n",
    "for word in unique_nouns_blog:\n",
    "    if len(word) == 1: # 1음절 단어 제거하기\n",
    "        while word in final_nouns_blog:\n",
    "            final_nouns_blog.remove(word)\n",
    "    if word in stopwords:\n",
    "        while word in final_nouns_blog:\n",
    "            final_nouns_blog.remove(word)\n",
    "\n",
    "#4 뉴스\n",
    "final_noun_news= noun_news.copy()\n",
    "unique_noun_news= set(noun_news)\n",
    "for word in unique_noun_news:\n",
    "    if len(word) == 1: # 1음절 단어 제거하기\n",
    "        while word in final_noun_news:\n",
    "            final_noun_news.remove(word)\n",
    "    if word in stopwords:\n",
    "        while word in final_noun_news:\n",
    "            final_noun_news.remove(word)\n",
    "\n",
    "#5 트위터\n",
    "final_noun_twitter= noun_twitter.copy()\n",
    "unique_noun_twitter= set(noun_news)\n",
    "for word in unique_noun_twitter:\n",
    "    if len(word) == 1: # 1음절 단어 제거하기\n",
    "        while word in final_noun_twitter:\n",
    "            final_noun_twitter.remove(word)\n",
    "    if word in stopwords:\n",
    "        while word in final_noun_twitter:\n",
    "            final_noun_twitter.remove(word)"
   ]
  },
  {
   "cell_type": "code",
   "execution_count": 14,
   "metadata": {},
   "outputs": [],
   "source": [
    "#print(final_noun)"
   ]
  },
  {
   "cell_type": "code",
   "execution_count": 15,
   "metadata": {
    "tags": []
   },
   "outputs": [],
   "source": [
    "from collections import Counter\n",
    "\n",
    "insta = Counter(final_nouns_instagram)\n",
    "community = Counter(final_nouns_community)\n",
    "blog = Counter(final_nouns_blog)\n",
    "news = Counter(final_noun_news)\n",
    "twitter = Counter(final_noun_twitter)"
   ]
  },
  {
   "cell_type": "code",
   "execution_count": 16,
   "metadata": {},
   "outputs": [
    {
     "data": {
      "text/plain": [
       "[('피로', 397),\n",
       " ('영양제', 384),\n",
       " ('건강', 380),\n",
       " ('약국', 279),\n",
       " ('피곤', 267),\n",
       " ('선물', 262),\n",
       " ('요즘', 228),\n",
       " ('아침', 188),\n",
       " ('체력', 177),\n",
       " ('나이', 154)]"
      ]
     },
     "execution_count": 16,
     "metadata": {},
     "output_type": "execute_result"
    }
   ],
   "source": [
    "insta.most_common(10)"
   ]
  },
  {
   "cell_type": "code",
   "execution_count": 17,
   "metadata": {},
   "outputs": [
    {
     "data": {
      "text/plain": [
       "[('영양제', 1558),\n",
       " ('약국', 1273),\n",
       " ('추천', 739),\n",
       " ('가격', 383),\n",
       " ('부탁', 265),\n",
       " ('종합', 245),\n",
       " ('남편', 213),\n",
       " ('남대문', 206),\n",
       " ('피로', 191),\n",
       " ('효과', 176)]"
      ]
     },
     "execution_count": 17,
     "metadata": {},
     "output_type": "execute_result"
    }
   ],
   "source": [
    "community.most_common(10)"
   ]
  },
  {
   "cell_type": "code",
   "execution_count": 18,
   "metadata": {},
   "outputs": [
    {
     "data": {
      "text/plain": [
       "[('약국', 739),\n",
       " ('영양제', 508),\n",
       " ('피로', 214),\n",
       " ('가격', 213),\n",
       " ('후기', 210),\n",
       " ('추천', 206),\n",
       " ('종합', 175),\n",
       " ('성분', 160),\n",
       " ('함량', 143),\n",
       " ('일상', 125)]"
      ]
     },
     "execution_count": 18,
     "metadata": {},
     "output_type": "execute_result"
    }
   ],
   "source": [
    "blog.most_common(10)"
   ]
  },
  {
   "cell_type": "code",
   "execution_count": 19,
   "metadata": {},
   "outputs": [
    {
     "data": {
      "text/plain": [
       "[('분기', 106),\n",
       " ('영업', 93),\n",
       " ('매출', 78),\n",
       " ('이익', 49),\n",
       " ('전년', 39),\n",
       " ('피로', 25),\n",
       " ('돌파', 21),\n",
       " ('증가', 19),\n",
       " ('아로', 18),\n",
       " ('대비', 18)]"
      ]
     },
     "execution_count": 19,
     "metadata": {},
     "output_type": "execute_result"
    }
   ],
   "source": [
    "news.most_common(10)"
   ]
  },
  {
   "cell_type": "code",
   "execution_count": 20,
   "metadata": {},
   "outputs": [
    {
     "data": {
      "text/plain": [
       "[('거', 280),\n",
       " ('영양제', 211),\n",
       " ('민이', 193),\n",
       " ('효과', 175),\n",
       " ('추천', 143),\n",
       " ('피곤', 120),\n",
       " ('오늘', 117),\n",
       " ('이랑', 111),\n",
       " ('종합', 110),\n",
       " ('약국', 108)]"
      ]
     },
     "execution_count": 20,
     "metadata": {},
     "output_type": "execute_result"
    }
   ],
   "source": [
    "twitter.most_common(10)"
   ]
  },
  {
   "cell_type": "code",
   "execution_count": 21,
   "metadata": {},
   "outputs": [],
   "source": [
    "insta_selected_words = get_words(insta.most_common(NUM_WORDS))\n",
    "community_selected_words = get_words(community.most_common(NUM_WORDS))\n",
    "blog_selected_words = get_words(blog.most_common(NUM_WORDS))\n",
    "news_selected_words = get_words(news.most_common(NUM_WORDS))\n",
    "twitter_selected_words = get_words(twitter.most_common(NUM_WORDS))\n"
   ]
  },
  {
   "cell_type": "code",
   "execution_count": 22,
   "metadata": {
    "tags": []
   },
   "outputs": [
    {
     "data": {
      "text/plain": [
       "['피로', '영양제', '건강', '약국', '피곤', '선물', '요즘', '아침', '체력', '나이']"
      ]
     },
     "execution_count": 22,
     "metadata": {},
     "output_type": "execute_result"
    }
   ],
   "source": [
    "insta_selected_words\n"
   ]
  },
  {
   "cell_type": "code",
   "execution_count": 23,
   "metadata": {},
   "outputs": [
    {
     "data": {
      "text/plain": [
       "['영양제', '약국', '추천', '가격', '부탁', '종합', '남편', '남대문', '피로', '효과']"
      ]
     },
     "execution_count": 23,
     "metadata": {},
     "output_type": "execute_result"
    }
   ],
   "source": [
    "community_selected_words"
   ]
  },
  {
   "cell_type": "code",
   "execution_count": 24,
   "metadata": {},
   "outputs": [
    {
     "data": {
      "text/plain": [
       "['약국', '영양제', '피로', '가격', '후기', '추천', '종합', '성분', '함량', '일상']"
      ]
     },
     "execution_count": 24,
     "metadata": {},
     "output_type": "execute_result"
    }
   ],
   "source": [
    "blog_selected_words"
   ]
  },
  {
   "cell_type": "code",
   "execution_count": 25,
   "metadata": {},
   "outputs": [
    {
     "data": {
      "text/plain": [
       "['분기', '영업', '매출', '이익', '전년', '피로', '돌파', '증가', '아로', '대비']"
      ]
     },
     "execution_count": 25,
     "metadata": {},
     "output_type": "execute_result"
    }
   ],
   "source": [
    "news_selected_words"
   ]
  },
  {
   "cell_type": "code",
   "execution_count": 26,
   "metadata": {},
   "outputs": [
    {
     "data": {
      "text/plain": [
       "['거', '영양제', '민이', '효과', '추천', '피곤', '오늘', '이랑', '종합', '약국']"
      ]
     },
     "execution_count": 26,
     "metadata": {},
     "output_type": "execute_result"
    }
   ],
   "source": [
    "twitter_selected_words"
   ]
  },
  {
   "cell_type": "code",
   "execution_count": 27,
   "metadata": {
    "tags": []
   },
   "outputs": [],
   "source": [
    "#selected_words = ['교황', '한반도', '북한', '영국', '독일'] # You can selected a list of words based on other criterion\n",
    "# selected_words"
   ]
  },
  {
   "cell_type": "code",
   "execution_count": 28,
   "metadata": {
    "tags": []
   },
   "outputs": [],
   "source": [
    "from Kr_sna import do_sna\n",
    "\n",
    "\n",
    "insta_sentences = get_sentences(df_인스타그램)\n",
    "community_sentences = get_sentences(df_커뮤니티)"
   ]
  },
  {
   "cell_type": "code",
   "execution_count": 29,
   "metadata": {
    "tags": []
   },
   "outputs": [],
   "source": [
    "blog_sentences = get_sentences(df_블로그)"
   ]
  },
  {
   "cell_type": "code",
   "execution_count": 30,
   "metadata": {
    "tags": []
   },
   "outputs": [],
   "source": [
    "news_sentences = get_sentences(df_뉴스)"
   ]
  },
  {
   "cell_type": "code",
   "execution_count": 31,
   "metadata": {
    "tags": []
   },
   "outputs": [],
   "source": [
    "twitter_sentences = get_sentences(df_트위터)"
   ]
  },
  {
   "cell_type": "code",
   "execution_count": 32,
   "metadata": {
    "tags": []
   },
   "outputs": [],
   "source": [
    "#sentences = get_sentences(content)\n",
    "insta_final = do_sna(insta_sentences, insta_selected_words)\n",
    "community_final = do_sna(community_sentences, community_selected_words)\n",
    "blog_final = do_sna(blog_sentences, blog_selected_words)\n",
    "news_final = do_sna(news_sentences, news_selected_words)\n",
    "twitter_final = do_sna(twitter_sentences, twitter_selected_words)"
   ]
  },
  {
   "cell_type": "code",
   "execution_count": 33,
   "metadata": {},
   "outputs": [
    {
     "data": {
      "text/plain": [
       "NodeView(('피로', '영양제', '건강', '약국', '피곤', '선물', '요즘', '아침', '체력', '나이'))"
      ]
     },
     "execution_count": 33,
     "metadata": {},
     "output_type": "execute_result"
    }
   ],
   "source": [
    "insta_final.nodes()"
   ]
  },
  {
   "cell_type": "code",
   "execution_count": 34,
   "metadata": {},
   "outputs": [
    {
     "data": {
      "text/plain": [
       "NodeView(('영양제', '약국', '추천', '가격', '부탁', '종합', '남편', '남대문', '피로', '효과'))"
      ]
     },
     "execution_count": 34,
     "metadata": {},
     "output_type": "execute_result"
    }
   ],
   "source": [
    "community_final.nodes()"
   ]
  },
  {
   "cell_type": "code",
   "execution_count": 35,
   "metadata": {},
   "outputs": [
    {
     "data": {
      "text/plain": [
       "NodeView(('약국', '영양제', '피로', '가격', '후기', '추천', '종합', '성분', '함량', '일상'))"
      ]
     },
     "execution_count": 35,
     "metadata": {},
     "output_type": "execute_result"
    }
   ],
   "source": [
    "blog_final.nodes()"
   ]
  },
  {
   "cell_type": "code",
   "execution_count": 36,
   "metadata": {},
   "outputs": [
    {
     "data": {
      "text/plain": [
       "NodeView(('분기', '영업', '매출', '이익', '전년', '피로', '돌파', '증가', '아로', '대비'))"
      ]
     },
     "execution_count": 36,
     "metadata": {},
     "output_type": "execute_result"
    }
   ],
   "source": [
    "news_final.nodes()"
   ]
  },
  {
   "cell_type": "code",
   "execution_count": 37,
   "metadata": {},
   "outputs": [
    {
     "data": {
      "text/plain": [
       "NodeView(('거', '영양제', '민이', '효과', '추천', '피곤', '오늘', '이랑', '종합', '약국'))"
      ]
     },
     "execution_count": 37,
     "metadata": {},
     "output_type": "execute_result"
    }
   ],
   "source": [
    "twitter_final.nodes()"
   ]
  },
  {
   "cell_type": "code",
   "execution_count": 38,
   "metadata": {},
   "outputs": [],
   "source": [
    "#g.nodes()"
   ]
  },
  {
   "cell_type": "code",
   "execution_count": 39,
   "metadata": {},
   "outputs": [
    {
     "data": {
      "text/plain": [
       "AtlasView({'건강': {'weight': 37}, '영양제': {'weight': 41}, '피곤': {'weight': 23}, '선물': {'weight': 21}, '체력': {'weight': 31}, '나이': {'weight': 13}, '아침': {'weight': 8}, '요즘': {'weight': 18}, '약국': {'weight': 21}})"
      ]
     },
     "execution_count": 39,
     "metadata": {},
     "output_type": "execute_result"
    }
   ],
   "source": [
    "insta_final['피로']"
   ]
  },
  {
   "cell_type": "code",
   "execution_count": 40,
   "metadata": {},
   "outputs": [
    {
     "data": {
      "text/plain": [
       "AtlasView({'추천': {'weight': 394}, '남편': {'weight': 119}, '약국': {'weight': 316}, '남대문': {'weight': 56}, '부탁': {'weight': 145}, '효과': {'weight': 51}, '종합': {'weight': 91}, '피로': {'weight': 74}, '가격': {'weight': 114}})"
      ]
     },
     "execution_count": 40,
     "metadata": {},
     "output_type": "execute_result"
    }
   ],
   "source": [
    "community_final['영양제']"
   ]
  },
  {
   "cell_type": "code",
   "execution_count": 41,
   "metadata": {},
   "outputs": [
    {
     "data": {
      "text/plain": [
       "AtlasView({'추천': {'weight': 91}, '영양제': {'weight': 167}, '가격': {'weight': 91}, '후기': {'weight': 87}, '종합': {'weight': 62}, '함량': {'weight': 67}, '피로': {'weight': 79}, '성분': {'weight': 49}, '일상': {'weight': 48}})"
      ]
     },
     "execution_count": 41,
     "metadata": {},
     "output_type": "execute_result"
    }
   ],
   "source": [
    "blog_final['약국']"
   ]
  },
  {
   "cell_type": "code",
   "execution_count": 42,
   "metadata": {},
   "outputs": [
    {
     "data": {
      "text/plain": [
       "AtlasView({'아로': {'weight': 4}, '매출': {'weight': 21}, '영업': {'weight': 24}, '전년': {'weight': 22}, '피로': {'weight': 6}, '대비': {'weight': 12}, '증가': {'weight': 12}, '돌파': {'weight': 6}, '이익': {'weight': 18}})"
      ]
     },
     "execution_count": 42,
     "metadata": {},
     "output_type": "execute_result"
    }
   ],
   "source": [
    "news_final['분기']"
   ]
  },
  {
   "cell_type": "code",
   "execution_count": 43,
   "metadata": {},
   "outputs": [
    {
     "data": {
      "text/plain": [
       "AtlasView({'영양제': {'weight': 22}, '효과': {'weight': 18}, '피곤': {'weight': 14}, '이랑': {'weight': 11}, '종합': {'weight': 8}, '추천': {'weight': 13}, '오늘': {'weight': 9}, '약국': {'weight': 12}, '민이': {'weight': 20}})"
      ]
     },
     "execution_count": 43,
     "metadata": {},
     "output_type": "execute_result"
    }
   ],
   "source": [
    "twitter_final['거']"
   ]
  },
  {
   "cell_type": "code",
   "execution_count": 50,
   "metadata": {
    "tags": []
   },
   "outputs": [],
   "source": [
    "nx.write_graphml(twitter_final, 'impactamin_twitter.graphml')"
   ]
  },
  {
   "cell_type": "code",
   "execution_count": 45,
   "metadata": {},
   "outputs": [
    {
     "ename": "NameError",
     "evalue": "name 'g' is not defined",
     "output_type": "error",
     "traceback": [
      "\u001b[0;31m\u001b[0m",
      "\u001b[0;31mNameError\u001b[0mTraceback (most recent call last)",
      "\u001b[0;32m<ipython-input-45-52b624a9f58e>\u001b[0m in \u001b[0;36m<module>\u001b[0;34m\u001b[0m\n\u001b[0;32m----> 1\u001b[0;31m \u001b[0mx\u001b[0m \u001b[0;34m=\u001b[0m \u001b[0mnx\u001b[0m\u001b[0;34m.\u001b[0m\u001b[0mdegree_centrality\u001b[0m\u001b[0;34m(\u001b[0m\u001b[0mg\u001b[0m\u001b[0;34m)\u001b[0m\u001b[0;34m\u001b[0m\u001b[0;34m\u001b[0m\u001b[0m\n\u001b[0m\u001b[1;32m      2\u001b[0m \u001b[0msorted\u001b[0m\u001b[0;34m(\u001b[0m\u001b[0mx\u001b[0m\u001b[0;34m.\u001b[0m\u001b[0mitems\u001b[0m\u001b[0;34m(\u001b[0m\u001b[0;34m)\u001b[0m\u001b[0;34m,\u001b[0m \u001b[0mkey\u001b[0m\u001b[0;34m=\u001b[0m\u001b[0;32mlambda\u001b[0m \u001b[0mkv\u001b[0m\u001b[0;34m:\u001b[0m \u001b[0mkv\u001b[0m\u001b[0;34m[\u001b[0m\u001b[0;36m1\u001b[0m\u001b[0;34m]\u001b[0m\u001b[0;34m,\u001b[0m \u001b[0mreverse\u001b[0m\u001b[0;34m=\u001b[0m\u001b[0;32mTrue\u001b[0m\u001b[0;34m)\u001b[0m\u001b[0;34m\u001b[0m\u001b[0;34m\u001b[0m\u001b[0m\n",
      "\u001b[0;31mNameError\u001b[0m: name 'g' is not defined"
     ]
    }
   ],
   "source": [
    "x = nx.degree_centrality(g)\n",
    "sorted(x.items(), key=lambda kv: kv[1], reverse=True)"
   ]
  },
  {
   "cell_type": "code",
   "execution_count": null,
   "metadata": {},
   "outputs": [],
   "source": [
    "x = nx.closeness_centrality(g)\n",
    "sorted(x.items(), key=lambda kv: kv[1], reverse=True)"
   ]
  },
  {
   "cell_type": "code",
   "execution_count": null,
   "metadata": {},
   "outputs": [],
   "source": [
    "x = nx.betweenness_centrality(g)\n",
    "sorted(x.items(), key=lambda kv: kv[1], reverse=True)"
   ]
  },
  {
   "cell_type": "code",
   "execution_count": null,
   "metadata": {},
   "outputs": [],
   "source": [
    "import matplotlib.pyplot as plt\n",
    "font_name = 'NanumGothic'\n",
    "final_list = [insta_final,community_final,blog_final, news_final, twitter_final]\n",
    "for i in final_list:\n",
    "    pos=nx.shell_layout(i)\n",
    "    nx.draw(i, pos)\n",
    "    nx.draw_networkx_labels(i, pos, font_family=font_name, font_size=10)\n",
    "    plt.show()"
   ]
  },
  {
   "cell_type": "code",
   "execution_count": null,
   "metadata": {
    "collapsed": true,
    "jupyter": {
     "outputs_hidden": true
    }
   },
   "outputs": [],
   "source": []
  }
 ],
 "metadata": {
  "kernelspec": {
   "display_name": "Python 3",
   "language": "python",
   "name": "python3"
  },
  "language_info": {
   "codemirror_mode": {
    "name": "ipython",
    "version": 3
   },
   "file_extension": ".py",
   "mimetype": "text/x-python",
   "name": "python",
   "nbconvert_exporter": "python",
   "pygments_lexer": "ipython3",
   "version": "3.8.5"
  }
 },
 "nbformat": 4,
 "nbformat_minor": 4
}
