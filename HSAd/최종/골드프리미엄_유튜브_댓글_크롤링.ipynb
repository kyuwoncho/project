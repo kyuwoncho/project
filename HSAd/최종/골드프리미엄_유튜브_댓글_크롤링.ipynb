{
 "cells": [
  {
   "cell_type": "code",
   "execution_count": 45,
   "id": "e36ba8df",
   "metadata": {},
   "outputs": [
    {
     "data": {
      "text/plain": [
       "['https://www.youtube.com/watch?v=w5EEVidO_3E',\n",
       " 'https://www.youtube.com/watch?v=4VqjOpFq2V4',\n",
       " 'https://www.youtube.com/watch?v=ZW7K0YwuHvQ',\n",
       " 'https://www.youtube.com/watch?v=uX6UbEWQN8I',\n",
       " 'https://www.youtube.com/watch?v=hOpIN_xO5ug',\n",
       " 'https://www.youtube.com/watch?v=F5hd3HI33io',\n",
       " 'https://www.youtube.com/watch?v=itE0bYI4PVU',\n",
       " 'https://www.youtube.com/watch?v=0TFeHRY-TUk',\n",
       " 'https://www.youtube.com/watch?v=w5EEVidO_3E']"
      ]
     },
     "execution_count": 45,
     "metadata": {},
     "output_type": "execute_result"
    }
   ],
   "source": [
    "import pandas as pd\n",
    "\n",
    "ytb = pd.read_csv('C:/Users/gigic/ds_study/Yonsei_DA/hDAd/youtube_link.csv')\n",
    "ytb_link = ytb['link'].to_list()\n",
    "ytb_link"
   ]
  },
  {
   "cell_type": "code",
   "execution_count": 19,
   "id": "97a2f5d8",
   "metadata": {},
   "outputs": [],
   "source": [
    "from selenium import webdriver\n",
    "import time\n",
    "from openpyxl import Workbook\n",
    "import pandas as pd\n",
    "from selenium.webdriver.common.keys import Keys\n",
    "from bs4 import BeautifulSoup\n",
    "import warnings \n",
    "warnings.filterwarnings('ignore')"
   ]
  },
  {
   "cell_type": "code",
   "execution_count": 88,
   "id": "3cd302f5",
   "metadata": {},
   "outputs": [],
   "source": [
    "wb = Workbook(write_only=True)\n",
    "ws = wb.create_sheet()\n",
    "\n",
    "driver = webdriver.Chrome(\"C:/Users/gigic/ds_study/driver/chromedriver.exe\")\n",
    "driver.get(\"https://www.youtube.com/watch?v=hOpIN_xO5ug\")\n",
    "driver.implicitly_wait(3)\n",
    "\n",
    "time.sleep(1.5)\n",
    "\n",
    "driver.execute_script(\"window.scrollTo(0, 800)\")\n",
    "time.sleep(3)"
   ]
  },
  {
   "cell_type": "code",
   "execution_count": 89,
   "id": "bfa4e987",
   "metadata": {},
   "outputs": [],
   "source": [
    "last_height = driver.execute_script(\"return document.documentElement.scrollHeight\")\n",
    "\n",
    "while True:\n",
    "    driver.execute_script(\"window.scrollTo(0, document.documentElement.scrollHeight);\")\n",
    "    time.sleep(1.5)\n",
    "\n",
    "    new_height = driver.execute_script(\"return document.documentElement.scrollHeight\")\n",
    "    if new_height == last_height:\n",
    "        break\n",
    "    last_height = new_height\n",
    "\n",
    "time.sleep(1.5)\n",
    "\n"
   ]
  },
  {
   "cell_type": "code",
   "execution_count": 90,
   "id": "06d90db3",
   "metadata": {},
   "outputs": [],
   "source": [
    "try:\n",
    "    driver.find_element_by_css_selector(\"#dismiss-button > a\").click()\n",
    "except:\n",
    "    pass"
   ]
  },
  {
   "cell_type": "code",
   "execution_count": 91,
   "id": "330d849b",
   "metadata": {},
   "outputs": [],
   "source": [
    "buttons = driver.find_elements_by_css_selector(\"#more-replies > a\")\n",
    "\n",
    "time.sleep(1.5)\n",
    "\n",
    "for button in buttons:\n",
    "    button.send_keys(Keys.ENTER)\n",
    "    time.sleep(1.5)\n",
    "    button.click()"
   ]
  },
  {
   "cell_type": "code",
   "execution_count": 96,
   "id": "b3c92397",
   "metadata": {},
   "outputs": [],
   "source": [
    "from selenium import webdriver\n",
    "import time\n",
    "from openpyxl import Workbook\n",
    "import pandas as pd\n",
    "from selenium.webdriver.common.keys import Keys\n",
    "from bs4 import BeautifulSoup\n",
    "import warnings\n",
    "\n",
    "warnings.filterwarnings('ignore')\n",
    "\n",
    "wb = Workbook(write_only=True)\n",
    "ws = wb.create_sheet()\n",
    "\n",
    "driver = webdriver.Chrome(\"C:/Users/gigic/ds_study/driver/chromedriver.exe\")\n",
    "driver.get(\"https://www.youtube.com/watch?v=4VqjOpFq2V4\")\n",
    "driver.implicitly_wait(9)\n",
    "\n",
    "time.sleep(60)\n",
    "\n",
    "driver.execute_script(\"window.scrollTo(0, 800)\")\n",
    "time.sleep(9)\n",
    "\n",
    "\n",
    "last_height = driver.execute_script(\"return document.documentElement.scrollHeight\")\n",
    "\n",
    "while True:\n",
    "    driver.execute_script(\"window.scrollTo(0, document.documentElement.scrollHeight);\")\n",
    "    time.sleep(1.5)\n",
    "\n",
    "    new_height = driver.execute_script(\"return document.documentElement.scrollHeight\")\n",
    "    if new_height == last_height:\n",
    "        break\n",
    "    last_height = new_height\n",
    "\n",
    "time.sleep(30)\n",
    "\n",
    "\n",
    "\n",
    "try:\n",
    "    driver.find_element_by_css_selector(\"#dismiss-button > a\").click()\n",
    "except:\n",
    "    pass\n",
    "\n",
    "buttons = driver.find_elements_by_css_selector(\"#more-replies > a\")\n",
    "\n",
    "time.sleep(1.5)\n",
    "\n",
    "for button in buttons:\n",
    "    button.send_keys(Keys.ENTER)\n",
    "    time.sleep(1.5)\n",
    "    button.click()\n",
    "\n",
    "\n",
    "html_source = driver.page_source\n",
    "soup = BeautifulSoup(html_source, 'html.parser')\n",
    "\n",
    "id_list = soup.select(\"div#header-author > h3 > #author-text > span\")\n",
    "comment_list = soup.select(\"yt-formatted-string#content-text\")\n",
    "time_list = soup.select(\"#header-author > yt-formatted-string > a\")\n",
    "\n",
    "id_final = []\n",
    "comment_final = []\n",
    "time_final = []\n",
    "\n",
    "for i in range(len(comment_list)):\n",
    "    temp_id = id_list[i].text\n",
    "    temp_id = temp_id.replace('\\n', '')\n",
    "    temp_id = temp_id.replace('\\t', '')\n",
    "    temp_id = temp_id.replace('    ', '')\n",
    "    id_final.append(temp_id) # 댓글 작성자\n",
    "\n",
    "    temp_comment = comment_list[i].text\n",
    "    temp_comment = temp_comment.replace('\\n', '')\n",
    "    temp_comment = temp_comment.replace('\\t', '')\n",
    "    temp_comment = temp_comment.replace('    ', '')\n",
    "    comment_final.append(temp_comment) # 댓글 내용\n",
    "    \n",
    "    temp_time = time_list[i].text\n",
    "    temp_time = temp_time.replace('\\n', '')\n",
    "    temp_time = temp_time.replace('\\t', '')\n",
    "    temp_time = temp_time.replace('    ', '')\n",
    "    time_final.append(temp_time) # 댓글 시간"
   ]
  },
  {
   "cell_type": "code",
   "execution_count": 97,
   "id": "1ba46d5d",
   "metadata": {},
   "outputs": [],
   "source": [
    "pd_data = {\"아이디\" : id_final , \"댓글 내용\" : comment_final, \"댓글 시간\" : time_final}\n",
    "youtube_pd = pd.DataFrame(pd_data)\n",
    "\n",
    "youtube_pd.to_excel('C:/Users/gigic/ds_study/Yonsei_DA/hDAd/result.xlsx')\n",
    "driver.close()"
   ]
  },
  {
   "cell_type": "code",
   "execution_count": 86,
   "id": "b4190f09",
   "metadata": {},
   "outputs": [],
   "source": [
    "driver.close()"
   ]
  },
  {
   "cell_type": "code",
   "execution_count": null,
   "id": "995e9adf",
   "metadata": {},
   "outputs": [],
   "source": [
    "directory = f'data/{channel}/subtitle'\n",
    "    if not os.path.exists(directory):\n",
    "        os.makedirs(directory)"
   ]
  },
  {
   "cell_type": "code",
   "execution_count": null,
   "id": "f9eef068",
   "metadata": {},
   "outputs": [],
   "source": []
  },
  {
   "cell_type": "code",
   "execution_count": 2,
   "id": "3ba351f4",
   "metadata": {},
   "outputs": [],
   "source": []
  },
  {
   "cell_type": "code",
   "execution_count": 29,
   "id": "1d6809af",
   "metadata": {},
   "outputs": [],
   "source": [
    "from selenium import webdriver\n",
    "import time\n",
    "from openpyxl import Workbook\n",
    "import pandas as pd\n",
    "from selenium.webdriver.common.keys import Keys\n",
    "from bs4 import BeautifulSoup\n",
    "import warnings\n",
    "\n",
    "\n",
    "def youtube_crawling(url):\n",
    "\n",
    "    warnings.filterwarnings('ignore')\n",
    "    wb = Workbook(write_only=True)\n",
    "    ws = wb.create_sheet()\n",
    "    driver = webdriver.Chrome(\"C:/Users/gigic/ds_study/driver/chromedriver.exe\")\n",
    "    driver.get(url)\n",
    "    driver.implicitly_wait(3)\n",
    "\n",
    "    time.sleep(5)   \n",
    "    \n",
    "    driver.execute_script(\"window.scrollTo(0, 800)\")\n",
    "    time.sleep(6)\n",
    "    last_height = driver.execute_script(\"return document.documentElement.scrollHeight\")\n",
    "\n",
    "    while True:\n",
    "        driver.execute_script(\"window.scrollTo(0, document.documentElement.scrollHeight);\")\n",
    "        time.sleep(1.5)\n",
    "\n",
    "        new_height = driver.execute_script(\"return document.documentElement.scrollHeight\")\n",
    "        if new_height == last_height:\n",
    "            break\n",
    "        last_height = new_height\n",
    "\n",
    "    time.sleep(5)\n",
    "\n",
    "\n",
    "\n",
    "    try:\n",
    "        driver.find_element_by_css_selector(\"#dismiss-button > a\").click()\n",
    "    except:\n",
    "        pass\n",
    "\n",
    "    buttons = driver.find_elements_by_css_selector(\"#more-replies > a\")\n",
    "\n",
    "    time.sleep(1.5)\n",
    "\n",
    "    for button in buttons:\n",
    "        button.send_keys(Keys.ENTER)\n",
    "        time.sleep(1.5)\n",
    "        button.click()\n",
    "\n",
    "\n",
    "    html_source = driver.page_source\n",
    "    soup = BeautifulSoup(html_source, 'html.parser')\n",
    "\n",
    "    id_list = soup.select(\"div#header-author > h3 > #author-text > span\")\n",
    "    comment_list = soup.select(\"yt-formatted-string#content-text\")\n",
    "    time_list = soup.select(\"#header-author > yt-formatted-string > a\")\n",
    "\n",
    "    id_final = []\n",
    "    comment_final = []\n",
    "    time_final = []\n",
    "   \n",
    "    \n",
    "    for i in range(len(comment_list)):\n",
    "        temp_id = id_list[i].text\n",
    "        temp_id = temp_id.replace('\\n', '')\n",
    "        temp_id = temp_id.replace('\\t', '')\n",
    "        temp_id = temp_id.replace('    ', '')\n",
    "        id_final.append(temp_id) # 댓글 작성자\n",
    "\n",
    "        temp_comment = comment_list[i].text\n",
    "        temp_comment = temp_comment.replace('\\n', '')\n",
    "        temp_comment = temp_comment.replace('\\t', '')\n",
    "        temp_comment = temp_comment.replace('    ', '')\n",
    "        comment_final.append(temp_comment) # 댓글 내용\n",
    "\n",
    "        temp_time = time_list[i].text\n",
    "        temp_time = temp_time.replace('\\n', '')\n",
    "        temp_time = temp_time.replace('\\t', '')\n",
    "        temp_time = temp_time.replace('    ', '')\n",
    "        time_final.append(temp_time) # 댓글 시간\n",
    "        \n",
    "        \n",
    "    # 파일 저장\n",
    "    pd_data = {\"아이디\" : id_final , \"댓글 내용\" : comment_final, \"댓글 시간\" : time_final}\n",
    "    youtube_pd = pd.DataFrame(pd_data)\n",
    "    driver.close()\n",
    "    return youtube_pd\n",
    "   \n",
    "\n"
   ]
  },
  {
   "cell_type": "code",
   "execution_count": 30,
   "id": "d1268f03",
   "metadata": {},
   "outputs": [
    {
     "name": "stderr",
     "output_type": "stream",
     "text": [
      " 11%|█████████▎                                                                          | 1/9 [00:46<06:08, 46.04s/it]"
     ]
    },
    {
     "name": "stdout",
     "output_type": "stream",
     "text": [
      "0번째 크롤링 끝\n"
     ]
    },
    {
     "name": "stderr",
     "output_type": "stream",
     "text": [
      " 22%|██████████████████▋                                                                 | 2/9 [01:21<04:40, 40.06s/it]"
     ]
    },
    {
     "name": "stdout",
     "output_type": "stream",
     "text": [
      "1번째 크롤링 끝\n"
     ]
    },
    {
     "name": "stderr",
     "output_type": "stream",
     "text": [
      " 33%|████████████████████████████                                                        | 3/9 [01:57<03:47, 37.99s/it]"
     ]
    },
    {
     "name": "stdout",
     "output_type": "stream",
     "text": [
      "2번째 크롤링 끝\n"
     ]
    },
    {
     "name": "stderr",
     "output_type": "stream",
     "text": [
      " 44%|█████████████████████████████████████▎                                              | 4/9 [02:42<03:23, 40.62s/it]"
     ]
    },
    {
     "name": "stdout",
     "output_type": "stream",
     "text": [
      "3번째 크롤링 끝\n"
     ]
    },
    {
     "name": "stderr",
     "output_type": "stream",
     "text": [
      " 56%|██████████████████████████████████████████████▋                                     | 5/9 [03:16<02:33, 38.45s/it]"
     ]
    },
    {
     "name": "stdout",
     "output_type": "stream",
     "text": [
      "4번째 크롤링 끝\n"
     ]
    },
    {
     "name": "stderr",
     "output_type": "stream",
     "text": [
      " 67%|████████████████████████████████████████████████████████                            | 6/9 [03:53<01:53, 37.72s/it]"
     ]
    },
    {
     "name": "stdout",
     "output_type": "stream",
     "text": [
      "5번째 크롤링 끝\n"
     ]
    },
    {
     "name": "stderr",
     "output_type": "stream",
     "text": [
      " 78%|█████████████████████████████████████████████████████████████████▎                  | 7/9 [04:37<01:19, 39.80s/it]"
     ]
    },
    {
     "name": "stdout",
     "output_type": "stream",
     "text": [
      "6번째 크롤링 끝\n"
     ]
    },
    {
     "name": "stderr",
     "output_type": "stream",
     "text": [
      " 89%|█████████████████████████████████████████████████████████████████████████▊         | 8/9 [13:54<03:24, 204.46s/it]"
     ]
    },
    {
     "name": "stdout",
     "output_type": "stream",
     "text": [
      "7번째 크롤링 끝\n"
     ]
    },
    {
     "name": "stderr",
     "output_type": "stream",
     "text": [
      "100%|███████████████████████████████████████████████████████████████████████████████████| 9/9 [23:12<00:00, 154.77s/it]"
     ]
    },
    {
     "name": "stdout",
     "output_type": "stream",
     "text": [
      "8번째 크롤링 끝\n",
      "크롤링 완전 끝\n"
     ]
    },
    {
     "name": "stderr",
     "output_type": "stream",
     "text": [
      "\n"
     ]
    }
   ],
   "source": [
    "from tqdm import tqdm\n",
    "\n",
    "ytb = pd.read_csv('C:/Users/gigic/ds_study/Yonsei_DA/hDAd/youtube_link.csv')\n",
    "ytb_link = ytb['link'].to_list()\n",
    "\n",
    "for link in tqdm(range(len(ytb_link))):\n",
    "    youtube = youtube_crawling(ytb_link[link])\n",
    "    youtube.to_excel(f'C:/Users/gigic/ds_study/Yonsei_DA/hDAd/result{link}.xlsx')\n",
    "    print(f'{link}번째 크롤링 끝')\n",
    "print('크롤링 완전 끝')\n",
    "    "
   ]
  },
  {
   "cell_type": "code",
   "execution_count": null,
   "id": "e094c2fd",
   "metadata": {},
   "outputs": [],
   "source": [
    "#driver.quit()"
   ]
  },
  {
   "cell_type": "code",
   "execution_count": null,
   "id": "2e59c6db",
   "metadata": {},
   "outputs": [],
   "source": []
  }
 ],
 "metadata": {
  "kernelspec": {
   "display_name": "Python 3 (ipykernel)",
   "language": "python",
   "name": "python3"
  },
  "language_info": {
   "codemirror_mode": {
    "name": "ipython",
    "version": 3
   },
   "file_extension": ".py",
   "mimetype": "text/x-python",
   "name": "python",
   "nbconvert_exporter": "python",
   "pygments_lexer": "ipython3",
   "version": "3.9.5"
  }
 },
 "nbformat": 4,
 "nbformat_minor": 5
}
